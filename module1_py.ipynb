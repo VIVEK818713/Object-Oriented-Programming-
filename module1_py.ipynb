{
  "nbformat": 4,
  "nbformat_minor": 0,
  "metadata": {
    "colab": {
      "name": "module1.py",
      "provenance": [],
      "collapsed_sections": [],
      "mount_file_id": "1J-yttNLbEihEDIKGy7BBe3BWkAU1M9cE",
      "authorship_tag": "ABX9TyPBQ1fCau7Fvu3/fZOSZWQK",
      "include_colab_link": true
    },
    "kernelspec": {
      "name": "python3",
      "display_name": "Python 3"
    },
    "language_info": {
      "name": "python"
    }
  },
  "cells": [
    {
      "cell_type": "markdown",
      "metadata": {
        "id": "view-in-github",
        "colab_type": "text"
      },
      "source": [
        "<a href=\"https://colab.research.google.com/github/VIVEK818713/Object-Oriented-Programming-/blob/main/module1_py.ipynb\" target=\"_parent\"><img src=\"https://colab.research.google.com/assets/colab-badge.svg\" alt=\"Open In Colab\"/></a>"
      ]
    },
    {
      "cell_type": "markdown",
      "source": [
        "# Object Oriented Programming"
      ],
      "metadata": {
        "id": "sYrjYS3RoBUG"
      }
    },
    {
      "cell_type": "markdown",
      "source": [
        "1. Class\n",
        "* house--map\n",
        "* bottle--dye\n",
        "* TV--ckt design\n",
        "\n",
        "Blueprints\n",
        "templets\n",
        "\n",
        "2. object\n",
        "house----physical existence\n",
        "bottle\n",
        "TV\n",
        "one class--many object\n",
        "3. Refrence varibale\n",
        "remote \n",
        "one-one\n",
        "one-many"
      ],
      "metadata": {
        "id": "scHIbeLwk5sl"
      }
    },
    {
      "cell_type": "code",
      "source": [
        "class student:\n",
        "  def __init__(self,name,age):\n",
        "    self.name=name\n",
        "    self.age=age\n",
        "  def tell(self):\n",
        "    print(\"my name is\",self.name)\n",
        "    print(\"my age is\",self.age)\n",
        "\n",
        "s=student('vivek',45)\n",
        "print(s.name)\n",
        "print(s.age)\n",
        "s.tell()\n"
      ],
      "metadata": {
        "id": "kJ5zNo-Fn5tW"
      },
      "execution_count": null,
      "outputs": []
    },
    {
      "cell_type": "code",
      "source": [
        "class employee:\n",
        "  def __init__(self,a,b,c): # constructor\n",
        "    self.ename=a   # instance variable---declare and initialize\n",
        "    self.esal=b\n",
        "    self.eadd=c\n",
        "  def info(y):# instance methid\n",
        "    print('#'*20)\n",
        "    print(\"emp name\",y.ename)\n",
        "    print(\"emp sal\",y.esal)\n",
        "    print(\"emp add\",y.eadd)\n",
        "    print('#'*20)\n",
        "e=employee('vivek',20000,'mrt')\n",
        "e.info()\n"
      ],
      "metadata": {
        "id": "49B15ToYp544"
      },
      "execution_count": null,
      "outputs": []
    },
    {
      "cell_type": "code",
      "source": [
        "class xyz:\n",
        "  def __init__(self):\n",
        "    print(\"i am in constructor\")\n",
        "  def add(self):\n",
        "    print(\"i am in instance method\")\n",
        "x=xyz()\n",
        "x.add()\n",
        "x.add()\n",
        "x.add()\n"
      ],
      "metadata": {
        "id": "7V-SRsQBrmd_"
      },
      "execution_count": null,
      "outputs": []
    },
    {
      "cell_type": "markdown",
      "source": [
        "1. Instance varible/object level variable\n",
        "2. Static varible/class level\n",
        "3. Local varible"
      ],
      "metadata": {
        "id": "jkhf2BfXRGk7"
      }
    },
    {
      "cell_type": "code",
      "source": [
        "class student:\n",
        "  def __init__(self,age,rollno):\n",
        "    self.age=age    # self.age self.rollno ----instance varilbe\n",
        "    self.rollno=rollno\n",
        "  def test(self):\n",
        "    print(self.age)\n",
        "    \n",
        "s=student(23,56)\n",
        "print(id(s.age))\n",
        "s1=student(12,44)\n",
        "print(id(s1.age))\n",
        "s2=student(44,78)\n",
        "print(id(s2.age))\n"
      ],
      "metadata": {
        "id": "N9ozW3IBwPrP"
      },
      "execution_count": null,
      "outputs": []
    },
    {
      "cell_type": "code",
      "source": [
        "class student:\n",
        "  clgname='miet'  # static variable/class level\n",
        "  def __init__(self,age,rollno):\n",
        "    self.age=age    # self.age self.rollno ----instance varilbe\n",
        "    self.rollno=rollno\n",
        "  def test(self):\n",
        "    print(self.age)\n",
        "    \n",
        "s=student(23,56)\n",
        "print(id(s.clgname))\n",
        "s1=student(12,44)\n",
        "print(id(s1.clgname))\n",
        "s2=student(44,78)\n",
        "print(id(s2.clgname))\n"
      ],
      "metadata": {
        "id": "BtlYjFwDTa60"
      },
      "execution_count": null,
      "outputs": []
    },
    {
      "cell_type": "code",
      "source": [
        "class student:\n",
        "  clgname='miet'    # static variable/class level\n",
        "  def __init__(self,age,rollno):\n",
        "    x=20            # local variable\n",
        "    self.age=age    # self.age self.rollno ----instance varilbe\n",
        "    self.rollno=rollno\n",
        "  def test(self):\n",
        "    y=90   # local variable\n",
        "    print(self.age)\n",
        "    \n",
        "s=student(23,56)\n",
        "print(id(s.clgname))\n",
        "s1=student(12,44)\n",
        "print(id(s1.clgname))\n",
        "s2=student(44,78)\n",
        "print(id(s2.clgname))\n"
      ],
      "metadata": {
        "id": "EbkJ6mg9Umtf"
      },
      "execution_count": null,
      "outputs": []
    },
    {
      "cell_type": "markdown",
      "source": [
        "### Methods in class\n",
        "## Instance method\n",
        "*"
      ],
      "metadata": {
        "id": "aje2G2GZ41Jx"
      }
    },
    {
      "cell_type": "code",
      "source": [
        "class xyz:\n",
        "  def __init__(self,name,roll):  # constructor\n",
        "    self.name=name   # instance variable\n",
        "    self.roll=roll\n",
        "  def add(self): # instance method\n",
        "  print(\"name is \",self.name)\n",
        "x=xyz('vivek',11)"
      ],
      "metadata": {
        "id": "fu4Y30eB5WbI"
      },
      "execution_count": null,
      "outputs": []
    },
    {
      "cell_type": "markdown",
      "source": [
        "## class method"
      ],
      "metadata": {
        "id": "wRObsrZv7pfH"
      }
    },
    {
      "cell_type": "code",
      "source": [
        "class xyz:\n",
        "  clgname='miet'   # static variable/class level variable\n",
        "  def __init__(self,name,roll):  # constructor\n",
        "    self.name=name   # instance variable\n",
        "    self.roll=roll\n",
        "    \n",
        "  def add(self): # instance method\n",
        "  print(\"name is \",self.name)\n",
        "  \n",
        "  @classmethod\n",
        "  def sub(cls): # class method\n",
        "  print(cls.clgname)\n",
        "\n",
        "x=xyz('vivek',11)"
      ],
      "metadata": {
        "id": "UsgxZ_hq76rW"
      },
      "execution_count": null,
      "outputs": []
    },
    {
      "cell_type": "markdown",
      "source": [
        "## static method"
      ],
      "metadata": {
        "id": "E9IYFL269N70"
      }
    },
    {
      "cell_type": "code",
      "source": [
        "class xyz:\n",
        "  clgname='miet'   # static variable/class level variable\n",
        "  def __init__(self,name,roll):  # constructor\n",
        "    self.name=name   # instance variable\n",
        "    self.roll=roll\n",
        "    \n",
        "  def add(self): # instance method\n",
        "    print(\"name is \",self.name)\n",
        "  \n",
        "  @classmethod\n",
        "  def sub(cls): # class method\n",
        "    print(cls.clgname)\n",
        "\n",
        "  @staticmethod\n",
        "  def mul(a,b):  # static method\n",
        "    print(\"mul\",a*b) \n",
        "\n",
        "x=xyz('vivek',11)\n",
        "x.add()\n",
        "x.sub() # 1 option with ref variable class method access\n",
        "xyz.sub() # 2. classname access\n",
        "x.mul(10,2)\n",
        "xyz.mul(10,2)"
      ],
      "metadata": {
        "id": "7sSoJkrP9S7R"
      },
      "execution_count": null,
      "outputs": []
    },
    {
      "cell_type": "markdown",
      "source": [
        "## work on instance variable"
      ],
      "metadata": {
        "id": "k2lEOLBaAMO1"
      }
    },
    {
      "cell_type": "markdown",
      "source": [
        "1. declaration of instance variable"
      ],
      "metadata": {
        "id": "TVBe7g8PASI0"
      }
    },
    {
      "cell_type": "code",
      "source": [
        "# in constructor\n",
        "class CSE:\n",
        "  def __init__(self,name,age):\n",
        "    self.name=name   # declaration instance variable\n",
        "    self.age=age\n",
        "c=CSE('vivek',22)\n",
        "print(c.__dict__)"
      ],
      "metadata": {
        "id": "6e5vXBc2-XWX"
      },
      "execution_count": null,
      "outputs": []
    },
    {
      "cell_type": "code",
      "source": [
        "# in instance method decalren instance variable\n",
        "class CSE:\n",
        "  def __init__(self,name,age):\n",
        "    self.name=name\n",
        "    self.age=age\n",
        "  def add(self): # instance method\n",
        "    self.add='meerut'  # declaration instance variable in instance method\n",
        "\n",
        "c=CSE('vivek',22)\n",
        "print(c.__dict__)\n",
        "c.add()\n",
        "print(c.__dict__)"
      ],
      "metadata": {
        "id": "pCSEo7zxA7db"
      },
      "execution_count": null,
      "outputs": []
    },
    {
      "cell_type": "code",
      "source": [
        "# in outside of the class\n",
        "class CSE:\n",
        "  def __init__(self,name,age):\n",
        "    self.name=name\n",
        "    self.age=age\n",
        "  def add(self): # instance method\n",
        "    self.add='meerut'\n",
        "    print(self.name,self.add)\n",
        "\n",
        "c=CSE('vivek',22)\n",
        "print(c.__dict__)\n",
        "c.add()\n",
        "print(c.__dict__)\n",
        "c.gender='male'   # instance variable \n",
        "print(c.__dict__)\n",
        "c.name\n",
        "\n"
      ],
      "metadata": {
        "id": "amIV9P8YBeDG"
      },
      "execution_count": null,
      "outputs": []
    },
    {
      "cell_type": "markdown",
      "source": [
        "### Deletion of instance variable"
      ],
      "metadata": {
        "id": "pgqvZi-7DWc1"
      }
    },
    {
      "cell_type": "code",
      "source": [
        "# del keyword\n",
        "class CSE:\n",
        "  def __init__(self,name,age,roll):\n",
        "    self.name=name\n",
        "    self.age=age\n",
        "    self.roll=roll\n",
        "  def delete(self):\n",
        "    del self.name\n",
        "    del self.roll\n",
        "c=CSE('vivek',22,44)\n",
        "print(c.__dict__)\n",
        "c.delete()\n",
        "print(c.__dict__)\n",
        "del c.age    # outside of the class deletion\n",
        "print(c.__dict__)\n",
        "\n",
        "\n",
        "\n",
        "\n"
      ],
      "metadata": {
        "id": "dtgYxS_aB8F9"
      },
      "execution_count": null,
      "outputs": []
    },
    {
      "cell_type": "markdown",
      "source": [
        "## All about Static variable"
      ],
      "metadata": {
        "id": "6RF4Z8dHlMGS"
      }
    },
    {
      "cell_type": "code",
      "source": [
        "# inside the constructor declare static variable\n",
        "class student:\n",
        "  cname='miet'    # static variable/class level\n",
        "  def __init__(self,name,roll):\n",
        "    self.name=name\n",
        "    self.roll=roll\n",
        "    student.b=20   # declaration static variable inside the constructor\n",
        "                  # classname. variablename\n",
        "  def test(self):\n",
        "    print(self.name)\n",
        "    student.c='india'  # inside the instance method, declare static varibale  \n",
        "  @classmethod\n",
        "  def ctest(cls):\n",
        "    student.d=100  # ststic variable , inside classmethod,use classname\n",
        "    cls.e=200      # using cls\n",
        "  @staticmethod\n",
        "  def stest():\n",
        "    student.f=400   # inside the static method, using classname\n",
        "t=student('vivek',34)\n",
        "student.g=900      # outside of the class\n",
        "\n"
      ],
      "metadata": {
        "id": "j3TrSQ9REM6d"
      },
      "execution_count": null,
      "outputs": []
    },
    {
      "cell_type": "markdown",
      "source": [
        "## Accessing the static variable"
      ],
      "metadata": {
        "id": "xor-6cTewz5k"
      }
    },
    {
      "cell_type": "code",
      "source": [
        "# inside the constructor declare static variable\n",
        "class student:\n",
        "  cname='miet'    # static variable/class level\n",
        "  def __init__(self,name,roll):\n",
        "    self.name=name\n",
        "    self.roll=roll\n",
        "    student.b=20   \n",
        "    print(student.b)  # access inside the constructor\n",
        "  def test(self):\n",
        "    student.c='india' \n",
        "    print(student.c)  # access inside the instance method\n",
        "    print(self.cname)\n",
        "  @classmethod\n",
        "  def ctest(cls):\n",
        "    student.d=100  \n",
        "    cls.e=200  \n",
        "    print(student.d,cls.e)   # access inside the classmethod  \n",
        "  @staticmethod\n",
        "  def stest():\n",
        "    student.f=400  \n",
        "    print(student.f)\n",
        "t=student('vivek',34)\n",
        "t.test()\n",
        "t.ctest()\n",
        "student.ctest()\n",
        "t.stest()\n",
        "print(t.cname)\n",
        "print(student.cname)\n",
        "print(t.d)\n",
        "student.g=900      # outside of the class\n",
        "print(student.g)\n",
        "\n"
      ],
      "metadata": {
        "id": "xCmlH-xztit-"
      },
      "execution_count": null,
      "outputs": []
    },
    {
      "cell_type": "markdown",
      "source": [
        "## Modifying static variable"
      ],
      "metadata": {
        "id": "WhOJnd2Rz-9v"
      }
    },
    {
      "cell_type": "code",
      "source": [
        "class CSE:\n",
        "  cname='miet'\n",
        "  def __init__(self):\n",
        "    CSE.cname='NIT'\n",
        "  @classmethod\n",
        "  def a1(cls):\n",
        "    CSE.cname='IIT'\n",
        "    #print(CSE.cname)\n",
        "    cls.cname='IIIT'\n",
        "    #print(cls.cname)\n",
        "  @staticmethod\n",
        "  def a2():\n",
        "    CSE.cname='xyz'\n",
        "    #print(CSE.cname)\n",
        "m=CSE()\n",
        "CSE.cname\n",
        "m.a1()\n",
        "m.a2()\n",
        "CSE.cname='MEERUT'\n",
        "print(CSE.cname)\n"
      ],
      "metadata": {
        "id": "pKfkra7mxPDk"
      },
      "execution_count": null,
      "outputs": []
    },
    {
      "cell_type": "code",
      "source": [
        "class CSE:\n",
        "  cname='miet'\n",
        "  def __init__(self):\n",
        "    CSE.cname='NIT'\n",
        "    #del CSE.cname\n",
        "  \n",
        "  @classmethod\n",
        "  def a1(cls):\n",
        "    CSE.cname='IIT'\n",
        "    #print(CSE.cname)\n",
        "    cls.cname='IIIT'\n",
        "    #print(cls.cname)\n",
        "  @staticmethod\n",
        "  def a2():\n",
        "    CSE.cname='xyz'\n",
        "    #print(CSE.cname)\n",
        "m=CSE()\n",
        "\n",
        "CSE.cname\n",
        "m.a1()\n",
        "m.a2()\n",
        "CSE.cname='MEERUT'\n",
        "print(CSE.cname)\n"
      ],
      "metadata": {
        "id": "7TB-raEX1Qt-"
      },
      "execution_count": null,
      "outputs": []
    },
    {
      "cell_type": "markdown",
      "source": [
        "### Local Variable"
      ],
      "metadata": {
        "id": "BmqDxYdJLBNn"
      }
    },
    {
      "cell_type": "code",
      "source": [
        "class xyz:\n",
        "  def a1(self):\n",
        "    k=10    #  local variable\n",
        "    print(k)\n",
        "  def a2(self):\n",
        "    print(k)\n",
        "s=xyz()\n",
        "s.a1()\n",
        "s.a2()\n",
        "\n"
      ],
      "metadata": {
        "id": "Zw3nQZfA2TA9"
      },
      "execution_count": null,
      "outputs": []
    },
    {
      "cell_type": "markdown",
      "source": [
        "## Global Variable"
      ],
      "metadata": {
        "id": "KT2Xr6qCWqzK"
      }
    },
    {
      "cell_type": "code",
      "source": [
        "# case 1\n",
        "x=10\n",
        "class test:\n",
        "    def m1(self):\n",
        "        print(x)\n",
        "t=test()\n",
        "t.m1()"
      ],
      "metadata": {
        "id": "HicYbUHDLE69"
      },
      "execution_count": null,
      "outputs": []
    },
    {
      "cell_type": "code",
      "source": [
        "x=10\n",
        "class test:\n",
        "    def m1(self):\n",
        "        print(x)\n",
        "    def m2(self):\n",
        "        print(x)\n",
        "t=test()\n",
        "t.m1()\n",
        "t.m2()"
      ],
      "metadata": {
        "id": "elwC5gzyLE2A"
      },
      "execution_count": null,
      "outputs": []
    },
    {
      "cell_type": "code",
      "source": [
        ""
      ],
      "metadata": {
        "id": "wksDPcbDYCed"
      },
      "execution_count": null,
      "outputs": []
    },
    {
      "cell_type": "code",
      "source": [
        ""
      ],
      "metadata": {
        "id": "186Sol97YCO1"
      },
      "execution_count": null,
      "outputs": []
    },
    {
      "cell_type": "code",
      "source": [
        "x=10\n",
        "class test:\n",
        "    x=70   # static variable\n",
        "    def m1(self):\n",
        "        print(x)\n",
        "        print(self.x)\n",
        "    def m2(self):\n",
        "        print(x)\n",
        "        print(test.x)\n",
        "t=test()\n",
        "t.m1()\n",
        "t.m2()"
      ],
      "metadata": {
        "id": "oGnhRMzVLEo6"
      },
      "execution_count": null,
      "outputs": []
    },
    {
      "cell_type": "code",
      "source": [
        ""
      ],
      "metadata": {
        "id": "FGaFcXsRYPP5"
      },
      "execution_count": null,
      "outputs": []
    },
    {
      "cell_type": "code",
      "source": [
        "x=10\n",
        "class test:\n",
        "    x=70 # static variable\n",
        "    def m1(self):\n",
        "        x=88  # local variable\n",
        "        print(x)\n",
        "        print(self.x)\n",
        "    def m2(self):\n",
        "        x=100\n",
        "        print(x)\n",
        "        print(test.x)\n",
        "t=test()\n",
        "t.m1()\n",
        "t.m2()"
      ],
      "metadata": {
        "id": "gBWnBkq7LEcM"
      },
      "execution_count": null,
      "outputs": []
    },
    {
      "cell_type": "code",
      "source": [
        "x=10\n",
        "class test:\n",
        "    x=70\n",
        "    def m1(self):\n",
        "        x=88\n",
        "        print(x)\n",
        "    def m2(self):    \n",
        "        print(x)\n",
        "t=test()\n",
        "t.m1()\n",
        "t.m2()\n",
        "print(x)"
      ],
      "metadata": {
        "id": "9_E-vVDLL0G3"
      },
      "execution_count": null,
      "outputs": []
    },
    {
      "cell_type": "code",
      "source": [
        "x=10\n",
        "class test:\n",
        "    def m1(self):\n",
        "        global x\n",
        "        x=88\n",
        "        print(x)\n",
        "    def m2(self):    \n",
        "        print(x)\n",
        "t=test()\n",
        "t.m1()\n",
        "t.m2()"
      ],
      "metadata": {
        "id": "YHXjNFIaL8np"
      },
      "execution_count": null,
      "outputs": []
    },
    {
      "cell_type": "code",
      "source": [
        "x=10\n",
        "class test:\n",
        "    def m1(self):\n",
        "        global x\n",
        "        \n",
        "        print(x)\n",
        "    def m2(self):    \n",
        "        print(x)\n",
        "t=test()\n",
        "t.m1()\n",
        "t.m2()\n",
        "print(x)"
      ],
      "metadata": {
        "id": "hkAnKTWLME6V"
      },
      "execution_count": null,
      "outputs": []
    },
    {
      "cell_type": "markdown",
      "source": [
        "## A small Bank Application"
      ],
      "metadata": {
        "id": "mFAq7NUgnr0v"
      }
    },
    {
      "cell_type": "code",
      "source": [
        ""
      ],
      "metadata": {
        "id": "BXY_elQHnvII"
      },
      "execution_count": null,
      "outputs": []
    },
    {
      "cell_type": "code",
      "source": [
        "import sys\n",
        "class bank:\n",
        "    bankname=\"PNB\"\n",
        "    def __init__(self,name,balance):\n",
        "        self.name=name\n",
        "        self.balance=balance\n",
        "    def deposit(self,amt):\n",
        "        self.balance=self.balance+amt\n",
        "        print(\"after deposit your balance is\",self.balance)\n",
        "    def withdraw(self,amt):\n",
        "        if amt>self.balance:\n",
        "            print(\"isuuficient amount...plz try again\")\n",
        "        else:\n",
        "            self.balance=self.balance-amt\n",
        "            print(\"after wityhdraw your balance is\",self.balance)\n",
        "print(\"Welcome to bank\",bank.bankname)\n",
        "name=input(\"enter your name\")\n",
        "print(\"hello\",name)\n",
        "balance=int(input(\"enter minimum balance\"))\n",
        "print(\"your minimum balance is\",balance)\n",
        "s=bank(name,balance)\n",
        "while True:\n",
        "    \n",
        "    print(\"please select the proper option for banking\\n\")\n",
        "    print(\"d---deposite\\nw---withdraw\\ne--exit\")\n",
        "    option=input(\"now enter your option\")\n",
        "    \n",
        "    if option=='d' or option=='D':\n",
        "        amt=int(input(\"enter yor amount to deposit\"))\n",
        "        \n",
        "        s.deposit(amt)\n",
        "    elif option=='w' or option=='W':\n",
        "        amt=int(input(\"enter yor amount to withdraw\"))\n",
        "        #s=bank(name)\n",
        "        s.withdraw(amt)\n",
        "    elif option=='e' or option=='E':\n",
        "        print(\"--thank you for banking with PNB--\")\n",
        "        sys.exit()\n",
        "    else:\n",
        "        print(\"please select correct option\")"
      ],
      "metadata": {
        "id": "rlYHUWbWMOhv"
      },
      "execution_count": null,
      "outputs": []
    },
    {
      "cell_type": "code",
      "source": [
        ""
      ],
      "metadata": {
        "id": "zk09GrCtefKD"
      },
      "execution_count": null,
      "outputs": []
    }
  ]
}