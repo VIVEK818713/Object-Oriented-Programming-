{
  "nbformat": 4,
  "nbformat_minor": 0,
  "metadata": {
    "colab": {
      "name": "File Handling.ipynb",
      "provenance": [],
      "collapsed_sections": [],
      "mount_file_id": "1Goqi8NIRBsjOw1YyJQ9dgMF88WV7-CYv",
      "authorship_tag": "ABX9TyMPy5oi4lQbcfFbanuo977a",
      "include_colab_link": true
    },
    "kernelspec": {
      "name": "python3",
      "display_name": "Python 3"
    },
    "language_info": {
      "name": "python"
    }
  },
  "cells": [
    {
      "cell_type": "markdown",
      "metadata": {
        "id": "view-in-github",
        "colab_type": "text"
      },
      "source": [
        "<a href=\"https://colab.research.google.com/github/VIVEK818713/Object-Oriented-Programming-/blob/main/File_Handling.ipynb\" target=\"_parent\"><img src=\"https://colab.research.google.com/assets/colab-badge.svg\" alt=\"Open In Colab\"/></a>"
      ]
    },
    {
      "cell_type": "markdown",
      "metadata": {
        "id": "39T7N8selnlG"
      },
      "source": [
        "As the part of programming requirement, we have to store our data permanently for future purpose. For this requirement we should go for files.\n",
        "\n",
        "\n",
        "1.   Text files--Usually we can use text files to store character data e.g abc.txt\n",
        "2.   Binary Files--Usually we can use binary files to store binary data like images,video files, audio files etc...\n",
        "\n"
      ]
    },
    {
      "cell_type": "markdown",
      "metadata": {
        "id": "H1qPy8z7mkGs"
      },
      "source": [
        "###Opening a File:\n",
        "1. Before performing any operation (like read or write) on the file,first we have to open thatfile.For this we should use Python's inbuilt function open()\n",
        "2. Before performing any operation (like read or write) on the file,first we have to open that file.For this we should use Python's inbuilt function open()\n",
        "        f = open(filename, mode)\n",
        "\n",
        "\n",
        "1. r --> open an existing file for read operation. The file pointer is positioned at the beginning of the file.If the specified file does not exist then we will get FileNotFoundError.This is default mode.\n",
        "2. w -->open an existing file for write operation. If the file already contains some data\n",
        "then it will be overridden. If the specified file is not already avaialble then this mode will\n",
        "create that file.\n",
        "3. a -->open an existing file for append operation. It won't override existing data.If the\n",
        "specified file is not already avaialble then this mode will create a new file.\n",
        "4. r+ -->To read and write data into the file. The previous data in the file will not be\n",
        "deleted.The file pointer is placed at the beginning of the file.\n",
        "5. w+ -->To write and read data. It will override existing data.\n",
        "6. a+ -->To append and read data from the file.It wont override existing data.\n",
        "7. x -->To open a file in exclusive creation mode for write operation. If the file already\n",
        "exists then we will get FileExistsError.\n",
        "\n"
      ]
    },
    {
      "cell_type": "markdown",
      "metadata": {
        "id": "iPYzPcM2n-ap"
      },
      "source": [
        "Note: All the above modes are applicable for text files. If the above modes suffixed with\n",
        "'b' then these represents for binary files.\n",
        "Eg: \n",
        "\n",
        "rb, wb,ab,r+b,  w+b,  a+b,xb"
      ]
    },
    {
      "cell_type": "code",
      "metadata": {
        "colab": {
          "base_uri": "https://localhost:8080/"
        },
        "id": "qfYrs4cDlopH",
        "outputId": "5e911c7d-6d91-4701-f41d-22d023f97ec8"
      },
      "source": [
        "f=open('abc.txt','r')\n",
        "print(f.name)\n",
        "print(f.mode)\n",
        "print(f.readable())\n",
        "print(f.writable())\n",
        "print(f.closed)\n",
        "f.close()\n",
        "print(f.closed)"
      ],
      "execution_count": null,
      "outputs": [
        {
          "output_type": "stream",
          "text": [
            "abc.txt\n",
            "r\n",
            "True\n",
            "False\n",
            "False\n",
            "True\n"
          ],
          "name": "stdout"
        }
      ]
    },
    {
      "cell_type": "markdown",
      "metadata": {
        "id": "akbPTt7YpMQN"
      },
      "source": [
        "### writing data to text file\n",
        "* write(str)\n",
        "*writelines(list of lines)"
      ]
    },
    {
      "cell_type": "code",
      "metadata": {
        "colab": {
          "base_uri": "https://localhost:8080/"
        },
        "id": "7U1PAEjEoWqp",
        "outputId": "ec4f2227-b01c-4d5c-8189-ae968835ea65"
      },
      "source": [
        "f=open('abc.txt','w')\n",
        "f.write(\"vivek kumar is my name\\n\")\n",
        "f.write(\"i am in meerut\")\n",
        "print(\"data written successfully\")\n",
        "f.close()"
      ],
      "execution_count": null,
      "outputs": [
        {
          "output_type": "stream",
          "text": [
            "data written successfully\n"
          ],
          "name": "stdout"
        }
      ]
    },
    {
      "cell_type": "code",
      "metadata": {
        "colab": {
          "base_uri": "https://localhost:8080/"
        },
        "id": "LEui_-Qbrvqd",
        "outputId": "32a48870-abe4-450d-b4c4-3cc876f9c13d"
      },
      "source": [
        "f=open(\"abcd.txt\",'w')\n",
        "list=[\"vivek\\n\",\"kumar\\n\",\"knit\\n\",\"meerut\"]\n",
        "f.writelines(list)\n",
        "print(\"List of lines written to the file successfully\")\n",
        "f.close()"
      ],
      "execution_count": null,
      "outputs": [
        {
          "output_type": "stream",
          "text": [
            "List of lines written to the file successfully\n"
          ],
          "name": "stdout"
        }
      ]
    },
    {
      "cell_type": "markdown",
      "metadata": {
        "id": "UQhh4sxdsmDN"
      },
      "source": [
        "###Reading Character Data from text files:\n",
        "We can read character data from text file by using the following read methods.\n",
        "* read()--- To read total data from the file\n",
        "* read(n)--  To read 'n' characters from the file\n",
        "* readline()-- To read only one line\n",
        "* readlines()-- To read all lines into a list"
      ]
    },
    {
      "cell_type": "code",
      "metadata": {
        "colab": {
          "base_uri": "https://localhost:8080/"
        },
        "id": "Q63rfv1jsbLb",
        "outputId": "107914c0-c21a-4acf-c708-c5130ec026cd"
      },
      "source": [
        "# To read total data from the file\n",
        "f=open(\"abc.txt\",'r')\n",
        "data=f.read()\n",
        "print(data)\n",
        "f.close()"
      ],
      "execution_count": null,
      "outputs": [
        {
          "output_type": "stream",
          "text": [
            "vivek kumar is my name\n",
            "i am in meerut\n"
          ],
          "name": "stdout"
        }
      ]
    },
    {
      "cell_type": "code",
      "metadata": {
        "colab": {
          "base_uri": "https://localhost:8080/"
        },
        "id": "VhNlErvKtA5q",
        "outputId": "478640b6-2422-4c03-a9a2-d065c33e5c6e"
      },
      "source": [
        "#To read only first 10 characters:\n",
        "f=open(\"abc.txt\",'r')\n",
        "data=f.read(5)\n",
        "print(data)\n",
        "f.close()"
      ],
      "execution_count": null,
      "outputs": [
        {
          "output_type": "stream",
          "text": [
            "vivek\n"
          ],
          "name": "stdout"
        }
      ]
    },
    {
      "cell_type": "code",
      "metadata": {
        "colab": {
          "base_uri": "https://localhost:8080/"
        },
        "id": "od03suUntKwj",
        "outputId": "04500db1-96db-45c7-a05c-7c0fb1365789"
      },
      "source": [
        "#To read data line by line:\n",
        "f=open(\"abc.txt\",'r')\n",
        "line1=f.readline()\n",
        "print(line1,end='')\n",
        "line2=f.readline()\n",
        "print(line2,end='')\n",
        "f.close()"
      ],
      "execution_count": null,
      "outputs": [
        {
          "output_type": "stream",
          "text": [
            "vivek kumar is my name\n",
            "i am in meerut"
          ],
          "name": "stdout"
        }
      ]
    },
    {
      "cell_type": "code",
      "metadata": {
        "colab": {
          "base_uri": "https://localhost:8080/"
        },
        "id": "sYRFmQ96tWyp",
        "outputId": "601aa73d-19ff-4f35-fd06-5e6e1a774a8a"
      },
      "source": [
        "#To read all lines into list:\n",
        "f=open(\"abc.txt\",'r')\n",
        "lines=f.readlines()\n",
        "for line in lines:\n",
        "  print(line,end='')\n",
        "f.close()"
      ],
      "execution_count": null,
      "outputs": [
        {
          "output_type": "stream",
          "text": [
            "vivek kumar is my name\n",
            "#i am in meerut#"
          ],
          "name": "stdout"
        }
      ]
    },
    {
      "cell_type": "code",
      "metadata": {
        "id": "rOmoDMDUtrxG",
        "colab": {
          "base_uri": "https://localhost:8080/"
        },
        "outputId": "f6da458a-500a-4426-8c8b-27259321b6e7"
      },
      "source": [
        "f=open(\"abc.txt\",\"r\")\n",
        "print(f.read(3))\n",
        "print(f.readline())\n",
        "print(f.read(4))\n",
        "print(\"Remaining data\")\n",
        "print(f.read())"
      ],
      "execution_count": null,
      "outputs": [
        {
          "output_type": "stream",
          "text": [
            "viv\n",
            "ek kumar is my name\n",
            "\n",
            "i am\n",
            "Remaining data\n",
            " in meerut\n"
          ],
          "name": "stdout"
        }
      ]
    },
    {
      "cell_type": "markdown",
      "metadata": {
        "id": "r62bxUMyuDzr"
      },
      "source": [
        "###The with statement:\n",
        "1. The with statement can be used while opening a file.We can use this to group file operation statements within a block.\n",
        "2. The advantage of with statement is it will take care closing of file,after completing all\n",
        "operations automatically even in the case of exceptions also, and we are not required to\n",
        "close explicitly."
      ]
    },
    {
      "cell_type": "code",
      "metadata": {
        "colab": {
          "base_uri": "https://localhost:8080/"
        },
        "id": "ZN9nBaS-t5IX",
        "outputId": "4cdc86b0-5bff-4a2e-a5e2-04f3a93d8972"
      },
      "source": [
        "with open(\"abc.txt\",\"w\") as f:\n",
        "  f.write(\"PYTHON\\n\")\n",
        "  f.write(\"IS A \\n\")\n",
        "  f.write(\"GOOD LANGUAGE\\n\")\n",
        "  print(\"Is File Closed: \",f.closed)\n",
        "  \n",
        "print(\"Is File Closed: \",f.closed)\n"
      ],
      "execution_count": null,
      "outputs": [
        {
          "output_type": "stream",
          "text": [
            "Is File Closed:  False\n",
            "Is File Closed:  True\n"
          ],
          "name": "stdout"
        }
      ]
    },
    {
      "cell_type": "markdown",
      "metadata": {
        "id": "xmuVY91iBd7A"
      },
      "source": [
        "###The seek() and tell() methods:\n",
        "1. We can use tell() method to return current position of the cursor(file pointer) from\n",
        "beginning of the file."
      ]
    },
    {
      "cell_type": "code",
      "metadata": {
        "id": "oyIREL-5umot",
        "colab": {
          "base_uri": "https://localhost:8080/"
        },
        "outputId": "4df8b681-81de-456a-b350-c5fd04553ac1"
      },
      "source": [
        "f=open(\"abc.txt\",\"r\")\n",
        "print(f.tell())\n",
        "print(f.read(2))\n",
        "print(f.tell())\n",
        "print(f.read(3))\n",
        "print(f.tell())"
      ],
      "execution_count": null,
      "outputs": [
        {
          "output_type": "stream",
          "text": [
            "0\n",
            "PY\n",
            "2\n",
            "THO\n",
            "5\n"
          ],
          "name": "stdout"
        }
      ]
    },
    {
      "cell_type": "markdown",
      "metadata": {
        "id": "DAJAFQmACTy9"
      },
      "source": [
        "* seek():\n",
        "1. We can use seek() method to move cursor(file pointer) to specified location.\n",
        "* f.seek(offset, fromwhere)\n",
        "* offset represents the number of positions\n",
        "* The allowed values for second attribute(from where) are\n",
        "* 0---->From beginning of file(default value)--python 3,python 2\n",
        "* 1---->From current position--python 2\n",
        "* 2--->From end of the file--python 2"
      ]
    },
    {
      "cell_type": "code",
      "metadata": {
        "colab": {
          "base_uri": "https://localhost:8080/"
        },
        "id": "rK1qw9dnCAQr",
        "outputId": "aae756a2-2fdc-4f3a-c8bb-a8080a3beb84"
      },
      "source": [
        "data=\"All Students are From CSE\"\n",
        "f=open(\"abc.txt\",\"w\")\n",
        "f.write(data)\n",
        "with open(\"abc.txt\",\"r+\") as f:\n",
        "  text=f.read()\n",
        "  print(text)\n",
        "  print(\"The Current Cursor Position: \",f.tell())\n",
        "  f.seek(17)\n",
        "  print(\"The Current Cursor Position: \",f.tell())\n",
        "  f.write(\"GEMS \")\n",
        "  f.seek(0)\n",
        "  text=f.read()\n",
        "  print(\"Data After Modification:\")\n",
        "  print(text)"
      ],
      "execution_count": null,
      "outputs": [
        {
          "output_type": "stream",
          "text": [
            "All Students are From CSE\n",
            "The Current Cursor Position:  25\n",
            "The Current Cursor Position:  17\n",
            "Data After Modification:\n",
            "All Students are GEMS CSE\n"
          ],
          "name": "stdout"
        }
      ]
    },
    {
      "cell_type": "markdown",
      "metadata": {
        "id": "pUfZi9GBEnFo"
      },
      "source": [
        "To Know Current Working Directory:"
      ]
    },
    {
      "cell_type": "code",
      "metadata": {
        "colab": {
          "base_uri": "https://localhost:8080/"
        },
        "id": "LksIlfpiDUl5",
        "outputId": "3af44538-bedb-4210-cc02-e3216c3192f9"
      },
      "source": [
        "import os\n",
        "cwd=os.getcwd()\n",
        "print(\"Current Working Directory:\",cwd)"
      ],
      "execution_count": null,
      "outputs": [
        {
          "output_type": "stream",
          "text": [
            "Current Working Directory: /content\n"
          ],
          "name": "stdout"
        }
      ]
    },
    {
      "cell_type": "markdown",
      "metadata": {
        "id": "0AMb0tHGFyi3"
      },
      "source": [
        "To create a sub directory in the current working directory:"
      ]
    },
    {
      "cell_type": "code",
      "metadata": {
        "colab": {
          "base_uri": "https://localhost:8080/"
        },
        "id": "rbZb6tpSEoAm",
        "outputId": "a671fed4-f10f-4583-a4b2-c72a7daaf2c9"
      },
      "source": [
        "import os\n",
        "os.mkdir(\"mysub\")\n",
        "print(\"mysub directory created in cwd\")"
      ],
      "execution_count": null,
      "outputs": [
        {
          "output_type": "stream",
          "text": [
            "mysub directory created in cwd\n"
          ],
          "name": "stdout"
        }
      ]
    },
    {
      "cell_type": "markdown",
      "metadata": {
        "id": "92qz191NF1zK"
      },
      "source": [
        "To create a sub directory in mysub directory"
      ]
    },
    {
      "cell_type": "code",
      "metadata": {
        "colab": {
          "base_uri": "https://localhost:8080/"
        },
        "id": "FuU6CM9kEtEY",
        "outputId": "536a5e29-41ea-4566-b0e0-236322afc431"
      },
      "source": [
        "import os\n",
        "os.mkdir(\"mysub/mysub2\")\n",
        "print(\"mysub2 created inside mysub\")"
      ],
      "execution_count": null,
      "outputs": [
        {
          "output_type": "stream",
          "text": [
            "mysub2 created inside mysub\n"
          ],
          "name": "stdout"
        }
      ]
    },
    {
      "cell_type": "markdown",
      "metadata": {
        "id": "rOYAF4IlF8rF"
      },
      "source": [
        "To create multiple directories like sub1 in that sub2 in that sub3"
      ]
    },
    {
      "cell_type": "code",
      "metadata": {
        "colab": {
          "base_uri": "https://localhost:8080/"
        },
        "id": "x0im_ZQ_E00P",
        "outputId": "a49e3cab-61cf-468d-9f33-660f89c20dea"
      },
      "source": [
        "import os\n",
        "os.makedirs(\"sub1/sub2/sub3\")\n",
        "print(\"sub1 and in that sub2 and in that sub3 directories created\")"
      ],
      "execution_count": null,
      "outputs": [
        {
          "output_type": "stream",
          "text": [
            "sub1 and in that sub2 and in that sub3 directories created\n"
          ],
          "name": "stdout"
        }
      ]
    },
    {
      "cell_type": "markdown",
      "metadata": {
        "id": "hNMq4QB8GBet"
      },
      "source": [
        "To remove a directory"
      ]
    },
    {
      "cell_type": "code",
      "metadata": {
        "colab": {
          "base_uri": "https://localhost:8080/"
        },
        "id": "LKrzXaA7E85A",
        "outputId": "1877c7ab-aa50-44d2-ca75-0ad7ee5db225"
      },
      "source": [
        "import os\n",
        "os.rmdir(\"mysub/mysub2\")\n",
        "print(\"mysub2 directory deleted\")"
      ],
      "execution_count": null,
      "outputs": [
        {
          "output_type": "stream",
          "text": [
            "mysub2 directory deleted\n"
          ],
          "name": "stdout"
        }
      ]
    },
    {
      "cell_type": "markdown",
      "metadata": {
        "id": "FGtohzX0GF5t"
      },
      "source": [
        "To remove multiple directories in the path"
      ]
    },
    {
      "cell_type": "code",
      "metadata": {
        "colab": {
          "base_uri": "https://localhost:8080/"
        },
        "id": "UC4FIn3eFIOx",
        "outputId": "2de8b563-5038-478a-83ed-43392f7124c6"
      },
      "source": [
        "import os\n",
        "os.removedirs(\"sub1/sub2/sub3\")\n",
        "print(\"All 3 directories sub1,sub2 and sub3 removed\")"
      ],
      "execution_count": null,
      "outputs": [
        {
          "output_type": "stream",
          "text": [
            "All 3 directories sub1,sub2 and sub3 removed\n"
          ],
          "name": "stdout"
        }
      ]
    },
    {
      "cell_type": "markdown",
      "metadata": {
        "id": "RsGvxJdoGLHR"
      },
      "source": [
        "To rename a directory"
      ]
    },
    {
      "cell_type": "code",
      "metadata": {
        "colab": {
          "base_uri": "https://localhost:8080/"
        },
        "id": "Q5ocxZ88FQdo",
        "outputId": "65ae6a89-b003-422f-94fd-0dc373593a7c"
      },
      "source": [
        "import os\n",
        "os.rename(\"mysub\",\"newdir\")\n",
        "print(\"mysub directory renamed to newdir\")"
      ],
      "execution_count": null,
      "outputs": [
        {
          "output_type": "stream",
          "text": [
            "mysub directory renamed to newdir\n"
          ],
          "name": "stdout"
        }
      ]
    },
    {
      "cell_type": "markdown",
      "metadata": {
        "id": "xp6AptoNGPlY"
      },
      "source": [
        "To know contents of directory"
      ]
    },
    {
      "cell_type": "code",
      "metadata": {
        "colab": {
          "base_uri": "https://localhost:8080/"
        },
        "id": "gxPfHQEfFWZD",
        "outputId": "45627edb-c019-472b-ba62-0cd217dcfc47"
      },
      "source": [
        "import os\n",
        "print(os.listdir(\".\"))"
      ],
      "execution_count": null,
      "outputs": [
        {
          "output_type": "stream",
          "text": [
            "['.config', 'abcd.txt', '.ipynb_checkpoints', 'drive', 'abc.txt', 'newdir', 'sample_data']\n"
          ],
          "name": "stdout"
        }
      ]
    },
    {
      "cell_type": "markdown",
      "metadata": {
        "id": "ds0A_sI-Zmco"
      },
      "source": [
        "### do yourself\n",
        "1. copy the content of one file to another file\n",
        "2. rename the file"
      ]
    },
    {
      "cell_type": "code",
      "metadata": {
        "id": "LNhXzVplZuJ9"
      },
      "source": [
        ""
      ],
      "execution_count": null,
      "outputs": []
    }
  ]
}