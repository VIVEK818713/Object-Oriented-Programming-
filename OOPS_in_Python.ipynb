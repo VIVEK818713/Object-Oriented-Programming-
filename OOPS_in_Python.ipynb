{
  "nbformat": 4,
  "nbformat_minor": 0,
  "metadata": {
    "colab": {
      "name": "OOPS in Python.ipynb",
      "provenance": [],
      "collapsed_sections": [],
      "mount_file_id": "1mcOwv2U7z0C9SGkKQbhIkSKRg5fFQbk6",
      "authorship_tag": "ABX9TyNQn0FY2zNeJDrTSoNs+BgM",
      "include_colab_link": true
    },
    "kernelspec": {
      "name": "python3",
      "display_name": "Python 3"
    },
    "language_info": {
      "name": "python"
    }
  },
  "cells": [
    {
      "cell_type": "markdown",
      "metadata": {
        "id": "view-in-github",
        "colab_type": "text"
      },
      "source": [
        "<a href=\"https://colab.research.google.com/github/VIVEK818713/Object-Oriented-Programming-/blob/main/OOPS_in_Python.ipynb\" target=\"_parent\"><img src=\"https://colab.research.google.com/assets/colab-badge.svg\" alt=\"Open In Colab\"/></a>"
      ]
    },
    {
      "cell_type": "markdown",
      "metadata": {
        "id": "fLRQFwwYUSgg"
      },
      "source": [
        "### Object oriented programming\n",
        "1. class\n",
        "2. object\n",
        "3. refrence varibale"
      ]
    },
    {
      "cell_type": "markdown",
      "metadata": {
        "id": "Dnn3EnNEUuNO"
      },
      "source": [
        "### class \n",
        "1. building ----map--\n",
        "2. botels------dye-----number of botels\n",
        "3. tv samsung--ckt design---number of tv"
      ]
    },
    {
      "cell_type": "markdown",
      "metadata": {
        "id": "hOzuzFK1WswA"
      },
      "source": [
        "### Object\n",
        "1.building ---map----physical existence of building ---object \n",
        "2. bottels---dye-- 1 crore botels----object\n",
        "3. samsung tv----ckt design ----tv exist---object"
      ]
    },
    {
      "cell_type": "markdown",
      "metadata": {
        "id": "AwETLNymZrch"
      },
      "source": [
        "### ref. variable\n",
        "1. samsung tv---ckt design----tv 36\"\n",
        "2. home ----tv start--tv sound increase---tv color blurr---tv channel change----remote---ref varibale"
      ]
    },
    {
      "cell_type": "code",
      "metadata": {
        "colab": {
          "base_uri": "https://localhost:8080/"
        },
        "id": "c7mOygjuZgSd",
        "outputId": "b1178796-3cc4-4539-cefe-1f3985a9e536"
      },
      "source": [
        "class student:\n",
        "  def __init__(self,b,c,d):# temporary varibles\n",
        "    self.name=b\n",
        "    self.age=c\n",
        "    self.marks=d\n",
        "  def display(self):\n",
        "    print(self.name)\n",
        "    print(self.age)\n",
        "    print(self.marks)\n",
        "\n",
        "# x is ref varibale  \n",
        "x=student('kumar',44,78)\n",
        "x.display()\n",
        "\n"
      ],
      "execution_count": null,
      "outputs": [
        {
          "output_type": "stream",
          "text": [
            "<__main__.student object at 0x7f879ae89c50>\n",
            "kumar\n",
            "44\n"
          ],
          "name": "stdout"
        }
      ]
    },
    {
      "cell_type": "code",
      "metadata": {
        "id": "Gr7OfqGRbycJ",
        "colab": {
          "base_uri": "https://localhost:8080/"
        },
        "outputId": "c0484f62-6afa-4885-99f6-016696190302"
      },
      "source": [
        "class test:\n",
        "  def __init__(self):\n",
        "    print(\"vivek\")\n",
        "t=test()"
      ],
      "execution_count": null,
      "outputs": [
        {
          "output_type": "stream",
          "text": [
            "vivek\n"
          ],
          "name": "stdout"
        }
      ]
    },
    {
      "cell_type": "markdown",
      "metadata": {
        "id": "Fgo43nwSfokO"
      },
      "source": [
        "__init__ is a special type of method which is called constructor\n",
        "1. __init__ \n",
        "2. first argument must be self\n",
        "3. object create then constructor autometically execute"
      ]
    },
    {
      "cell_type": "markdown",
      "metadata": {
        "id": "7poKYi9Ej7NW"
      },
      "source": [
        "### varibles in class\n",
        "1. instance variable/object level vafriable\n",
        "2. static variable/class level variable\n",
        "3. local variable"
      ]
    },
    {
      "cell_type": "code",
      "metadata": {
        "colab": {
          "base_uri": "https://localhost:8080/"
        },
        "id": "6ZyHvbyjfd6w",
        "outputId": "4fa7b866-a8d0-4d25-cbc2-e6447959ca70"
      },
      "source": [
        "# intance variable\n",
        "class emp:\n",
        "  def __init__(self,ename,esal):\n",
        "    self.ename=ename   # self.ename  self.esal both are instance variable/ values of variable object to object varies\n",
        "    self.esal=esal\n",
        "  def display(self):\n",
        "    print(self.ename)\n",
        "e=emp(\"vivek\",200000)\n",
        "e.display()\n",
        "e1=emp(\"kumar\",300000)\n",
        "e1.display()"
      ],
      "execution_count": null,
      "outputs": [
        {
          "output_type": "stream",
          "text": [
            "vivek\n",
            "kumar\n"
          ],
          "name": "stdout"
        }
      ]
    },
    {
      "cell_type": "code",
      "metadata": {
        "colab": {
          "base_uri": "https://localhost:8080/"
        },
        "id": "6VJxDTowlKBt",
        "outputId": "82420953-2cbe-4c8b-8791-62b9a5f5dd95"
      },
      "source": [
        "# static variable/class level variable\n",
        "class emp:\n",
        "  eorgname=\"miet\"      # static variable\n",
        "  def __init__(self,ename,esal):\n",
        "    self.ename=ename   # instance variable\n",
        "    self.esal=esal\n",
        "  def display(self):\n",
        "    print(self.ename)\n",
        "e=emp(\"vivek\",200000)\n",
        "print(e.eorgname)\n",
        "print(id(e.eorgname))\n",
        "e.display()\n",
        "e1=emp(\"kumar\",300000)\n",
        "print(e1.eorgname)\n",
        "print(id(e1.eorgname))\n",
        "e1.display()"
      ],
      "execution_count": null,
      "outputs": [
        {
          "output_type": "stream",
          "text": [
            "miet\n",
            "140220395806896\n",
            "vivek\n",
            "miet\n",
            "140220395806896\n",
            "kumar\n"
          ],
          "name": "stdout"
        }
      ]
    },
    {
      "cell_type": "code",
      "metadata": {
        "colab": {
          "base_uri": "https://localhost:8080/"
        },
        "id": "l-uYZvvTneEd",
        "outputId": "67bc1ea5-2440-4d35-9b69-a9afae7c86f9"
      },
      "source": [
        "# local variable/method level variable\n",
        "class emp:\n",
        "  eorgname=\"miet\"      # static variable\n",
        "  def __init__(self,ename,esal):\n",
        "    self.ename=ename   # instance variable\n",
        "    self.esal=esal\n",
        "    f=55               # local variable\n",
        "  def display(self):\n",
        "    d=20               # local variable\n",
        "    print(self.ename)\n",
        "    print(d)\n",
        "e=emp(10000,\"ten thousand\")\n",
        "print(e.eorgname)\n",
        "print(id(e.eorgname))\n",
        "e.display()\n",
        "e1=emp(\"kumar\",300000)\n",
        "print(e1.eorgname)\n",
        "print(id(e1.eorgname))\n",
        "e1.display()"
      ],
      "execution_count": null,
      "outputs": [
        {
          "output_type": "stream",
          "text": [
            "miet\n",
            "140220395806896\n",
            "10000\n",
            "20\n",
            "miet\n",
            "140220395806896\n",
            "kumar\n",
            "20\n"
          ],
          "name": "stdout"
        }
      ]
    },
    {
      "cell_type": "markdown",
      "metadata": {
        "id": "tY4AL1xzont8"
      },
      "source": [
        ""
      ]
    },
    {
      "cell_type": "markdown",
      "metadata": {
        "id": "2byU0DEvon_E"
      },
      "source": [
        "### methods\n",
        "1. instance method\n",
        "2. class method\n",
        "3. static method"
      ]
    },
    {
      "cell_type": "code",
      "metadata": {
        "id": "W6XI7oCpo5-b"
      },
      "source": [
        "# instance method/object related method\n",
        "class emp:\n",
        " \n",
        "  def __init__(self,ename,esal):\n",
        "    self.ename=ename   \n",
        "    self.esal=esal\n",
        "\n",
        "  def display(self): # display is instance method\n",
        "    \n",
        "    print(self.ename)\n",
        "    \n",
        "e=emp(10000,\"ten thousand\")\n"
      ],
      "execution_count": null,
      "outputs": []
    },
    {
      "cell_type": "markdown",
      "source": [
        "### Class Method\n",
        "\n",
        "Instance methods can access instance variables within the same class. To invoke instance methods, you need to create an instance of the class first.\n",
        "\n"
      ],
      "metadata": {
        "id": "nymGdFhm7_Df"
      }
    },
    {
      "cell_type": "code",
      "source": [
        "class Person:\n",
        "    def __init__(self, first_name, last_name, age):\n",
        "        self.first_name = first_name\n",
        "        self.last_name = last_name\n",
        "        self.age = age\n",
        "\n",
        "    def get_full_name(self):\n",
        "        return f\"{self.first_name} {self.last_name}\"\n",
        "\n",
        "    def introduce(self):\n",
        "        return f\"Hi. I'm {self.first_name} {self.last_name}. I'm {self.age} years old.\""
      ],
      "metadata": {
        "id": "A1ld0RTe9FhE"
      },
      "execution_count": null,
      "outputs": []
    },
    {
      "cell_type": "markdown",
      "source": [
        "The Person class has three instance methods including __init__(), get_full_name(), and introduce().\n",
        "\n",
        "Suppose that you want to add a method that creates an anonymous person to the Person class.\n",
        "\n",
        "In order to do so, you would come up with the following code:"
      ],
      "metadata": {
        "id": "tfyrcNjy9HFD"
      }
    },
    {
      "cell_type": "code",
      "source": [
        "class Person:\n",
        "    # ... other methods\n",
        "    def create_anonymous(self):\n",
        "        return Person('John', 'Doe', 25)\n"
      ],
      "metadata": {
        "id": "15UqeTIn9M3o"
      },
      "execution_count": null,
      "outputs": []
    },
    {
      "cell_type": "markdown",
      "source": [
        "The create_anonymous() is an instance method that returns an anonymous person.\n",
        "\n",
        "However, to invoke the create_anonymous() method, you need to create an instance, which doesn’t make sense in this case.\n",
        "\n",
        "This is why Python class methods come into play.\n",
        "\n",
        "A class method isn’t bound to any specific instance. It’s bound to the class only.\n",
        "\n",
        "To define a class method:\n",
        "\n",
        "First place the @classmethod decorator above the method definition. For now, you just need to understand that the @classmethod decorator will change an instance method to a class method.\n",
        "Second, rename the self parameter to cls. The cls means class. However, class is a keyword so you cannot use it as a parameter.\n",
        "The following shows the new version of the Person class:"
      ],
      "metadata": {
        "id": "fgW8yZmS9QJF"
      }
    },
    {
      "cell_type": "code",
      "source": [
        "class Person:\n",
        "    def __init__(self, first_name, last_name, age):\n",
        "        self.first_name = first_name\n",
        "        self.last_name = last_name\n",
        "        self.age = age\n",
        "\n",
        "    def get_full_name(self):\n",
        "        return f\"{self.first_name} {self.last_name}\"\n",
        "\n",
        "    def introduce(self):\n",
        "        return f\"Hi. I'm {self.first_name} {self.last_name}. I'm {self.age} years old.\"\n",
        "\n",
        "    @classmethod\n",
        "    def create_anonymous(cls):\n",
        "        return Person('John', 'Doe', 25)\n"
      ],
      "metadata": {
        "id": "LntAfmfG9XgO"
      },
      "execution_count": null,
      "outputs": []
    },
    {
      "cell_type": "markdown",
      "source": [
        "The create_anonymous() method cannot access instance attributes. But it can access class attributes via the cls variable."
      ],
      "metadata": {
        "id": "D3b31E5B9bge"
      }
    },
    {
      "cell_type": "markdown",
      "source": [
        "### Calling Python class methods\n",
        "\n",
        "To call a class method, you use the class name, followed by a dot, and then the method name like this:\n",
        "\n",
        "classname.methodname()\n",
        "\n",
        "The following example shows how to call the create_anonymous() class method of the Person class:"
      ],
      "metadata": {
        "id": "yDuLo4Ba-1Xl"
      }
    },
    {
      "cell_type": "code",
      "source": [
        "anonymous = Person.create_anonymous()\n",
        "print(anonymous.introduce())\n"
      ],
      "metadata": {
        "id": "v8xlZ8d5_Ljy"
      },
      "execution_count": null,
      "outputs": []
    },
    {
      "cell_type": "markdown",
      "source": [
        "### When to use Python class methods\n",
        "\n",
        "\n",
        "You can use class methods for any methods that are not bound to a specific instance but the class. In practice, you often use class methods for methods that create an instance of the class.\n",
        "\n",
        "When a method creates an instance of the class and returns it, the method is called a factory method. For example, the create_anonymous() is a factory method because it returns a new instance of the Person class."
      ],
      "metadata": {
        "id": "AJ1x2Wsb_ZoA"
      }
    },
    {
      "cell_type": "code",
      "metadata": {
        "colab": {
          "base_uri": "https://localhost:8080/"
        },
        "id": "_oTvBWP4qgPz",
        "outputId": "867b83b1-2bd9-404d-baf1-f72160d73c4b"
      },
      "source": [
        "# class method/class related method\n",
        "class emp:\n",
        "  e_org=\"miet\"      # static variable\n",
        "  def __init__(self,ename,esal):\n",
        "    self.ename=ename   # instance variable\n",
        "    self.esal=esal\n",
        "  \n",
        "  def display(self): # instance method\n",
        "    print(self.ename)\n",
        "\n",
        "  @classmethod\n",
        "  def test(cls):\n",
        "    print(cls.e_org)\n",
        "\n",
        "e=emp(10000,\"ten thousand\")\n",
        "e.display()\n",
        "e.test()\n",
        "emp.test()"
      ],
      "execution_count": null,
      "outputs": [
        {
          "output_type": "stream",
          "text": [
            "10000\n",
            "miet\n",
            "miet\n"
          ],
          "name": "stdout"
        }
      ]
    },
    {
      "cell_type": "code",
      "metadata": {
        "colab": {
          "base_uri": "https://localhost:8080/"
        },
        "id": "CQZAXJ4fsZo4",
        "outputId": "09a09f07-b0d2-4a76-9473-f740a0b11a30"
      },
      "source": [
        "# static method/utility method\n",
        "class emp:\n",
        "  e_org=\"miet\"      # static variable\n",
        "  def __init__(self,ename,esal):\n",
        "    self.ename=ename   # instance variable\n",
        "    self.esal=esal\n",
        "  \n",
        "  def display(self): # 1. instance method\n",
        "    print(self.ename)\n",
        "\n",
        "  @classmethod      # 2. classmethod\n",
        "  def test(cls):\n",
        "    print(cls.e_org)\n",
        "  \n",
        "  @staticmethod\n",
        "  def sum(a,b):\n",
        "    print(a+b)\n",
        "\n",
        "e=emp(10000,\"ten thousand\")\n",
        "e.sum(2,3)\n",
        "emp.sum(4,5)"
      ],
      "execution_count": null,
      "outputs": [
        {
          "output_type": "stream",
          "text": [
            "5\n",
            "9\n"
          ],
          "name": "stdout"
        }
      ]
    },
    {
      "cell_type": "markdown",
      "metadata": {
        "id": "ZL3pcks8xUBs"
      },
      "source": [
        "### instance variable---\n",
        "1. declare\n",
        "2. access\n",
        "3. delete"
      ]
    },
    {
      "cell_type": "markdown",
      "metadata": {
        "id": "kCKXI-BW6Qed"
      },
      "source": [
        "### Declaration of Instance Variable"
      ]
    },
    {
      "cell_type": "code",
      "metadata": {
        "colab": {
          "base_uri": "https://localhost:8080/"
        },
        "id": "lpl2B_yivRAt",
        "outputId": "33d01223-965a-4ee8-9162-21635b174692"
      },
      "source": [
        "# inside the constructor\n",
        "class exam:\n",
        "  def __init__(self,ename,eroll):\n",
        "    self.ename=ename\n",
        "    self.eroll=eroll\n",
        "c1=exam(\"tafl\",11)\n",
        "print(c1.__dict__)"
      ],
      "execution_count": null,
      "outputs": [
        {
          "output_type": "stream",
          "text": [
            "{'ename': 'tafl', 'eroll': 11}\n"
          ],
          "name": "stdout"
        }
      ]
    },
    {
      "cell_type": "code",
      "metadata": {
        "colab": {
          "base_uri": "https://localhost:8080/"
        },
        "id": "niYDuUbBySVp",
        "outputId": "807ee4ba-9099-4439-de35-6b158f283cfe"
      },
      "source": [
        "# inside the instance method\n",
        "class exam:\n",
        "  def __init__(self,ename,eroll):\n",
        "    self.ename=ename\n",
        "    self.eroll=eroll\n",
        "\n",
        "  def einfo(self):\n",
        "    self.eage=45  # inside instance method\n",
        "c1=exam(\"tafl\",11)\n",
        "print(c1.__dict__)\n",
        "c1.einfo()\n",
        "print(c1.__dict__)"
      ],
      "execution_count": null,
      "outputs": [
        {
          "output_type": "stream",
          "text": [
            "{'ename': 'tafl', 'eroll': 11}\n",
            "{'ename': 'tafl', 'eroll': 11, 'eage': 45}\n"
          ],
          "name": "stdout"
        }
      ]
    },
    {
      "cell_type": "code",
      "metadata": {
        "id": "m-I_5jEozFeW",
        "colab": {
          "base_uri": "https://localhost:8080/"
        },
        "outputId": "97c4a5a8-54a8-4c3a-ecc6-d54000cb7272"
      },
      "source": [
        "# outside the class\n",
        "class exam:\n",
        "  def __init__(self,ename,eroll):\n",
        "    self.ename=ename\n",
        "    self.eroll=eroll\n",
        "\n",
        "  def einfo(self):\n",
        "    self.eage=45  # inside instance method\n",
        "c1=exam(\"tafl\",11)\n",
        "print(c1.__dict__)\n",
        "c1.einfo()\n",
        "print(c1.__dict__)\n",
        "c1.eadd=\"meerut\"\n",
        "print(c1.__dict__)"
      ],
      "execution_count": null,
      "outputs": [
        {
          "output_type": "stream",
          "text": [
            "{'ename': 'tafl', 'eroll': 11}\n",
            "{'ename': 'tafl', 'eroll': 11, 'eage': 45}\n",
            "{'ename': 'tafl', 'eroll': 11, 'eage': 45, 'eadd': 'meerut'}\n"
          ],
          "name": "stdout"
        }
      ]
    },
    {
      "cell_type": "markdown",
      "metadata": {
        "id": "pUeQJ90k_jhQ"
      },
      "source": [
        "### Access the instance variable"
      ]
    },
    {
      "cell_type": "code",
      "metadata": {
        "colab": {
          "base_uri": "https://localhost:8080/"
        },
        "id": "DH_-LsuR_YyJ",
        "outputId": "170e830f-3818-4d51-a237-1235025f6253"
      },
      "source": [
        "# with in the class --- self\n",
        "class exam:\n",
        "  def __init__(self,ename,eroll):\n",
        "    self.ename=ename\n",
        "    self.eroll=eroll\n",
        "  def einfo(self):\n",
        "    print(self.ename)\n",
        "    \n",
        "    #print(exam.eroll)--error\n",
        "    self.eage=45  # inside instance method\n",
        "c1=exam(\"tafl\",11)\n",
        "c1.einfo()"
      ],
      "execution_count": null,
      "outputs": [
        {
          "output_type": "stream",
          "name": "stdout",
          "text": [
            "tafl\n"
          ]
        }
      ]
    },
    {
      "cell_type": "code",
      "metadata": {
        "colab": {
          "base_uri": "https://localhost:8080/"
        },
        "id": "3JvLPB-rACoI",
        "outputId": "dcfb7f0c-ea4a-42d2-e511-9dbdbc5311ef"
      },
      "source": [
        "# outside of the class ---refrence varible can access or class name can not access\n",
        "class exam:\n",
        "  def __init__(self,ename,eroll):\n",
        "    self.ename=ename\n",
        "    self.eroll=eroll\n",
        "  def einfo(self):\n",
        "    print(self.ename)\n",
        "    #print(exam.eroll)--error\n",
        "    self.eage=45  # inside instance method\n",
        "c1=exam(\"tafl\",11)\n",
        "c1.einfo()\n",
        "print(c1.ename)\n",
        "\n",
        "\n"
      ],
      "execution_count": null,
      "outputs": [
        {
          "output_type": "stream",
          "text": [
            "tafl\n",
            "tafl\n"
          ],
          "name": "stdout"
        }
      ]
    },
    {
      "cell_type": "markdown",
      "metadata": {
        "id": "px-amJ9MBgTy"
      },
      "source": [
        "### delete instance varible"
      ]
    },
    {
      "cell_type": "code",
      "metadata": {
        "colab": {
          "base_uri": "https://localhost:8080/"
        },
        "id": "5sph51GOA8Fy",
        "outputId": "6e3c5d86-764c-4cd5-a95c-3d3d1818c62b"
      },
      "source": [
        "#del self.varible name\n",
        "class exam:\n",
        "  def __init__(self,ename,eroll):\n",
        "    self.ename=ename\n",
        "    self.eroll=eroll\n",
        "  def einfo(self):\n",
        "    print(self.ename)\n",
        "    #print(exam.eroll)--error\n",
        "    self.eage=45  # inside instance method\n",
        "  def del_instance(self):\n",
        "    del self.ename\n",
        "    del self.eage\n",
        "c1=exam(\"tafl\",11)\n",
        "c1.einfo()\n",
        "print(c1.__dict__)\n",
        "c1.del_instance()\n",
        "print(c1.__dict__)\n"
      ],
      "execution_count": null,
      "outputs": [
        {
          "output_type": "stream",
          "text": [
            "tafl\n",
            "{'ename': 'tafl', 'eroll': 11, 'eage': 45}\n",
            "{'eroll': 11}\n"
          ],
          "name": "stdout"
        }
      ]
    },
    {
      "cell_type": "code",
      "metadata": {
        "colab": {
          "base_uri": "https://localhost:8080/"
        },
        "id": "n6rVVsi3CCSZ",
        "outputId": "838d835f-a69b-492a-cc94-34a286bcf4c6"
      },
      "source": [
        "# delete instance varible outside of the class--del ref varible.varible name\n",
        "class exam:\n",
        "  def __init__(self,ename,eroll):\n",
        "    self.ename=ename\n",
        "    self.eroll=eroll\n",
        "  def einfo(self):\n",
        "    print(self.ename)\n",
        "    #print(exam.eroll)--error\n",
        "    self.eage=45  # inside instance method\n",
        "c1=exam(\"tafl\",11)\n",
        "c1.einfo()\n",
        "print(c1.__dict__)\n",
        "del c1.ename\n",
        "print(c1.__dict__)\n"
      ],
      "execution_count": null,
      "outputs": [
        {
          "output_type": "stream",
          "text": [
            "tafl\n",
            "{'ename': 'tafl', 'eroll': 11, 'eage': 45}\n",
            "{'eroll': 11, 'eage': 45}\n"
          ],
          "name": "stdout"
        }
      ]
    },
    {
      "cell_type": "markdown",
      "metadata": {
        "id": "NT5pSUFLDYNs"
      },
      "source": [
        "### static variable\n",
        "1. declar\n",
        "2. access\n",
        "3. delete\n",
        "4. modify"
      ]
    },
    {
      "cell_type": "markdown",
      "metadata": {
        "id": "ihFWHHtwDicf"
      },
      "source": [
        "### declaration of static variable"
      ]
    },
    {
      "cell_type": "code",
      "metadata": {
        "id": "4QhnGMFjCtqH"
      },
      "source": [
        "# outside of the method\n",
        "class student:\n",
        "  s_clg_name=\"MIET\"  # static varibable\n",
        "  def __init__(self,sname,sroll):\n",
        "    self.sname=sname\n",
        "    self.sroll=sroll\n",
        "s=student(\"vivek\",55)\n"
      ],
      "execution_count": null,
      "outputs": []
    },
    {
      "cell_type": "code",
      "metadata": {
        "id": "VOzqJbXmEOj4"
      },
      "source": [
        "# inside the constructor\n",
        "class student:\n",
        "  s_clg_name=\"MIET\"  # static varibable\n",
        "  def __init__(self,sname,sroll):\n",
        "    self.sname=sname\n",
        "    self.sroll=sroll\n",
        "    student.sage=20  # inside of the constructor with the class name\n",
        "s=student(\"vivek\",55)"
      ],
      "execution_count": null,
      "outputs": []
    },
    {
      "cell_type": "code",
      "metadata": {
        "id": "t5GeZ9rAEsyr"
      },
      "source": [
        "# inside the instance method\n",
        "class student:\n",
        "  s_clg_name=\"MIET\"  # static varibable\n",
        "  def __init__(self,sname,sroll):\n",
        "    self.sname=sname\n",
        "    self.sroll=sroll\n",
        "    student.sage=20  # inside of the constructor with the class name\n",
        "  def info(self): # instance method\n",
        "    student.eadd=\"meerut\" # inside the instance method using classname\n",
        "s=student(\"vivek\",55)"
      ],
      "execution_count": null,
      "outputs": []
    },
    {
      "cell_type": "code",
      "metadata": {
        "colab": {
          "base_uri": "https://localhost:8080/"
        },
        "id": "ZX0-hn8XFEuL",
        "outputId": "9d258072-fcea-4408-bf37-c532cfa44718"
      },
      "source": [
        "# inside the classmethod\n",
        "class student:\n",
        "  s_clg_name=\"MIET\"  # static varibable\n",
        "  def __init__(self,sname,sroll):\n",
        "    self.sname=sname\n",
        "    self.sroll=sroll\n",
        "    student.sage=20  # inside of the constructor with the class name\n",
        "  def info(self): # instance method\n",
        "    student.eadd=\"meerut\" # inside the instance method using classname\n",
        "  @classmethod\n",
        "  def m1(cls):\n",
        "    student.x=30 # with the classname \n",
        "    cls.y=40     # using cls\n",
        "s=student(\"vivek\",55)\n",
        "s.info()\n",
        "\n",
        "s.m1()\n"
      ],
      "execution_count": null,
      "outputs": [
        {
          "output_type": "stream",
          "text": [
            "40\n"
          ],
          "name": "stdout"
        }
      ]
    },
    {
      "cell_type": "code",
      "metadata": {
        "id": "NmRsiv40Fxx0"
      },
      "source": [
        "# inside the static method\n",
        "class student:\n",
        "  s_clg_name=\"MIET\"  # static varibable\n",
        "  def __init__(self,sname,sroll):\n",
        "    self.sname=sname\n",
        "    self.sroll=sroll\n",
        "    student.sage=20  # inside of the constructor with the class name\n",
        "  def info(self): # instance method\n",
        "    student.eadd=\"meerut\" # inside the instance method using classname\n",
        "  @classmethod\n",
        "  def m1(cls):\n",
        "    student.x=30 # with the classname \n",
        "    cls.y=40     # using cls\n",
        "  @staticmethod\n",
        "  def m2():\n",
        "    student.z=99  # using classname\n",
        "s=student(\"vivek\",55)\n",
        "s.info()\n",
        "\n",
        "s.m1()\n",
        "s.m2()\n"
      ],
      "execution_count": null,
      "outputs": []
    },
    {
      "cell_type": "code",
      "metadata": {
        "id": "OCVT8WKfGh5D"
      },
      "source": [
        "# outside of the class\n",
        "class student:\n",
        "  s_clg_name=\"MIET\"  # static varibable\n",
        "  def __init__(self,sname,sroll):\n",
        "    self.sname=sname\n",
        "    self.sroll=sroll\n",
        "    student.sage=20  # inside of the constructor with the class name\n",
        "  def info(self): # instance method\n",
        "    student.eadd=\"meerut\" # inside the instance method using classname\n",
        "  @classmethod\n",
        "  def m1(cls):\n",
        "    student.x=30 # with the classname \n",
        "    cls.y=40     # using cls\n",
        "  @staticmethod\n",
        "  def m2():\n",
        "    student.z=99  # using classname\n",
        "s=student(\"vivek\",55)\n",
        "s.info()\n",
        "s.m1()\n",
        "s.m2()\n",
        "student.a=\"vivek\"\n"
      ],
      "execution_count": null,
      "outputs": []
    },
    {
      "cell_type": "markdown",
      "metadata": {
        "id": "ubPIVLCgHL_2"
      },
      "source": [
        "### accessing static variable"
      ]
    },
    {
      "cell_type": "code",
      "metadata": {
        "colab": {
          "base_uri": "https://localhost:8080/"
        },
        "id": "f0NaSAQXHA1w",
        "outputId": "8ff22929-e706-40e3-98c8-d2c4a38a12b1"
      },
      "source": [
        "class test:\n",
        "  xyz=10\n",
        "  def __init__(self):\n",
        "    test.a=20\n",
        "    print(test.a) # inside the constrictor\n",
        "  def m1(self):\n",
        "    test.b=40\n",
        "    print(test.b)\n",
        "  @classmethod\n",
        "  def m2(cls):\n",
        "    test.c=50\n",
        "    cls.d=60\n",
        "    print(test.c,cls.d)\n",
        "  @staticmethod\n",
        "  def m3():\n",
        "    test.e=70\n",
        "    print(test.e)\n",
        "t=test()\n",
        "t.m1()\n",
        "t.m2()\n",
        "t.m3()\n",
        "print(test.a)\n",
        "print(t.b)\n",
        "print(t.c)"
      ],
      "execution_count": null,
      "outputs": [
        {
          "output_type": "stream",
          "text": [
            "20\n",
            "40\n",
            "50 60\n",
            "70\n",
            "20\n",
            "40\n",
            "50\n"
          ],
          "name": "stdout"
        }
      ]
    },
    {
      "cell_type": "markdown",
      "metadata": {
        "id": "ZEdVnkVma1Ty"
      },
      "source": [
        "### modify static variable"
      ]
    },
    {
      "cell_type": "code",
      "metadata": {
        "id": "mY1UOQniHrci",
        "colab": {
          "base_uri": "https://localhost:8080/"
        },
        "outputId": "c93142eb-f55f-4406-a276-1c41d6afa743"
      },
      "source": [
        "class test:\n",
        "  a=77\n",
        "  def __init__(self):\n",
        "    test.a=20\n",
        "  def m1(self):\n",
        "    test.a=88\n",
        "  \n",
        "  @classmethod\n",
        "  def m2(cls):\n",
        "    test.a=99\n",
        "    cls.a=100\n",
        "  @staticmethod\n",
        "  def m3():\n",
        "    test.a=\"miet\"\n",
        "t=test()\n",
        "t.m3()\n",
        "test.a=\"meerut\"\n",
        "print(test.a)\n",
        "t.a=\"gzb\"\n",
        "print(t.a)\n",
        "print(test.__dict__)\n",
        "\n"
      ],
      "execution_count": null,
      "outputs": [
        {
          "output_type": "stream",
          "text": [
            "meerut\n",
            "gzb\n",
            "{'__module__': '__main__', 'a': 'meerut', '__init__': <function test.__init__ at 0x7f67a22fe200>, 'm1': <function test.m1 at 0x7f67a22fedd0>, 'm2': <classmethod object at 0x7f67a22e56d0>, 'm3': <staticmethod object at 0x7f67a22e5b10>, '__dict__': <attribute '__dict__' of 'test' objects>, '__weakref__': <attribute '__weakref__' of 'test' objects>, '__doc__': None}\n"
          ],
          "name": "stdout"
        }
      ]
    },
    {
      "cell_type": "markdown",
      "metadata": {
        "id": "V7YiayfggFdV"
      },
      "source": [
        "### delete static varible"
      ]
    },
    {
      "cell_type": "code",
      "metadata": {
        "id": "Ijj2bNa1gFID"
      },
      "source": [
        "# del classname.variablename\n",
        "# Do it by yourself uncomment the code and run one by one \n",
        "class info:\n",
        "  cname=\"vivek\"\n",
        "  '''def m1(self):\n",
        "    del info.cname'''\n",
        "  '''@classmethod\n",
        "  def m2(cls):\n",
        "    #del info.cname\n",
        "    del cls.cname'''\n",
        "  '''@staticmethod\n",
        "  def m3():\n",
        "    del info.cname'''\n",
        "i=info()\n",
        "#print(info.cname)\n",
        "#i.m3()\n",
        "#print(info.cname)\n",
        "del info.cname\n",
        "print(info.cname)"
      ],
      "execution_count": null,
      "outputs": []
    },
    {
      "cell_type": "markdown",
      "source": [
        "### Local variable"
      ],
      "metadata": {
        "id": "uI683mi9qqxd"
      }
    },
    {
      "cell_type": "code",
      "source": [
        "# you know wry well local variable\n",
        "# local variables have their scope with in thier body of method where they\n",
        "are declared.\n",
        "class xyz:\n",
        "  def a1(self):\n",
        "    k=10    #  local variable\n",
        "    print(k)\n",
        "  def a2(self):\n",
        "    print(k)\n",
        "s=xyz()\n",
        "s.a1()\n",
        "s.a2()"
      ],
      "metadata": {
        "id": "g9-wrGPgqiot"
      },
      "execution_count": null,
      "outputs": []
    },
    {
      "cell_type": "markdown",
      "source": [
        "## Global Variable\n",
        "* Global varible is related to functional programming\n",
        "not in object oriented programming but we can try if needed."
      ],
      "metadata": {
        "id": "fVNAASWSrlgH"
      }
    },
    {
      "cell_type": "code",
      "metadata": {
        "id": "dXZQa6jTRFH5"
      },
      "source": [
        "# case 1\n",
        "x=10\n",
        "class Gtest:\n",
        "    def m1(self):\n",
        "        print(x)\n",
        "t=Gtest()\n",
        "t.m1()"
      ],
      "execution_count": null,
      "outputs": []
    },
    {
      "cell_type": "code",
      "source": [
        "# Case 2\n",
        "x=10\n",
        "class Gtest:\n",
        "    def m1(self):\n",
        "        print(x)\n",
        "    def m2(self):\n",
        "        print(x)\n",
        "t=Gtest()\n",
        "t.m1()\n",
        "t.m2()"
      ],
      "metadata": {
        "id": "nwFveBnKr3fv"
      },
      "execution_count": null,
      "outputs": []
    },
    {
      "cell_type": "code",
      "source": [
        "# Case 3\n",
        "x=10\n",
        "class Gtest:\n",
        "    x=70   # static variable\n",
        "    def m1(self):\n",
        "        print(x)\n",
        "        print(self.x)\n",
        "    def m2(self):\n",
        "        print(x)\n",
        "        print(Gtest.x)\n",
        "t=Gtest()\n",
        "t.m1()\n",
        "t.m2()"
      ],
      "metadata": {
        "id": "DWoBPpEar3B_"
      },
      "execution_count": null,
      "outputs": []
    },
    {
      "cell_type": "code",
      "source": [
        "# Case 4\n",
        "x=10\n",
        "class Gtest:\n",
        "    x=70 # static variable\n",
        "    def m1(self):\n",
        "        x=88  # local variable\n",
        "        print(x)\n",
        "        print(self.x)\n",
        "    def m2(self):\n",
        "        x=100\n",
        "        print(x)\n",
        "        print(Gtest.x)\n",
        "t=Gtest()\n",
        "t.m1()\n",
        "t.m2()"
      ],
      "metadata": {
        "id": "-8tAgJmDs3cI"
      },
      "execution_count": null,
      "outputs": []
    },
    {
      "cell_type": "code",
      "source": [
        "#Case 5\n",
        "x=10\n",
        "class Gtest:\n",
        "    x=70\n",
        "    def m1(self):\n",
        "        x=88\n",
        "        print(x)\n",
        "    def m2(self):    \n",
        "        print(x)\n",
        "t=Gtest()\n",
        "t.m1()\n",
        "t.m2()\n",
        "print(x)"
      ],
      "metadata": {
        "id": "8uf4GF6Ys3ZH"
      },
      "execution_count": null,
      "outputs": []
    },
    {
      "cell_type": "code",
      "source": [
        "# Case 6\n",
        "x=10\n",
        "class Gtest:\n",
        "    def m1(self):\n",
        "        global x\n",
        "        x=88\n",
        "        print(x)\n",
        "    def m2(self):    \n",
        "        print(x)\n",
        "t=Gtest()\n",
        "t.m1()\n",
        "t.m2()"
      ],
      "metadata": {
        "id": "tKzr0a6Vs3Wp"
      },
      "execution_count": null,
      "outputs": []
    },
    {
      "cell_type": "code",
      "source": [
        "# Case 7\n",
        "x=10\n",
        "class Gtest:\n",
        "    def m1(self):\n",
        "        global x\n",
        "        \n",
        "        print(x)\n",
        "    def m2(self):    \n",
        "        print(x)\n",
        "t=Gtest()\n",
        "t.m1()\n",
        "t.m2()\n",
        "print(x)"
      ],
      "metadata": {
        "id": "G7qGec0LtOkF"
      },
      "execution_count": null,
      "outputs": []
    },
    {
      "cell_type": "code",
      "source": [
        ""
      ],
      "metadata": {
        "id": "hLG9ZaRztON6"
      },
      "execution_count": null,
      "outputs": []
    },
    {
      "cell_type": "markdown",
      "source": [
        "### A small application"
      ],
      "metadata": {
        "id": "bkdlwrW-nlod"
      }
    },
    {
      "cell_type": "code",
      "metadata": {
        "id": "y0L1cnImRFL9"
      },
      "source": [
        "class exam:\n",
        "    def __init__(self,sname,sroll,sage):\n",
        "        self.sname=sname\n",
        "        self.sroll=sroll\n",
        "        self.sage=sage\n",
        "    def info(self):          #instance method\n",
        "        print(\"your name\",self.sname)\n",
        "        print(\"your roll\",self.sroll)\n",
        "        print(\"your age\",self.sage)\n",
        "    def status(self):\n",
        "        if self.sage<20:\n",
        "            print(\"under age\")\n",
        "        elif self.sage>=20 and self.sage<40:\n",
        "            print(\"middleage\")\n",
        "        elif self.sage>=40 and self.sage<90:\n",
        "            print(\"over age\")\n",
        "n=int(input(\"enter number of students\"))\n",
        "for i in range(n):\n",
        "    name=input(\"enter your name\")\n",
        "    roll=int(input(\"enter your roll\"))\n",
        "    age=int(input(\"enter your age\"))\n",
        "\n",
        "    s=exam(name,roll,age)\n",
        "    s.info()\n",
        "    s.status()\n",
        "    print()"
      ],
      "execution_count": null,
      "outputs": []
    },
    {
      "cell_type": "code",
      "metadata": {
        "id": "O9zo8YxARFfU"
      },
      "source": [
        "### A bank Application\n"
      ],
      "execution_count": null,
      "outputs": []
    },
    {
      "cell_type": "code",
      "source": [
        "import sys\n",
        "import re\n",
        "class bank:\n",
        "    bankname=\"PNB\"\n",
        "    def __init__(self,name):\n",
        "        self.name=name\n",
        "        #self.balance=balance\n",
        "    def OpenAccount(self,balance,aadhar):\n",
        "      self.balance=balance\n",
        "      self.aadhar=aadhar\n",
        "      if self.balance>=5000:\n",
        "        print(\"your minimum balance is--\",self.balance)\n",
        "        if re.findall('[0-9]{12}',self.aadhar):\n",
        "          print(\"Your Adhar Number is---\",self.aadhar)\n",
        "        else:\n",
        "          print(\"invalid Adhar, Please try again\")\n",
        "      else:\n",
        "        print(\"invalid Minimum Balance--Try Again\")\n",
        "    def deposit(self,amt):\n",
        "        self.balance=self.balance+amt\n",
        "        print(\"after deposit your balance is\",self.balance)\n",
        "    def withdraw(self,amt):\n",
        "        if amt>self.balance:\n",
        "            print(\"isuuficient amount...plz try again\")\n",
        "        else:\n",
        "            self.balance=self.balance-amt\n",
        "            print(\"after wityhdraw your balance is\",self.balance)\n",
        "print(\"-*\"*20)\n",
        "print(\"Welcome to bank\",bank.bankname)\n",
        "print(\"-*\"*20)\n",
        "name=input(\"enter your name\")\n",
        "print(\"hello\",name)\n",
        "#balance=int(input(\"enter minimum balance\"))\n",
        "#print(\"your minimum balance is\",balance)\n",
        "s=bank(name)\n",
        "print(\"-*\"*20)\n",
        "print(\"For New Customer --please open account first\")\n",
        "option=input(\"Type small oh (o) Or capital oh (O) for open the account\")\n",
        "if option=='o' or option=='O':\n",
        "  m=input(\"enter your aadahar number\")\n",
        "  balance=int(input(\"enter minimum balance\"))\n",
        "  s.OpenAccount(balance,m)\n",
        "while True:\n",
        "    print(\"-*\"*20)\n",
        "    print(\"please select the proper option for banking\\n\")\n",
        "    print(\"d---deposite\\nw---withdraw\\ne--exit\")\n",
        "    print(\"-*\"*20)\n",
        "    option=input(\"now enter your option\")\n",
        "    \n",
        "    if option=='d' or option=='D':\n",
        "        amt=int(input(\"enter yor amount to deposit\"))\n",
        "        s.deposit(amt)\n",
        "        \n",
        "    elif option=='w' or option=='W':\n",
        "        amt=int(input(\"enter yor amount to withdraw\"))\n",
        "        #s=bank(name)\n",
        "        s.withdraw(amt)\n",
        "    elif option=='e' or option=='E':\n",
        "        print(\"--thank you for banking with PNB--\")\n",
        "        sys.exit()\n",
        "    else:\n",
        "        print(\"please select correct option\")"
      ],
      "metadata": {
        "id": "a-xoMl13vIv0"
      },
      "execution_count": null,
      "outputs": []
    },
    {
      "cell_type": "markdown",
      "metadata": {
        "id": "Xlo8WqZQRbrL"
      },
      "source": [
        "###Static method"
      ]
    },
    {
      "cell_type": "code",
      "metadata": {
        "id": "FiVMfk2JRfJg"
      },
      "source": [
        "class test:\n",
        "    @staticmethod\n",
        "    def add(x,y):\n",
        "        print(\"sum\",x+y)\n",
        "    @staticmethod\n",
        "    def sub(x,y):\n",
        "        print(\"sub\",x-y)\n",
        "    @staticmethod\n",
        "    def mul(x,y):\n",
        "        print(\"mul\",x*y)\n",
        "test.add(10,20)\n",
        "test.sub(10,20)\n",
        "test.mul(10,20)"
      ],
      "execution_count": null,
      "outputs": []
    },
    {
      "cell_type": "markdown",
      "metadata": {
        "id": "nEAEmNxlRHGK"
      },
      "source": [
        "###instance method vs class method\n",
        "1. inside method body if we are using atleast one instance variable then compulsory\n",
        " we should declare that method as instance method\n",
        "inside method body,if we are using only static varibles then it   is recommended\n",
        "to declare that method as class method\n",
        "2. to declare instance method we are not requiered to use any kind of decorator\n",
        "To declare class method it is compulsory to use @classmethod decorator\n",
        "3. the first argumnet in the instance method should be self and by using self ,\n",
        "we can access instance variable inside the method using self. \n",
        "which is refernce to current object.\n",
        "the first argumnet must be cls, which is reference to the current class object and\n",
        " by using cls we can access static varibles\n",
        "4.inside instance method. we can access both instance varibles and static varibles\n",
        "inside class method ,we can access only static bariables and can not access\n",
        "instance varibles\n",
        "5. we can call instance method by using object reference \n",
        "we can call classmethod by using object reference and class name both, but recommmended class name."
      ]
    },
    {
      "cell_type": "markdown",
      "metadata": {
        "id": "g-iQs9oeRj5K"
      },
      "source": [
        "###instance method vs class method vs static method\n",
        "1. if we are using instance varibles ,inside method body then we should go for\n",
        "instance method. we should call using object refrence.\n",
        "2. if we are using static variables inside the method body then this method no way \n",
        "related to a particular object , we sholud declare such type of methods as class method\n",
        ".we can call then by the class name or using object refrence.\n",
        "3..if we are using not instance varibles and not using static variables indide the\n",
        " method body ,to declare such type of general purpose utiliy method we\n",
        "should use static method . we can call either by object reference or classname."
      ]
    },
    {
      "cell_type": "markdown",
      "metadata": {
        "id": "iGeh4qRHTTdk"
      },
      "source": [
        "###if we are not using any decorator \n",
        "---------------------------------------\n",
        "then is it instance method or class method or static method\n",
        "\n",
        "*   class method ----\n",
        "  it is mandatory to use @classmethod decorator\n",
        "*   static method---it is optional to use @staticmethod decorator\n",
        "\n",
        "\n",
        "\n",
        "  \n",
        "\n",
        "so it can be a instance method or static method if you are not using any decorator"
      ]
    },
    {
      "cell_type": "markdown",
      "source": [
        "## Getter and Setter Method\n",
        "* if we don't want to use constructor then we can use setter method\n",
        "* it is use for security purpose or we can say for data hiding\n",
        "* the sytax is same as instance method\n",
        "* Setter---> To set the data to the object\n",
        "* getter---> To get the data from the object\n",
        "\n",
        "### For setter method\n",
        "### def  setvariablename(self, variablename):\n",
        "           \n",
        "\n",
        "> ### self.variablename=variablename\n",
        "\n",
        "def setvariablename(self,variablename1,variablename2,....)is also work .\n",
        "\n",
        "\n",
        "but recomended only is-- \n",
        "\n",
        "### def  setvariablename(self, variablename) only one argument\n",
        "\n"
      ],
      "metadata": {
        "id": "_iDnsT0_Cw0W"
      }
    },
    {
      "cell_type": "markdown",
      "source": [
        "### for the Getter method-\n",
        "### def getvariablename(self):--no need of argument because we are getting the value"
      ],
      "metadata": {
        "id": "mxhXOivIEwEt"
      }
    },
    {
      "cell_type": "markdown",
      "source": [
        "now lets understand both instance method , for this purpose we will start from without these instance method\n",
        "after that we will add these fuction for understanding"
      ],
      "metadata": {
        "id": "WukiPeQZFEzF"
      }
    },
    {
      "cell_type": "code",
      "metadata": {
        "id": "mpGauaZoRRwU"
      },
      "source": [
        "class exam:\n",
        "    def __init__(self,sname,sroll,sage):\n",
        "        self.sname=sname\n",
        "        self.sroll=sroll\n",
        "        self.sage=sage\n",
        "e=exam(\"vivek\",200,38)"
      ],
      "execution_count": null,
      "outputs": []
    },
    {
      "cell_type": "markdown",
      "source": [
        "above we have construct a constructor for the class exam. and we create an object for the same.\n",
        "\n",
        "\n",
        "and we provided the values vivek ,200 and 38.this is the one way.\n",
        "but some time we want we create an empty object like"
      ],
      "metadata": {
        "id": "DhY-FuJ1FRjQ"
      }
    },
    {
      "cell_type": "markdown",
      "source": [
        "###  e=exam()"
      ],
      "metadata": {
        "id": "kDkMesq-Feqr"
      }
    },
    {
      "cell_type": "markdown",
      "source": [
        "now you want to set the value for the sname ,sroll and sage field so use\n",
        "\n",
        "### e.setSname('kumar')\n",
        "### e.setSroll(300)\n",
        "### e.setSage(29)\n",
        "\n",
        "so this for set the name\n",
        "\n",
        "\n",
        "but for get the name you should use like--\n",
        "### e.getSname()\n",
        "### e.getSroll()\n",
        "### e.getSage()"
      ],
      "metadata": {
        "id": "NPfIzXAjFkNJ"
      }
    },
    {
      "cell_type": "markdown",
      "source": [
        "### so getter method is responsible for get the sname,sroll ,and sage values.\n",
        "### now you can say that setter and getter method is alternative of constructor method.lets take a look below-"
      ],
      "metadata": {
        "id": "TP7ZtKp5F614"
      }
    },
    {
      "cell_type": "code",
      "source": [
        "class exam:\n",
        "    def setname(self,name):\n",
        "        self.name=name\n",
        "    def setroll(self,roll):\n",
        "        self.roll=roll\n",
        "    def setage(self,age):\n",
        "        self.age=age\n",
        "    def getall(self):\n",
        "        return self.name,self.roll,self.age\n",
        "e=exam()\n",
        "e.setname(\"vivek\")\n",
        "e.setroll(88)\n",
        "e.setage(99)\n",
        "print(\"hello\",e.getall())"
      ],
      "metadata": {
        "colab": {
          "base_uri": "https://localhost:8080/"
        },
        "id": "vKaL50Q7GDpt",
        "outputId": "ec87c96c-6e84-4754-efc5-87240513f306"
      },
      "execution_count": null,
      "outputs": [
        {
          "output_type": "stream",
          "name": "stdout",
          "text": [
            "hello ('vivek', 88, 99)\n"
          ]
        }
      ]
    },
    {
      "cell_type": "markdown",
      "source": [
        "* if you want to access the data then there are big difference below two things-\n",
        "\n",
        "1. print(e.roll)\n",
        "2. print(e.getroll())\n",
        ">def getall(self):\n",
        ">>validation \n",
        "\n",
        ">>return self.roll\n",
        "\n",
        "### print(e.roll)#1. \n",
        "### it is the direct access no validation is there\n",
        "                  \n",
        "### print(e.getroll())#2.  \n",
        "### when you want getter method then it need validation in get method see above in get method\n",
        "### but if you once enter in the get method it is easily work, ckeck it\n",
        "\n",
        "### so it is hiding data behind the method which is encapsulation so with the encapsulation the security increased\n",
        "### but the lenght of the code is incresed and performance is also efected with encapsulation\n",
        "### we cannot use validation in the constructor because constructor purpose is to declare and initialise "
      ],
      "metadata": {
        "id": "m3X3NwbjGhtR"
      }
    },
    {
      "cell_type": "markdown",
      "source": [
        ""
      ],
      "metadata": {
        "id": "eWB9iehsJ8gi"
      }
    },
    {
      "cell_type": "markdown",
      "source": [
        "## How to Access member of one class inside the another class\n"
      ],
      "metadata": {
        "id": "OOZvZsNcMgjW"
      }
    },
    {
      "cell_type": "code",
      "source": [
        "class student:\n",
        "    def __init__(sef,sname,sroll,sfee):\n",
        "        self.sname=sname\n",
        "        self.sroll=sroll\n",
        "        self.sfee=sfee\n",
        "    def info(self):           #this is instance method\n",
        "        print(\"student\",self.sname)\n",
        "        print(\"student roll number\",self.sroll)\n",
        "        print(\"student fee \",self.sfee)\n",
        "class exam:\n",
        "    def display(stu):               #this is static method not instance because\n",
        "                                    #you are not using argument 'self' so it is considered as static\n",
        "                                    #it is not the class method because @classmethod decorator is not used\n",
        "        stu.sfee =stu.sfee+50   #here we increment the fee\n",
        "        stu.info()              #here we are calling info()method from other class\n",
        "                                    # so there are two classes first is student and second is exam\n",
        "s=student(\"vivek\",34,500)   #we are creating student object\n",
        "exam.display(s)             #here we call display and use the ref .variable of student object as argument\n",
        "                     #display is 100% static method because we are accesing it by class name not by refrence.\n",
        "                     # are we understand what happen above?"
      ],
      "metadata": {
        "id": "3fr_OZEFMrvT"
      },
      "execution_count": null,
      "outputs": []
    },
    {
      "cell_type": "markdown",
      "source": [
        "1. we create an object for the class 'student' with refrence variable 's'\n",
        "2. then we call the exam.display(s) means we call the display method of class exam with argument s\n",
        "3. when we call the method dispaly of exam class with passing argument 's' ---\n",
        "\n",
        "def display(stu): \n",
        "\n",
        "now here the argument 'stu' is 's' and 's' is student class object \n",
        "\n",
        "**stu.sfee=stu.sfee+50** here you can think code as  **(s.sfee=s.sfee+50)** so we are just modifying instance variable.\n",
        "                  \n",
        "**stu.info()**  here you can think code is**(s.info())** so it will gives the updated result of info()method\n",
        "\n",
        "4.the output is--\n",
        "\n",
        "  student vivek\n",
        "\n",
        "  student roll number 34\n",
        "\n",
        "  student fee  550\n",
        "\n",
        "\n",
        "so above we are acceisng the student class instance variable and methods means we are accessing the members of other class inside the another class.\n"
      ],
      "metadata": {
        "id": "MTdu2G47MnQt"
      }
    },
    {
      "cell_type": "markdown",
      "source": [
        "## What is inner class\n",
        "\n",
        "------------------------\n",
        "### class which is declare inside another class\n",
        "when we go for inner classes--\n",
        "\n",
        "* without existence one type of object if there is no chance of existing another type of object then we should go for \n",
        "the inner classes.\n",
        "\n"
      ],
      "metadata": {
        "id": "eOME7cMiPhuA"
      }
    },
    {
      "cell_type": "markdown",
      "source": [
        "we can think it as if there is a car then there must be an engin there \n",
        "\n",
        "because if there is no car then what is the use of engin\n",
        "so here car is outer class and engin is inner class\n",
        "\n",
        "class Car:------------------------outer class\n",
        "        :\n",
        ">>class Engin:---------------inner class\n",
        "         :\n",
        "\n"
      ],
      "metadata": {
        "id": "6n54hTiKPlpP"
      }
    },
    {
      "cell_type": "markdown",
      "source": [
        "another way to understanding is that if there is a humun body then there must be brain \n",
        "\n",
        "what is the role of brain without body  \n",
        "\n",
        "so here body is outer class and brain is inner class\n",
        "\n",
        "class Body:----------Outer class\n",
        ">>class Brain:------inner class\n",
        "             :"
      ],
      "metadata": {
        "id": "-3jCxobNPlme"
      }
    },
    {
      "cell_type": "markdown",
      "source": [
        "lets under stand one more time assume there is an university and there are many departments in university\n",
        "\n",
        "if there is no university then what is the use of department\n",
        "so here body is outer class and brain is inner class\n",
        "\n",
        "class University:---------------------outer class\n",
        "             \n",
        ">>class Department:-------------inner class\n",
        "             \n",
        "so we can understand it without existing outer class there is no chance of existence of inner class object\n",
        "\n",
        "inner class object is always associated with outer class object.\n",
        "lets take an example for the undrstanding--"
      ],
      "metadata": {
        "id": "EwOLKQ4jdL-x"
      }
    },
    {
      "cell_type": "code",
      "source": [
        "class outer:\n",
        "    def __init__(self):\n",
        "        print(\"i am in outer calss\")\n",
        "    class inner:\n",
        "        def __init__(self):\n",
        "            print(\"i m in inner calss\")\n",
        "        def x1(self):\n",
        "            print(\"i am inner class method\")\n",
        "i=inner() # it will give an error \n",
        "          # NameError: name 'inner' is not defined"
      ],
      "metadata": {
        "id": "l92py-Gjd7UC"
      },
      "execution_count": null,
      "outputs": []
    },
    {
      "cell_type": "code",
      "source": [
        ""
      ],
      "metadata": {
        "id": "4cdCDQIheNAZ"
      },
      "execution_count": null,
      "outputs": []
    },
    {
      "cell_type": "markdown",
      "source": [
        "in this example outer class contain one constructor and inner class contains one constructor and a method\n",
        "\n",
        "if you try to create object of inner class then it will produce error.\n",
        "\n",
        "i=inner()    it will not work you can try, **because existing outer class object there is no chance for inner class object**\n",
        "\n",
        "so we can understand if we want to create object of inner class and want to access innerclass method then you can use \n",
        "following ways-"
      ],
      "metadata": {
        "id": "SCiBlkbpeIX5"
      }
    },
    {
      "cell_type": "markdown",
      "source": [
        "First way--\n",
        "\n",
        "1. cerate object for outer class like\n",
        "       o=outer()-------------run the code\n",
        "\n",
        "2. now with this create inner class object\n",
        "       i=o.inner()-----------run the code\n",
        "\n",
        "3. now inner object is reay so call x1 by\n",
        "      i.x1()--------------run the code"
      ],
      "metadata": {
        "id": "MeCG_SJNeoaT"
      }
    },
    {
      "cell_type": "markdown",
      "source": [
        "### First Way"
      ],
      "metadata": {
        "id": "c3J5pNeDfOVP"
      }
    },
    {
      "cell_type": "code",
      "source": [
        "class outer:\n",
        "    def __init__(self):\n",
        "        print(\"i am in outer calss\")\n",
        "    class inner:\n",
        "        def __init__(self):\n",
        "            print(\"i m in inner calss\")\n",
        "        def x1(self):\n",
        "            print(\"i am inner class method\")\n",
        "print(\"first way\")\n",
        "o=outer()\n",
        "i=o.inner()\n",
        "i.x1()"
      ],
      "metadata": {
        "colab": {
          "base_uri": "https://localhost:8080/"
        },
        "id": "1IpKO6zxe6lL",
        "outputId": "5f256690-ff69-4642-d839-c02663803ac0"
      },
      "execution_count": null,
      "outputs": [
        {
          "output_type": "stream",
          "name": "stdout",
          "text": [
            "first way\n",
            "i am in outer calss\n",
            "i m in inner calss\n",
            "i am inner class method\n"
          ]
        }
      ]
    },
    {
      "cell_type": "markdown",
      "source": [
        "### Second way"
      ],
      "metadata": {
        "id": "UfFi07T_fEqj"
      }
    },
    {
      "cell_type": "code",
      "source": [
        "class outer:\n",
        "    def __init__(self):\n",
        "        print(\"i am in outer calss\")\n",
        "    class inner:\n",
        "        def __init__(self):\n",
        "            print(\"i m in inner calss\")\n",
        "        def x1(self):\n",
        "            print(\"i am inner class method\")\n",
        "print(\"first way\")\n",
        "print(\"*\"*20)\n",
        "o=outer()\n",
        "i=o.inner()\n",
        "i.x1()\n",
        "print(\"*\"*20)\n",
        "print(\"second way\")\n",
        "print(\"*\"*20)\n",
        "#next way is below\n",
        "i=outer().inner()\n",
        "i.x1()\n"
      ],
      "metadata": {
        "id": "Fpxl4YUFe82i"
      },
      "execution_count": null,
      "outputs": []
    },
    {
      "cell_type": "markdown",
      "source": [
        "### Trird way"
      ],
      "metadata": {
        "id": "8iTQZbbBfv_z"
      }
    },
    {
      "cell_type": "code",
      "source": [
        "class outer:\n",
        "    def __init__(self):\n",
        "        print(\"i am in outer calss\")\n",
        "    class inner:\n",
        "        def __init__(self):\n",
        "            print(\"i m in inner calss\")\n",
        "        def x1(self):\n",
        "            print(\"i am inner class method\")\n",
        "print(\"first way\")\n",
        "print(\"*\"*20)\n",
        "o=outer()\n",
        "i=o.inner()\n",
        "i.x1()\n",
        "print(\"*\"*20)\n",
        "print(\"second way\")\n",
        "print(\"*\"*20)\n",
        "#next way is below\n",
        "i=outer().inner()\n",
        "i.x1()\n",
        "print(\"*\"*20)\n",
        "print(\"third way\")\n",
        "print(\"*\"*20)\n",
        "#next way--\n",
        "outer().inner().x1()"
      ],
      "metadata": {
        "id": "odeZH1JufyBd"
      },
      "execution_count": null,
      "outputs": []
    },
    {
      "cell_type": "markdown",
      "source": [
        "### example ---in this example we use'#\" for the procedure steps"
      ],
      "metadata": {
        "id": "KNMAgUX_gxAZ"
      }
    },
    {
      "cell_type": "code",
      "source": [
        "\n",
        "class person:\n",
        "    def __init__(self):\n",
        "        self.name=\"vivek\"\n",
        "        self.dob=self.DOB()#2 it will create object DOB\n",
        "    def displaydob(self):\n",
        "        print(\"your name is\",self.name)\n",
        "        self.dob.display()#3 when it call then link goes to # 4\n",
        "        #self.DOB().display()  <--you can use this also if you use it then it will work as # 3\n",
        "    class DOB:\n",
        "        def __init__(self):\n",
        "            self.dd=\"20\"\n",
        "            self.mm=\"07\"\n",
        "            self.yyyy=\"1981\"\n",
        "        def display(self):   # 4 here it print the date\n",
        "            print(\"{}/{}/{}\".format(self.dd,self.mm,self.yyyy))\n",
        "o=person()# 1 it will execute constructor\n",
        "o.displaydob()#3 now it wll call displaydob (see up)\n"
      ],
      "metadata": {
        "id": "QvghaxH8guQG"
      },
      "execution_count": null,
      "outputs": []
    },
    {
      "cell_type": "markdown",
      "source": [
        "***when we create the object,*** \n",
        "\n",
        "***construcor will execute autometically, DOB() object is also created internally***,\n",
        "\n",
        "***now if we call o.displaydob() method, it will print name of the person***\n",
        "\n",
        "***then it will call self.dob.display() method and then print the date which you mentioned.***"
      ],
      "metadata": {
        "id": "4PfFVu9ig8BR"
      }
    },
    {
      "cell_type": "markdown",
      "source": [
        "### lets take an another example--"
      ],
      "metadata": {
        "id": "Gk88bcygh2Bg"
      }
    },
    {
      "cell_type": "code",
      "source": [
        "\n",
        "class human:\n",
        "    def __init__(self):\n",
        "        #self.name=name\n",
        "        self.hand=self.HAND()\n",
        "        self.brain=self.BRAIN()\n",
        "    def cllname(self):\n",
        "        print(self.name)\n",
        "    class HAND:\n",
        "        def __init__(self):\n",
        "            self.right=\"right\"\n",
        "            self.left=\"left\"\n",
        "        def working(self):\n",
        "            print(\"you have one {} hand\".format(self.right))\n",
        "            print(\"you have one {} hand\".format(self.left))\n",
        "    class BRAIN:\n",
        "        def __init__(self):\n",
        "            self.thin=\"thin\"\n",
        "        def think(self):\n",
        "            print(\"you have one brain which can think{}\".format(self.thin))\n",
        "h=human()\n",
        "#h.cllname()\n",
        "i2=h.BRAIN()\n",
        "i2.think()        \n",
        "i1=h.HAND()\n",
        "i1.working()\n",
        "#second way to access\n",
        "human().HAND().working()\n",
        "human().BRAIN().think() "
      ],
      "metadata": {
        "id": "S60TgjZqh8r4"
      },
      "execution_count": null,
      "outputs": []
    },
    {
      "cell_type": "markdown",
      "source": [
        "### Question can we call the outer class method by the inner class --\n",
        "\n",
        "No, you can not do that lets take an example if there is a car(outer class) having functionalty like break,gear,seats etc.\n",
        "\n",
        "then how an engin(inner class) can access these functionalty. ***so inner class can not call the outer class methods.***\n"
      ],
      "metadata": {
        "id": "Gr_zl7kqinMo"
      }
    },
    {
      "cell_type": "code",
      "source": [
        "\n",
        "class outer:\n",
        "    def __init__(self):\n",
        "        print(\"i am in outer calss\")\n",
        "    def x2():                   # this is static method so call it with classname\n",
        "        print(\"hi i am outer method\")\n",
        "    class inner:\n",
        "        def __init__(self):\n",
        "            print(\"i m in inner calss\")\n",
        "        def x1(self):\n",
        "            print(\"i am inner class method\")\n",
        "o=outer()\n",
        "i=o.inner()\n",
        "i.x1()\n",
        "# first uncomment the below i.x2() because it will not work\n",
        "# then comment it \n",
        "#i.x2()---# here it will produce error---'inner' object has no attribute 'x2'\n",
        "\n",
        "# so if you want outer class functionality then use \n",
        "outer.x2() # it will run\n"
      ],
      "metadata": {
        "colab": {
          "base_uri": "https://localhost:8080/"
        },
        "id": "BwEE9W6Cilvu",
        "outputId": "cffeefed-ccfb-4a5e-c2f9-4742fa0df83e"
      },
      "execution_count": null,
      "outputs": [
        {
          "output_type": "stream",
          "name": "stdout",
          "text": [
            "i am in outer calss\n",
            "i m in inner calss\n",
            "i am inner class method\n",
            "hi i am outer method\n"
          ]
        }
      ]
    },
    {
      "cell_type": "markdown",
      "source": [
        "### NESTED INNER CLASS: \n",
        "lets try for nested inner class,\n",
        " \n",
        "***in the below example we have taken a class(outer class)namely human,***\n",
        "\n",
        "***and one inner class HAND and one nested inner class BRAIN***"
      ],
      "metadata": {
        "id": "VQUqfh6ZkEwX"
      }
    },
    {
      "cell_type": "code",
      "source": [
        "\n",
        "class human:\n",
        "    def __init__(self):\n",
        "        self.name=\"human\"\n",
        "        self.hand=self.HAND()\n",
        "        #self.brain=self.BRAIN() here human cant see brain so use it in HAND\n",
        "        # Beacause it is in inner class of HAND\n",
        "    def cllname(self):\n",
        "        print(\"hi \",self.name)\n",
        "    class HAND:\n",
        "        def __init__(self):\n",
        "            self.right=\"right\"\n",
        "            self.left=\"left\"\n",
        "            self.brain=self.BRAIN()#here\n",
        "        def working(self):\n",
        "            print(\"you have one {} hand\".format(self.right))\n",
        "            print(\"you have one {} hand\".format(self.left))\n",
        "        class BRAIN:\n",
        "            def __init__(self):\n",
        "                self.thin=\"thin\"\n",
        "            def think(self):\n",
        "                print(\"you have one brain which can think{}\".format(self.thin))\n",
        "h=human()\n",
        "h.cllname()    \n",
        "i1=h.HAND()#HAND object\n",
        "i1.working()\n",
        "i2=i1.BRAIN()#BRAIN object\n",
        "i2.think()\n",
        "\n",
        "#second way to access\n",
        "human().HAND().working()\n",
        "human().HAND().BRAIN().think()"
      ],
      "metadata": {
        "id": "8pOiImAmkBEE"
      },
      "execution_count": null,
      "outputs": []
    },
    {
      "cell_type": "markdown",
      "source": [
        "### Nested Method:(not in java)\n",
        "-------------------\n",
        "***inside a method if any functionality is required multiple time, then write that functionality inside the another method***\n",
        "\n",
        "***and now you can call that method multiple time.***\n",
        "\n",
        "for example "
      ],
      "metadata": {
        "id": "Jp0trEJQlGah"
      }
    },
    {
      "cell_type": "code",
      "source": [
        "\n",
        "class quest:\n",
        "      def x1(a,b):\n",
        "          print(\"the value of a\",a)\n",
        "          print(\"the value of b\",b)       \n",
        "          print(\"the value of a+b\",a+b)\n",
        "s=quest()\n",
        "x1(2,3)\n",
        "x1(3,4)\n",
        "x1(5,6)\n",
        "x1(99,29) \n",
        "\n"
      ],
      "metadata": {
        "id": "u-XKRPmtlEna"
      },
      "execution_count": null,
      "outputs": []
    },
    {
      "cell_type": "markdown",
      "source": [
        "***and so on so  you call x1 many times you are using same functionality many times***\n",
        "\n",
        "now undersatnd the value of ***nested method*** by an example"
      ],
      "metadata": {
        "id": "BnCccnSVlmd_"
      }
    },
    {
      "cell_type": "code",
      "source": [
        "class quest:\n",
        "    def x1(self):\n",
        "        def working(a,b):\n",
        "            print()\n",
        "            print(\"value a\",a)\n",
        "            print(\"value b\",b)                    -------->write once\n",
        "            print(\"subtraction a-b\",a-b)\n",
        "            print(\"end of functinality\")\n",
        "        working(20,12)-----THIS IS IN x1()\n",
        "        working(25,5)-----THIS IS IN x1()    -----------------> call multiple\n",
        "        working(77,10)-----THIS IS IN x1()\n",
        "s=quest()\n",
        "s.x1()\n",
        "\n"
      ],
      "metadata": {
        "id": "vSdQPATGlnDA"
      },
      "execution_count": null,
      "outputs": []
    },
    {
      "cell_type": "markdown",
      "source": [
        "### advantage are\n",
        "--code reusability\n",
        "\n",
        "---wirite once , call multiple times"
      ],
      "metadata": {
        "id": "FPMq9_1ol8aK"
      }
    },
    {
      "cell_type": "markdown",
      "metadata": {
        "id": "_RpqxvosiS4b"
      },
      "source": [
        "# polymorphism\n",
        "1. poly--many\n",
        "2. morphs--forms\n",
        "\n",
        "one name multiple forms. to understand it you can think yourself means\n",
        "when you are in home your behaviour is different but when you are out side of home then your behaviour is different \n",
        "\n",
        "3. +---addition (two number), concatenate(two string)\n",
        "4. *---multiplication(two number) , repetition operator(vivek *3)"
      ]
    },
    {
      "cell_type": "markdown",
      "metadata": {
        "id": "ImZlzE_Yjhll"
      },
      "source": [
        "# overloading\n",
        "1. operator overloading\n",
        "2. method overloading\n",
        "3. constructor overloading"
      ]
    },
    {
      "cell_type": "markdown",
      "source": [
        "* remember python support only operator overloading but it does not supprt method and constructor overloading.\n",
        "\n",
        "what is overloading: lets take an example \n",
        "### 1+2=3 here + operator is working as addtion\n",
        "### \"vivek\"+\"kumar\"=vivekkumar    here + opretator is working as string concatenation\n",
        "\n",
        "### 2*3=6  here * operator doing multiplication\n",
        "### \"vivek\"*3=vivekvivekvivek\there * operator working as repetition operator\n",
        "\n",
        "so above is showing that same operator at different time have different behaviour.\n",
        "\n",
        "**operator overloding:** (java don't have operator overloading)\n",
        "+,*,<,<=,>,>= any operator, you can use any operator for your own purpose.\n",
        "\n",
        " (**same operator different purpose** then it is operator overloading) .\n",
        " \n",
        "lets take and example to understand it in a better way."
      ],
      "metadata": {
        "id": "ATwe25__QILm"
      }
    },
    {
      "cell_type": "code",
      "metadata": {
        "colab": {
          "base_uri": "https://localhost:8080/"
        },
        "id": "AqjOMlMBic_4",
        "outputId": "6d8fab0c-26fb-4cdf-cb02-38697464357d"
      },
      "source": [
        "# operator overloading\n",
        "a=10\n",
        "b=30\n",
        "print(a+b)\n",
        "print(int.__add__(a,b))\n",
        "c=\"vivek\"\n",
        "d=\"kumar\"\n",
        "print(c+d)\n",
        "print(str.__add__(c,d))\n"
      ],
      "execution_count": null,
      "outputs": [
        {
          "output_type": "stream",
          "name": "stdout",
          "text": [
            "40\n",
            "40\n",
            "vivekkumar\n",
            "vivekkumar\n"
          ]
        }
      ]
    },
    {
      "cell_type": "code",
      "metadata": {
        "colab": {
          "base_uri": "https://localhost:8080/"
        },
        "id": "UcThZVShjyPo",
        "outputId": "0963be98-6ebc-464a-bed3-e53416a4cfaf"
      },
      "source": [
        "a=10\n",
        "b=2\n",
        "print(10*2)\n",
        "print(int.__mul__(a,b))"
      ],
      "execution_count": null,
      "outputs": [
        {
          "output_type": "stream",
          "text": [
            "20\n",
            "20\n"
          ],
          "name": "stdout"
        }
      ]
    },
    {
      "cell_type": "code",
      "metadata": {
        "id": "EYXCW-vNkF5Z"
      },
      "source": [
        "deposit(dd)\n",
        "deposit(cash,name)\n",
        "deposit(cheque)"
      ],
      "execution_count": null,
      "outputs": []
    },
    {
      "cell_type": "markdown",
      "source": [
        ""
      ],
      "metadata": {
        "id": "pYTIeqgIR-pX"
      }
    },
    {
      "cell_type": "code",
      "source": [
        "class Money:\n",
        "  def __init__(self,Rs):\n",
        "    self.Rs=Rs\n",
        "  \n",
        "t1=Money(100)\n",
        "t2=Money(200)\n",
        "print(t1+t2)"
      ],
      "metadata": {
        "id": "QIO81-yHSZBi"
      },
      "execution_count": null,
      "outputs": []
    },
    {
      "cell_type": "markdown",
      "source": [
        "## is above example work?\n",
        "\n",
        "No it will produce an error---TypeError: unsupported operand type(s) for +: 'Money' and 'Money'\n",
        "\n",
        "basically you are using \"+\" operator in between Money objects \n",
        "here t1 and t2 are not numbers and \n",
        "\n",
        "t1 and t2 are not string also. \n",
        "\n",
        "**bot t1 and t2 are Money objects thats why error is produced.**\n",
        "\n",
        "so our question is -can we extend + operator usage for this Money objects?\n",
        "\n",
        "Yes , if your language support operator overloading then you can extend.\n",
        "\n",
        "there are some special methods(Magic Method) which extend operator overloading--\n",
        "\n",
        "**for +-----  _ _ add_ _(self,other)**\n",
        "\n",
        "### t1+t2 then t1 will treated as self and t2 will treat as other"
      ],
      "metadata": {
        "id": "iK_P1OGMSuyv"
      }
    },
    {
      "cell_type": "code",
      "metadata": {
        "colab": {
          "base_uri": "https://localhost:8080/"
        },
        "id": "zeE3Tf5vko0L",
        "outputId": "d4d0eb25-2822-4e4e-bc36-3df1edbec88b"
      },
      "source": [
        "class Money:\n",
        "  def __init__(self,Rs):\n",
        "    self.Rs=Rs\n",
        "  def __add__(self,other):\n",
        "    return self.Rs+other.Rs\n",
        "\n",
        "t1=Money(100)\n",
        "t2=Money(200)\n",
        "\n",
        "print(\"the total nuber of pages :\",t1+t2)"
      ],
      "execution_count": null,
      "outputs": [
        {
          "output_type": "stream",
          "name": "stdout",
          "text": [
            "the total nuber of pages : 300\n"
          ]
        }
      ]
    },
    {
      "cell_type": "markdown",
      "source": [
        "### Now take a look below codes carefully to understand the things"
      ],
      "metadata": {
        "id": "f8ZOO1NTT9HM"
      }
    },
    {
      "cell_type": "code",
      "source": [
        "# Before run guess the output by yourself then run\n",
        "class Money:\n",
        "    def __init__(self,Rs):\n",
        "        self.Rs=Rs\n",
        "    def __add__(self,other):\n",
        "        return self.Rs+other.Rs\n",
        "t1=Money(100)\n",
        "t2=Money(200)\n",
        "t3=Money(300)\n",
        "print(t1+t2)\n",
        "print(t2+t3)\n",
        "print(t3+t1)"
      ],
      "metadata": {
        "id": "vVltpA_GUGxR"
      },
      "execution_count": null,
      "outputs": []
    },
    {
      "cell_type": "markdown",
      "source": [
        "### now guess the result for the below code-"
      ],
      "metadata": {
        "id": "2gqXbPPEUwzR"
      }
    },
    {
      "cell_type": "code",
      "source": [
        "class Money:\n",
        "    def __init__(self,Rs):\n",
        "        self.Rs=Rs\n",
        "    def __add__(self,other):\n",
        "        return self.Rs+other.Rs\n",
        "t1=Money(100)\n",
        "t2=Money(200)\n",
        "t3=Money(300)\n",
        "print(t1+t2+t3)"
      ],
      "metadata": {
        "colab": {
          "base_uri": "https://localhost:8080/",
          "height": 200
        },
        "id": "0uzSOUdfUGXW",
        "outputId": "5855c959-0e51-4e0a-eabf-ac4c65fba64f"
      },
      "execution_count": null,
      "outputs": [
        {
          "output_type": "error",
          "ename": "TypeError",
          "evalue": "ignored",
          "traceback": [
            "\u001b[0;31m---------------------------------------------------------------------------\u001b[0m",
            "\u001b[0;31mTypeError\u001b[0m                                 Traceback (most recent call last)",
            "\u001b[0;32m<ipython-input-10-3efbcbc3efdc>\u001b[0m in \u001b[0;36m<module>\u001b[0;34m()\u001b[0m\n\u001b[1;32m      7\u001b[0m \u001b[0mt2\u001b[0m\u001b[0;34m=\u001b[0m\u001b[0mMoney\u001b[0m\u001b[0;34m(\u001b[0m\u001b[0;36m200\u001b[0m\u001b[0;34m)\u001b[0m\u001b[0;34m\u001b[0m\u001b[0;34m\u001b[0m\u001b[0m\n\u001b[1;32m      8\u001b[0m \u001b[0mt3\u001b[0m\u001b[0;34m=\u001b[0m\u001b[0mMoney\u001b[0m\u001b[0;34m(\u001b[0m\u001b[0;36m300\u001b[0m\u001b[0;34m)\u001b[0m\u001b[0;34m\u001b[0m\u001b[0;34m\u001b[0m\u001b[0m\n\u001b[0;32m----> 9\u001b[0;31m \u001b[0mprint\u001b[0m\u001b[0;34m(\u001b[0m\u001b[0mt1\u001b[0m\u001b[0;34m+\u001b[0m\u001b[0mt2\u001b[0m\u001b[0;34m+\u001b[0m\u001b[0mt3\u001b[0m\u001b[0;34m)\u001b[0m\u001b[0;34m\u001b[0m\u001b[0;34m\u001b[0m\u001b[0m\n\u001b[0m",
            "\u001b[0;31mTypeError\u001b[0m: unsupported operand type(s) for +: 'int' and 'Money'"
          ]
        }
      ]
    },
    {
      "cell_type": "markdown",
      "source": [
        "**it may be you are thinking it is 600**\n",
        "but there is an error--\n",
        "\n",
        "TypeError: unsupported operand type(s) for +: 'int' and 'Money'\n",
        "\n",
        "**t1+t2 will be int and t3 will be treat as Money object.**"
      ],
      "metadata": {
        "id": "elJZYw9_VFR7"
      }
    },
    {
      "cell_type": "markdown",
      "source": [
        "now we want to solve our problem for that we have to make t1+t2 as Money type.\n",
        "\n",
        "after doing that t1+t2 will be Money type and you use + operator with t3 which is also in Money type.\n",
        "\n",
        " so you can use + operator and the return type will be Money type.\n",
        "\n",
        "it may be possible in future you want to use t1+t2+t3+t4\n",
        "\n",
        "then first make t1+t2 will be Money type and store it then add t3 is also in book type apply + opeartor\n",
        "\n",
        "and return type of (t1+t2)+t3 will be Money type then t4 is also now in Money type \n",
        "\n",
        "so the expression ((t1+t2)+t3)+ t4 is also return a Money type and your problem will be solved.\n",
        "\n",
        "lets see--But before resolve this problem \n",
        "\n",
        "lets check one more special method which is **_ _ str_ _(). this method is used when you want to print  any obejct refrence.**"
      ],
      "metadata": {
        "id": "fjVnpQgeYY-I"
      }
    },
    {
      "cell_type": "code",
      "source": [
        "class Student:\n",
        "    def __init__(self,age):\n",
        "        self.age=age  \n",
        "t1=Student(100)\n",
        "print(t1)  #it will print Student object , check it"
      ],
      "metadata": {
        "colab": {
          "base_uri": "https://localhost:8080/"
        },
        "id": "ThE1qGkKZv5U",
        "outputId": "f634b918-ac06-4f4a-977c-5e83140ec1da"
      },
      "execution_count": null,
      "outputs": [
        {
          "output_type": "stream",
          "name": "stdout",
          "text": [
            "<__main__.Student object at 0x7f61787b66d0>\n"
          ]
        }
      ]
    },
    {
      "cell_type": "markdown",
      "source": [
        "**but we dont want to print like above of Student object refrence , we want the age. \n",
        "means meaningful output- so we have to use _ _ str_ _()**"
      ],
      "metadata": {
        "id": "uKzbpfl4aNs0"
      }
    },
    {
      "cell_type": "code",
      "source": [
        "class Student:\n",
        "    def __init__(self,age):\n",
        "        self.age=age  \n",
        "    def __str__(self): # only one argument is needed\n",
        "        return \"vivek\" # let's assume we want string in return\n",
        "\n",
        "t1=Student(100)\n",
        "print(t1)  "
      ],
      "metadata": {
        "colab": {
          "base_uri": "https://localhost:8080/"
        },
        "id": "w_-gew0BZvmC",
        "outputId": "ff2bcfb6-dc7f-4255-be70-0fc72f12ee70"
      },
      "execution_count": null,
      "outputs": [
        {
          "output_type": "stream",
          "name": "stdout",
          "text": [
            "vivek\n"
          ]
        }
      ]
    },
    {
      "cell_type": "markdown",
      "source": [
        "now you can check the output by yourself. \n",
        "\n",
        "but our output is not desirable because it return vivek but we\n",
        "want number of pages. "
      ],
      "metadata": {
        "id": "wn_hqAT6bQBN"
      }
    },
    {
      "cell_type": "code",
      "source": [
        "class Student:\n",
        "    def __init__(self,age):\n",
        "        self.age=age  \n",
        "    def __str__(self): # only one argument is needed\n",
        "        return \"age is\"+ self.age \n",
        "\n",
        "t1=Student(100)\n",
        "print(t1)  "
      ],
      "metadata": {
        "id": "kGsv8PbYbVT3"
      },
      "execution_count": null,
      "outputs": []
    },
    {
      "cell_type": "markdown",
      "source": [
        "### above code will work or not ?\n",
        "\n",
        "it will **not work** because in the return type you are useing \"+\" operator means **you are useing concatenation**\n",
        "\n",
        "but one(age is) is string and 2nd(self.age) is not string type it is int type so it is not return the desired one\n",
        "\n",
        " for that you have to convert self.age in string type. so you have to convert int to str. plaese check below code--"
      ],
      "metadata": {
        "id": "rXsBLN4hbmlu"
      }
    },
    {
      "cell_type": "code",
      "source": [
        "class Student:\n",
        "    def __init__(self,age):\n",
        "        self.age=age  \n",
        "    def __str__(self): # only one argument is needed\n",
        "        return \"age is \"+ str(self.age) \n",
        "\n",
        "t1=Student(100)\n",
        "print(t1)  "
      ],
      "metadata": {
        "colab": {
          "base_uri": "https://localhost:8080/"
        },
        "id": "-ndOSGYgcD5O",
        "outputId": "4a2583d9-9794-47e7-f982-2565388cb184"
      },
      "execution_count": null,
      "outputs": [
        {
          "output_type": "stream",
          "name": "stdout",
          "text": [
            "age is 100\n"
          ]
        }
      ]
    },
    {
      "cell_type": "markdown",
      "source": [
        "now check the output for the below code--"
      ],
      "metadata": {
        "id": "Nw4SGO4HgBtD"
      }
    },
    {
      "cell_type": "code",
      "source": [
        "class Student:\n",
        "    def __init__(self,age):\n",
        "      self.age=age  \n",
        "    def __str__(self):\n",
        "      return \"age is \"+ str(self.age) \n",
        "    def __add__(self,other):\n",
        "      return self.age+other.age\n",
        "t1=Student(100)\n",
        "t2=Student(200)\n",
        "print(t1+t2)  "
      ],
      "metadata": {
        "colab": {
          "base_uri": "https://localhost:8080/"
        },
        "id": "BBgV8y5AgGkT",
        "outputId": "c2eac61c-3ccd-4ead-8aa0-f6856a8c84ad"
      },
      "execution_count": null,
      "outputs": [
        {
          "output_type": "stream",
          "name": "stdout",
          "text": [
            "300\n"
          ]
        }
      ]
    },
    {
      "cell_type": "markdown",
      "source": [
        "### Now come on our last desire\n",
        "now what will be the output for the below code--"
      ],
      "metadata": {
        "id": "S1jKJbzyg2Q-"
      }
    },
    {
      "cell_type": "code",
      "source": [
        "class Money:\n",
        "    def __init__(self,Rs):\n",
        "        self.Rs=Rs\n",
        "    def __str__(self):\n",
        "      return \"Rs is \" + str(self.Rs)\n",
        "    def __add__(self,other):  \n",
        "        total=self.Rs+other.Rs\n",
        "        t=Money(total)#create a Money object\n",
        "        return t# return newly created Money\n",
        "t1=Money(100)\n",
        "t2=Money(200)\n",
        "t3=Money(300)\n",
        "print(t1+t2+t3)"
      ],
      "metadata": {
        "colab": {
          "base_uri": "https://localhost:8080/"
        },
        "id": "6SRshU0agHTw",
        "outputId": "a172b501-b363-4635-e2a6-c3130f3710f8"
      },
      "execution_count": null,
      "outputs": [
        {
          "output_type": "stream",
          "name": "stdout",
          "text": [
            "Rs is 600\n"
          ]
        }
      ]
    },
    {
      "cell_type": "markdown",
      "source": [
        "### here t1+t2 means t(300)+ t3 means t(300)\n",
        "### again t(300)+t(300) call __add__()\n",
        "### a new object is created t(600)  now __str__() will call and print output \n",
        "\n",
        "check the out put--\n",
        "\n",
        "Rs is--600"
      ],
      "metadata": {
        "id": "WGMRoJYjiGZa"
      }
    },
    {
      "cell_type": "markdown",
      "source": [
        "## Try it \n",
        "now you can check ouput for-- \n",
        "\n",
        "t1=Money(100)\n",
        "\n",
        "t2=Money(200)\n",
        "\n",
        "t3=Money(300)\n",
        "\n",
        "t4=Money(400)\n",
        "\n",
        "print(t1+t2+t3+t4) \n",
        "\n",
        "output must be---\n",
        "\n",
        "number of pages--1000\n"
      ],
      "metadata": {
        "id": "l1UWGHYVihQ6"
      }
    },
    {
      "cell_type": "markdown",
      "source": [
        "so whenever we are calling +operator then _ _ add_ _() method will be called. \n",
        "\n",
        "* \"+\"operator return type will become _ _ add_ _() method return type.\n",
        "\n",
        "whenever we are printing object refrence(in our case Money object refrence) then _  _str_  _() method will be called.\n",
        "\n",
        "* if we are not providing _ _str_ _() method default implementation will be executed. means take a look"
      ],
      "metadata": {
        "id": "7_zwcPfci05M"
      }
    },
    {
      "cell_type": "code",
      "source": [
        "class Money:\n",
        "    def __init__(self,age):\n",
        "        self.age=age\n",
        "    def __add__(self,other):\n",
        "        total=self.age+other.age\n",
        "        t=Money(total)\n",
        "        return t\n",
        "\n",
        "t1=Money(100)\n",
        "t2=Money(200)\n",
        "print(t1)\n",
        "print(t2)\n",
        "print(t1+t2)"
      ],
      "metadata": {
        "colab": {
          "base_uri": "https://localhost:8080/"
        },
        "id": "ILubldmDgHQB",
        "outputId": "c9cc35b6-0977-4a86-afa5-c0210a8b752b"
      },
      "execution_count": null,
      "outputs": [
        {
          "output_type": "stream",
          "name": "stdout",
          "text": [
            "<__main__.Money object at 0x7f61786ebfd0>\n",
            "<__main__.Money object at 0x7f6178701950>\n",
            "<__main__.Money object at 0x7f6178701c50>\n"
          ]
        }
      ]
    },
    {
      "cell_type": "markdown",
      "source": [
        "**can we work with multiplication? yes please check below--**"
      ],
      "metadata": {
        "id": "9ui073HMjv-t"
      }
    },
    {
      "cell_type": "code",
      "source": [
        "class Money:\n",
        "    def __init__(self,Rs):\n",
        "      self.Rs=Rs\n",
        "    def __str__(self):\n",
        "      return \"Rs is \" + str(self.Rs)\n",
        "    def __add__(self,other):\n",
        "      total=self.Rs+other.Rs\n",
        "      t=Money(total)#create a Money object\n",
        "      return t# return newly created Money\n",
        "    def __mul__(self,other):\n",
        "      total=self.Rs*other.Rs\n",
        "      t=Money(total)\n",
        "      return t\n",
        "t1=Money(100)\n",
        "t2=Money(200)\n",
        "t3=Money(300)\n",
        "t4=Money(400)\n",
        "print(t1)\n",
        "print(t2)\n",
        "print(t1+t2+t3+t4)\n",
        "print(t1*t2+t3*t4)\n"
      ],
      "metadata": {
        "colab": {
          "base_uri": "https://localhost:8080/"
        },
        "id": "89r_1xKZjy_o",
        "outputId": "469acae1-5f2b-4137-ea66-7b3c9df5ba80"
      },
      "execution_count": null,
      "outputs": [
        {
          "output_type": "stream",
          "name": "stdout",
          "text": [
            "Rs is 100\n",
            "Rs is 200\n",
            "Rs is 1000\n",
            "Rs is 140000\n"
          ]
        }
      ]
    },
    {
      "cell_type": "markdown",
      "source": [
        "### There are many magic function for the operator overloading please chaeck below"
      ],
      "metadata": {
        "id": "q3BFG0czkjWY"
      }
    },
    {
      "cell_type": "markdown",
      "metadata": {
        "id": "Q23nvw8hmMNV"
      },
      "source": [
        "1. + --object.__add__(self,other)\n",
        "2. - --object.__sub__(self,other)\n",
        "3. *  --object.__mul__(self,other)\n",
        "4. / --object.__div__(self,other)\n",
        "5. // --object.__floordiv__(self,other)\n",
        "6. % --object.__mod__(self,other)\n",
        "7. ** --object.__pow__(self,other)\n",
        "8. < --object.__lt__(self,other)\n",
        "9. > --object.__gt__(self,other)\n",
        "10. <= --object.__le__(self,other)\n",
        "11. >= --object.__ge__(self,other)\n",
        "12.+= --object.__iadd__(self,other)\n",
        "13. -=- --object.__isub__(self,other)\n",
        "14. *=  --object.__imul__(self,other)\n",
        "15. /= --object.__idiv__(self,other)\n",
        "16.  //= --object.__ifloordiv__(self,other)\n",
        "17. %= --object.__imod__(self,other)\n",
        "18. **= --object.__ipow__(self,other)"
      ]
    },
    {
      "cell_type": "code",
      "source": [
        "class Money:\n",
        "    def __init__(self,Rs):\n",
        "        self.Rs=Rs\n",
        "    def __add__(self,other):\n",
        "        return self.Rs+other.Rs\n",
        "    def __mul__(self,other):\n",
        "        return self.Rs*other.Rs\n",
        "    def __sub__(self,other):\n",
        "        return self.Rs-other.Rs\n",
        "t1=Money(100)\n",
        "t2=Money(200)\n",
        "print(t1+t2)\n",
        "print(t1*t2)\n",
        "print(t1-t2)"
      ],
      "metadata": {
        "colab": {
          "base_uri": "https://localhost:8080/"
        },
        "id": "mPH-19EQl0V0",
        "outputId": "33f07212-4f51-4d06-d010-b1955efd39de"
      },
      "execution_count": null,
      "outputs": [
        {
          "output_type": "stream",
          "name": "stdout",
          "text": [
            "300\n",
            "20000\n",
            "-100\n"
          ]
        }
      ]
    },
    {
      "cell_type": "markdown",
      "source": [
        "### Lets check some with code"
      ],
      "metadata": {
        "id": "lYJ_9eU1k8tB"
      }
    },
    {
      "cell_type": "code",
      "metadata": {
        "colab": {
          "base_uri": "https://localhost:8080/"
        },
        "id": "vi9L7usDnmna",
        "outputId": "4000b3bb-8ddd-47c5-ad04-75438737ff70"
      },
      "source": [
        "class student:\n",
        "  def __init__(self,name,marks):\n",
        "    self.name=name\n",
        "    self.marks=marks\n",
        "  def __gt__(self,other):\n",
        "    return self.marks > other.marks\n",
        "  def __le__(self,other):\n",
        "    return self.marks<=other.marks\n",
        "s1=student(\"vivek\",20)\n",
        "s2=student(\"kumar\",30)\n",
        "print(s1>s2)\n",
        "print(s1<s2)\n",
        "print(s1<=s2)\n",
        "print(s1>=s2)"
      ],
      "execution_count": null,
      "outputs": [
        {
          "output_type": "stream",
          "name": "stdout",
          "text": [
            "False\n",
            "True\n",
            "True\n",
            "False\n"
          ]
        }
      ]
    },
    {
      "cell_type": "code",
      "metadata": {
        "id": "dLG1iC5nlRrZ",
        "colab": {
          "base_uri": "https://localhost:8080/"
        },
        "outputId": "17b9515c-5c71-437f-c182-27b74f9ef7b1"
      },
      "source": [
        "class test:\n",
        "  def __init__(self,number):\n",
        "    self.number=number\n",
        "  def __str__(self):\n",
        "    return ' {}'.format(self.number)\n",
        "\n",
        "t=test(100)\n",
        "print(t)\n"
      ],
      "execution_count": null,
      "outputs": [
        {
          "output_type": "stream",
          "name": "stdout",
          "text": [
            " 100\n"
          ]
        }
      ]
    },
    {
      "cell_type": "code",
      "metadata": {
        "colab": {
          "base_uri": "https://localhost:8080/"
        },
        "id": "eVu1BvX7afMc",
        "outputId": "db6d782f-ce67-4a2b-b85e-1f173805d6a9"
      },
      "source": [
        "class emp:\n",
        "  def __init__(self,a,b):\n",
        "    self.a=a\n",
        "    self.b=b\n",
        "  def __add__(self,other):\n",
        "    m1=self.a + other.a\n",
        "    m2=self.b + other.b\n",
        "    m3=emp(m1,m2)\n",
        "    return m3\n",
        "  def __str__(self):\n",
        "    \n",
        "    return '{} {}'.format(self.a,self.b)\n",
        "e=emp(10,50)\n",
        "e1=emp(20,30)\n",
        "m3=e+e1\n",
        "print(m3.a,m3.b)\n",
        "print(\"here is str work\")\n",
        "print(e)"
      ],
      "execution_count": null,
      "outputs": [
        {
          "output_type": "stream",
          "name": "stdout",
          "text": [
            "30 80\n",
            "here is str work\n",
            "10 50\n"
          ]
        }
      ]
    },
    {
      "cell_type": "code",
      "source": [
        "class student:\n",
        "    def __init__(self,name,CTmarks):\n",
        "        self.name=name\n",
        "        self.CTmarks=CTmarks\n",
        "    def __add__(self,other):\n",
        "        return self.CTmarks+other.TAmarks#ist idea\n",
        "class Assesment:\n",
        "    def __init__(self,name,TAmarks):\n",
        "        self.name=name\n",
        "        self.TAmarks=TAmarks\n",
        "    def __add__(self,other):\n",
        "        return self.TAmarks+other.CTmarks#iind idea\n",
        "s=student(\"vivek\",30)\n",
        "a=Assesment(\"vivek\",20)\n",
        "print(\"total marks\",s+a)#ist idea to print CT +AT\n",
        "print(\"total marks\",a+s)# iind idea to print AT+CT\n",
        "#you can choose either ist or iind idea or both for understanding"
      ],
      "metadata": {
        "colab": {
          "base_uri": "https://localhost:8080/"
        },
        "id": "1OVmkVF_lZ_M",
        "outputId": "7fb73f6b-ea0b-4639-c3bd-8c6be12a35cb"
      },
      "execution_count": null,
      "outputs": [
        {
          "output_type": "stream",
          "name": "stdout",
          "text": [
            "total marks 50\n",
            "total marks 50\n"
          ]
        }
      ]
    },
    {
      "cell_type": "markdown",
      "metadata": {
        "id": "Q-hjEqLxpNUX"
      },
      "source": [
        "# Method overloading\n",
        "\n",
        "Method overloading: if there are more than two method with ***same name but different argument type*** then it is called method overloading. \n",
        "\n",
        "for example\n",
        "\n",
        "f1(20)\n",
        "\n",
        "f1(10,40)\n",
        "\n",
        "f1(\"vivek\",\"mrt\")"
      ]
    },
    {
      "cell_type": "markdown",
      "source": [
        "but python is not supporting method/constructor overloading concept because type concept is not there in python.\n",
        "\n",
        "***means we never assign a type to a argument in the python***\n",
        "\n",
        "***so you can pass any type to argument.***\n",
        "\n",
        "***python never provide  argument type explicitly so no need of method/constructor overloading.***\n",
        "\n",
        "for example-\n",
        "\n",
        "m1()\n",
        "\n",
        "m1( a)\n",
        "\n",
        "m1(a, b)\n",
        "\n",
        "m1(a,b,c)\n",
        "\n",
        "we can understand it why method overloading is not required by an example."
      ],
      "metadata": {
        "id": "6thWxF6gnBT2"
      }
    },
    {
      "cell_type": "code",
      "source": [
        "class test:\n",
        "    def m1(self,a):\n",
        "        print(a)\n",
        "d=test()\n",
        "d.m1(10)\n",
        "d.m1(10.5)\n",
        "d.m1(\"vivek\")\n",
        "d.m1(10+15j)"
      ],
      "metadata": {
        "id": "H7ovoPJZnpj7"
      },
      "execution_count": null,
      "outputs": []
    },
    {
      "cell_type": "markdown",
      "source": [
        "so you can understand it that there is no type provided to argument in the m1 method and \n",
        "\n",
        "argument have different type.so you are allowed to pass any type ,\n",
        "\n",
        "***no need of method overloading.***"
      ],
      "metadata": {
        "id": "YEpG7vZlnyIS"
      }
    },
    {
      "cell_type": "code",
      "metadata": {
        "colab": {
          "base_uri": "https://localhost:8080/"
        },
        "id": "KtjIOzi5pho6",
        "outputId": "bfaabe84-988e-4335-ef3c-9a5e876c85df"
      },
      "source": [
        "class demo:\n",
        "    def add(self):\n",
        "        print(\"vivek\")\n",
        "    def add(self,a):\n",
        "        print(\"vivek kumar\")\n",
        "    def add(self,a,b):\n",
        "        print(\"vivek kuamr knit\")\n",
        "d=demo()\n",
        "d.add()         # TypeError: add() missing 2 required positional arguments: 'a' and 'b'\n",
        "d.add(10)     #TypeError: add() missing 1 required positional argument: 'b'\n",
        "d.add(10,20)----valid\n"
      ],
      "execution_count": null,
      "outputs": [
        {
          "output_type": "stream",
          "text": [
            "two-arg\n"
          ],
          "name": "stdout"
        }
      ]
    },
    {
      "cell_type": "markdown",
      "source": [
        "* now the last one will run because if there are number of methods with same names\n",
        "* python always execute last method"
      ],
      "metadata": {
        "id": "mz2YcpCYoNY7"
      }
    },
    {
      "cell_type": "markdown",
      "source": [
        "### Question : what will be the out put\n"
      ],
      "metadata": {
        "id": "I507sOAPoEY0"
      }
    },
    {
      "cell_type": "code",
      "source": [
        "class demo:\n",
        "    def add(self,a,b):\n",
        "        print(\"sum is\",a+b)\n",
        "d=demo()\n",
        "d.add(10) ---->error \n",
        "d.add(10,20)----->valid\n",
        "d.add(10,20,30)----->error\n"
      ],
      "metadata": {
        "id": "JQ5_iGotpiF0"
      },
      "execution_count": null,
      "outputs": []
    },
    {
      "cell_type": "markdown",
      "source": [
        "check one by one add method and undestand the difference and why method overloading is not there in python.\n",
        "\n",
        "As we know that there is no method overloading but still you want to use it then you have to use two technique\n",
        "\n",
        "which is provided by python:\n",
        "\n",
        "1. Default Argument\n",
        "\n",
        "2. Variable Length Argument"
      ],
      "metadata": {
        "id": "sIQmgTqgpmq1"
      }
    },
    {
      "cell_type": "markdown",
      "source": [
        "### 1. Default Argument: we can understand it by an simple example please check below code"
      ],
      "metadata": {
        "id": "aBb_2d24p01Z"
      }
    },
    {
      "cell_type": "code",
      "metadata": {
        "colab": {
          "base_uri": "https://localhost:8080/"
        },
        "id": "94XYE3cbqMje",
        "outputId": "5ee9c472-141b-4de4-ad47-1ab000d91a9f"
      },
      "source": [
        "class display:\n",
        "  def sum(self,a=None,b=None,c=None):\n",
        "    if a!=None and b!=None and c!=None:\n",
        "      print(a+b+c)\n",
        "    elif a!=None and b!=None:\n",
        "      print(a+b)\n",
        "    else:\n",
        "      print(\"plz give 2 or 3 number\")\n",
        "\n",
        "\n",
        "\n",
        "d=display()\n",
        "d.sum(10,20)\n",
        "d.sum(10,20,30)\n",
        "d.sum(10)"
      ],
      "execution_count": null,
      "outputs": [
        {
          "output_type": "stream",
          "text": [
            "30\n",
            "60\n",
            "plz give 2 or 3 number\n"
          ],
          "name": "stdout"
        }
      ]
    },
    {
      "cell_type": "markdown",
      "source": [
        "### 2. variable length argument\n",
        "\n",
        "if you observe the above code ,you can see that the code is for maximum 3 arguments means\n",
        "\n",
        "it will work for 0 argument or 1 argument or 2 arguments or 3 arguments. \n",
        "\n",
        "but if you need a number of arguments in your code then it is not possible to design code with Default Argument. \n",
        "\n",
        "for this purpose we will use variable length arguments."
      ],
      "metadata": {
        "id": "FmrRmfV3qCvL"
      }
    },
    {
      "cell_type": "code",
      "source": [
        "class demo:\n",
        "    def add(self,*a):\n",
        "        total=0\n",
        "        for x in a:\n",
        "            total=total+x\n",
        "        print(\"addition is\",total)\n",
        "d=demo()\n",
        "d.add(10,20)\n",
        "d.add(10,20,30)\n",
        "d.add(10,20,30,50,60)\n",
        "d.add(10)\n",
        "d.add()"
      ],
      "metadata": {
        "id": "yAK9fcjtqBdh"
      },
      "execution_count": null,
      "outputs": []
    },
    {
      "cell_type": "markdown",
      "source": [
        "so we can understand that there is no need of method overloading but if you want to use this then go for\n",
        "\n",
        "default arguments or variable length arguments concept with some code logic."
      ],
      "metadata": {
        "id": "-t43m0H-qjSz"
      }
    },
    {
      "cell_type": "code",
      "source": [
        ""
      ],
      "metadata": {
        "id": "6PzMYX4Kqq34"
      },
      "execution_count": null,
      "outputs": []
    },
    {
      "cell_type": "markdown",
      "source": [
        "## Constructor overoading"
      ],
      "metadata": {
        "id": "VfCBU9L1qrk6"
      }
    },
    {
      "cell_type": "markdown",
      "source": [
        "constructor overloading is also not working in the python,check the below code\n",
        "\n",
        "---ist attempt with no argument--"
      ],
      "metadata": {
        "id": "CNUkJuKhqwAC"
      }
    },
    {
      "cell_type": "code",
      "metadata": {
        "id": "s2m6_oMCr2S1"
      },
      "source": [
        "# constructor overloading \n",
        "class test:\n",
        "  def __init__(self):\n",
        "    print(\"first\")\n",
        "  def __init__(self,a):\n",
        "    print(\"second\")\n",
        "  def __init__(self,b,c):\n",
        "    print(\"third\")\n",
        "t=test()"
      ],
      "execution_count": null,
      "outputs": []
    },
    {
      "cell_type": "markdown",
      "source": [
        "---second attempt with one argument---\n"
      ],
      "metadata": {
        "id": "csvHCYq3q1hQ"
      }
    },
    {
      "cell_type": "code",
      "source": [
        "class demo:\n",
        "    def __init__(self):\n",
        "        print(\"there is no arguments\")\n",
        "    def __init__(self,a):\n",
        "        print(\"there is one arguments\")\n",
        "    def __init__(self,a,b):\n",
        "        print(\"there are two arguments\")\n",
        "d=demo(10)"
      ],
      "metadata": {
        "id": "VyHnJXpnq7Pi"
      },
      "execution_count": null,
      "outputs": []
    },
    {
      "cell_type": "markdown",
      "source": [
        "---Third attempt with two argument---"
      ],
      "metadata": {
        "id": "fPEl1pamrTBS"
      }
    },
    {
      "cell_type": "code",
      "source": [
        "class demo:\n",
        "    def __init__(self):\n",
        "        print(\"there is no arguments\")\n",
        "    def __init__(self,a):\n",
        "        print(\"there is one arguments\")\n",
        "    def __init__(self,a,b):\n",
        "        print(\"there are two arguments\")\n",
        "d=demo(10,20)"
      ],
      "metadata": {
        "id": "lKfnhH7OrKq0"
      },
      "execution_count": null,
      "outputs": []
    },
    {
      "cell_type": "markdown",
      "source": [
        "so it is clear that there is no constructor overloading in the python,\n",
        "\n",
        "if you use number of constructor with same constructor name then only last one will execute with perfect argument number ,\n",
        "\n",
        "if the argument is  not matched with last construcorthen it will produced error.\n",
        "\n",
        "Observe the output of the following code--"
      ],
      "metadata": {
        "id": "CJA3p6ztrh7O"
      }
    },
    {
      "cell_type": "code",
      "source": [
        "class demo:\n",
        "    def __init__(self,a=None,b=None,c=None):\n",
        "        print(\"there is 0 argumnet or 1 arg or 2 arg or 3 arg\")  \n",
        "d=demo()\n",
        "d=demo(10)\n",
        "d=demo(10,20)\n",
        "d=demo(10,20,30)"
      ],
      "metadata": {
        "id": "qFzJf14crs8q"
      },
      "execution_count": null,
      "outputs": []
    },
    {
      "cell_type": "markdown",
      "source": [
        "Observe the output of the following code--\n"
      ],
      "metadata": {
        "id": "0e2AnIFAr1m0"
      }
    },
    {
      "cell_type": "code",
      "source": [
        "class demo:\n",
        "    def __init__(self,*a):\n",
        "        print(\"there is 0 argumnet or 1 arg or 2 arg or any number of arguments\")  \n",
        "d=demo()\n",
        "d=demo(10)\n",
        "d=demo(10,20)\n",
        "d=demo(10,20,30)\n",
        "d=demo(10,20,30,40,50,70)"
      ],
      "metadata": {
        "id": "oIo7kSPzr-cL"
      },
      "execution_count": null,
      "outputs": []
    },
    {
      "cell_type": "markdown",
      "source": [
        "# Inheritence:\n",
        "what ever a parent class have by default avilable for child class. \n",
        "\n",
        "means if we have a parent class lets say\n",
        "\n",
        "class P and this class contains some methods lets 5 methods\n",
        "\n",
        "class P:\n",
        ">>5 methods\n",
        "\n",
        "but i want to declare some more extra methods lets take i want to declare 10 more extra methods means\n",
        "\n",
        "i want to extend the functionality of class (functionality of class P) with more 10 methods \n",
        "\n",
        "so for this what i have to do ? \n",
        "\n",
        "I have to create a child class C which will extend the functionality means class C will have all the 5 methods of Class P \n",
        "\n",
        "and it will also have new 10 methods so how can we say it in python.\n",
        "\n",
        "Class P:------------------->P is parent class and it has 5 methods\n",
        ">>5 methods\n",
        "\n",
        "Class C(P):---------------C(P)means Class C extend Class P means \n",
        "\n",
        ">> 10 methods\n",
        "\n",
        "class C is the child of P class\n",
        "                                    \n",
        "Class C has all the functionality of Class P &10 new methods total 15 methods.\n",
        "* parent class methods are autometically availble for child class"
      ],
      "metadata": {
        "id": "2FEDkglykLK2"
      }
    },
    {
      "cell_type": "markdown",
      "source": [
        "### Advantage of inheritence\n",
        "1. code reusabilty:We don’t have to write the same code again and again.\n",
        "2.extension of functionalty :it allows us to add more features to a class without modifying it."
      ],
      "metadata": {
        "id": "AvCf5PNKmKHJ"
      }
    },
    {
      "cell_type": "markdown",
      "source": [
        "###Can a child class have more than one parent ?\n",
        "yes a child class have more than one parent take alook below\n",
        "\n",
        "Class P1:\n",
        ">>2 methods\n",
        "\n",
        "Class P2:\n",
        ">>10 methods\n",
        "\n",
        "Class P3:\n",
        ">>4 methods\n",
        "\n",
        "Clsss C(P1,P2,P3):\n",
        ">>5 methods\n",
        "\n",
        "here ***Class C extends P1,P2 and P3*** means Class c have all the functionality of P1,P2 and P3 class.\n",
        "\n",
        "we will discuss it later in a better way."
      ],
      "metadata": {
        "id": "7CewbKPimKEd"
      }
    },
    {
      "cell_type": "markdown",
      "source": [
        "now lets take an example to understand it better-"
      ],
      "metadata": {
        "id": "dtOlM3GTmJ0v"
      }
    },
    {
      "cell_type": "code",
      "source": [
        "class Parent:\n",
        "    def t1(self):\n",
        "        print(\"First method of parent class\")\n",
        "    def t2(self):\n",
        "        print(\"Second method of parent class\")\n",
        "class Child(Parent):\n",
        "    def t3(self):\n",
        "        print(\"First method of Child class\")\n",
        "c=Child()\n",
        "c.t1()\n",
        "c.t2()\n",
        "c.t3()"
      ],
      "metadata": {
        "colab": {
          "base_uri": "https://localhost:8080/"
        },
        "id": "VihNMPinm29Y",
        "outputId": "4fbe74f3-26dc-41d3-9d5a-259e2d09f19f"
      },
      "execution_count": null,
      "outputs": [
        {
          "output_type": "stream",
          "name": "stdout",
          "text": [
            "First method of parent class\n",
            "Second method of parent class\n",
            "First method of Child class\n"
          ]
        }
      ]
    },
    {
      "cell_type": "markdown",
      "source": [
        "now check the output of the following code and understand it why it is so-"
      ],
      "metadata": {
        "id": "yJ6U6SdYmJvR"
      }
    },
    {
      "cell_type": "code",
      "source": [
        "# Example 1\n",
        "class Parent:\n",
        "    pass\n",
        "class Child(Parent):\n",
        "    def t1(self):\n",
        "        print(\"child class method\")\n",
        "c=Child()\n",
        "c.t1()"
      ],
      "metadata": {
        "id": "anWgGrbwoKQ8"
      },
      "execution_count": null,
      "outputs": []
    },
    {
      "cell_type": "code",
      "source": [
        "# example:2\n",
        "class Parent:\n",
        "    def t1(self):\n",
        "        print(\"First parent class method\")\n",
        "    def t2(self):\n",
        "        print(\"Second parent class method\")\n",
        "class Child(Parent):\n",
        "    pass\n",
        "c=Child()\n",
        "c.t1()\n",
        "c.t2()"
      ],
      "metadata": {
        "colab": {
          "base_uri": "https://localhost:8080/"
        },
        "id": "Lg4IYP2joil_",
        "outputId": "add793d7-47f9-4479-e9a5-061c0925c613"
      },
      "execution_count": null,
      "outputs": [
        {
          "output_type": "stream",
          "name": "stdout",
          "text": [
            "First parent class method\n",
            "Second parent class method\n"
          ]
        }
      ]
    },
    {
      "cell_type": "markdown",
      "source": [
        "one quetsion may be arises in mind that can we use same method name in parent as well as child class?\n",
        "\n",
        "what will be the output for the below code?"
      ],
      "metadata": {
        "id": "SlpfLEDhmJsJ"
      }
    },
    {
      "cell_type": "code",
      "source": [
        "# example:\n",
        "class Parent:\n",
        "    def t1(self):\n",
        "        print(\"First parent class method\")\n",
        "    def t2(self):\n",
        "        print(\"Second parent class method\")\n",
        "class Child(Parent):\n",
        "    def t2(self):\n",
        "      print(\"This is Child Method\")\n",
        "c=Child()\n",
        "c.t1()\n",
        "c.t2()"
      ],
      "metadata": {
        "colab": {
          "base_uri": "https://localhost:8080/"
        },
        "id": "DP20Brr9o_6c",
        "outputId": "6c28a620-887d-4fe7-b07f-66cd1136c118"
      },
      "execution_count": null,
      "outputs": [
        {
          "output_type": "stream",
          "name": "stdout",
          "text": [
            "First parent class method\n",
            "This is Child Method\n"
          ]
        }
      ]
    },
    {
      "cell_type": "markdown",
      "source": [
        "so in the above code ***overriding concept*** is applied. here child class overrides t2 method of parent class.\n",
        "\n",
        "but now my requirement is ***to use both the method with same name*** which are in child  class and Parent class ,\n",
        "\n",
        "what should we do and we know there is not method overriding in the python. \n",
        "\n",
        "here the ***super()*** is coming in the picture observe carefully.\n",
        "\n",
        "please check the solution below-"
      ],
      "metadata": {
        "id": "TsKE9aI1pZgz"
      }
    },
    {
      "cell_type": "code",
      "source": [
        "class Parent:\n",
        "    def t1(self):\n",
        "        print(\"parent class t1 method\")\n",
        "    def t2(self):\n",
        "        print(\"parent class t2 method\")\n",
        "class Child(Parent):\n",
        "    def t2(self):\n",
        "        super().t2()\n",
        "        print(\"i am child class t2 method\")\n",
        "c=Child()\n",
        "c.t1()\n",
        "c.t2()"
      ],
      "metadata": {
        "colab": {
          "base_uri": "https://localhost:8080/"
        },
        "id": "VazT1QBDpt6n",
        "outputId": "7ace0dbf-2b1c-41b8-d7c1-91715558a2fa"
      },
      "execution_count": null,
      "outputs": [
        {
          "output_type": "stream",
          "name": "stdout",
          "text": [
            "parent class t1 method\n",
            "parent class t2 method\n",
            "i am child class t2 method\n"
          ]
        }
      ]
    },
    {
      "cell_type": "markdown",
      "source": [
        "By the use of super() we can use method with same name in parent and child class. \n",
        "\n",
        "we will discuss in detail super() in detail later."
      ],
      "metadata": {
        "id": "MMl6N0iQqboR"
      }
    },
    {
      "cell_type": "markdown",
      "metadata": {
        "id": "7e-v4PU_w5BT"
      },
      "source": [
        "# Types of Inheritence in python\n",
        "1. Single Inheritence\n",
        "2. Multilevel Inheritence\n",
        "3. Hierarchical Inheritence\n",
        "4. Multiple Inheritence\n",
        "5. Hybrid Inheritence\n",
        "6. Cyclic Inheritence"
      ]
    },
    {
      "cell_type": "markdown",
      "source": [
        "### Single inheritence:  one parent ---one child"
      ],
      "metadata": {
        "id": "CPt-6kDzq31Q"
      }
    },
    {
      "cell_type": "code",
      "metadata": {
        "colab": {
          "base_uri": "https://localhost:8080/"
        },
        "id": "O7Mnw0W_pJJj",
        "outputId": "5630877b-f976-4a44-a5fb-b328236b389f"
      },
      "source": [
        "# single inheritence\n",
        "class Parent:\n",
        "  def t1(self):\n",
        "    print(\"parent class\")\n",
        "class Child(Parent):\n",
        "  def t2(self):\n",
        "    print(\"child class\")\n",
        "obj=Child()\n",
        "obj.t2()\n",
        "obj.t1()\n"
      ],
      "execution_count": null,
      "outputs": [
        {
          "output_type": "stream",
          "name": "stdout",
          "text": [
            "child class\n",
            "child class ist method\n"
          ]
        }
      ]
    },
    {
      "cell_type": "markdown",
      "source": [
        "if you observed the above code \n",
        "\n",
        "it is clear that there is one method in the parent class P (t1 method) \n",
        "\n",
        "and there are one method in child class C(that is t2). \n",
        "\n",
        "so in the single inhertence there must be\n",
        "\n",
        "***one parent class and one child class***.\n",
        "\n",
        "some time single inheritence is called simple inheritnce."
      ],
      "metadata": {
        "id": "i5W9-RNOrXTU"
      }
    },
    {
      "cell_type": "markdown",
      "source": [
        "![image.png](data:image/png;base64,iVBORw0KGgoAAAANSUhEUgAAADUAAABOCAYAAACAA15yAAACRElEQVR4nO2bPW7bQBBGv81ZaBWBT7A+gZUmlY6wKu3Gnct0aeiWXVpVakSewDqBkcLLu0wK8WdJy5QBz44xwTyAgL20uXqc0UgEZhwREf4zvn31C8iBSWkhg1SLpxsH58Zj2/DvsgS/VHvA7jhdqvayVuxS7WGHk5OH991itYekFrNUi0MfJr/B42awgmiwiJNYkgcIAPkyTn6HLymybvY+rFJ16ATgqYxERJFKP1/LD2P6NdhX3Y9+gx8FABRYXffnj9gdWr7tlmC7PXXoItKl3pl1qRRkk3qbesMZCpBNQSap5IWficYoPItiJnik0hS7dAikIItUGomPHKHm2PV9GKpfUvUQUJ9u1JujDuN/ZP/a9OnbkqbeUggmKRooZ7A+LZWmXqhpkmazv0yqYN4UdER8j/POuXOZwHX5D2MPiVowKS2YlBZMSgsmpQWT0oJJacGktGBSWjApLZiUFkxKCyalBZPSgklpwaS0YFJaMCktmJQWTEoLJnWJeXfLV3S7AFxSzXaYFkg5rd3gSah1todFqn19WTh7xP2VgxOcjWB/T/kyjn1+kya/X2IRy1sobh9Q9kMEOOJvzLrbgGD18/h+JbNTXqnmN+77CZ2hAV8Ajk7IWPrlZuDcncAzZNKvWsO5rdi4Ud7qRzEpFBXWQmU9c6QK3P0pMXrJDIflT79ihWEwBy94FfisEv5Ce42VQAXMLtVs1xgHDH7iNveGgFBJFx7fY4lUMY6znSXUBHq+g9RnL+sEwXDR5BEkw+Uv8g9yqZyFsfHxVQAAAABJRU5ErkJggg==)"
      ],
      "metadata": {
        "id": "X6sIffYaxLtt"
      }
    },
    {
      "cell_type": "markdown",
      "source": [
        "### multi level inheritence: \n",
        "for understand it you can assume that there are four class namily A,B,C,D .and \n",
        "these class are arrange in multi level order means.\n",
        "\n",
        "A----B----C----D \n",
        "\n",
        "### means A is parent class of B and B is parent class of C and C is the parent Class of D\n",
        "\n",
        "### or yo can say D is the child class of C and C is the child class of B and B is the child class of A.\n",
        "\n",
        "###you can also say there is a single inheritence at the multi level. and it is clear that \n",
        "\n",
        "### all the property of A is avialbale for B and all the property of B is avialbale for C and all the property of C is avialbale for D.\n",
        "\n",
        "### so there single inheritence is avialble at  three level menas \n",
        "\n",
        "***A-B is one level***\n",
        "\n",
        "***B-C is second level***\n",
        "\n",
        "*** and C-D is third level***\n",
        "\n",
        " so these type of inheritence is called multi level inheitence."
      ],
      "metadata": {
        "id": "5Pwu53A6sEGQ"
      }
    },
    {
      "cell_type": "markdown",
      "source": [
        "![image.png](data:image/png;base64,iVBORw0KGgoAAAANSUhEUgAAAC8AAADGCAYAAABCbNnmAAAEGElEQVR4nO2cvW7iQBSFz6z2USBFlCcYngC22SrtdqYMTbqU221jyqXblooG8wTxE0QpYr/LbAHYY8JPNDPXJyj3kywFO7I/D5fBlg/XOOccrpRvbIEYVJ6FygM15iMDY9plukmz53Okka/XWJbdVYuVvH0S+Xq9xNbdwtrdysUK0voJ5Gus98Nu7/F039hDfPBdLFXuLOAAOJtXndewuauiD3CaaPki24nCurxyzrnK5fZwnQyRZbPBarH7097jxwAABri5228vsVzXcYc4R9SpF9luhHclc2S9ZOlEyb8vmWaLyyBfOhHynuCR0W1P7OBdSUi4vF8alxah0gmW90f2I0tWpNTeEijv13TmTnl1TlDAPkzeL5lzUp3SOn2SoQTJ+yOaFa5THgf/6b1D6UvHOBd3D2uMOfbdEbPLD6M3IyxUnoXKs1B5FirPQuVZqDwLlWeh8ixUnoXKs1B5FirPQuVZqDwLlWeh8ixUnoXKs1B5Fl9b/vBpd19Pv4EY+c20Sa/6bNeNMBeMlu0Jlq/fXs5sLTEbGhjhTG6Smrd5BbdNkMAVWbth8Vv0HUj/gR0/It+HWlHitUp+hAbh2cbidii39/Tymz+Y7RPdTVBUiNCUUZXb86E4iUTcAXJls5jAmKloDD39bOMq7wO7wERwuhQY+QEe/uVo/eV+BCBTNoMbNEFuvOBNaK7v4cLsDjdCM46I/GY6wT5Wj+wnxhIHAQSnyh5+dhE88oP25wlHyQoH9/wAye+o6ERrsyPv0jjRLi+SpOaPXdP3wde+DWSi8ixUnoXKs1B5FirPQuVZqDwLlWeRRP7YPWsft4I68ixUnoXKs1B5FirPQuVZqDwLlWeh8iySyR/eCvbxOPN7yp319fx1j5YNC7EerdtFNqYV3a/ycvpDrvFg1MjX8xGGs7azbFY4L2t2kG6VIPi0/XamQr35LpEmLMQwd8Fl43XEBWAlM7dnCJSv8Oo1Ub6TSsBdQOd5FoHyQ9za9tWLVOrzAoHyfu9hoJRM+J8jeJ7qdAGV7fx8ikR9iU+cQJF91r7EznX7bvd/bRPfBd25d5cK7ZK+qaxPskQrg6ue55Pew/adJ0428ow88VWXjcqzUHkWKs9C5VmoPAuVZ6HyLFSehcqzUHkWKs9C5VmoPAuVZ6HyLFSehcqz0ETrnr4f6WrZsEjSo/X4IpxmhejILzAxBmY0h1QOKo18VnSTrJXXeLCcYSh0AkKNBx/w7Ao0Ydxyhl8CnWYFy2aMv16WuFyuk4++7Gwz/umN/itSx+iEp0o/wpi+b+UXnec/AcLyfmA6fcdQWfnNqu0Yam+ROqguKL/BdNKoI3tK33hTRr6eY2S8Pq02x6NEo9bgRGYnS8zp05r0ZqSDzVFdS49WBjrPs7hq+f8xzecMqUnuUAAAAABJRU5ErkJggg==)"
      ],
      "metadata": {
        "id": "A7jW5-rCw73F"
      }
    },
    {
      "cell_type": "code",
      "metadata": {
        "id": "FHxLtJNIsxL5",
        "colab": {
          "base_uri": "https://localhost:8080/"
        },
        "outputId": "224ed7f1-9834-44f2-ecfc-06c0d74d1c3a"
      },
      "source": [
        "# multilevel Inheritence\n",
        "class ParentA:\n",
        "  def t1(self):\n",
        "    print(\"A is parent of B\")\n",
        "class ChildB(ParentA):\n",
        "  def t2(self):\n",
        "    print(\"level 1--B is child of A\")\n",
        "class ChildC(ChildB):\n",
        "  def t3(self):\n",
        "    print(\"level 2--C is child of B\")\n",
        "class ChildD(ChildC):\n",
        "  def t4(self):\n",
        "    print(\"level 3--D is child of C\")\n",
        "obj=ChildD()\n",
        "obj.t4()\n",
        "obj.t3()\n",
        "obj.t2()\n",
        "obj.t1()"
      ],
      "execution_count": null,
      "outputs": [
        {
          "output_type": "stream",
          "name": "stdout",
          "text": [
            "level 2--C is child of B\n",
            "level 1--B is child of A\n",
            "A is parent of B\n"
          ]
        }
      ]
    },
    {
      "cell_type": "markdown",
      "source": [
        "from the above code it is clear that \n",
        "\n",
        "class ParentA contain one method(t1) and \n",
        "\n",
        "class ChildB contains two methods(t1&t2) and \n",
        "\n",
        "class ChildC contains three methods(t1,t2,t3) and\n",
        "\n",
        "class ChildD contains four methods(t1,t2,t3,t4)."
      ],
      "metadata": {
        "id": "zfjCWsd-vbbA"
      }
    },
    {
      "cell_type": "markdown",
      "source": [
        "## Hierarchical inheritence: one parent but multiple child at the same level:\n",
        "\n",
        "we can assume that there is a parent class A and have mutltiple child class lets say B,C,D menas\n",
        "\n",
        "\n",
        "![image.png](data:image/png;base64,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)\n",
        "\n",
        "\n",
        "\n",
        "\n"
      ],
      "metadata": {
        "id": "kbqLnpTfwCeU"
      }
    },
    {
      "cell_type": "markdown",
      "source": [
        ""
      ],
      "metadata": {
        "id": "_T3r9GWXxSWo"
      }
    },
    {
      "cell_type": "code",
      "metadata": {
        "colab": {
          "base_uri": "https://localhost:8080/"
        },
        "id": "-frIhqKs0lTI",
        "outputId": "6bb58dc6-4998-4d07-9518-704032ff7964"
      },
      "source": [
        "#Hieraichical inheritence\n",
        "class ParentA:\n",
        "  def t1(self):\n",
        "    print(\"A is parent\")\n",
        "class ChildB(ParentA):\n",
        "  def t2(self):\n",
        "    print(\"B is child of A\")\n",
        "class ChildC(ParentA):\n",
        "  def t3(self):\n",
        "    print(\"C is child of A\")\n",
        "class ChildD(ParentA):\n",
        "  def t4(self):\n",
        "    print(\"D is child of A\")\n",
        "\n",
        "\n",
        "obj=ChildB()\n",
        "obj.t1()\n",
        "obj.t2()\n",
        "print()\n",
        "d=ChildC()\n",
        "d.t1()\n",
        "d.t3()\n",
        "print()\n",
        "e=ChildD()\n",
        "e.t1()\n",
        "e.t4()\n"
      ],
      "execution_count": null,
      "outputs": [
        {
          "output_type": "stream",
          "name": "stdout",
          "text": [
            "A is parent of B\n",
            "B is child of A\n",
            "\n",
            "A is parent of B\n",
            "C is child of A\n",
            "\n",
            "A is parent of B\n",
            "D is child of A\n"
          ]
        }
      ]
    },
    {
      "cell_type": "markdown",
      "source": [
        "so A class has only one method(t1),\n",
        "\n",
        "class B has Two methods(t1,t2),\n",
        "\n",
        "class C has two methods(t1,t3)\n",
        "\n",
        "class D has two methods(t1,t4).\n",
        "\n",
        "this is the example of hierarchical inheritence."
      ],
      "metadata": {
        "id": "saBbGG4N-AOd"
      }
    },
    {
      "cell_type": "markdown",
      "source": [
        "## multiple Inheritence:multiple parents  but single child\n",
        "\n"
      ],
      "metadata": {
        "id": "giEkCtZT-NIZ"
      }
    },
    {
      "cell_type": "markdown",
      "source": [
        "![image.png](data:image/png;base64,iVBORw0KGgoAAAANSUhEUgAAAQUAAAB+CAYAAAAtBAQnAAAHOUlEQVR4nO3dPXLiSBiH8b+29ijgwOUTyCcAJ46cTiaHJplswskmgdBkmzpyYjiBdQKXg4G7aAMspMYIJKGP7tbzq6JqZvwxbGEe9/uiHQdJkiQCgC//9H0HANiFKAAwEAUABqIAwEAUABiIAgADUQBgIAoADEQBgIEoADAQBQAGogDAQBQAGCpEYavFbaAgyG6P6/buGDqwfjQeT/N2q8W27zuIy31/3u5ujyp6+paPwvZNL7H5R8tXquCy7d+PE2+NNRsHCii/s7aLWwXBWLP42FuXmhaEv3QUtm8v2n3uUGGYft7XwtrALeF8oyRJdrdVlL1h+ZsTg4O2i1uNczWIVkn2+B4+xgdKRmGrt/SYED7o18O+CuKw4KHJT83Th1ixPjd93hlUtl3ox0EQnicH7zN5VpK862n0/cPLRSE3OoQPd5rcPWifhd8L8Y3EZ6Gux33fB1SRneolRavvQTijVBTWf2b70eHhbiSN7rQ/LMQveqMKfln/yebQ8EF3R76bwFa5U72ksEbRS0Rhrddl+jekXyAjXd2kb4/1QhWcF8/G2WZ6+vWARysl70+iCS7Z6DO3WLy5qv7onY/C+lVZE+72XyCT+2xREb+8MUL4aDk9+dIV/HQ2CuvsmLAbHVKTe+2zwAjhPOPVh2STWzQuNeVlyUE5E4Vjo0NqouywwAjhl5Ge/psr6wIvPbtjrOsw+93H3+rPy9NRyI0OimcaH1wVNV1m78oI4ZnRlfZrI32oxtcWepHf90lxjdeTT0YhGx1KiGf6w7cTT92oxr4KDct/Qz4lv++rc/HZiSjkRgdFWiUHV0R93YyL37iSyRvrx2l2SozuVfGlbjTsMAQnwzB5zj0vY83GRy5nXj8W//8tSZFVlEja3aJV4bsZ76coOfGesMxmHuYeu4JbOE82fd/RgSt6bE7bJPPwzGOrMJkfeXALTwr50SG6P/F9Iv8qBJc9O2WUHz6PiFYJ1yn0qMyoUGykp/dEySa3MDZEWhVc5hx8laiy/J2t+SkAFDgXgzafc7X+kZVK8w2ASvoMgtTgv7x02VEHgNR/EKQW/jk2wgDUc+q5k3y92tfJ/Whip3AMewb3sCfqh23PpdonhXN3lHHCLeyJ+mFbEKQLx4cyRxq+uIDjbAyC1NBOgVMDUI2tQZAaXDSW+Y8gDIA9C8Uijb76wDgBFDt3Yu47BqlWfkIU4wRgsnlcONTaj43j1ADsuBQEqYOfJUkYMGSuBUHq6AfMMk5giGxfKBbp7KdOM05gKFxZKBbp/EfRc2qAz1wcFw51HgWJaxrgJx+CIPUUBYlxAn7xJQhSj1FIMU7Ada4uFIv0HgWJUwPc5PpCsYgVUUgRBrjCp3HhkFVRkBgnYD+fgyBZGAWJcQL28j0IkqVRSHFqgE18WygWsToKEtc0oH++LhSLWB8FiXEC/RnCuHDIiSikGCfQpSEGQXIsChKnBnRjqEGQHIxCijCgLUNZKBZxNgoS4wSaNbSFYhGnoyAxTqAZQx4XDjkfhRSnBtRFEEzeREHimgZURxC+8yoKEuMEyhv6QrGId1FIMU6gCAvF07yNgsSpAd8xLpzndRRShAESQShrEFGQGCeGjiCUN5goSIwTQ8VCsZpBRSFFGIaBhWI9g4yCxDjhO8aF+gYbBYlxwlcE4TKDjkKKU4M/CMLliMIXLpF2HwvFZhCFHMYJN7FQbBZROIJxwh2MC80jCgU4NdiPILSDKJxBGOxEENpDFEpgnLALC8V2EYWSGCf6x0KxG0ShIk4N/WBc6A5RqIFrGrpFELpFFGpinOgGQegeUbgQ40R7WCj2gyg0gFNDs1go9osoNIgwXI5xoX9EoWGME/URBDsQhRYwTlTH/sAeRKFFnBrKYX9gF6LQMq5pKMZC0U5EoQOME9+xP7AXUegQ48QOQbAbUejY0E8NLBTtRxR6MsQwsD9wA1Ho0VDGCRaKbiEKPfN9nGB/4B6iYAkfTw0EwU1EwSI+XdPAQtFdRMEyro8T7A/cRxQs5eI4wbjgB6JgMZdODQTBH0TBAV2E4fDvqPIkJgh+IQqOaGWcWD/uP+7wY3d/9qh11Tuaw0LRTUTBId2PE0tNg0DB7ULbih9JDNxFFBzUyqkhWu2jkySJks1cYfq2eKbxiTBcMnrAPkTBUa1f0zB60nuyUpT+Pp7px6L4vJAPCtxGFBzW/jgx0fNqnwXFL2+Vxwi4hyh4oNVrGib3udPCpzb1PgscQhQ80d44Mdb1frnwob8cFbxHFDzi0sVOsBdR8BDLPlyCKHiquVcCNvqM01/f6GrUwKeE1YiC5y6+hmD9qmX66/Ba40buFWz2b993AO2rf2JY63G6T4KiX0/ioOA/Tgo4brvQbTDNnRLm+jnp8w6hK5wUsLOcKlgWvC2ca/POKWEoiAKKEYNBChJevwKQw04BgIEoADAQBQAGogDAQBQAGIgCAANRAGAgCgAMRAGA4X9OdGG9JrvaDgAAAABJRU5ErkJggg==)"
      ],
      "metadata": {
        "id": "EdDWqeNB-qb7"
      }
    },
    {
      "cell_type": "markdown",
      "source": [
        "there are three parents class A,B,C and single child class D. some point should be keep in mind for this inheritence,\n",
        "\n",
        "we are assuming that the method name is same in child class D and in parent class A,B,C\n",
        "* if a required method is present in child D then no need of methods in A,B,C\n",
        "* if method is not in child D but it is present in A,B,C in all prents then which will execute it is depends upon the order of parents so A's method will be execute.\n",
        "* if method is not in child D and A, but it is present in B,C then B's method will execute.\n",
        "* if method is not in child D and parent A,B but it is present in C then C's method will execute.\n",
        "* if method is not in child D and parent A,B,C then an AtrributeError will be there acording to that method."
      ],
      "metadata": {
        "id": "pM0o1SGF-sQG"
      }
    },
    {
      "cell_type": "markdown",
      "source": [
        "***case 1:*** here we assume that method name is same t1()\n",
        "\n",
        "t1() is present in child class"
      ],
      "metadata": {
        "id": "RT_uXFED_VRu"
      }
    },
    {
      "cell_type": "code",
      "metadata": {
        "id": "v9A9MShv17mZ",
        "colab": {
          "base_uri": "https://localhost:8080/"
        },
        "outputId": "1581914e-6d54-4c42-a800-8c9d4c360366"
      },
      "source": [
        "#Multiple inheritence\n",
        "class ParentA:\n",
        "  \n",
        "  def t1(self):\n",
        "    print(\" Parent A\")\n",
        "\n",
        "class ParentB:\n",
        "  def t1(self):\n",
        "    print(\"parent B\")\n",
        "class ParentC:\n",
        "  def t1(self):\n",
        "    print(\"Parent C\")\n",
        "class ChildD(ParentA,ParentB,ParentC):\n",
        "  def t1(self):\n",
        "    print(\"i am child D\")\n",
        "\n",
        "d=ChildD()\n",
        "d.t1()\n",
        "\n"
      ],
      "execution_count": null,
      "outputs": [
        {
          "output_type": "stream",
          "name": "stdout",
          "text": [
            "child D\n"
          ]
        }
      ]
    },
    {
      "cell_type": "markdown",
      "source": [
        "***case 2:*** here we assume that method name is same t1()\n",
        "\n",
        "t1() is present not in child class but in A,B,C class"
      ],
      "metadata": {
        "id": "AMkTC3YSAY-2"
      }
    },
    {
      "cell_type": "code",
      "source": [
        "#Multiple inheritence\n",
        "class ParentA:\n",
        "  \n",
        "  def t1(self):\n",
        "    print(\" Parent A's t1() \")\n",
        "\n",
        "class ParentB:\n",
        "  def t1(self):\n",
        "    print(\"parent B's t1()\")\n",
        "class ParentC:\n",
        "  def t1(self):\n",
        "    print(\"Parent C's t1()\")\n",
        "class ChildD(ParentA,ParentB,ParentC):\n",
        "  pass\n",
        "\n",
        "d=ChildD()\n",
        "d.t1()\n",
        "\n"
      ],
      "metadata": {
        "colab": {
          "base_uri": "https://localhost:8080/"
        },
        "id": "rsNz9oqbArII",
        "outputId": "6b34d930-852b-4266-ad8a-e4f2c63a5f38"
      },
      "execution_count": null,
      "outputs": [
        {
          "output_type": "stream",
          "name": "stdout",
          "text": [
            " Parent A's t1() \n"
          ]
        }
      ]
    },
    {
      "cell_type": "markdown",
      "source": [
        "***case 3:*** here we assume that method name is same t1()\n",
        "\n",
        "t1() is present not in child class and parent class A but in B,C class"
      ],
      "metadata": {
        "id": "fxdb7FM4BBus"
      }
    },
    {
      "cell_type": "code",
      "source": [
        "#Multiple inheritence\n",
        "class ParentA:\n",
        "  pass\n",
        "class ParentB:\n",
        "  def t1(self):\n",
        "    print(\"parent B's t1()\")\n",
        "class ParentC:\n",
        "  def t1(self):\n",
        "    print(\"Parent C's t1()\")\n",
        "class ChildD(ParentA,ParentB,ParentC):\n",
        "  pass\n",
        "\n",
        "d=ChildD()\n",
        "d.t1()\n",
        "\n"
      ],
      "metadata": {
        "colab": {
          "base_uri": "https://localhost:8080/"
        },
        "id": "kUg9pR49A8eg",
        "outputId": "b8ef163b-b00b-4463-a3b8-7c6cdb17eebc"
      },
      "execution_count": null,
      "outputs": [
        {
          "output_type": "stream",
          "name": "stdout",
          "text": [
            "parent B's t1()\n"
          ]
        }
      ]
    },
    {
      "cell_type": "markdown",
      "source": [
        "***case 4:*** here we assume that method name is same t1()\n",
        "\n",
        "t1() is present not in child class, parent class A and parent class B but in C class"
      ],
      "metadata": {
        "id": "i7eTOsOiBbx_"
      }
    },
    {
      "cell_type": "code",
      "source": [
        "#Multiple inheritence\n",
        "class ParentA:\n",
        "  pass\n",
        "class ParentB:\n",
        "  pass\n",
        "class ParentC:\n",
        "  def t1(self):\n",
        "    print(\"Parent C's t1()\")\n",
        "class ChildD(ParentA,ParentB,ParentC):\n",
        "  pass\n",
        "\n",
        "d=ChildD()\n",
        "d.t1()\n",
        "\n"
      ],
      "metadata": {
        "colab": {
          "base_uri": "https://localhost:8080/"
        },
        "id": "xDdW2vWwBprz",
        "outputId": "42d59a49-a582-46f0-f7df-cf1b4aef25b3"
      },
      "execution_count": null,
      "outputs": [
        {
          "output_type": "stream",
          "name": "stdout",
          "text": [
            "Parent C's t1()\n"
          ]
        }
      ]
    },
    {
      "cell_type": "markdown",
      "source": [
        "***case 5:*** here we assume that method name is same t1()\n",
        "\n",
        "t1() is present not in child class,and   also not present in parent class A , parent class B and parent class C.\n",
        "\n",
        "it will produce error--AttributeError: 'ChildD' object has no attribute 't1'"
      ],
      "metadata": {
        "id": "7_t0X8kPB2lP"
      }
    },
    {
      "cell_type": "code",
      "source": [
        "#Multiple inheritence\n",
        "class ParentA:\n",
        "  pass\n",
        "class ParentB:\n",
        "  pass\n",
        "class ParentC:\n",
        "  pass\n",
        "class ChildD(ParentA,ParentB,ParentC):\n",
        "  pass\n",
        "\n",
        "d=ChildD()\n",
        "d.t1()\n",
        "\n"
      ],
      "metadata": {
        "id": "Mt-c0JWcCMsz"
      },
      "execution_count": null,
      "outputs": []
    },
    {
      "cell_type": "markdown",
      "source": [
        "### if you change the order then output will be change as per your changed order.\n",
        "\n",
        "above case is for understanding the order of parent class execution. \n",
        "\n",
        "if the method name is different then it will  access the coressponding class method for example-"
      ],
      "metadata": {
        "id": "lYcJg-zDCWrP"
      }
    },
    {
      "cell_type": "code",
      "source": [
        "#Multiple inheritence\n",
        "class ParentA:\n",
        "  \n",
        "  def t1(self):\n",
        "    print(\" Parent A's t1() \")\n",
        "\n",
        "class ParentB:\n",
        "  def t2(self):\n",
        "    print(\"parent B's t2()\")\n",
        "class ParentC:\n",
        "  def t3(self):\n",
        "    print(\"Parent C's t3()\")\n",
        "class ChildD(ParentA,ParentB,ParentC):\n",
        "  def t4(self):\n",
        "    print(\"Parent C's t4()\")\n",
        "\n",
        "d=ChildD()\n",
        "d.t1()\n",
        "\n"
      ],
      "metadata": {
        "colab": {
          "base_uri": "https://localhost:8080/"
        },
        "id": "0Bym9uPIC6RU",
        "outputId": "99286105-8452-4e70-ab87-853c2fe0a893"
      },
      "execution_count": null,
      "outputs": [
        {
          "output_type": "stream",
          "name": "stdout",
          "text": [
            " Parent A's t1() \n"
          ]
        }
      ]
    },
    {
      "cell_type": "markdown",
      "source": [
        "## hybrid inheritence:combination of two or more inheritence so we can say\n",
        "\n",
        "hybrid inheritence=combination of(single+multi level+multiple + hierarchical) inheritence.\n",
        "\n",
        "we can understand hybrid inheritence with the help of method **8resolution order algorithm*** because\n",
        "\n",
        "when we are dealing with the hybrid inhritence then main problem arises with the order of method means\n",
        "\n",
        "which class and which method will execute first. so we have to understand MRO algorithm.\n",
        "MRO Algorithm:"
      ],
      "metadata": {
        "id": "o7xH9ylFDWeO"
      }
    },
    {
      "cell_type": "markdown",
      "metadata": {
        "id": "nxO-XtCsb6MS"
      },
      "source": [
        "### method resolution order(MRO)"
      ]
    },
    {
      "cell_type": "markdown",
      "source": [
        "![image.png](data:image/png;base64,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)"
      ],
      "metadata": {
        "id": "ncho-t_QG3Ld"
      }
    },
    {
      "cell_type": "code",
      "metadata": {
        "id": "xmjKd3ujpIRs",
        "colab": {
          "base_uri": "https://localhost:8080/"
        },
        "outputId": "bad17abf-8c29-419a-d838-1079c81ebdf1"
      },
      "source": [
        "class O:\n",
        "  def m1(self):\n",
        "    print(\"O\")\n",
        "class A(O):\n",
        "  def m1(self):\n",
        "    print(\"A\")\n",
        "class B(O):\n",
        "  def m1(self):\n",
        "    print(\"B\")\n",
        "class C(O):\n",
        "  def m1(self):\n",
        "    print(\"C\")\n",
        "class X(A,B):\n",
        "  def m1(self):\n",
        "    print(\"X\")\n",
        "class Y(B,C):\n",
        "  def m1(self):\n",
        "    print(\"Y\")\n",
        "\n",
        "class P(X,Y,C):\n",
        "  def m1(self):\n",
        "    print(\"P\")\n",
        "\n",
        "p=P()\n",
        "print(O.mro())\n",
        "print(A.mro())\n",
        "print(B.mro())\n",
        "print(C.mro())\n",
        "print(X.mro())\n",
        "print(Y.mro())\n",
        "print(P.mro())"
      ],
      "execution_count": null,
      "outputs": [
        {
          "output_type": "stream",
          "name": "stdout",
          "text": [
            "[<class '__main__.O'>, <class 'object'>]\n",
            "[<class '__main__.A'>, <class '__main__.O'>, <class 'object'>]\n",
            "[<class '__main__.B'>, <class '__main__.O'>, <class 'object'>]\n",
            "[<class '__main__.C'>, <class '__main__.O'>, <class 'object'>]\n",
            "[<class '__main__.X'>, <class '__main__.A'>, <class '__main__.B'>, <class '__main__.O'>, <class 'object'>]\n",
            "[<class '__main__.Y'>, <class '__main__.B'>, <class '__main__.C'>, <class '__main__.O'>, <class 'object'>]\n",
            "[<class '__main__.P'>, <class '__main__.X'>, <class '__main__.A'>, <class '__main__.Y'>, <class '__main__.B'>, <class '__main__.C'>, <class '__main__.O'>, <class 'object'>]\n"
          ]
        }
      ]
    },
    {
      "cell_type": "code",
      "metadata": {
        "id": "L-SNCt5hpHTu"
      },
      "source": [
        ""
      ],
      "execution_count": null,
      "outputs": []
    },
    {
      "cell_type": "markdown",
      "source": [
        "## cyclic inheritence:(not required in python)\n",
        "\n",
        "if the class extend the same class\n",
        "some example\n",
        "class A(A):\n",
        "means class A extend class A so why we should use cyclic inheritence ***so no need***\n",
        "\n",
        "lets take an example\n",
        "\n",
        "class A(B):   \n",
        ">>some fuctionality\n",
        "\n",
        "class B(A):\n",
        ">>some fuctionality\n",
        "\n",
        "### menas A required B properties and B required A properties  for this why you not provide the single class A or class B so no need of cyclic inheritence.\n"
      ],
      "metadata": {
        "id": "hNM4OX7bDxcn"
      }
    },
    {
      "cell_type": "code",
      "source": [
        ""
      ],
      "metadata": {
        "id": "eLr-syJ9HGKU"
      },
      "execution_count": null,
      "outputs": []
    },
    {
      "cell_type": "markdown",
      "source": [
        "# Super()\n",
        "\n",
        "The super() builtin returns a proxy object (temporary object of the superclass) that allows us to access methods of the base class."
      ],
      "metadata": {
        "id": "34LfGeseLsA5"
      }
    },
    {
      "cell_type": "code",
      "source": [
        "class Student:\n",
        "  def __init__(self, SName):\n",
        "    print(SName, 'is a Good Student.')\n",
        "    \n",
        "class info(Student):\n",
        "  def __init__(self):\n",
        "    print('Name information')\n",
        "    super().__init__(input(\"enter your name\"))\n",
        "    \n",
        "d1 = info()"
      ],
      "metadata": {
        "colab": {
          "base_uri": "https://localhost:8080/"
        },
        "id": "JefEhLXXHF6q",
        "outputId": "65734bd8-6ddc-4315-de43-c104dbcad541"
      },
      "execution_count": null,
      "outputs": [
        {
          "output_type": "stream",
          "name": "stdout",
          "text": [
            "Name information\n",
            "enter your namevivek\n",
            "vivek is a Good Student.\n"
          ]
        }
      ]
    },
    {
      "cell_type": "code",
      "source": [
        "class person:\n",
        "    def __init__(self, firstname, lastname):\n",
        "        self.firstname = firstname\n",
        "        self.lastname = lastname\n",
        "    def fullname(self):\n",
        "        print(firstname, ' ', lastname)\n",
        "    \n",
        "class student(person):\n",
        "    def __init__(self, firstname, lastname, grade):\n",
        "        self.grade = grade\n",
        "        super().__init__(firstname, lastname) # calling base constructor\n",
        "    def display_details():\n",
        "        super().fullname() # calling base class method\n",
        "        print('Grade ', self.grade)\n",
        "        \n",
        "std = student('James', 'Bond', '10')\n",
        "std.display_details()"
      ],
      "metadata": {
        "id": "TEX0qiqbQmkR"
      },
      "execution_count": null,
      "outputs": []
    },
    {
      "cell_type": "code",
      "metadata": {
        "id": "CEu8F20LzpRU",
        "colab": {
          "base_uri": "https://localhost:8080/"
        },
        "outputId": "3fb0d58b-79d4-4582-8553-9f8bb8c21ef0"
      },
      "source": [
        "class A:\n",
        "  def __init__(self):\n",
        "    print(\"i m A constructor\")\n",
        "  def m2(self):\n",
        "    print(\"i m in A\")\n",
        "class B(A):\n",
        "  def __init__(self):\n",
        "    super().__init__()\n",
        "    print(\"i m B constructor\")\n",
        "\n",
        "  def m1(self):\n",
        "    super().m2()\n",
        "    print(\" AA\")\n",
        "a=B()\n",
        "a.m1()"
      ],
      "execution_count": null,
      "outputs": [
        {
          "output_type": "stream",
          "name": "stdout",
          "text": [
            "i m A constructor\n",
            "i m B constructor\n",
            "i m in A\n",
            " AA\n"
          ]
        }
      ]
    },
    {
      "cell_type": "markdown",
      "source": [
        "Excercise-"
      ],
      "metadata": {
        "id": "6Ozb08ohCKHC"
      }
    },
    {
      "cell_type": "markdown",
      "source": [
        "# Garbage Collection"
      ],
      "metadata": {
        "id": "uYE-cw-ECOVO"
      }
    },
    {
      "cell_type": "markdown",
      "source": [
        "### if we are talking about the programming language like c++  then in this language who is the responsible for creating and destroying the object then only the programmer is the responsibile for that.\n",
        "\n",
        "### As we know that progarmmer is very much caring when he/she is creating objects in a object oriented programming.\n",
        "### but we know that he/she is not very intersting or caring to destroy that objects if they are not in use. \n",
        "### so we can think it as we are very happy when someone are giving us gift but we are not so happy to give them gift back."
      ],
      "metadata": {
        "id": "3jOIBmaNCVa1"
      }
    },
    {
      "cell_type": "markdown",
      "source": [
        "## so if we create an object then we have to destory it also.\n",
        "### if we ***don't destroy*** that objetcs then ***memory will be full*** by these useless objects, means out of memory will be there.\n",
        "### But in python, programmer is responsible to cerate the object but programmer is not responsible for destroy the object,\n",
        "### there is something which will destroy the useless object , it is called ***\"garbage collector\"***"
      ],
      "metadata": {
        "id": "QC5U9QHfDD3d"
      }
    },
    {
      "cell_type": "markdown",
      "source": [
        "so we can understand it if there is a reference object then it is usefull, but if there is no refernec object then it is \n",
        "garbage collection.so object not having any reference variable.\n",
        "###  \"no refrence variable------useless object\"\n",
        "Based on our requirement we can enable or disable the garbage collector.\n",
        "\n",
        "***By default it is enabled***\n",
        "\n",
        "For this you have to ***import gc module***. gc module have --\n",
        "1. gc.isenabled()\n",
        "2. gc.enabled()\n",
        "3. gc.disabled()\n",
        "\n",
        "lets understand above by an example--"
      ],
      "metadata": {
        "id": "ick4hk4IDoAk"
      }
    },
    {
      "cell_type": "code",
      "metadata": {
        "id": "tZWVDGiCS5Fq",
        "colab": {
          "base_uri": "https://localhost:8080/"
        },
        "outputId": "5969307e-d0fd-4d1b-ecdb-59c84a531269"
      },
      "source": [
        "import gc\n",
        "print(gc.isenabled())"
      ],
      "execution_count": 1,
      "outputs": [
        {
          "output_type": "stream",
          "name": "stdout",
          "text": [
            "True\n"
          ]
        }
      ]
    },
    {
      "cell_type": "markdown",
      "source": [
        "the output wil be TRUE\n",
        "\n",
        "now you can disabled it then once again enable please check it below and observe the output"
      ],
      "metadata": {
        "id": "SYdS6RiyEUKy"
      }
    },
    {
      "cell_type": "code",
      "source": [
        "import gc\n",
        "print(\"default it is enabled\")\n",
        "print(gc.isenabled()) # here it is enable\n",
        "gc.disable()         #after disable \n",
        "print(\"now it will disable\")\n",
        "print(gc.isenabled()) # we disable it\n",
        "print(\"now once again make it enable\")\n",
        "gc.enable()          # Now enable it\n",
        "print(gc.isenabled())"
      ],
      "metadata": {
        "colab": {
          "base_uri": "https://localhost:8080/"
        },
        "id": "cdhbgtMmEOVq",
        "outputId": "54f72754-aa53-4289-c427-d577afa0455e"
      },
      "execution_count": 2,
      "outputs": [
        {
          "output_type": "stream",
          "name": "stdout",
          "text": [
            "default it is enabled\n",
            "True\n",
            "now it will disable\n",
            "False\n",
            "now once again make it enable\n",
            "True\n"
          ]
        }
      ]
    },
    {
      "cell_type": "markdown",
      "source": [
        "# Destructor"
      ],
      "metadata": {
        "id": "V9XivmFJE7PZ"
      }
    },
    {
      "cell_type": "markdown",
      "source": [
        "### so now, we know the term constructor well, we know that the name of the constructor _ _init_ _(self) and \n",
        "### when we create an  object then automatically this constructor will be executed to declare and initialize the instance variables .\n",
        "### similarly there ia a concept named ***destructor*** that is  _ _ del_ _ (self).  \n",
        "* in java we use finalize for the same"
      ],
      "metadata": {
        "id": "I6Kfj8eQE9Hy"
      }
    },
    {
      "cell_type": "markdown",
      "source": [
        "### lets understand more about the destructor. if we have any object which have no refrence then it is treated as useless object so garbage collector have to delete it \n",
        "### But before the deletion of that useless object ,garbage collector will check is there any connection or not with object like database connection or network connection. \n",
        "### if there is connecton then it will close that then garbage collector will call the destructor _ _ del_ _(self) and now delete that useless object.\n",
        "### \"just before destroying the object,garbage collector(gc) will always call the destructor to perform cleanup activity\"\n",
        "### PVM call garbage collector and garabge colletcor will call destructor."
      ],
      "metadata": {
        "id": "TGcqkBaSFf0Q"
      }
    },
    {
      "cell_type": "code",
      "source": [
        "class Test:\n",
        "    def __init__(self):\n",
        "        print(\"constructor for object creation\")\n",
        "    def __del__(self):\n",
        "        print(\"deletion of object...\")\n",
        "d1=Test()\n",
        "print(\"object is created\")"
      ],
      "metadata": {
        "colab": {
          "base_uri": "https://localhost:8080/"
        },
        "id": "dtRzZBH_EkrR",
        "outputId": "e20e22d2-292c-4a0d-aa9d-ec932026b2fb"
      },
      "execution_count": 3,
      "outputs": [
        {
          "output_type": "stream",
          "name": "stdout",
          "text": [
            "constructor for object creation\n",
            "object is created\n"
          ]
        }
      ]
    },
    {
      "cell_type": "markdown",
      "source": [
        "here only constructor will work you can see the output--\n",
        "\n",
        "constructor for object creation\n",
        "object is created\n",
        "\n",
        "### now we are removing the object refernce , check the program and output"
      ],
      "metadata": {
        "id": "XoUkg5EpHb9o"
      }
    },
    {
      "cell_type": "code",
      "source": [
        "class Test:\n",
        "    def __init__(self):\n",
        "        print(\"constructor for object creation\")\n",
        "    def __del__(self):\n",
        "        print(\"deletion of object......\")\n",
        "d1=Test()\n",
        "print(\"object is created\")\n",
        "d1=None"
      ],
      "metadata": {
        "colab": {
          "base_uri": "https://localhost:8080/"
        },
        "id": "Q1KCh7ZyHShm",
        "outputId": "5d250eac-27d2-470b-90cf-d6ff2640f686"
      },
      "execution_count": 5,
      "outputs": [
        {
          "output_type": "stream",
          "name": "stdout",
          "text": [
            "constructor for object creation\n",
            "object is created\n",
            "deletion of object......\n"
          ]
        }
      ]
    },
    {
      "cell_type": "markdown",
      "source": [
        "now we are removing refrence and now object is useless and ready for gc and gc will call destructor"
      ],
      "metadata": {
        "id": "XIEH95YiIGQ0"
      }
    },
    {
      "cell_type": "code",
      "source": [
        "class Test:\n",
        "    def __init__(self):\n",
        "        print(\"constructor for object creation\")\n",
        "    def __del__(self):\n",
        "        print(\"deletion of object......\")\n",
        "d1=Test()\n",
        "print(\"object is created\")\n",
        "d1=None\n",
        "\n",
        "print(\"object has been deleted\")\n",
        "print(d1)"
      ],
      "metadata": {
        "colab": {
          "base_uri": "https://localhost:8080/"
        },
        "id": "qXxCk_jTHyMk",
        "outputId": "9d75db84-8236-4e48-c6a1-7acbfac48d36"
      },
      "execution_count": 6,
      "outputs": [
        {
          "output_type": "stream",
          "name": "stdout",
          "text": [
            "constructor for object creation\n",
            "object is created\n",
            "deletion of object......\n",
            "object has been deleted\n",
            "None\n"
          ]
        }
      ]
    },
    {
      "cell_type": "markdown",
      "source": [
        "### if we are in above progrm then what is the difference between d1=None and Del d1 ?.\n",
        "### if we use d1=None it means that d1 is there but d1 is not pointing to any object \n",
        "### so the corresponding object is now eligible for garbage collection.\n",
        "### if we use Del d1 menas that d1 will be gone and corresponding object will be gone. you can check it ."
      ],
      "metadata": {
        "id": "-cuvjrtxIWdg"
      }
    },
    {
      "cell_type": "code",
      "source": [
        "class Test:\n",
        "    def __init__(self):\n",
        "        print(\"constructor for object creation\")\n",
        "    def __del__(self):\n",
        "        print(\"deletion of object......\")\n",
        "d1=Test()\n",
        "print(\"object is created\")\n",
        "\n",
        "del d1\n",
        "\n",
        "print(\"object has been deleted\")\n",
        "print(d1)\n"
      ],
      "metadata": {
        "colab": {
          "base_uri": "https://localhost:8080/",
          "height": 269
        },
        "id": "kU5b30z0IOng",
        "outputId": "569dad33-065c-4dff-9a7a-0828f15590bd"
      },
      "execution_count": 7,
      "outputs": [
        {
          "output_type": "stream",
          "name": "stdout",
          "text": [
            "constructor for object creation\n",
            "object is created\n",
            "deletion of object......\n",
            "object has been deleted\n"
          ]
        },
        {
          "output_type": "error",
          "ename": "NameError",
          "evalue": "ignored",
          "traceback": [
            "\u001b[0;31m---------------------------------------------------------------------------\u001b[0m",
            "\u001b[0;31mNameError\u001b[0m                                 Traceback (most recent call last)",
            "\u001b[0;32m<ipython-input-7-346db88601b7>\u001b[0m in \u001b[0;36m<module>\u001b[0;34m()\u001b[0m\n\u001b[1;32m     10\u001b[0m \u001b[0;34m\u001b[0m\u001b[0m\n\u001b[1;32m     11\u001b[0m \u001b[0mprint\u001b[0m\u001b[0;34m(\u001b[0m\u001b[0;34m\"object has been deleted\"\u001b[0m\u001b[0;34m)\u001b[0m\u001b[0;34m\u001b[0m\u001b[0;34m\u001b[0m\u001b[0m\n\u001b[0;32m---> 12\u001b[0;31m \u001b[0mprint\u001b[0m\u001b[0;34m(\u001b[0m\u001b[0md1\u001b[0m\u001b[0;34m)\u001b[0m\u001b[0;34m\u001b[0m\u001b[0;34m\u001b[0m\u001b[0m\n\u001b[0m",
            "\u001b[0;31mNameError\u001b[0m: name 'd1' is not defined"
          ]
        }
      ]
    },
    {
      "cell_type": "markdown",
      "source": [
        "constructor for object creation\n",
        "\n",
        "object is created\n",
        "\n",
        "deletion of object......\n",
        "\n",
        "object has been deleted\n",
        "\n",
        "NameError: name 'd1' is not defined because refrence and object both gone."
      ],
      "metadata": {
        "id": "nyRNHpwRJHaJ"
      }
    },
    {
      "cell_type": "markdown",
      "source": [
        "### Predict the output of elow code? "
      ],
      "metadata": {
        "id": "IY0F0DoQJc2P"
      }
    },
    {
      "cell_type": "code",
      "source": [
        "class Test:\n",
        "    def __init__(self):\n",
        "        print(\"constructor for object creation\")\n",
        "    def __del__(self):\n",
        "        print(\"deletion of object......\")\n",
        "\n",
        "gc.disable()  # Here we disable the gc, so what happen\n",
        "d1=Test()\n",
        "print(\"object is created\")\n",
        "\n",
        "d1=None\n",
        "print(\"object has been deleted\")\n"
      ],
      "metadata": {
        "colab": {
          "base_uri": "https://localhost:8080/"
        },
        "id": "al5YOUqKI7RG",
        "outputId": "96a73f16-3cb1-4ec5-83eb-29d133128722"
      },
      "execution_count": 8,
      "outputs": [
        {
          "output_type": "stream",
          "name": "stdout",
          "text": [
            "constructor for object creation\n",
            "object is created\n",
            "deletion of object......\n",
            "object has been deleted\n"
          ]
        }
      ]
    },
    {
      "cell_type": "markdown",
      "source": [
        "### If we disabled the gc by using gc.disable() still the destructor will execute you can check the output Above-"
      ],
      "metadata": {
        "id": "AeDDEtfnKC5I"
      }
    },
    {
      "cell_type": "markdown",
      "source": [
        "if tou are thinking that gc.disable() is not working then you can check it-- take a look below"
      ],
      "metadata": {
        "id": "0AOgsm7iKRFA"
      }
    },
    {
      "cell_type": "code",
      "source": [
        "class Test:\n",
        "    def __init__(self):\n",
        "        print(\"constructor for object creation\")\n",
        "    def __del__(self):\n",
        "        print(\"deletion of object......\")\n",
        "\n",
        "gc.disable()  # Here we disable the gc, so what happen\n",
        "print(gc.isenabled())   # here it will check gc is enable or not\n",
        "d1=Test()\n",
        "print(\"object is created\")\n",
        "\n",
        "d1=None\n",
        "print(\"object has been deleted\")\n"
      ],
      "metadata": {
        "colab": {
          "base_uri": "https://localhost:8080/"
        },
        "id": "pXx8hTWTJ4BL",
        "outputId": "e60c9c9e-4a4a-44ae-8341-e78c07428183"
      },
      "execution_count": 11,
      "outputs": [
        {
          "output_type": "stream",
          "name": "stdout",
          "text": [
            "False\n",
            "constructor for object creation\n",
            "object is created\n",
            "deletion of object......\n",
            "object has been deleted\n"
          ]
        }
      ]
    },
    {
      "cell_type": "markdown",
      "source": [
        "False------------------- ---------here gc is disabled\n",
        "\n",
        "constructor for object creation\n",
        "\n",
        "object is *created*\n",
        "\n",
        "deletion of object......\n",
        "\n",
        "object has been deleted\n",
        "\n",
        "* The purpose of destructor is to perform the clean up activities before destroying an object."
      ],
      "metadata": {
        "id": "TbvSmpm1K4s7"
      }
    },
    {
      "cell_type": "markdown",
      "source": [
        "### Predict the output of below code"
      ],
      "metadata": {
        "id": "X4zj81vzLT1g"
      }
    },
    {
      "cell_type": "code",
      "source": [
        "class Test:\n",
        "    def __init__(self):\n",
        "        print(\"constructor for object creation\")\n",
        "    def __del__(self):\n",
        "        print(\"deletion of object......\")\n",
        "d1=demo()\n",
        "d2=d1\n",
        "d3=d2\n",
        "d4=d3  # 1. how many objects are there and how many refrence varibale are there?\n",
        "del d1 # 2. what will happen ? is object will destroy or not?\n",
        "print(\"d1 object is not deleted \")"
      ],
      "metadata": {
        "colab": {
          "base_uri": "https://localhost:8080/"
        },
        "id": "axhvkNndKkRg",
        "outputId": "effce5da-859e-4eac-8ec3-66f78bf59131"
      },
      "execution_count": 14,
      "outputs": [
        {
          "output_type": "stream",
          "name": "stdout",
          "text": [
            "constructor for object creation\n",
            "d1 object is not deleted \n",
            "<__main__.demo object at 0x7f1fe122ab90>\n"
          ]
        }
      ]
    },
    {
      "cell_type": "markdown",
      "source": [
        "### 1. there is only one object and 4 refrence varibale\n",
        "### 2. no object will  destroy because d2,d3 and d4 has the refrence of that object.\n",
        "\n",
        "### now check the below code and observe the output---"
      ],
      "metadata": {
        "id": "Xj7Tkwb5MSLB"
      }
    },
    {
      "cell_type": "code",
      "source": [
        "class Test:\n",
        "    def __init__(self):\n",
        "        print(\"constructor for object creation\")\n",
        "    def __del__(self):\n",
        "        print(\"deletion of object......\")\n",
        "d1=demo()\n",
        "d2=d1\n",
        "d3=d2\n",
        "d4=d3  # 1. how many objects are there and how many refrence varibale are there?\n",
        "del d1 # 2. what will happen ? is object will destroy or not?\n",
        "print(\"d1 object is not deleted \")\n",
        "del d2\n",
        "print(\"we delete d2 but still object is not delected \")\n",
        "del d3\n",
        "print(\"we delete d3 but still object is not delected \")\n",
        "del d4\n",
        "print(\"now the object has gone due to deletetion of all ref.varible\")"
      ],
      "metadata": {
        "colab": {
          "base_uri": "https://localhost:8080/"
        },
        "id": "GggkfrIfL_ir",
        "outputId": "32c34f96-cc06-45bb-a9e3-655bcb0e63e1"
      },
      "execution_count": 15,
      "outputs": [
        {
          "output_type": "stream",
          "name": "stdout",
          "text": [
            "constructor for object creation\n",
            "d1 object is not deleted \n",
            "we delete d2 but still object is not delected \n",
            "we delete d3 but still object is not delected \n",
            "deletion of object...\n",
            "now the object has gone due to deletetion of all ref.varible\n",
            "deletion of object...\n"
          ]
        }
      ]
    },
    {
      "cell_type": "markdown",
      "source": [
        "* so if multiple refrece to the same object then object will go for garbage colllection if all the refrences variable gone"
      ],
      "metadata": {
        "id": "CZzsUQCBNYAc"
      }
    },
    {
      "cell_type": "code",
      "source": [
        "import time\n",
        "class Test:\n",
        "    def __init__(self):\n",
        "        print(\"constructor for object creation\")\n",
        "    def __del__(self):\n",
        "        print(\"deletion of object processing......\")\n",
        "list=[Test(),Test(),Test()]#how many time constructor will be executed-3 times because 3 object is created\n",
        "time.sleep(5)\n",
        "list=None         #then total list is available for gc means all the 3 objects are eleigble for gc ,\n",
        "                  #for evrey objects gc will call destructor and the destroy\n",
        "                  #how many times destructor will call -3 times (for each object)\n",
        "#list=None\n",
        "print(\"game over\")"
      ],
      "metadata": {
        "colab": {
          "base_uri": "https://localhost:8080/"
        },
        "id": "QYFh5zBFNFnv",
        "outputId": "92519112-302a-408b-858a-8531af53710f"
      },
      "execution_count": 18,
      "outputs": [
        {
          "output_type": "stream",
          "name": "stdout",
          "text": [
            "constructor for object creation\n",
            "constructor for object creation\n",
            "constructor for object creation\n",
            "game over\n",
            "deletion of object processing......\n",
            "deletion of object processing......\n",
            "deletion of object processing......\n"
          ]
        }
      ]
    },
    {
      "cell_type": "markdown",
      "source": [
        "### how many refrences avilable for a particular object?\n",
        "\n"
      ],
      "metadata": {
        "id": "1mk5hrvEUNj5"
      }
    },
    {
      "cell_type": "code",
      "source": [
        "import sys\n",
        "class demo:\n",
        "    def __init__(self):\n",
        "        print(\"constructor for object creation\")\n",
        "d1=demo()\n",
        "d2=d1\n",
        "d3=d2\n",
        "d4=d3\n",
        "print(sys.getrefcount(d1))     #you can write d2 ,d3 or d4 any one object refrence in the place of d1"
      ],
      "metadata": {
        "colab": {
          "base_uri": "https://localhost:8080/"
        },
        "id": "tt5tWw0FOG9A",
        "outputId": "905f8e8e-2ac9-41a6-8b7d-1f4b46d6dcdf"
      },
      "execution_count": 1,
      "outputs": [
        {
          "output_type": "stream",
          "name": "stdout",
          "text": [
            "constructor for object creation\n",
            "5\n"
          ]
        }
      ]
    },
    {
      "cell_type": "markdown",
      "source": [
        "\n",
        "output is---------\n",
        "\n",
        "constructor for object creation\n",
        "\n",
        "5\n",
        "\n",
        "so question arise that why 5 is coming it must be 4. it will give 1 extra refrence count\n",
        "\n",
        "### because 1 is its internal refrence which is \"self\""
      ],
      "metadata": {
        "id": "F7rBvYGaUVEt"
      }
    }
  ]
}