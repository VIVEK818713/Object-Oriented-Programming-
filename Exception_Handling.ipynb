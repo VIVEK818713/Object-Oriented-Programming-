{
  "nbformat": 4,
  "nbformat_minor": 0,
  "metadata": {
    "colab": {
      "name": "Exception_Handling.ipynb",
      "provenance": [],
      "collapsed_sections": [],
      "mount_file_id": "1t1AiZWIFdSdmwR9Ila8k0szRcK6mzSwN",
      "authorship_tag": "ABX9TyP6xjyF6Ic8qs0p1Y6gCfG5",
      "include_colab_link": true
    },
    "kernelspec": {
      "name": "python3",
      "display_name": "Python 3"
    },
    "language_info": {
      "name": "python"
    }
  },
  "cells": [
    {
      "cell_type": "markdown",
      "metadata": {
        "id": "view-in-github",
        "colab_type": "text"
      },
      "source": [
        "<a href=\"https://colab.research.google.com/github/VIVEK818713/Object-Oriented-Programming-/blob/main/Exception_Handling.ipynb\" target=\"_parent\"><img src=\"https://colab.research.google.com/assets/colab-badge.svg\" alt=\"Open In Colab\"/></a>"
      ]
    },
    {
      "cell_type": "markdown",
      "metadata": {
        "id": "IiA7H_C7YcMo"
      },
      "source": [
        "### errors\n",
        "1. Syntax Error\n",
        "2. Runtime Error\n",
        "\n",
        "Syntax error--error occurs invalid syntax"
      ]
    },
    {
      "cell_type": "code",
      "metadata": {
        "id": "_QzhpoYgVG6y"
      },
      "source": [
        "x=10\n",
        "if x==10 # missing colon syntax\n",
        "  print(x)"
      ],
      "execution_count": null,
      "outputs": []
    },
    {
      "cell_type": "code",
      "metadata": {
        "id": "4nGYlhwoWKdC"
      },
      "source": [
        "print \"vivek\""
      ],
      "execution_count": null,
      "outputs": []
    },
    {
      "cell_type": "markdown",
      "metadata": {
        "id": "9ms310d6ZPGl"
      },
      "source": [
        "### Run Time error--\n",
        "Exception"
      ]
    },
    {
      "cell_type": "code",
      "metadata": {
        "id": "jgFGWB84WKSX"
      },
      "source": [
        "print(10/0)"
      ],
      "execution_count": null,
      "outputs": []
    },
    {
      "cell_type": "code",
      "metadata": {
        "id": "tcivsXPvZvr5"
      },
      "source": [
        "print(10/\"ten\")"
      ],
      "execution_count": null,
      "outputs": []
    },
    {
      "cell_type": "code",
      "metadata": {
        "id": "3Iw3WP3AZvkn"
      },
      "source": [
        "x=int(input(\"enter the number---\"))\n",
        "print(x)"
      ],
      "execution_count": null,
      "outputs": []
    },
    {
      "cell_type": "code",
      "metadata": {
        "id": "pDpiHs2xWKH1"
      },
      "source": [
        "# what is exception?\n",
        "#ZeroDivisionError\n",
        "#ValueError\n",
        "#TypeError\n",
        "print(\"hello\")\n",
        "print(10/0)\n",
        "print(\"hi\")"
      ],
      "execution_count": null,
      "outputs": []
    },
    {
      "cell_type": "markdown",
      "metadata": {
        "id": "TRfn3QC3c0rD"
      },
      "source": [
        "try:\n",
        "   Risky code\n",
        "except:\n",
        "   Handling Code/ Alternative code"
      ]
    },
    {
      "cell_type": "code",
      "metadata": {
        "id": "CWSkRVKgWJ8I"
      },
      "source": [
        "# without try-except block\n",
        "print(\"hello\")\n",
        "print(10/0)\n",
        "print(\"hi\")"
      ],
      "execution_count": null,
      "outputs": []
    },
    {
      "cell_type": "code",
      "metadata": {
        "id": "_J14A5J5dboq"
      },
      "source": [
        "# with try-except block\n",
        "try:\n",
        "  print(\"hello\")\n",
        "  print(10/0)\n",
        "  print(\"hi\")\n",
        "except ZeroDivisionError:\n",
        "  print(\"plz dont use 0\")\n",
        "print(\"retry \")"
      ],
      "execution_count": null,
      "outputs": []
    },
    {
      "cell_type": "code",
      "metadata": {
        "id": "EoQoC862dbbQ"
      },
      "source": [
        "# if there is no exception\n",
        "try :\n",
        "  print(\"statement 1\")   \n",
        "  print(\"statement 2\")       \n",
        "  print(\"statement 3\")       \n",
        "except ZeroDivisionError:\n",
        "  print(\"statemnet 4\")    \n",
        "print(\"statement 5\")       "
      ],
      "execution_count": null,
      "outputs": []
    },
    {
      "cell_type": "code",
      "metadata": {
        "id": "GRyX5xDNdbQs"
      },
      "source": [
        "# if there is  exception raised at statement 2 and related except block match\n",
        "try :\n",
        "  print(\"statement 1\")   \n",
        "  print(10/0)       \n",
        "  print(\"statement 3\")       \n",
        "except ZeroDivisionError:\n",
        "  print(\"statemnet 4\")    \n",
        "print(\"statement 5\")       "
      ],
      "execution_count": null,
      "outputs": []
    },
    {
      "cell_type": "code",
      "metadata": {
        "id": "iL--_Tm3flZR"
      },
      "source": [
        "# if there is  exception raised at statement 2 and related except block not match\n",
        "try :\n",
        "  print(\"statement 1\")   \n",
        "  print(10/0)       \n",
        "  print(\"statement 3\")       \n",
        "except ValueError:\n",
        "  print(\"statemnet 4\")    \n",
        "print(\"statement 5\")    "
      ],
      "execution_count": null,
      "outputs": []
    },
    {
      "cell_type": "code",
      "metadata": {
        "id": "9x9BUt-hflWg"
      },
      "source": [
        "# if there is  exception raised at statement 4  abnormal termination\n",
        "try :\n",
        "  print(\"statement 1\")   \n",
        "  print(10/\"ten\")       \n",
        "  print(\"statement 3\")       \n",
        "except TypeError:\n",
        "  print(10/0)    \n",
        "print(\"statement 5\")    "
      ],
      "execution_count": null,
      "outputs": []
    },
    {
      "cell_type": "code",
      "metadata": {
        "id": "g4rRFYrEflTK"
      },
      "source": [
        "# if there is  exception raised at statement 5  abnormal termination\n",
        "try :\n",
        "  print(\"statement 1\")   \n",
        "  print(10/0)       \n",
        "  print(\"statement 3\")       \n",
        "except ZeroDivisionError:\n",
        "  print(\"hello \")    \n",
        "print(10/0)   "
      ],
      "execution_count": null,
      "outputs": []
    },
    {
      "cell_type": "code",
      "metadata": {
        "id": "a_qzhabOflKw"
      },
      "source": [
        "try:\n",
        "  print(10/0)\n",
        "except ZeroDivisionError as msg:\n",
        "  print(\"this error due to divide by zero and the name is \",msg)"
      ],
      "execution_count": null,
      "outputs": []
    },
    {
      "cell_type": "markdown",
      "metadata": {
        "id": "cL3qYyrO82Do"
      },
      "source": [
        "### Multiple Exception block\n",
        "1. order is important\n"
      ]
    },
    {
      "cell_type": "markdown",
      "metadata": {
        "id": "kDWUtS8mWA7M"
      },
      "source": [
        "![exception hirarchy.png](data:image/png;base64,iVBORw0KGgoAAAANSUhEUgAABUMAAAK4CAIAAADRNXuVAAAAAXNSR0IArs4c6QAAAARnQU1BAACxjwv8YQUAAAAJcEhZcwAADsMAAA7DAcdvqGQAAP+lSURBVHhe7J0FXBRNA4fXFrtbMVBM7O7AbhRsscWO126wuwtb7FYQDOwgRBEQ6U7pbu6d3QsODO6O3Qv4z/f7fq/ezk48M7vuMzM7S/EQQAAEQAAEQAAEQAAEQAAEQAAEQAAEVIcApTpFRUlBQAUIxMTExCEoBwHSFmlpaSrQaVBEEAABEAABEAABEAABEJCSAExeSmCIDgL/JEAhKBOBU6dOocOCAAiAAAiAAAiAAAiAQP4jAJPPf22KGimSgJqamjKZbEEvy+XLlxXZG5A3CIAACIAACIAACIAACHBDACbPDVekWlAJwOSVavAAJl9QL0TUGwRAAARAAARAAATyOQGYfD5vYFRPzgRg8jB5OXc5ZAcCIAACIAACIAACIFAACcDkC2Cjo8ocEhA3+a5du5qZmd1CkBeBFy9e5BhHwJw8h30dSYMACIAACIAACIAACCiOAExeceyRc34kIG7yEydOzI9VVOo6weSVunlQOBAAARAAARAAARAAAZYIwORZAolkQIAhIG7y48ePBxU5E4DJyxk4sgMBEAABEAABEAABEFAIAZi8QrAj03xLACav2KaFySuWP3IHARAAARAAARAAARCQDwGYvHw4I5eCQgAmr9iWhskrlj9yBwEQAAEQAAEQAAEQkA8BmLx8OCOXgkIAJq/YlobJK5Y/cgcBEAABEAABEAABEJAPAZi8fDgjl4JCACav2JaGySuWP3IHARAAARAAARAAARCQDwGYvHw4I5eCQgAmr9iWhskrlj9yBwEQAAEQAAEQAAEQkA8BmLx8OCOXgkIAJq/YlobJK5Y/cgcBEAABEAABEAABEJAPAZi8fDgjl4JCACav2JaGySuWP3IHARAAARAAARAAARCQDwGYvHw4I5eCQgAmr9iWhskrlj9yBwEQAAEQAAEQAAEQkA8BmLx8OCOXgkJAGpOPertjWsfqFavWJKFatSqtDa5+8o1hE1TQk/9qq5WvQadPQqUyJUcceumfwWYOkqWV9M2oc93GfddahkgWPw+xYPJ5gIdTQQAEQAAEQAAEQAAEVIYATF5lmgoFVQkC0ph84I3JvcplV8+6A064s1dPp5PDsiffYMUdj3T20v9bSr4PV2sWrjnhxJc0foyE93NLUlSVCff9Oc8bJs85YmQAAiAAAiAAAiAAAiCgBARg8krQCChCPiIglcnfnNatMNXt5A9+/T+OIhpaud9xp1T6bxlpqSkkpKampiQn57DvzLTU5KScP/LS00jMlDSxOfcfJ4ZQVI0xD+KzA85MiY9PShbGy0xLSkxKzcgUxslMSUpOSU0T/Z35PYMUhSQuPp+fQQrGL1dmWnK2Y2nut1ZoFq2le+RTjCiX35qYTpEO4lXLSElO5WeRSqcoGAeQqnfA5KXChcggAAIgAAIgAAIgAAIqSgAmr6INh2IrKQFpTD7o1rTuxalmSy9+8PAP8rE+2o2img8+40HXLNl2r06ZLCttMP/kS1/GreN9rS8u7lmEPlRt2HrTKL5nR/s+3atfvwRzQqOB6y7ZxTORf9Bz8uV6GD71DPRxd/npFhSZQv/usqYUidftsAv5c/iDZV2oQm02PvOl03F/dXBBVyYVNe1NN1zopf6ZkT9e7NbT4Jel8fQ9pl/5efpfHdm8eHO90zeOzWvFHGthcMcxlsdL/LR7fLWskpdY+YkMTDitakCGFOa84p8a62ZhvKyFIE75MYYmn/0Zafe42b5qg+4LDlxcT49pUFSFCbtNPVOka2iYvHS8EBsEQAAEQAAEQAAEQEA1CcDkVbPdUGplJSClyferLK6ehduseuDDOHial9mxeWOGDB0xauy4cUM6VKGoshMfRfJ4MU/XDyUa3qDLwFHDO1alhphEkMhxLw0HFqdKtuw7Yvz4MYPaEY/utNOGROb9OM1XYmHo/p91KDMH7rSPpFh+tLGdzZXhGvVbL7zuR//ssKENWQRfvkO/Qf27t27Ytd+G1zG8cPPpGlWLV2k1ZNRYnXHDWlcuVKjhelt63jzkwbzBFUnCZeq26d5vUJ82FSiqcMMVH5N4gc+PTWtVrShVrLpmu84dZtygRyZcjTqWqdDqv4/04oDgu6u0Kap4nXY9tAcO6te5IUmj5viznvTggNmozqRcVNmGbfsPHtC+HilMnRmPQ6Vqapi8VLgQGQRAAARAAARAAARAQEUJwORVtOFQbCUlIKXJ9y5DlWkzZOLsuXPnzpnQtUYxqnjvLa+F7prgZ/nM7PFT86trBxBB7XTMjceLerRlVKGSjYb/d/l7gI/dQ9MfZMI70W5tU+K82mvP3H/23NTEcCIZHai/7QMB5HxqBDmxVnedOfPnzpwyce5JM3/+ZD0v8vbsDuWoys2baNZqOOWiQxz5KdNqeyUyF69/h0/W18XG1ivK5+aypsVLNBy/5eZDU/Nn97aOUKdKN9/4mUyU/3owt19JqtWy2/z3+iMODi5HqbXcRB/iRVpu0ypRb8YVZnkBCek/+Sb/OZnH8747onEZqut6uwT+Medt/SpR1XsfJa8YBJuPbFuOqjfTNJA+EH1nJkWV6Hjou1QtDZOXChcigwAIgAAIgAAIgAAIqCgBmLyKNhyKraQEpDT5bkWojvutBFLrdW1eWapQa/3HUbwMtweH5vaum+WlhdSa7/hGS3HIl/ObZ/ZUr15Bo93gKaedE4ndP9XP4a/EgFc8py355FCy0dywqwG/w4p8ubI8c1bL8cd+EMEmk+x3ZxamCvW9Lr6/fKqVoY5gYb0oiyJ1570kq+jDHszuVZQacfEnPQpAgtXWplShSlPM6EUCvg/XNC1aa9LJL4Kl8UKTt0rlpXw52q1GqQb/PUwSlCndckt7qrzmms9JvFCL4S1KUlPPhDPrBlLeriX16HrUSaqWhslLhQuRQQAEQAAEQAAEQAAEVJQATF5FGw7FVlIC0pt8p4M2jEmTae7Hi8ka9Va6j+J5vgfHaFJV+m29+ujVu7e3Nw2iqELNdzuQ1fXO363sApMy4nzN99Ar5zsSS099N6cMVaj+kE2XzF69fP7MwuLpY7PXHtEkwR8niMlXHX49+DdYAYc6lC9Soad2r8ZUqf67TGnVj326lLx+X2L6bf6svbeztY1XiMMJ/QZUoSaTdjwwf/782TML86fmLz+60mmHPpjdtwTVdaOZDxPdbz1ZF1Cq81572sJ9HqxuVqT6uLPOgnzF5+RdTXo3VKO6rPvCH77I/LG5d2Wq1tALZHl9sDlt8nrHgxgeSa9WweSVtJejWCAAAiAAAiAAAiAAAoomAJNXdAsg//xFQBqTD7wxpXdZqkidVp179Sb/69akLBH29htfElF23zuYmHHlNn0HDR+u3bl+aYoq1mIPmZ32O71wSPU6LXoOHKLdlt5XbsQDMgceeXdhOyK9zboPHD5s6JAh2r276Z//Stu208nh9MZxGu179+nds2eXdlrTTryipT3adC7JafT5nwEfDnUuU7LO+IPfiVfHmo+lv4lXvm2PPj06NKvbsc+Gt1E8zxsDapehKjbrP2jI0KGDB2oP1tM/8o2W8JAHcweR1fhFK9Zt1aVn366aZBRATfsYfz19gNmmFuWoYjWbtG4+4bIrGRkQf0/e5/ysjuSd+tqtOvfu3adb21okyzaL7tJvFPiZweTz19WA2oAACIAACIAACIAACHBFACbPFVmkWzAJSGPyofdndiwsthy88Igt9z/58r+9FuXyeHmrYvz170vPbyN7xJVeY0N+D7K+OKlmcfrnou3n7X8azkROjXK/t2NKIzVRWlWWP/tFfvc4PzL7avOy0y958BKf9aTtebcrfab7Kb3GxMF1930i6/Tjvj4y0qO3oCO5Dd52x41eOJ8RYG+2e4LYEvuiM1/yTX5OXzWqx3/Ht44k4wwkjDR67kbSYEK8x411/Zlf25yhN8V3pPeurz7HMoo5GuL4aN9kft1I7ZacNXPhr9D3uNOVjE5o7/JlpuvjnpLhBqrxTjupOhJW10uFC5FBAARAAARAAARAAARUlABMXkUbDsVWUgLSmLw0VcjMEP+Wey5nZv8W/O+R07N/Lj4zPT3rc/JkwbtE5Qpm3pMfauxE3pn/a8hKipRfknSzVzNDmkrzCwGTl6j1EAkEQAAEQAAEQAAEQEDFCcDkVbwBUXwlI8CVyStZNcnigLv63Siq/3E7eos75QkweeVpC5QEBEAABEAABEAABECAOwIwee7YIuWCSKDAmHyoxdoJTWrpmzjSH65XngCTV562QElAAARAAARAAARAAAS4IwCT544tUi6IBAqMyStp48LklbRhUCwQAAEQAAEQAAEQAAFWCcDkWcWJxAo8AZi8YrsATF6x/JE7CIAACIAACIAACICAfAjA5OXDGbkUFAIwecW2NExesfyROwiAAAiAAAiAAAiAgHwIwOTlwxm5FBQCMHnFtjRMXrH8kTsIgAAIgAAIgAAIgIB8CMDk5cMZuRQUAjB5xbY0TF6x/JE7CIAACIAACIAACICAfAjA5OXDGbkUFALiJq+vr19Qqq009YTJK01ToCAgAAIgAAIgAAIgAAIcEoDJcwgXSRdAAuImT6yySJEihRDkRaBo0aIw+QJ40aHKIAACIAACIAACIFAACcDkC2Cjo8ocEshh8jnEEn+VM4HLly9z2NhIGgRAAARAAARAAARAAAQURAAmryDwyDafEoDJy9nV/50dTD6fXmeoFgiAAAiAAAiAAAgUdAIw+YLeA1B/dgnA5GHy7PYopAYCIAACIAACIAACIAACvxOAyaNXgACbBJTKY1EYY2NjNlsXaYEACIAACIAACIAACICAchCAyStHO6AU+YXAtm3b1q9fv1E1g6Gh4fjx44n/V6tWbd++fapZiaxSr1ix4tu3b/mlZ6EeIAACIAACIAACIAACIJBFACaP3gACIJBFYMuWLcTkNTU1AQUEQAAEQAAEQAAEQAAEQEBpCcDklbZpUDAQUACBkiVLEpMvX7787du3FZA9sgQBEAABEAABEAABEAABEJCAAExeAkiIAgIFg4CXl5fo1folS5YUjEqjliAAAiAAAiAAAiAAAiCgegRg8qrXZigxCHBEYPPmzSKT79WrV1paGkcZIVkQAAEQAAEQAAEQAAEQAIG8EIDJ54UezgWBfEWgVatWIpOvU6fOixcv8lX1UBkQAAEQAAEQAAEQAAEQyC8EYPL5pSVRDxDIGwF/f381NTXxD9eRffjzliTOBgEQAAEQAAEQAAEQAAEQ4IQATJ4TrEgUBFSOwOHDhwsXLixu8mPHjk1OTla5iqDAIAACIAACIAACIAACIJDvCcDk830To4IgIBGBQYMGiWs8+bOWlha+xy4RO0QCARAAARAAARAAARAAAfkSgMnLlzdyAwGlJBASEtKgQYMcJl+0aNFr164pZXlRKBAAARAAARAAARAAARAo0ARg8gW6+VF5EOATuHXrFvmGfA6TJ39dvnx5eno6KIEACIAACIAACIAACIAACCgVAZi8UjUHCgMCiiEwffr03zWe/EK+RUc+Mq+YMiFXEAABEAABEAABEAABEACBvxCAyaNrgEBBJxAeHt65c2fi7b179xb/Ch15T5789c2bNwUdEOoPAiAAAiAAAiAAAiAAAkpGACavZA2C4oCA3AmYmpqSV+IXLVp07Ngxkcnr6uo+fvyY/HXPnj1yLxEyBAEQAAEQAAEQAAEQAAEQ+BcBmDz6BwgUdAJLlizR1NRMSUm5cOGCyORHjhxJuMyZM2fIkCFhYWEFnRHqDwIgAAIgAAIgAAIgAALKRAAmr0ytgbKAgNwJEEufO3fus2fPSM6nTp0SmfywYcPILxEREdra2tbW1nIvFzIEARAAARAAARAAARAAARD4KwGYPDoHCBRoAsTSnz59mpGRQSicPHkyh8mTH8kae0dHxwLNCJUHARAAARAAARAAARAAASUjAJNXsgZBcUBAvgQyMzNFGf7R5MnR5ORkvuojgAAIgAAIgAAIgAAIgAAIKAMBmLwytALKAAJKQeBvJq8UhUMhQAAEQAAEQAAEQAAEQAAEhARg8ugLIAACAgIweXQFEAABEAABEAABEAABEFAJAjB5lWgmFBIE5EEAJi8PysgDBEAABEAABEAABEAABPJMACafZ4RIAATyCwGYfH5pSdQDBEAABEAABEAABEAgnxOAyefzBkb1QEByAjB5yVkhJgiAAAiAAAiAAAiAAAgokABMXoHwkTUIKBcBmLxytQdKAwIgAAIgAAIgAAIgAAJ/IQCTR9cAARAQEIDJoyuAAAiAAAiAAAiAAAiAgEoQgMmrRDOhkCAgDwLnz5+nhGHUqFHyyBJ5gAAIgAAIgAAIgAAIgAAISE8AJi89MyU7IyYm5urVq3cRQCBvBExNTefMmSMy+fbt2z979ixvSeLs/Ezg+vXrbm5uSnY7RHFAAARAAARAAARAoKAQgMmrfEt/+/ZNZF/4AwiAAAjIjcCOHTtU/gaKCoAACIAACIAACICAahKAyatmu4mV2tHRUW4P7sgIBEAABEQEDh06pPI3UFQABEAABEAABEAABFSTAExeNdsNJg+dAgEQUDQBmLzK//uBCoAACIAACIAACKgsAZi8yjadsOD29vaKfp5H/iAAAgWRgKGhocrfQFEBEAABEAABEAABEFBNAjB51Ww3sVJHRERoa2uLNMLS0jIpKSkaIc8EyFaC8fHx06ZNE7E9ePBgWlpanhMuoAnExcX5+fmNHj1axJPgjY2NLaA4VLDamZmZa9as4Tefmpra/v37Vf7uiQqAAAiAAAiAAAiAgMoSgMmrbNMJCx4VFTVy5EiRHdnZ2al8lZSpAuLbuZ89e1aZiqZ6ZUlISNDV1RX1VdWrQIEv8bZt20Qmj8uhwHcHAAABEAABEAABEFAkAZi8IumzkndkZOTw4cNFdmRtbc1KskiET2DWrFkitqdOnQKWvBAgyxzGjx8Pk88LQ8Weu3nzZn7zlSxZEpeDYtsCuYMACIAACIAACBRwAjB5le8AMHlOmxAmzyJemDyLMBWSFExeIdiRKQiAAAiAAAiAAAj8TgAmr/K9AibPaRPC5FnEC5NnEaZCkoLJKwQ7MgUBEAABEAABEAABmHw+7AMweU4bFSbPIl6YPIswFZIUTF4h2JEpCIAACIAACIAACMDk82EfgMlz2qgweRbxwuRZhKmQpGDyCsGOTEEABEAABEAABEAAJp8P+wBMntNGhcmziBcmzyJMhSQFk1cIdmQKAiAAAiAAAiAAAjD5fNgHYPKcNipMnkW85Ovx+AodizzlnxRMXv7MkSMIgAAIgAAIgAAI/JEAdrxT+Y4Bk+e0CWHyLOINDw8fNWoUvkLHIlI5JwWTlzNwZAcCIAACIAACIAACfyMAk1f5vgGT57QJYfIs4nVwcGjTpg1MnkWkck4KJi9n4MgOBEAABEAABEAABGDy+bYPwOQ5bVqYPIt4HR0d27ZtC5NnEamck4LJyxk4sgMBEAABEAABEACBv5p8KgKXBNKEIZ0JGUzIzB7y2Dth8nkE+O/TYfIs4oXJswhTIUnB5BWCHZmCAAiAAAiAAAiAwO8EqGAEzgiEhISEhob++vUrIiIiOjqabNydkJCQnJxMhg6I4BOd51t9HvslTD6PAGHynAIUTxwmLzfUHGW0detW/pKKkiVLnjp1iqNckCwIgAAIgAAIgAAIgECuBCiymzQCdwTi4uLi4+MTExOJwPMdPsfkfK4tlGsEmHyuiPISAXPyeaGX41yYPIswFZLU8uXLYfIKIY9MQQAEQAAEQAAEQCAHAYpvmAgcEUhhwu8Cz8psPL8tYfKcXtUweRbxwuRZhKmQpAYMGACTVwh5ZAoCIAACIAACIAACOU2eP0WMwBEB/ovxoiBaUZ/3RfWihoTJc3pVw+RZxAuTZxGmQpLq0KEDTF4h5JEpCIAACIAACIAACOQ0+Ry7r+GvciDAbi+EybPLM0dqMHkW8cLkWYSpkKQ6deoEk1cIeWQKAiAAAiAAAiAAAjlNHkRUnQBMntMWhMmziBcmzyJMhSQFk1cIdmQKAiAAAiAAAiAAAr8ToABF1QnA5DltQZg8i3hh8izCVEhSMHmFYEemIAACIAACIAACIACTz4d9ACbPaaPC5FnEC5NnEaZCkoLJKwQ7MgUBEAABEAABEAABmHw+7AMweU4bFSbPIl6YPIswFZIUTF4h2JEpCIAACIAACIAACMDk82EfgMlz2qgweRbxwuRZhKmQpGDyCsGOTEEABEAABEAABEAAJp8P+wBMntNGhcmziBcmzyJMhSQFk1cIdmQKAiAAAiAAAiAAAjD5fNgHYPKcNipMnkW8/v7+IhUkHzNjMWUkJR8CMHn5cEYuIAACIAACIAACIJArATxM54pIBSKMGzeO/5FnEtzc3FSgxKpTxEWLFonYXrt2TQkLHhcXN3DgQD2lD5MmTRoyZEiFChVEPMkvEyZMUPqCS1TAYcOGWVpaKmH3YLdIPXr04DdfqVKllPNyYLe+SA0EQAAEQAAEQAAElJYATF72pnF2dm7SpEkXhYauXbt27NhR3I5atWrVrVs3hRZKkHnnzp0bNWr0O18DA4O2bdsqQwlzLQMhWbVqVZF5NmjQoHv37rmexWmEFi1a3Lp1S5xqeHi4qIT4gwIJnDx5UrxdSOfntCfIP/FevXqVLl2aT7hQoULKcDnIGULLli3Pnz8v+78ZOBMEQAAEQAAEQAAE2CMAk5edpY2NjQK1QVWy/p0vMXxVKbxylvPAgQPiVMnrFcpZzoJWKmNjY/F2KWjVLyD13bx5s+z/ZuBMEAABEAABEAABEGCPAExedpZfvnwpIA+veanm73x79uyZlwRx7pEjR2DyStgNYPJK2CisF8nQ0FD2fzNwJgiAAAiAAAiAAAiwRwAmLztLmLwkT8kweUkoSRXn3yZfrFixEiVKFEfgnkDJkiXFGw4mL1U3VtHIMHnZ/8nEmSAAAiAAAiAAAqwSgMnLjjOHydevX19TU7NxwQ7NmjWrVKmS+DP6v02+SJEi5MXvgs0sl9qTvRgIVXGk/zb5t2/fyt6ncaaUBCQ0+erVqzdt2hT9XOUIkBfjc4w4wOSlvEQQHQRAAARAAARAgCsCMHnZyeYw+YCAANnTykdn7tq1S3KTJ5qaj6rOYVUkN/kHDx5wWA4knZ2AhCZ/8+ZNkFNRAjB5FW04FBsEQAAEQAAE8j0BmLzsTZzD5L9//y57WvnozA0bNkhu8mT763xUdQ6rApPnEG4ekpbQ5M+ePZuHTHCqIgnA5BVJH3mDAAiAAAiAAAj8nQBMXvbeAZP/IzuYvOxd6h8XqphP/Ht1PebkueD/tzRh8vKkrZC8YPIKwY5MQQAEQAAEQAAEciUAk88V0V8jwORh8rL3HinPxJy8lMDkFB0mLyfQissGJq849sgZBEAABEAABEDgXwRg8rL3D5g8TF723iPlmTB5KYHJKTpMXk6gFZcNTF5x7JEzCIAACIAACIAATJ6bPgCTh8lz07P+kCpMXm6opcoIJi8VLlWMDJNXxVZDmUEABEAABECgIBDAnLzsrQyTh8nL3nukPBMmLyUwOUWHycsJtOKygckrjj1yBgEQAAEQAAEQ+BcBmLzs/QMmD5OXvfdIeSZMXkpgcooOk5cTaMVlA5NXHHvkDAIgAAIgAAIgAJPnpg/A5GHy3PSsP6TKvslnpsSEBbi6uXu4u3kEhMQkpsmtLuxnlJEQ7Ovl7u7uQQd3UiFf/5i/1ycjMTLI/afPr9iUzDwXRQlNPi3ul7erV0hsap4rJ0ECmcm//DydfSPkkpkE5eEgCkyeA6hIEgRAAARAAARAgAUCmJOXHaK0Jh/jYWVm8fwlPzx/Zv7JKTBOAfqUGuLw+OmzLwGJstf8n2ey/RW69NiAn1bvXlqYv3PwDkvJ4KjU0iSbFPTJ8uWLF/yGfPHM4r29S1jKXxNIDHCwemb+xT9vZsWuyacGfju/Y4G2ZhFBsoWr9Rq/3fxnuOLopkd7O7w2t/YIS5KmJYRxvW50rpJNuEqp73b8W0IZoQ+XdqWoUnpHbBJInFjvZ2ZPPgYmy5Ivj8eWyScFfrcws/wRkc4vRtIvtw9PXnxx+fX3fvXX6rlemlGWKjH65DdBWrJVTMKzot9NbkhR6su+xNOjIimhP55ZvLYLiJfwbJWIBpNXiWZCIUEABEAABECgABKAycve6FKafIb5tErZHgpL9ttn9Uv27CU8MyXq26vbpx6984sTaFrg6e6kGA13O0mYgLTR2DT5zHinF6f0u9TmcyvTpM9/zwKkLQ8vzN74xJFbP+OkPvFvJ3zfVzz7031bnRv+f4uc8mNXT2KZTYzeB9FRUrxMD5+6+dJXWkNj0+ST7NZ1q0BRhZt0HzpxxqxZs2ZO0RmoVUVj6hlr2mwVE5KtDUcXojRXm4bIkr+rSfv6alSl9hNmzZ41U3/qlLnrd77+e0IJrs/Or5yz855NMJ3Xt22EbXXjCFnyZc3kM7/voK/KsU9i6GIkeV6e34EUSv+oVazUxcr0urWkAVV7+iUneYzLxFot6FCVarvRkRmBcT09mNSi/aHvuZQ6ztfizoWzb1yS5FHEP5YlNdT+9dWTD219YnNdlwGTl7oP4gQQAAEQAAEQAAG5EIDJy45ZSpNPeahLjK5K//lbdu8w3LZ5w5rj9+xCZJqBlKrIqV5GY2pQraY/DxecluRqtn3PwbuO0VIlI3lkFk0+yef54raVC1XvNnO14a5d6+f1Uy+28LnkJRHEdNhJnsWrnhHWX+rzfzvBdhc9l6011XDvTtKQG9cfuG7m+vdZyBgH8+sH9937/otp69QHHSmq8giLXP0hR64smrznoaEktU6zb7lHiZaEpAV/ffnePSRVUKwE5+cmW1etWrPn1B0bP+Ggg9/tFStOuCakeLy+sGnl+kPnLd3E7TfT98Ptrf+tXrvj0KW3HvECQ8vwsziyYrdNIs/7wdE9R+84xyX4Pr60b826DZs2bVy32uicpQszb5zs9e78tK6NS1A1e4yft2L7I5dYfsESvT49Prp69dp1RidMXnpFC+eYMzwvLV992SMm/OPN/XvPvSfK7nWjExntGXg5O7REj+eXty/Z/cg+lKlW4M2Nizdf+06a4Zedxend1z75xUW7Pds3vw+hUXHokp179991k3oog6U5+TTbLT0pqrj+S1K6VBvjGVVLl2276PI/etU/erHA5C+75L2n555Cqt3CTlkm73RiCGE54LRzLieGPO1dh6L0zsm4ECL3YuUaI9Vu17iiVPN1T8NyjQqTzxURIoAACIAACIAACCiEAExeduxSmnzqQ10yJ9/pTPZHx8BnB/R0pm9/TU/OZ8a5XduwbMVuMx++4Kf++nZv54QJejNmn/nkL1TF9OB3JzYaTBuvM9booV0Q37wS/D4c2bD7+oeAMLenqxfPGDtqy31XevF8ZrzPw52Tm9RUoypr9Bk2Zu75t/QUn8vtiTPmn/ouTDAtwv7uoSVzpk3U1Zln/CpI8HCd6HL/2JqdF78Ger05uGqG7pjZZ19FSTaBxqLJh9kZD1ejKg7Z/YOfdYSz+Tci5LEvD8ybsGSfZSBf7dJ9Hu2fMXLRVSdS5XR/q/t79MdMWr71ui09Bx5la7J0bDvyLF664+jZCxaf/MafmU/zt7pGQOmOm7Xt5scIfuLJwWZn9m0788rf2/bY2oW6YxadeOpBfg56dXn1aN05a4698hDOj37ZXZSkuCTH8u3wtweWTxq27rEPTTA9+LWR/rQNN3+k8xK/Xz6waP5Z20hikK/mj+xcmSzsrttr7OwNp594Sj4zz57JO6xvSAYidJ7+9c3msEf/DW9YVphh9b6bb35lBPf9WPJb2359mgiOVRi84Ykbn0n85z36LUTr2yt0WXrCMoyW8bT3ixuT9Qjag5qSU8u2PfnT22JMM7GqVGuqc+wnjxd9ZxmZghaFwSY0w5R3B6c0qyZa/VC+6cR9b/2ZV0LSLcj8deEOvTvRa1wazDcP4/nf7tSgFFWx7Xh9ff0pk6fMW3LmO13kAFOjdkWoIv0PuZO/2K4nsfscJdklfTQaU5xqsvKx+4+L48TBat9iZumlCSyZfPqXbb2Iyc9+l8nzvNK/QuHSgze+DhBvochXxqt0xk+cvWT7Hfsg+kCU/eE1c4atvuvH770ZCTY31o9ctNk0MCHw3rIGVMNFV754vbugq6s7c955uu+JQmLgp4vbZkybPHnSxPX37cP5mWSEvj61fY7exCnTpk2dOH7C3ifegkGeeKebB1fvu/bD9/vNpTP0z1gxN5zMIOtb26eOmbTukOX7R/PbV6Pab+LPyf84SQaJBCYfbn31vxXnrf2CHJ7snaCnO3Pt3R9x9AWb6Pvx2JLBldVI03UZN3bMYjM/ftESfd4e3TJ//Ljpq4/csRe+VRBgeWT6ogvOgW5Xt29Yd9KS3CUDTXdNXPAojOd3Y9Oc+dvfxfESrE12jFt88Lk3/9KOfrZMR3f6TW/yxyT/+8f27DSxDg/7eWvN4sljZxjeZYYYMhMcn+wepFmrKFWpZe9hY+ac+xr5r9f8YfLSXBCICwIgAAIgAAIgID8CMHnZWUtr8o8mVCMP6/Xb9+rft2eXDsNWHKUfTHk+JgOIWJVb6cbjRT7f0JgqP2jHW/qZNOXHEd2+9YoJHiPVu2+xIXbzy8pwdk/yDMwPRSrV1XtMpxH9/cpY9RJFK6nXq1yIf6h07dFXfEmKHxe3EXsQHbI/kHiQ2UxaaW6E0jWPcjy5dHgtwUnk5zKtu+6wo/0y5s3m8dWpwjUa1iopSKBsx802krx5y6LJp4d83jSgFkWVqDt61YXn7sJ57KTXG4n41Zp4hTZtHs/zSM8aZGHyY7LI4PuhFmVpy6ZDm5lXPaK9LmRTtb63yDhK1KsDCzuUFmFRazn8Jj1fH++2dxqBVbFhnfL8YyWqNencq13dEgLYWvoHbcOZInzZTftl1ZZ9BvTt1a1Lr2nLr7vQHuN/cxlpYGrMHfLnb/sHEYNdaU5aJ+SajhaZL77gmcZz3CLWGGp9V72V/H1icZ04cuSIeK+NjIwUP/rgwYN/9enwR50JoYq7aGdNj3x3flXP9p179uraoc2Mk6/96eq5HK1KUU0X3XIO9PO2f7y2R6NiXVa/pgFZT6WzqT5q25137x/tmd6+CKW58IIT3VlCbrYkXXjipR+B/t6Or/aPa6+mOeWKC23dVms6k3OK9l53x/KTnX1IUmqcp/M3m++OLu7eAT9ujiVduckx8r5ESsDnI9N7l6U0p2y/avHZPYq+Li7Q71R0WnDF8rP12wd7Z3UrSlUcdvAto/KvBpJDhTUm7br90va7F7laPG900qgoDmHgHf7i+oAbC8gr8U2XGZ/7T538d5cr/WPc572TK1Nt1jzwSkoOsjpDXw51Vt6ys7V2jpB63wrxTI2NjcXJix86e/bsvxqFxzf58nNuvz4xpmHJCjoXfoh1jQTbbb1blxIlV0N7/WVyt/DY05MMCvW44EaPHGUmfN3QomSxJkteJ/CC7q1sXrZ4uep1hMMgxbWGb7Lk8wh+v3FCd3KaIBRT19Y940qu6gyXvf3qixW4TJu+B5nV+RHPV42oQhWrXZ8Zp2l7gBQr9tO+luUKC66KcpXocZ0u27KbPBkuIesklmiULlujvrqwYSp0G33Wk9xZPh3umlUCilpjTSIHvTkytKrwTkNANF/3Ppy+2fw4QZbrF6nfqDrJpGSvzfap6U47+pJFLc1akdsCGRza5p4Red2gI1W2/wEb/hBp0D46vyV0ojGOm8e1oIpU0agnfK1Jrcb4y17kDnBnefaRI69/XYji7Uj+bGho+M+mxEEQAAEQAAEQAAEQkBMBmLzsoKU1+ccTiXBmhWYTzngwE+DOe/rTD8Pbj6/uVKNK4//eMq/Khr/Y2KgYVaH/ri+BQd6OT48vWXorON37ysLGVMNpp61jaOVy29m+MFV+B5lvTHK+OalhYUp9yI7bVr6hbuZrBpAEK27+RiIluL1YOlSdaqN77q1zUBQ9UZliPp8cHXKXLI3OcDFZrkUVbTbh8Ieffr/Cft6ZQYysULvjxHeSP+6aRh6Wq/df+8jeJ9D+8iiivsU32EtAi0WTJ4YS+fPREi3mQbxIiVIN5txjHtcjv+xvQ1Rd14Sedvc06VpDrcK8e+SPNus1KKrR4kd+GVFfj24/ZPLaJ4OX7P9oFTm7ntG7qF9BZEOxFK/H01vXrq9z8HsYbTAex8l6YM29RD3SvI/OI6mW7bnA+Iu/n+3RiUxTtVxh5uz//eGCruWoGkP2fWL2NSAmL9wqjo5SSnPtuygGjPeJ4WTRsNbWSwf6UVSFyTRioha3JhGbHXnZjdhCRqDNUbK6vs6Qs9/CwiOiJZ+Sz7azWp5MPu7FSDIOUXozPROaGnjFgIwy8ENV/XP0683eJ4gpUSWrNmjWokXzpg2rE4MsPOacA+k5NlPIgWbHyQARCe5XFzal6s48+o3UIerOZHKkcAX1Zi3JKRq1y5ORoV5bTekcrNcQpBqHxBZ6p0d8OT55ePtGjZs3q09LYPG1dnR6STZ7J1eiOm42Z3YTIAp+llwU5ac/EbwTkep4dQBR8YknA+nZU0tyrFzvS2RYShDcrnWsW4Rqv/6zr3+Aj7eXj++vROGwT5CFgWbtkvTwTqu9zvwfY/kmv+ou8Uoez343OdbkUu6rrEW5if9B/IrOm8n3JnXqOaAr0dkGQy5kVY3MQt+aRg5NfUi7eHLgh1X9GlcfZOSQxvMxnqRGFe16hp5nTrA5oEmV6LTuA7Fv31srmqlR5bstum3rERJos2cQuY7r6Fwn7Zb82Whsdap011U3XHwCggJsdg8gQ0/19W57kxQSIyPCImOT6fcrom/rkjtVv8t0A0a/2qxLItUasunpNxePUDJiFXd1bAVy1vTDr72DXN5e3ti9SiGq45bfTd7n7tq2ZUhl9C5/dg/ztlzWoRRVbuA5enVEWpiVcY+GJagxO21/egTSEh1ybnLDonUmmPykR8RCzTfVKFJrxLkf5M9uxiMJ4RqdVt619woJJ2M2md/3jqCNv9O6zz6BgYEJZPXL9SU9qerDjtrxu0rIEXoEaBXdqeJ+7ppKVoDUG2V067tPoJvFllbkSDkjhpfH7RXDK1BaC8+8cQ2K+vfr+uJNTP4Mk//jhYAfQQAEQAAEQAAE5E8AJi87c2lN/qEumYrS2slMeWdmZIq9KR14uGc52lUrd9vyir8QNvblgk7FqGbbPoq9zZ4WeHkprehU4SIkFC3K2GShofeieGmu18fXqdJpjkkgP9Gw6zXJoRYXaDuJd90xQYPqPNtcKAfJfJO/H0WemU2W9qRK9Nv7QbjxXuRNTYqqNPA+eUC22qFXkWq/4TFf3MJOEI+i/rOVgBarJs/PL9n/653FTZjJ8UJL6WnVVL+T0xpTjSbdDYz3uTSzGtV42QO6nLF2u8hQBHlabz/prH2kcA+Cb3vITw3P8uuf7nl/Uw8mITGIVJdrBJXf4RnNqZbjb7ozKw88ztYjsabzX8uPfrJRm6rQdzv9TjZt8rQY6lvQf87M3pKRj8cwawJKlJtpKmg6ocm7MCM0sffJ3Kv6+KfSvpAtrhN5MnmeqyEZbaAaGtFOxQ9Jtrt1alPlp55zIH9x2dcph7pQxUacpxXLmvb11lcYYUpzubqoOVV31nF7MosdcmVMzlOoLpue0cCt17Qmff6ycNF66CfjEaIN85lzChddw3Sq2A/b9SpQHTcy/k+C+0FSjJorrYVXid+TkUTKxhzwowe/LOmBkoGk4wsDMXnibz2P/GHbutCn45oRoSSh9mbBgEJ2k7fZTo41uSDTTnus7XjHn5MvO/u59fEehaliGgb3RC4feWcw3WCEFLnkixRhJsPbj79EZuXTP+iT+edm20mLfNnXgyrZZutneskC8558Hf3L9MQ4CZFPl5CRme5L3pM+bTRMg6o89b6/YDF5wodttaminQws6dOSfZ6sH16zTBFye6GzKNlupz2BH/Nq4+hyVFejF4IRFh7PkSRXqtEWO/6q/qQvizpVo9oJdrwTrq6ns/a5+59m4dqTjAW73z1frkGV6X2S/55MgNlgzeLUtPP8SyQj+sUc5qopTO5qpJL8JUKLH5NDbmeGUVS1OS9Et8EM+z1ktUuDbV+Ey4PSAk2Iydcccfwbv/GzmfwOvUZUx5lP/AS3xeN1SbpDbtN3u0TrPWTkqMNG09x30MzRt2HyossOfwABEAABEAABEFAsAZi87PylN3kyt9x6Lz3VlD1kfJjEX1havOq4U/wt5WNfGHQkJm+YzeQDLi3JMnnyUF+oEFWq/ML3ZJ7Z5fr42lU6z70mMPlfJrTJt2RMPvqH4fiGtMkLH1nFTf4qeQjObvJNyNLVQQ/ETN6befQOOU577aovEtDiwOT5uf463IOse699zId++He9trgSVVX3v2PrhjSl6sx/ES5aF+376NQysqKaKM686470874tveNdgzP8+qd73NuYZfJEjApThQrVm2+ZwMvwPazfjGo1/qYbM1Uedq8FOW3GC/rPGeGPNmhTFfvu+MC8ksA3+Vmvf4eRabOLsS5anfYwQzZZc/J8k4+4Rd7xVh9npjiT50U/nMcUsdf2p27MaEey7a6xNaiyk89+J8bz67oOOdbvxO+b8X+iTV7rIjPqk+ZyRWDypJLJz4ncUY02/b7FWvpn2uRbCqeYU5wvzmtC1V10mZ+4x1Kyjl/QqWLebycjR00WX3UULHR+u5wcKzPmuBttnaHPdo2rSJUfse89U2Da5Mtr38nydtdrHesUorrv56ebSQd+44TemticogZfuruvAd0o65m9DQSr61fdZd7OsDYkR2pupZebSLsNITlFXPPyNifPvCf/lvSXK33IoF7j6bc9+LIacXsg8+0GYvL04BMx+SK1Bq165kuuyzSrlV3IyNvKT1Z7GlBlmxg5MhXgm/yMK4LmiDBbLDR5d8OhfzD5LkvfxUW9mdWGeamkEC3TTAduLzT5UWWpbkbPA4RwHEhjF68/7xV/h4RE24W0yed4T55v8iubFKoz5Zw9vxoWyxpRZfqccmZuJ96PtJsUo6aei2IOZUQ/n80MUBCTp6tI17FEu92fyCHX0+TF+6pzXvAj0nHt95BXKxpu/yp8sz010GRpL6q4aDgy7Bh9BQrm5GmT7zTTVNCXfx3NMvnYjzsnVCAm/+SvH50Q5pitiUnSMHkRGfwBBEAABEAABEBAsQRg8rLzl9LkUx6OJ3PyTVc9cQ8L9PX28vTwDY2lXS/17VKizx33v320pCxVtP6km/RkaYbj0ankzdSKA3cLVtcvXXbHO+bTzvFlqIYzztrEZJBZ/fS01JQU5jE5xunGhAalK7eafNT0i2+Yy01ipGTe7hytvLxoJyNdDUp96GELe7+cq+uTvxyeo05W108+8sGFrK53vqVP7LX4SPod46SP/Dn5R16KM/lkZ8sTsyYYmtr8DAgKdH99YBA9Kz+DP5qQEvBqWddapcvWLF6oYvOVd/gib7l8+KJrXyJTYtye7uxaqGzvZffpmVY72uQrLHocFE5W12dGWJ0ZWqm0uu7h72FEBjLS01NTkhlJSfCkTb7l+BuuzDsPoXeIAlL6zJx8DpO3ZUxe57JPZDDdkJ6+wWH8zdodN5PV/ZVXfv64n7R0hY77mVGZYMHqer7JR94he5RX7rHnfQBZXc/PWKIgbox5m5On4b3aMKBEji/pUc2XXndi9Mh1i2A0Qphnj/+s6DGhj+PJD5rnmMGMVOcL8xpS1aYetmPEO/hMW/FXn0k03Vv0gEjGxxVkr7vGZwW6lBn45uQ4jaw3ExhnXEa/0sxL/nFjfXfBrhAjbvqR5gw7M5B5F1oYKgxe/dybyS3jGRmLKdnrRtbXCNxM2tUTbR9Bn1C01moya/vL3EijbLkmG56S1vHcSQ/g9NpJll0nf945vjTVbNlNd7rVfE06VRBkPPI+UzlpAlsmb7tVtHd9htVxsrlDsbYzLzOjGCnW64nal53GrK5PJxd9alrWeh6vi1qFqGItW9SnimgZMq8p8MhX6JZpFi/dbNi6e3bewYEf1pKxFLWmSyyjyGsQTxcNLk2V7rbmpotvYJC/9c7+1ahSTZe/i+Z5XBvUsKLG3Iu+9BYd4dd0yEig1i7BnDwx+a6Gz5g9FOgQcKgT6TqNZhx57R388/nRBWSrQarTVidmiMXpJH/vepHJ155s/I0/xpbN5H0eDdQsSXVf8+aHK72VZ+r3LVqlCzeYfO0nWRyQSeqYkiyYcnfhm/xz0ZZ9ApM3/CJ6MyXixZaxpakaOtsfuwR6fr67fTAZFS2ymr+6fufkplTFlrOOPPnhE+Rxy4BM9hdtc4ZZXRDzcefEypT6tAPmjn6RWF0vTZdHXBAAARAAARAAAWUhAJOXvSWkNPm0J+TRMVvobPghONZqJ9ndu8yc1/Rz8EWyp1ihFgZXvem50ddLRnQWbQdOdryzJY/1AS83TGyTtTEUSU39NJGshB83JpNveJWqUll4rEK9he+YzcF4KYEPtutW4Oc79jixgXSzGeSP/B3vMn9ZbZ/bK2v3t6IVOow770o/s8e82TKqONX8v7v8mcGgg3RRmH2kcgvszclnhnw6q0dP2wpCqWpt9W+RVcVMyAh7vI1+45vsMGD4yJO/1NeJ3h9LEIo30Dts5k0XPvjRKMF2aIXG0Nvihd7eMb1h1gZiJH5rem11ssfeifWpRiOuODNSEny9Pjky4Sn95/Rfd//rQRXvsuUNs0zcbrf4a/IkVpPh5/x4KV/3kM3dq466Syb/0x7PIk5fdcJRsrQ49Aaz4925H8wK4XT7Dc35Dl1myLbPkn+EULzj5Nnk6YLEOb89vVanY5fuvbp37ai34sQjm4AE4TxnesDT02sHdOzSs1fPbh17T9j9KIDuS05G7Vt3n2nOSFWar8Xh6e1199znz+qTEPPxxrYBHcjmeT27d+49dt0FhwjSjTKcTs9q3XLGU+HbG/ROAZ8uzh7Xv33bMVtvffl2e3GHrscEc8eZ4R/OrBrXtVXPpRfd+AMjqQHPjNf379ixc+cxi7c8cIsTfjsh/ctyzdbDV75mhkaYEP5p4/TRPbp270WHnt269J9kcNMvKczCcHaXQWufejK7mse90tds0WfwQceUdLdb20d2mH3qTQDfFxM+nOqn1a7/iLUPvRS2453dtm6kifWe0jPdmVFfdw8h94qa+mes6aJHv5zYrTn/DQF+UNfe58i/unlhJr2Yu0p57WNugl3s3a8aqKuVqapeV7BzIxk4GnfqB9O2ad6m88a0EezhSJ/VZNjie/Qwy6/Pm6eSDRz4oVidGiS3JswC+ujnqwYVptpsNKPXAPBDwPPNLYSXT8na9RuQ4Zi2678xi0ycT5Kl78W7H6OHsLxuLqpDVdQ5YcfknGlqUJMq1Pkos0qGF2O3fUIX/iL6kkb0agivp9u0KmeViyQy8y79vozzMbL8ovTUp6JBm3Q7I7J4ocZGa9EH7NIC35+d0FwwjlO8WiMNej0Sc6ciJj+VvBpfsia9UT4dCpVru+5tFFOJFI/HOwdX4P885q6vgKawitn+Kwae/iPm5P9ICT+CAAiAAAiAAAjInwBMXnbmUpo8z/3W+tHjJ07jh8l6OouPvgoIcbi8QWfEltfMQuGUUNvTiyZP3XD6cxBjFHG+b06tnTAx+1foEv1fHyVfoZs0ZerUKRN1Z5/6Tp6w45yujatTo/e8ix9e3Vy9YPIYMl/mJ7Z8O9L55p5VE0bN3fWQ3mk83eHS0LET99sIPCgz0e/NsU0Lpk3QGz9nxz1b/nMuWTXr+viEwfgtd+x+MU/w0S+W64yfepPs+5xrYM/kSVapIQ6m+zfMn6inO27dyWfO4l/TSvd5so1Ms5YeveOL6OekwBeXto3VmbRg3RFzl3CReyR/uzVr7Dj9+ftfCtwt0ffD5TWLZzEQdSdPPuNEeKf+ema8btyG45+Zj3zxYqzXTRija8wsx86Itbuzd7zB7seujI2Hvl1NvuI1ZSq/ISfoLtx9wTY+2e/22vmjl5l4M2fH/7y3fPCEFUbmIRmxX85smzbx8PsggS3EeJrvmTZab8nW2/ZZk8q5UhXXCVZMPtccEUESAuLtkofV9bzQ10cnjpl1lr9xHC8j2Pr6qjET1p19Hcw31uTAV+dWj9ObJOhv5z7zv6JAwq9r9NcZqo55JJTRzNDPl5atuPglKOT7w13jdfXmrL/vLBoEITIf7W5qtER/8sRJkxafeuOetWl7sO3J9Usmjxs768zrUKeHiyaueeRL8kh0vnt4nq7RQ0d6YEYYMv1eGq8cPWHBljPvg0LdLm2Zuf0O8+1FXqTV2YkT5u9+Rb/kH2Z7Y830Zadf+/KHSxyurdKbu8syQHBRpvm827tszviRi859E9yIYlxfHNuyYMIk8iG8ieNGb3niSg9iBL06MGLaogvCVy4IGV/TfVPG/vdQ+JU8Ju0kj1cX1syZMGbN2be+iTFWu3QmmHiTn2Odd+hpUL1mPXz/+tQag/Fjlpx9KRjyY86K/nZ7/7KJo6bseuCbKLpV/KHNYfKSXAiIAwIgAAIgAAIgIH8CMHnZmUtr8rLnlNuZ0cTka1fuOOeaaFuq3M7g8DirJv+Pcqb+vLG6CVVjlNFLcb/nsGIKTRomr1D8f82cLZOXuXZe+8jeGSUmmUXJnEK+PTGamHwjqsPMJ7nvavcvBjD5fNtDUDEQAAEQAAEQUHECMHnZG1B5TD7S/vygUoUa6531lHy5tuz1zuVM+Zh82i/rLX3JGuBORi/Ev9jFWa0UnTBMXtEt8Of8FWzyYY+06Rdqxr0UvhihnJQUU6pIh/VDKlEa4265iZbiy1IQmLws1HAOCIAACIAACIAA9wRg8rIzVh6TT4sPdnj3xto5OEnyLdRkr7dSmHx6Yrjz52dmVk4h/1wZy1kt5Z0wTF7exCXLT8EmH+/7ysLM/A1/bTtCdgJpCd4OH8ytf4Tl7bYIk0fHAgEQAAEQAAEQUE4CMHnZ20V5TF72OnBwpnzm5DkouFInCZNXzuZRsMkrJ5T8VSqYfP5qT9QGBEAABEAABPIPAZi87G0Jk/8jO5i87F3q72fC5Lmgmvc0YfJ5Z6jkKcDklbyBUDwQAAEQAAEQKLAEYPKyNz1MHiYve++R8kyYvJTA5BQdJi8n0IrLBiavOPbIGQRAAARAAARA4F8EYPKy9w+YPExe9t4j5ZkweSmBySk6TF5OoBWXDUxeceyRMwiAAAiAAAiAAEyemz4Ak4fJc9Oz/pCq5CZvbm4ut1IhI5h8vu8DMPl838SoIAiAAAiAAAioKAHMycvecDlM3tPTU/a08tGZhoaG4s++v9esZ8+eoggaGhr5qOocVkVyk1+2bNnt27evInBM4BoTJDR5UhYOOweS5pIATJ5LukgbBEAABEAABEBAdgIwednZ5TD5RYsW7d69e3vBDvv37+/du7fkJl+xYsUjR44UbGa51H7Hjh379u2T3ORziAf+KjcCxsbG4ncT8XxHjx5NGhH9XOUIHDt2DCYv+7+ROBMEQAAEQAAEQIBLAjB52enmMHm5CYNqZfTvOXnVqouSlJaMfYhTjYyMVJKCFfBi/MPkCziZ/FR9suZI9n8zcCYIgAAIgAAIgAAIsEcAJi87S5i8JA/oMHlJKEkVByYvFS65RYbJyw21AjOCycv+TybOBAEQAAEQAAEQYJUATF52nDB5SZ6nYfKSUJIqTg6TDw0Nlep0ROaIwOHDh8V7O0e5IFnFEoDJy/5PJs4EARAAARAAARBglQBMXnacHz58UOwzpUrk/jtfTU1NlSi50hbSyMgoB9WEhIRkBIUSSExMzMjIgMkr7VXDVsFWrlwp+78ZOBMEQAAEQAAEQAAE2CMAk2ePpYJSqlOnTv/+/RWUObIFARAAARAAARAAARAAARAAARCQNwGYvLyJs5ufi4sLmWtSV1d/+/YtuykjNRAAARAAARAAARAAARAAARAAAeUkAJNXznaRtFRkqSd/1ejOnTslPQfxQAAEQAAEQAAEQAAEQAAEQAAEVJkATF6VW4/Hq1GjBt/kdXR00tLSVLsyKD0IgAAIgAAIgAAIgAAIgAAIgIAEBGDyEkBS1ijh4eGibZxatWr19etXZS0pygUCIAACIAACIAACIAACIAACIMAaAZg8ayjlnxD56pXI5IsVK3bt2jX5lwE5ggAIgAAIgAAIgAAIgAAIgAAIyJkATF7OwNnMrm3btuKfVlqxYgWbqSMtEAABEAABEAABEAABEAABEAABpSQAk1fKZpGgUOTj2Tm+kNy9e3cPDw8JTkUUEAABEAABEAABEAABEAABEAABFSYAk1fVxjM1Nc1h8mXKlMG36FS1OVFuEAABEAABEAABEAABEAABEJCYAExeYlRKFrF37945TJ78lbw5r2TFRHFAAARAAARAAARAAARAAARAAARYJgCTZxmofJJLSEgoVarU7yY/fPjwsLAw+ZQBuYAACIAACIAACIAACIAACIAACCiEAExeIdjzmunDhw+LFy/+u8lXrlzZ2dk5r6njfBAAARAAARAAARAAARAAARAAASUmAJNX4sb5e9GmTZtGNH7IkCEima/IBPLXGzduqGSVUGgQAAEQAAEQAAEQAAEQAAEQAAHJCMDkJeOkTLEyMzPV1dVLly6dlJQkMvlOnTpt3LiRLLmfPHlyamqqMpUXZQEBEAABEAABEAABEAABEAABEGCTAEyeTZrySevx48dly5Z98OAByU5k8lpaWt+/fzc0NKxQoUJkZKR8SoJcQAAEQAAEQAAEQAAEQAAEQAAE5E8AJi9/5nnNccGCBZs2beKnIjL5li1bOjg4kF/atm37+fPnvOaB80EABEAABEAABEAABEAABEAABJSVAExeWVvmL+UKDw8/ffp0QEDA7yZvZ2dHfvTy8tq1a5eK1QrFBQEQAAEQAAEQAAEQAAEQAAEQkJgATF5iVMoRMSMjIy0tTVQW8Tl5vsmTkJiYqByFRSlAAARAAARAAARAAARAAARAAATYJwCTZ5+pPFMUN/kvX77IM2vkBQIgAAIgAAIgAAIgAAIgAAIgoBACMHmFYGctU5HJt2rVSjQnz1rqSAgEQAAEQAAEQAAEQAAEQAAEQED5CMDkla9NpCmRyOT79Onj7+8vzamICwIgAAIgAAIgAAIgAAIgAAIgoJIEYPIq2WyiQotMfvjw4dHR0apdGZQeBEAABEAABEAABEAABEAABEBAAgIweQkgKXEUkckPGzYsKipKiUuKooEACIAACIAACIAACIAACIAACLBDACbPDkdFpQKTVxR55AsCIAACIAACIAACIAACIAACiiIAk1cUeXbyhcmzwxGpgAAIgAAIgAAIgAAIgAAIgIDqEIDJq05b/amkMHnVbj+UHgRAAARAAARAAARAAARAAASkJwCTl56ZMp0hMvnRo0dnZGQoU9FQFhAAARAAARAAARAAARAAARAAAU4IKJfJHzlyZOPGjVsQJCCwdevWPXv2iEy+cePGa9as2bZtmwSnIooqESANbWRkpKamVrly5YoVKzZt2nThwoWGhoaqVAeU9TcCpFnXr1/fvXv38uXLk5YtU6bMtGnT0Kz5oKeQf8LIP2Sc/HONREEABEAABEAABEBAjIBymXyNGjVEaoo/gAAIgAAIgIDKEahWrRoeM0AABEAABEAABECAawLKZfIaGhoq99CGAoMACIAACICAiEDdunXT0tK4/scb6YMACIAACIAACBRwAspl8urq6ngcBAEQAAEQAAGVJvD169cC/myB6oMACIAACIAACHBNQLlMfuLEiaKntzZt2vz333+LEf5OYPXq1SJclSpV0tPTW7ZsGYDlMwJLlixZuXKlqKGrVKlCLpMC1dCksuPHjyfvk4sgbNiwQdVbmTTr/Pnzya4HokoNHz58+fLlql4vCcu/atUqLS0tUd21tbVXrFgh4blKGI3fmk2aNBHVyNTUlOt/vJE+CIAACIAACIBAASegXCZ//fp1/pNQoUKFyHZQBbxtJKm++MCHm5ubJKcgjioSEDV0+/btvby8VLEKeSmzo6Njs2bNRBDykpRSnTtnzhxRpSwtLZWqbFwXRjQ+Vbhw4Xv37nGdnRzS19fXF7Xmq1ev5JAjsgABEAABEAABECjIBJTL5E+fPi16EiJTNAW5YSSsuwhXy5Yt7ezsJDwL0VSOgKihW7dubW9vr3Llz2OBP336RL7OkM9MPj4+nuxXL6rU48eP80hJtU5ftGiRaNz2ypUrqlX430sbGxs7adIkUWtGRkaqeo1QfhAAARAAARAAASUnoFwmv2DBApi8VD0GJi8VLtWNDJOHyatu7/1jyfO3yeezxkJ1QAAEQAAEQAAElJCAcpm8+OpEzMlL0l1g8pJQygdxYPIw+XzQjcWrAJPPZw2K6oAACIAACIAACMiZgHKZ/IwZMzAnL1UPgMlLhUt1I8PkYfKq23sxJ5/P2g7VAQEQAAEQAAEQUAYCMHllaAXZywCTl52dSp0Jk4fJq1SHzb2wmJPPnRFigAAIgAAIgAAIgMDfCcDkVbt3wORVu/0kLj1MHiYvcWdRjYjjxo3LxzveqUYboJQgAAIgAAIgAAKqTAAmr8qtx+PB5FW7/SQuPUweJi9xZ1GNiOQrDDB51WgqlBIEQAAEQAAEQEApCcDklbJZJC4UTF5iVKodESYPk1ftHvxb6du1aweTz2dtiuqAAAiAAAiAAAjIkwBMXp602c8LJs8+U6VMESYPk1fKjil7oWDysrPDmSAAAiAAAiAAAiBAVmcrFQTsXS9tc8DkpSWmovFh8jB5Fe26fys2TD6fNSiqAwIgAAIgAAIgIGcCMHk5A2c5O5g8y0CVNTmYPExeWfumjOWCycsIDqeBAAiAAAiAAAiAAEMAJq/aHQEmr9rtJ3HpYfIweYk7i2pEhMmrRjuhlCAAAiAAAiAAAspKACavrC0jWblg8pJxUvlYMHmYvMp34uwVgMnnswZFdUAABEAABEAABORMACYvZ+AsZweTZxmosiYHk4fJK2vflLFcMHkZweE0EAABEAABEAABEGAIwORVuyPA5FW7/SQuPUweJi9xZ1GNiDB51WgnlBIEQAAEQAAEQEBZCcDklbVlJCsXTF4yTiofCyYPk1f5Tpy9AjD5fNagqA4IgAAIgAAIgICcCcDk5Qyc5exg8iwDVdbkYPIweWXtmzKWCyYvIzicBgIgAAIgAAIgAAIMAZi8ancEmLxqt5/EpYfJw+Ql7iyqEREmrxrthFKCAAiAAAiAAAgoKwGYvLK2jGTlgslLxknlY8HkYfIq34mzVyCfmXx0dLSurq7oOs1njYXqgAAIgAAIgAAIKCEBmLwSNooURYLJSwFLlaPC5GHyqtx//1D2fGbybm5u3bt3h8nns16K6oAACIAACICAMhOAyStz6+ReNph87ozyRQyYPEw+X3TkrErkM5P/8eNHhw4dYPL5rJeiOiAAAiAAAiCgzARg8srcOrmXDSafO6N8EQMmD5PPFx0535q8s7Nzx44dYfL5rJeiOiAAAiAAAiCgzARg8srcOrmXDSafO6N8EQMmD5PPFx0ZJp/PmhHVAQEQAAEQAAEQUBgB5TL5OXPmiIxl9erVCqOiOhmLcGlpaTk5OalOwVFS6QiIGpqsSXZxcZHuZNWPbWdnp6mpmc8mPDMyMmbOnCmqlIWFheo3lBQ1EM1gFy5c+ObNm1KcqZRRPT09O3funM+6qFKSRqFAAARAAARAAAQEBKinT5++UI5gZWU1aNAg0ZOQjo7O58+f5Vw0U1PTsLCw33uHj4+PmZmZnAvz7+xevnxpbW0twtWgQYOTJ0++efNGqQopKoy5uTl5j1QE9t27d8+ePVPOokpSqufPn5Ma/fEuQtqF3aqRBN+/fy9q6EaNGp0+fVr+DU2qTK4OUZX9/PzkdkWQyh45cqROnToiCPb29pI0E4txSHM7OjqKtzgBQoLMWVhaWj5+/FhbW1tUKUNDw7dv38qcoGwnknoRmH/sybGxsU+ePJEt2VzPsrW1FS2yKFSoEBm3JZ0817NkiEB6aXBw8D/+wbexsSFjKDKkLH7K69evz507Jz7YRPoGaeI8Jpv30x89eoSHHRAAARAAARAAgfxKQPQYiT8ICNy7d+/3xt62bRsA5ZHA+PHjRWBLly6dx9SU4fQ/3hSUoWDclUFU5b1793KXi3KmPGrUKPEWV85CylCq/v37/7Enk6FVGVJTwlMuXLjwj3+/mzdvroRlZrFI+fXZBfUCARAAARAAARBg8YEhnyQlPvEo6h/79u3LJ9VTXDXIQmIRz7p16yquIKzl/Mfbh5qaGmsZKF9CoiofP35c+UrHbYmmTp0q3uJFihThNj95pT5mzJg/9mTyRoO8isBtPtevX//Hv/TdunXjNntFp46nHBAAARAAARAAgfxKQNFPGcqXP0yeozaByXMEVp7JwuRFBGDy8ux4eckLJp9fH19QLxAAARAAARAo4ATy8oCUP8+FyXPUrjB5jsDKM1mYPExenv2Nlbxg8gX8KQfVBwEQAAEQAIH8SiDbk1JaWppvAQuBgYFfvnwRpyCJyUdHR5MdvwoYKqmrm5ycLA72byZPVrfGxcVJnbrcTyCNPnnyZPEa/fGmIL66fvjw4TExMXIvKTsZhoeH/749xN9Mnmwq5u/vz07GSpMK6cBkW3VRi/9jdT1ZoK5CDZ2UlFSmTBlRvSRcXU/2RiWtrDSN89eCBAQEkI87iF+nkps82Tc0ISFB+ev4jxJGRESsWrUq19tUfn2gQb1AAARAAARAoEARyGbyBarmospGRkZKa/IFE5QMtZbE5P+24ZYM2XF9ioGBQa6PyOImr6enx3WROE2ffA0hx6To30ye02IoMHGyrbokJj9t2jQFFlKGrGUweRX6yGV6erpsJt+kSRMZYCrbKbt37871NqVsZUZ5QAAEQAAEQAAEZCAAk+eFhobC5GXoOpKcIonJ9+3bV5KklCHOvHnzcn1EFjd58e36laH80pbh6NGjBdzkxav/jzl5slhDWraKjS/+8QgJ5+T/9rE6xVbkj7knJibKZvIaGhpKWB1pi7Rjx45cb1PSpon4IAACIAACIAACSkgAJg+T57BbwuQ5hMt90jB5mLyIAEye+wuOnRxg8uxwRCogAAIgAAIgoPQEYPIweQ47KUyeQ7jcJw2Th8nD5Lm/zljOASbPMlAkBwIgAAIgAALKSgAmD5PnsG/C5DmEy33SMHmYPEye++uM5Rxg8iwDRXIgAAIgAAIgoKwEYPIweQ77JkyeQ7jcJw2Th8nD5Lm/zljOASbPMlAkBwIgAAIgAALKSgAmD5PnsG/C5DmEy33SMHmYPEye++uM5Rxg8iwDRXIgAAIgAAIgoKwEYPIweQ77JkyeQ7jcJw2Th8nD5Lm/zljOASbPMlAkBwIgAAIgAALKSkBpTN7bVKd7wwZrHybKnZRyf4Uu9eXS9lXqz7QIkzsXNjKEybNBUWFpKJ/JO+9r37B0s4PB8kICk4fJ57WvxXmeXTGg6vBlT32S85qUZOfD5CXjhFggAAIgAAIgoPIEpDb5KHsTvZYlKKrxvHPfUvJW/ZBnG2pTJbrOe0RbqvuN9tUoavqVfGPysT/vzWynRlH1px/6FPdPULFP5pNmaLL3x59ipT4aX5aiBt4NzRtryc4OvT6OlKTHKTfJouceiw2Tj/2we0qTbP208QarrK4X5vZwQfN6RfkRRh6y+hGQKixX0NMtbWuTvioMZVuveReTe6H/HoPl78ln+Fyc2rscRRUadthXkGlmyPt93So0mHDhR3peCsrSuWyZfOi92RRVrvdxpzyX69tqmtf6gDwnJGEC7Jp8nMeHY2MaMGkWrdVk8XUH3/hMsYKk+9/e2J8+WKmezsl3vxLFj0lYXkmjsf09ebuV5UoKWBUqJLre+q97GCwne81WcU6+J58a9nhDH6pQywU3XMSvzZ8nSZOV0Xv49xt0jMvuCQ2pFrq33OXEAiYv6WWAeCAAAiAAAiCg4gSkNfkw8w2jS/NP6rP5e0yGqPrxbjdHlKJqDT3ilib8zXIOidXy0l8fcUKeb6xDqXU3eEybvMetLnUoatY16R523K9qkgdIHeO8+D83c/Ixb3dPJApOh24r34eK7PIP/SXO1IDE0tzrTI7FfDfuW4TSmHDOT/AYn/ZkYiWKGvqAizn5GKe1A8tS9cfc9Ra046/r40lJep5WKpMPfbJ4RJVs/bThus+Myaf5XJvfqXC2Q/RfOmyyjGcwu11e0LiU2GG1lqveRuflgmXZ5P2f6/YknZ4E9QVmfDnN9H24tj5VeaShVV66dF7qKH4uWybvemowRan1PJp3k/++rjJFldgUyFYNc0uHPZOPfrVtyG9dtXDrWVc9+feGtPczBDdWfqyqQze+//cIYG5l/9dxtk3+y/LSxX6rXak+ax/+yvonIi/lle5cTkyel+n/YnsXimowZr991l0kdKc6RZUedcv/7yWMdds3RZNqM+muRx6HviWFAJOXlBTigQAIgAAIgICKE5DO5DNDP6/o36rtrD3nFw8qR3XbbxshrH6i1+sTo+tVajF61yvnkJiktMy0BN9bZCKO6nrUNjLiVxR5hslMCgkIjkzM4CVHeXn4xzDzGulJKQLx55v8/JupmalhXl7efsHRQqdPjgrxcQ+MThY8EiZG+Hv6hsTTf0sN/3Syfe3ClN7hH57eQcxPTKIJYcF+Xl4+QeGx/xJoYdE5Mfno71uGazUZv/X82nHVqQ7bLLMmEdMTowL9g+MyMpPDAn2DI/kPd0lJSUzpE90s9g+qUbn95EMfXEKi6Um59CcTibuMJKMd6dFBnt4BYbFZj4OJv3y9gshf06JC/Ty9A8NiGZYpMX6+3l6eoQniU3qZyRHBAT5eXp7B0SmC3zPj3S2XD1OnWuuee+cSHC2ILiwJn05GYniwv7enZzDdgDIE8e41c+ZMUQp169YVHerbt+8/U/71dPmQUlS7ne9yDPIkfjdZTubqC/ecc8NZULq4d3t6kHQrdtj0lp579zBZUJ9S63PaVYaS//EUlk0+8OXEbk3Vh06cVKsw1XY73079nmzQoKqN3mmdxLRlRIC/j4+Pr68v+X9gFPMb08Vjg/z86CskLcqf9HTf0ATmckqKDvbz9gwI4/9NGJIjQ+lIAaFR/E4meWDL5N3PDifzlr2P/77qJC0mxNfL29snICgiKccqBNGhQLFD4iafGf/L38M3mLnIU8L8fdyDBCOLmekJoV5egb8S6OqmxQf4BNN3m8zEYA9PH7/gGGm6MlsmH/xkUwMi6uX1ztgKLDDp+8UJTcn0dZult+mBszizRSSvSku+8Vvn5/1r169a52nY6Z/NzLbJizKzXUhRdXrv9RL+kBjs6+EWLFpekBYf7uPmFxaXxsuI9/cOiqXvcPHBnp4+/iFiNzb65NTYUG/SMXwDI3N2jNz7Lzcmz0sP+rC6rxpVd8SZL6J/+D6NIKtN+l+jB1ozkiPIhUaK7Ovj4+UbEiO8X2U3+QTyr5lbqOBYRkpksJ9vSFSK6MJMifH19PL29QuKTpZ5SQZMPvcughggAAIgAAIgkC8ISGfywe8O9KjQZPr5nxFfj7QqVa7Dzg98CJFfDncUS2nYIcuP22mlEoZKM1/G8kIe91Jv2HrCasPJLcnv8z9nZtoY1qKoFnOf01NPHre61i9RaJjB8TWjmWWaRXqsuGhPPy/Fv1rSnqLqrbXgm078tclkfW3X0x4Z8e92tymflUehHfScdnLw9yurRpF1+nSo22vhkffRudkLFyYf+fW0dvl6Ooe/Rzgbd6tcofVGC6GEZfrcXV6fKjVozdoJpJR1ptEvwH9YTgrb8Jxfiu0eLTFqww/akho9nULidVq5dU0PZvq2Vq8N5i4RzENe8t2hFFVszuETC5uTVfykugNWXb1zeddMflNUnXzIij+nlx7l/uzIvPr8lAu3nrntTgj5NezDkjZimQ3ZSwYb0p9MIT91usqgTv9l9eTQ+HpFmEhNpxy1kaHDi2VA5cHkh5Wj6uptvWb58eO7Ny/f2ATTIxbxHidmtSJrPlbcyCbq308OIirff9sn4m7etMmX6H7IToaS//EUlk0+6NXkzhWoSfus7ywqS1WfbUF3d39xk094PUF8prP9/IuWXsxojeu+ZhWorjNOHjCgryWKqjZu46WbVw0ntWFWNtcdffhdLFOBzFjvR9v1m/Ine8u1mrzd1CdGtGYmdyrcmnyK9/2DyzsJK6gxcfezr8GCizXF5/7hFZ2KC7oPOWRhxz/EN/nNZJ1PopPJ6DpFqbbznpDp0NgXQyuQZS1bvJk6xbqe70co9L9Iv7PgfLpWkRp91hw+t2Yks3yjeO9Vl+0jc7spCNmId+CpU6eKIytShH9p0GHy5Mn/pBl0a0aXElQZnUv0PUoY0h3PGdSkSg5c9fgX+enrnhokIc3FD2z9oiUZgMy99f4VgyOTT480n05R1TtvFNx6eIGXB5KGqbbhKzN8khlhvqEvvQLlhm+m+6kKVPWBW06eWTqQQVhae901pyh+uyR6vri0mH7vhA7Npux4YB0uVXU5MnleRsjd9drkrq1/3Iq/6ifjJb2cagTz7lOG5+Mx/KuRCWrdZ175wlyFIpP3JLULu9iaHOz9jDk9LejN/LZFqQ7L3zIbPyS4vTw+l8z6M6Ht7LNPHWVblAGTl6q3IDIIgAAIgAAIqC4B8SdVKpdqZMa83D6yfO2hxkSdMr4saVOaarDMjnnWSAp6v2dU+1pqxSrU7zh41LLz7z38Xp/W16bfbq7WdfTMlZtueqbzQl/o9axOfqnZYYDOqFkX3TLTvx5oRdbcrnxLLyT2uNVDkzy6lWncc9hU/SlD6JfmS2tv+JTBS/+8YUA5MmX5hr9KP+m+QUOqypDLZNLH/+0BgwHlyON+o+7jx45a+YqIUNSj1b2KUzX6TTJYvmKxvnYjimpvaB3573pxYPLJVofHlavU65Aj0UmHdT2qUvXmvfslMKhACyNa14vWaN9/2IhNVx0SeDzrTeSH9ibBvLC3RsPaVC9RvHLjLkMJxrdErjPNp5LhDqpw7Y6jJ04c07dZUapc37VPftHzl2lPmUNUzU5jJk8a2V2T8bUi6p2HTp8+ujX9GDzgShCJFm25b0IVtaqdRusvXrZ86ZRuRJ2GPyBMgh7tmNSkhhpVqWHvoaNmnXtNWjLj+QJy2qC79AxT6JvDvcoXpmp2HDVp+syxncpXWOUifTcX7155MPkxNcUTKrmfXuEQbrdlZBWq4sDd7+hxCVEIfryEDG90m3KP1MHn2qJGxYo2GL/xsonJlcuXrt167y/NfOzv1eXE5EftD0ny2k+e75vvISMov8w2Zs3Jp3qYrFk2a9bchYuXLJw7rlXJIlVbb7AiHYbndXpAa9oj63QZp68/rk8TxlGLqHcaNklvcHO6H0x4EET3N/vjw4tQpTqNm7di+eJZI9uQPObf+CGpxfJ4XJp80tetRIqo+gN0Z86YNmF4t2pUkbL9trwJJYNUKd+20XZXf4Ae/1BVqnDZPptf0b7ruJ6YfNld/jxHw541S7bQO2fLOF7M20kaalTXffylL/FeN8aSye5xN+nu7369cyMyNqjWpOeIqfqTB7WtSoY0hm79KOHLC+L9TnaTT/6xa2QLimpl9JIukSj4mm7pTkx1lrEb3abB9xcPYN4iqTvMYOOZB3aheeur/75Y5WXyvFiLFaQ/Vl39mS5P5JcNveqU67X+E/Fgj8ut6pBbUanmfUdNnT5RuxV5h6iqzm4bevGW64W+pUqVbz1i8dKlixdM7lSrfOWuO+ylocGVyfMyfB4bdiXDqZOPOdOSnmQ6thylNsmCWTuRGfHj0oFVU2eSq3XpioU69D9+rY3pO2mccHU9bfJRt/qWoahRb5jmSQ/9vKpfzcram6zoQTz7te3LUhU6z12xfOnC2SO06pSrP+7cD9EyHCluvjB5KWAhKgiAAAiAAAioMgFpTD7u+7a+mpp6V/nzI867hhWjqkx+IvSoXy9mN67WYQazzpAfvm4gqWs/ET6CBTwb36kipTHHTPhKYYzVPnGT76ZehOpv9IOJHm93sBvZVa//cS9ehs0m7XJUux3ZTf6CKzMtHWrWp2ERasEDfoZpEe+Xkf2kavWcb3T83PnT+xYNIQ+RdQyZh8i/B/ZNPt3jwOBGdYec4T+2ux/VK09VHn/Tk1+EQIutzaiiHWbfyHqz8tNGeg7mMj0vk+b7YGK96r2WPuTPqZIfTCcR92iy9jX9Q4bzlSH1yzecdd6XFpF0s8lkZERjzSt6NCX+8wntaoWK9V37lhYe3msDDTLCsfUrOWC/bYw6VarllLX7ThufP7trRkOS2cB79BNiuv+BqZpUV4PXwlW8aRb0FNOge+S5MtbCcGQJqvHcK/xZxETbe++zGfO/mQqPsmTyIypR5TqNXbB+8+YNa1dsOPSFFp8w203DKlG1ycIF0UpXOlef27OIyXedeJdg8Lm2mExdi4X+N/K26TknJj9ihzuRbtuNVajSsy1Cw19va5y1up5UKNn37a2jx08eP7R2cN1SFdrMeUzbqvfp/k0pquO2D1F0nV1PkGUY1Tqse03/Ler6BCKNXY46kAspZC+ZJFRrNXnT0fPnzxxYradegqqy8EaUxLPyHJp86id9oq2l51kJuor3mWmtyUIcw1fk7vJlFunyanOF163P2emtqcI9tlqSJv2xoVpJqkjHMWO0KlNd9nzhz4yS0SrG5LvvE6zbyW7yHWsXogbtcmcW70db7yWTns2GnPgp2Y6C7Jh8kpPRiGYU1fnAB/HtLtI97q8jy400Z55xFcy9hlsab9Mf060mPTDT3ODE+3DJCinZtZgtltxMnpdqs6hpYarMUrJHQoLNkU5UxT7/PaNffXG91IJ0gGGH+DfJsDdG7Yj5jr3gx+M57depQhXTGLf2zNmzp0/smtqpClWvz8GvEo69MHerxETxhrt+/fo/EHXrRv6pEQQNDY1/w8zwf2nQoyxVcZwJeaMn4yUZcKq+1lrslBgn07vnjp06d2x1LyLsJTc4kGPxv5v8mLfMOUKT32xD7u52e8nlSTWfcvTi+bMnD60eR8bdmk47J8W4m6gYMHkZrgicAgIgAAIgAAKqSEAKkw98tY3McVdpNnja/PnzDOZOGtCMXhire49f7Tj3+1PqV24zydhD9Drz2xXkeJ9bjFmSEPBsXNsylN4Rf2GEHCZPvye/QJBaZqQFEbJavQwdeGk2GweUp5pvecGXsLTHixqROfkLrszMouft7vXIPnkmtNoR6Ql8MDVbhei/lFrDn//4a2Dd5KOt92iSV2I1Bk41mD9v/tzJg1rR266NucqfXgk039yEqjp6l13WElqByTMT6I5Xx9aq0nWeiZ9At/g73o00jWIq6HJrbPMqGrMv+tGPtUTyybPwiCeMhyf8uD5as0pTg6tBDF7PY+TxVGM7eZAMe7dsAEkhe+hwhU4vxtlItxHVccYTH0FZBCZ/n8zY/7qypDtVevCR7J78b5K/H2XJ5Ml78i03mma38Dj3YzObk/cstohGhpjsrXb3JpOufda/I1XyNlmkUbyo+tg1xucvGJ89c/Hqa1/pNlTMWSFuTH77T9psYi4OK0+13Pfh2a4WVPXRO23okv76uG3mUA2xPf0qt9O/40MOeJ/uS67FmS8Zk00Pe6RHnvoHXmXGhhLeLOpQlOp23IlYoPOy3y6HovqXwpXB5EPutyOrabpfEiKOe7tjXEmqzZpHQbwYs45kEr3LRdGh9zvHl6Tarr5HLM95Q9XiVIkBsyaS0YrWSx+SX5gQ/UaP7G2otd2b+Vuy/x2yc6NoTr49Wba+5DE/YmroE7L8u15/I/7C51wDOybPC7g+vVMRqvaSR8ICM8W0PTGjGlWs7/L7geItkuD//vr6LuWpQp1mP/Dmap29/EyeDKgdJi+8lJxoFvj95AhKrcNGS2Y4w+USGWUr9N8LfhMk+tyZQG5Yww+68ZLfLuwheD1KRL9yJ8PPkjUYPzXOTJ6Mjj3YNLwkpT7vtmv4U/LNkQa7hNuDJni/2TuvT/Zb7Ur6/agEcZOPvNGbDC8PfMZv8QjbdQNqVdbeTMYm454uq07kP1tQ1zsqywdiYPK5XteIAAIgAAIgAAL5g4DkJh/7cAmZBvw96PFn1eLc701RL9dy6oWsmds39Ovfva4Ln8D4Jj92v5dwIi2HyXclc/IjdzoxUh5mtqQCRWmNJyvOefZ7x1enKulcYua001z26tSiqg8VmDx5u169EDXlBr8xUn6ZzyxLlWg24dgzezeXH05Ojt+/fvsRkstkDtsmn/FyNdGM38PYZ8zMG2PylUcYiW1OLmbyUQ5Xxtas0GHBbdE0OX/v+vvMeEjSzxujm1bObvJD7vEP0ZJfVWP2BV8GoOvBzrTJfydztJ+Xa1eiqvc3uv3B2cXZiQ/Fg0k++oehbkOq7axnwlltsTn5iAf/kQmnOpNOkGl9EmJM997ylr7Ls2fyWluf5XhLIub9wYlk7rbVlAO2UYKS/Xp3ajjxw0rah78wb2wI3pPnV4GFwJXJM62RZr+nMaU2eNmsbkVqj9luQx71415vrEWVaL36joe7u4PNnfmtyqm1nHY3y+SnmUcyb1lEPCUDWI37X2AaKO7lgnaFaZMnCXiuI0M9lfttffjVg256R4dv9k4B0ZLvpMXqnHyFgVfEVnVkfppODwSOM+Mv2Ul32TuyAVVl0HFbcnew0qc/HajzhK+x6a57R5NDA49ak+vnB726vtzuAN7HqWTgr+Wcez6MEiVaLdQsTxWexp/qDHq1sw9VpL1wdX0HMic/Zo8LM5AW9GhBOapwu0kmws/+5dIrWDL59J8X5tUjexhob34pHI+KsTeZ264UVabLVjO6LO63Lt37LFym43d/fB2qeBcDMx+uJuXlafK8sNtkHUShLrMm9VWv0mrVe/6HIF0uNSdNqXvYn+mOXjfnlKGKd511L5yX8XnDoApUyS7rbv10+UnfxB2+O7h4hSVJ3m05NXlejNXJ7rVLVp66bFuvslSl1cKOlO55b00bqtLApSZWrl4+9tcn0qMRK76QuolM3oO0Zuzj8fXJUNJu+irmpbnendq+SrVBW2zjeGmv15cj39LsZfTV20Nwm3Zw84uUZegRJs/CvR5JgAAIgAAIgIAqEJDY5ONfzSQvoPfc+87Xz8vdzc3NwyfQ3WwteWewuP4b+mkjwdNsVisye1iqSuUuKy7a0SL1ZT2deoUajXoP2/kliffr5b9Nnv+id5Gy1TWaaNQgfyzcfCk9C8f7Zb61IZmsKFW9cZP61crSbweXqD9SYPJ+D7TrkwnvcnWqle1BT0lG3V9G7/dWrVGLNq21tLSaNawz5LBNLjtAs23ydgtKUuXaG7329fdmQHkHuFtsId8cLjH6Ef1ewr9NPtb5tp4meeQvU7VSt7W3yJvpmWaTJDT5m2Ob5TR5Q9pho18YjqpIGNXT1CJMWrVq2qiuziPG/mNdDjC7D1auWrHJ6utkpixT7D15L1Oj9sSKC1eop9FYsxZ5xlzpLn2HZsPkQ02XjiTGXqaGukbjxo0aqjdo2H39e3p4KM3bYn47ej+ActXraWg0btKkYVX6s/LlRu/+yB8scr9ioE4V67JbsC+j9MXPeQbLJh9oObFTeWrE9p+CHhp/dz7/Y+ONxm2zIoab+HoT/XBftVHbNq2bNahKun65tvp/MnkzslFhTpN3pC9B+/0D6EuwfnPmcmjeSL3/toeuEk/Js/aevJvxSFKMklXVm2g2blinRqOp++3jE1z3kKlaqljNRppNNOrXJF9sLNli1nlX5q0Pp51ZhxrUog81n3nehb7NODA73m0hfdXv3qLaZMG6/jVGpQJNJtG7T1QinbVuFWb/x9LddAXvyXfSoDtJkXI1GjdpVJ3cLYpprRRN5ufWJ1gyeXpl+YbO9P6cxavXa9K4sUaj+tXpu51ax7V3/ZixjO87takipeo0akz6eN0q5EZasf/WF7ns8JFb4f9xXK4mz0s10ydtRTYHqdBu6QvBQK7LpZZ1aATFKtTUIFcuWYVRutMGM+b1CIfTrUgTqtWm71daLZtpth069bC9cPxXkkpzOSdPBk3tt/Qji64o0kh1toiW1qd7PtzYgfxYsUHLNq2aNSR3LBJWZjd5emjK6yTZw4EqVbNh44Y1yzN7OtYbuY15T/7bKvqDHmWbt21DV7tp41Y68678lOKdAhEZmLwknQRxQAAEQAAEQCAfEBB/Uv3XjndJL+g3qGsufJNtkujHbvr8ribMZHO84+3VjelHk6ozL35nphLIl5WYfdRL9DlG3rYOfNyHPM712uwSI5hdiXizkcxbNJ1lQZ/ufKYmpa5z4IHl3nF8mVl6RfSpnyirY/xV89UMzj57dnwyma0/5MD3kRTvu+uZh0RqOLNPW2ZS8KsTc5swz/JMqLH2bbb3qH9vM5ZNnhm/KD39ebZ1sS5H6W/LNz1Onsv87y0hYtHlv7dZ+xK/oj9AVfM4M02TEWt3ZXFdegvyOovueRCruU1v/iXYTj7e/lzPilSZscc86efa5Nu073S4wjz9xjuc71WJHDriwayBcNxKnLDMyo+MJSSHO93fyizxF4SuJvztAzOj7E101OnV23Xm3yI6mfqQLHGl2l3mbxwW5/3xrG41Zm9xtb5GL5jiSRmysiRrwWX8Cl3Ui9UDs9qTSXHEfcFe1onBTk/3TqJncPlhxHbTD16ivbF8bxsQ7A3WvWBrZpNlkw99q0/enu6y6lu4aMv2W+RzBKQvzLzKX7Ob6Hp5IfMpB6qU7q7Dc/uUKKd9kR5QcdvXgljQsHu/mC+whdwhZ5XVOsps4h/1ZAKZrdbYacuf+oyzvba+F70rOj+UmXbOUf4m73+Ftpes0GTGUz/SJtE2t7cR+WFCvSnHXvhmfWciyuaOoejQ5KOiQ9b0bYhaQtt7mv+FqeTVmhqTL/2gbyhh77f0oS8yquVSk6f3l/dWr97lNDPZfb19rUJFFxy12jeGyUhz+TW7XO4IYp1cvNSy73jHTzDS9cWNdeRzC4JQZ9bFd07Clift9uPBrtHCY8MOPHPkf6CCo8CRyaf+uke+ykY1WPQ2KnvBP/xHflarOfKyYLcQZnV9Jar4srOfjQYztW65+mbWZ9qjXF8e1OPf1+mg1mCdtTRKy63J85I+bRnC3HPUDb+K7UiXHv7hpD4ZMyVBa8ahM0vJZTiZHkSMddo4pDxVc9BlZ34dAh8v539epN/eW/cMJ3avoLXAMohp7HDHh3tEfYD8czfwhL001RYih8lzdNUgWRAAARAAARBQNgLiT6q57V2vbGVnqTwsmzxLpcofyYh3L1lNXolIsGzySlSzPxeFrdX1iqyo2zX6PXmD+7KVgU2Tl60E3JzFkcn/tbDhN8ieFjX6X816v4J5T55aas5F/Tg2eS6KzGaaMHk2aSItEAABEAABEFBiAjB5Hkyeu/4Jk+eOrRxSzg8m73KlJTHGmdclX4kgDhYmLyJgb28vc5f7to1s0k8NuyX2ET7ncw3JapP5D2RO8x8nwuTF+y0XhJEmCIAACIAACICAMhCAycPkOeyHMHkO4XKfdH4wed9nM0d07br3JUxevL/Id07ebV/nxu16Lbfgv9PDDz5mkwZ16nbwPRe9GCYPk+eiXyFNEAABEAABEFA2AjB5mDyHfRImzyFc7pPODyafN0qYk2dlTj5vjSD12TB5mLzUnQYngAAIgAAIgIAKEoDJw+Q57LYweQ7hcp80TB4mD5Pn/jpjOQe8J88yUCQHAiAAAiAAAspKACYPk+ewb8LkOYTLfdIweZg8TJ7764zlHGDyLANFciAAAiAAAiCgrARg8jB5DvsmTJ5DuNwnDZOHycPkub/OWM4BJs8yUCQHAiAAAiAAAspKACYPk+ewb8LkOYTLfdIweZg8TJ7764zlHGDyLANFciAAAiAAAiCgrARg8jB5DvsmTJ5DuNwnDZOHycPkub/OWM4BJs8yUCQHAiAAAiAAAspKACYPk+ewb8LkOYTLfdIweZg8TJ7764zlHGDyLANFciAAAiAAAiCgrAS4MvmMxKigoKDg4OAQEoKDAkPDY5IzlBNCaGioOAVTU9Pfy7lv3z6OvuuTkRRNKGWBCgmLTlJSUDI0Hysmnxof/YvuS0xXCibd6lecbB8Hl6EC2U+ZN29ert1ATU1NFGf8+PH/yjMzLS4yjL5M+DULJnVUVM3+XEzWTD4lJiggkKkmCUGBAeFxyno3yAGCLZPPTIkLC6UbWNCJg4PD4hXUiZkacvA9+Yy4kMBAfgXJHT8o+FdUfFpmni85mRLg7Ct0GUmxEUGB/AuW7skB/lGpMpWQ05Ng8pziReIgAAIgAAIgoDwEuDJ5h+3dsyVN1Zt4w115qi1eEsWa/I8Dg7KDqjz0nLNygpKhVGyYfOSz/waVzsaohMGbZBkKk/dTWDb5kDczOlXO3voLP+a9lOylwJbJ+10ek72aNRdccVFCBfqdHFsm73N7Sa3sCKqtt2KvoaROiQOTt5uRvYIl+26w+iV1wVg5gSuTj3c7OLVp9lr2tmClxKwmApNnFScSAwEQAAEQAAHlJcCRyafbbKBNvn6fcVMm6unqjB4xd9PFL2HKiUGhJp/+dcfAohRVq9uoqZMIqDEjZq0++SlEOUHJUCo2TP6X2dIRlaniGl2HjJugpztujM74pTfd02UoTN5PYdnkAy2n9K5NlajfeyRdMx2d0VNn3PLKeynZS4Etk3c7O5L0hKptB0+YPEFXd/Twwetu2YQqpgmlhMOSyWe6myxqUooq16Kvrp6e7nid0RP11z72kbIsbEbnwOQ/6BFYhZsOnDBpgu64sSMnLDvyxCeOzTJLnhZXJh/rsmd6K4qq3GbAqAnkih0/crD24Z+SF0teMWHy8iKNfEAABEAABEBAwQS4MnnbTd0oqtRqtxzVy/xle2f30feRvMj3Vw7su/gtgccLtX5yzsTMLdT38/nD+x58S2TOSPD/bnr+gNH27XvP33rvHS1MJf3HnUP7r7lHxzjeOmV8770fKzOzijX5b7u0CahZOefnMsO/PTx4/HVwaoTNrUM7T9uSR+KIbxYXLjxwDAn4YnLiwB3raMaEkoOdzC8yoIyvvfaIFILK8Hx8ZMcF17gkl3tnztyw9EpSUDdjxeSfLh9Simq3812O1k4J/Ex6zlPScz7RPed7Bi+TdI8DN9yjo7/fPHXu/kf/FKbWSb+cHu7ds33nrgOHb9n5xwoW/EY5XThm8s4rKvr74y1bL9iJyP0TFMsmH/RqWrfKVLtNP3JkmhTy6s7NO29cf3landh72tSFNH7il5vHTj7wjAi1uXrikpldMH9COzH4+83tO7bv2nPk5P3vQfGCZMK/nTxgYh2SEGZ9Z9vOaw6iq0f6PsCWybufHU5RlYbeyil26V7mm43u+cRF29y/dOLa+5AMXoyD6eETrwKSwr/eO2x0wiqKKXNyqNN9k1M7dhgZ7r/90SWcX4+MBN8XVy7cfe8b6Pr85OFbn3yELSt9Nf9xBksmz/O4tqgBpdbf2DtHXnGe7y+efWIfGOpieXHLHgsyh50eZGNy8PSrgDBP8ytHL5l78K9zXoL7x9tbDY127jl66eH38FR+L84MeX9l2xGbBF7oiwuHT9xylFycOTD5j7TJVzjw23ht6MvdRsd/xPJ83pzbfeSJewIvxf/J1RtPbH0jXN/sMzpl6ce/TGNcXj88bWRktP3I9adfQoU3rLCv9/ccs/CPDHp57cL5x18jJFvIwZ3J75uiSdXTMwnK3owZ8U4v7xjfsQkOdL5xyvjWJz/SPP7mx7aedUlIdXtw5pTJcw/+v2spEa5Pjx7etXP77j1XP3tHCV6jivW4c/76M4egyJ8vjTaf/JTnhQwweVbvAUgMBEAABEAABJSXAHcm34Mk3WzUvOWLF8ydvcTomAWj3Rnfdg+kqIbaY3uWJ4eLrP/Jy/yya2INqmybXu2rkV9abCETVQlfz49t36CEsGjVtGZdeO3LPPQkXe5Hfu0wsJ86+U+7KfeC2QCraJMfTObkGwyasWIJAbVoy/7HjHZnOB4dW5JS7z2iZ3Waw3IHHs/55Ky6VInmPTvVJj9orPyexstwu6XbSaOUEFSlltNOPXVnnotTHo0lP7cbMliDHGw80sSfDVAypMGSyZM5+VKtBk6av2iRwdzpBls/xNBFiX1vpFeDKtemVzu657Qy+sVLvdyXzAp20O5bj6IKdZzxOILHC/twdsbQloWE5VDvP3PfMz/6bNfLzapUrdu5f2+6K5VY9kkiRWDf5MmcfOlmI/TnLVq4YO6c2XutmZqF2S4d1KxoTa1eremadTpC3rYIO9iZotQ69u1GfimlvdqSWHuI5ZEJ/ZsIa1ao4ZCFJ98yF4TTierFKmj0GUzHpWputpX9fWzWTN54FClKrZ4TFi1dZDBLf9EZM9842kVTzKZTVPHuQ/rSnbzRjOdRGV7Gk8oWqddjaE+6k1MLv/B4UXY3VvZvJOpINZsP2/SGrmZqqKVBs5LFanfp0qwYRdVbeI2T5frsmfziJqUKV+402mDhQoN5c5euusDXbr8n61tVqN60W/emZUhWfV+QYQvr3S0pqnqP3q3IfaHcUGMnMtoZ9Pi/sS2ZGwEdijQbt/XKd3qAJsN6bTuKajp8XKfi5PfaO3MOCf39iuXC5CfSZWs3fuHSxQZzZi7YfetjEDMIYWtAfm8zeHQr+hWZ9ifceTHvJnRqWLZRp97NypFfhtwhQzOhprsnN6tYWFDBUnU7LbziRurN4zkeJQOdFXv070g2n1DrvclGMIyTy62IQ5PXb0UVqtV93MxFixfO05+yzJRZQ5MSdHFhJ6pog55dGpMq1F9wL4GX/mpqRYpqO2yoJvmlnvalQDJWYXd9qU77ksJmrNVj/Ia7nvTpPo+1m9Wt3LxbH0364FTLvA5Qw+Rl+KcKp4AACIAACICAKhIQf1Kl2KtAuu2mXuJJl2u18iP96JnpeES3Ev1oM/7cY/MXLzxTeEl2R+YQ8SqjNWHXhZt3rYlyBh+kX0VsPe/Ug1eWZld3zGpInmiH7LGnHSft1gj6gbfeqI1XH77+4hia10cepsKKNvkhWTukUVQxdQNLen4486fxjLpFyNP5qCN3Hj8zd0vipTlfXEq8XK3ZmG1nb9z7TEY8Qi50Jac2nXH83quXZtf3GTRXK0z12/LhFxn0yLCYRqtQtcHrrjx8Zf0tSMXn5MfUFO9MJfcxLh5nfXB2XdJzWk/YffHWPStf0j2uD6VZ1h+9yeTha7ufMby4L6v71aVKtltufN/yucXNQ3M1ilE1Bm2zJh7sfbuHJhnsqD12x8VnT187R0m0Nxf7Jt+vgXjN6pwgtSCrL+w36hIBKN15uqHJHXMbegws/FRf4quFWk4yvPbg7XfPBF7Mx3ntK1JqXbbdeGpp8eTyjil1ixRpNP6gI2lpt0vNa5Guoz796K2Xz9+7RUtUtT9e+6yZ/Pns78l3XvwumB5fSH+xkFS/cJWhm688emv1M5qX6XFpfkNS0VrD99948MzCPTrJ56y+JlWiqb7RZTPLF49OL9YiJ5Re40FOjvy4ui1BUm3g0kM37310DUqQvZ5/v/GxZ/JLmxOzywr9bjDzuoHPdvWqQtYrdPvv+NX7d+2iyDim3ZGOJFqVrgv2X73/3pGsU4h49h+x+OqDDR+8evn0/rkVA0mfabWc2U3jm9EAepRKa97Fx89ev/VS6Jz8p0nZ/jGprnfwC3Pb+bayHGnRIt2Xnnlk+doqIJUX/nHuoDrEz/suOXDnvoV9JC/xw1Yy6FRhwPILT15Yml5YMZQM3NSZxViuqzH9XkZ5zQm7TZ68/+YZLdGAG49Dk59Jhk7EwsJXdBVTf91c04X0RQ3tJadumn5yJesS0t/Np0dRKw5YfeWRpdW3MF7Szz16LanizWccMDF/Zvnk/EqtEpRau6UvSZMHvxjfnQCoMnjN8YcPLBwi8rrjKUyevScZpAQCIAACIAACSk2AO5Mn78kXG3fBzs/d2eG7k5v3ryT6QZuY/JgSVPUZ9wOEVOJsD+lXo5rMPe8oeG82/FpVomc6d8kTDh3SnPcMJY9E4256ksfC9BvDSlPFB1/xZpOpok2eLFIoNvDwO3+Pnw4OTq6eIYkMqJ/GUytT1SZeFb2fkOR4fkFdqt7kI1/4q1F5kXfpCaBB1wTTVOkex3XJO5zDztmTIZNM8ynk0bCHMW08igzi3WvmzJmiotStSxxcEPr27fvPIv56unxYOaq+/n7Tby4/fzh+c3CNZLpKnPWB6VUpzfkXnYRvXKdeGVSSUhtqInwBOdH6QOsKxavMv81f2spL9z0+qT5Vr/+xH5k8/7td6xWixpyUaikr+ybfoxrVYOLZ119JzRy+2wuWUkfYrx9dn9LSf+AhEpfQY73UqBoT75OpPSbEv91ar0jhmv8J99uKc9o+sibVXMeEzBF6XtasQFGTr+X9RXTWTN54BL2iYMPDn16uTt/tHX1Dk5jCpT2n52v7nM3qpq4XZtWgqumeF8wuJ3nf0StCNRx8xFmwsCD8zjiyiKLVFTLaFfNhecsy1Xtu/JSH1wdyvTbYM/lFjYoW11p62eHHzx9ODk7OfrGMrwU+M+pUulKfTeZRwqLE2h5sQxXpOM+UrChhQuyTccR7tU4IIQU839GFKt9n6UPC4Pv23mTZxfrPgltCrtURReBiTn4CgVVq7u0fnm4/HOwdPYIi+QOt31aSyfjSq7PWCwS/m9W7KtVt5UfhtfdmXXOKar7mtYBB3PvdDUtSJZY/JSe7nRlGxjmm3BH9eyFRFTk0+WnNqUo919x47+L209H+q1Moc2tJ/XVjRQeqWvfdWX0x7fVccovrcFJ4/052vDSoYZlyeid8BG0Ve2dBU6psy402qbywlzrtylH9tzrGSlS7XCPB5HNFhAggAAIgAAIgkD8IcGfy5D35Egs+5aCU4XhkdFGq4Tr++mg6EJOfXoVq/d9tD8FMhO9JUqbKWXt4B17QI1Nvwy+6kNWW6TeGlqJK6ppJ9lazhC2kaJMny0dLTDDLMZ1GTH5yBar+MnPR7nfE5A1qU43nnncWGJr/BbI4tdj018Jqht6aTUZP+h+3IXSIyZPxkGEPhTYgIQrWo7Fk8uQ9+RbrHjDz1Vkhzno/Gexos+qOp1BZU64MLEmVniCyosg3hs3KlNA0fCc8KfbO8hZUzS67v6URk+9C/GjODakciH2TJ+/Jt1j2Nip7zSLs141Up3ostAwUyXjo0Z5qxerMey28bsLNV9UoVEzrMHnrggmpgWdmNaQ0Bp91zaRNvixVaDkLm2qzZvL0e/Jl+53JObDEN/khD0RrpjNdL8ysSqkveih4HSTW9TIZA2ijayIcwcj4uJCsPW9wil6s/H5pi/INtPc4CMZpWO+8dIIsmnwDqkS3/TY5Shn4zLCDWq2x+z8INzngxdoeaE2V6LH8HbO6nITwG33Ihd77ibCnRtudHVKmTBeDm0SEHbaTpU8ax6QfsOPC5On35Mts+W2F/7eVZO1LxT1Z23gSk+9ZmRq2zVHY7Z8uqkuV6nrASbio4qcxvX5h7n1SebfTQ8lWiXMtpRut4dDkyXvyNUec+C5qLv7V9+vG8naUev/jDqLFT2mv55D7S/87wm0DYr6c7FOndL2ld0W2/nFHJ0qt/rJ3ibwwS502Zajxh/xY6skweU7uBUgUBEAABEAABJSPAKcmX3Lh5xw1JnPyxOTrr85yF77Jt1px0034Ou878uxGlZ54lZmGibM+16cGRfXbbE8/9qVeJyZfYtxjyd6WlJC2gk1+JzH5khOfZn80pOfkicmrLzYVKgyPb/Iac4x/CCdqP02hW2/0OcZwEx2uDa9PUd1XvKM3BU9/Spv8kHtSzThLyEuaaKyYvNmyIaWplusfMmvqs0I8Y/KtV95yF/YcYvIlqFK6ZqLxC/ebHdULk6nsJ6HM87bLJe2KVNVOq+hxJJ/btMnPMpHqvQOWTT7Qclr3ylTLFe9yeArf5LsbvPAXveJOm3zR2nPotbj88OOcBrGdurOsmInPaJuj3csUrqe93Y74n9ulJmUpaqmZNA3157ismnz5/meZt4LFAt/kB91lmocOfJOvZ3BfMGqT8uv9MrLLQe3RZ22YMYyA2zr0/hkG9MryiHdLW5RTH7DLXqi8ea/v7ymwZfLu1xY2LFSyxwHbHFkwJl9z1N53IsFjTL5492VvhGN7abZb6TeVOm+wZs799XBlz0JUg1mn7MnQ5zejnmSDgcOuUledK5Mvt/W3T2gyJl9hZ9YmcXyTH7Lle6RA3Z1P0bf8Nv89YkZowx+uH1CYKj/BhB6fcGVMfs5z6cZuuTP5vVOaUrVGnnTI3uf4Jl+v39Gsvsg3+b43RV3bz3x0u7JUxWEXfjDnhj3WqU4+WzHDjKh+8IuxxOR1Dnjn+EdA6lYVnACTl5UczgMBEAABEAABFSPAmclvJHPy4qHamJOOhI3jQbJastaKV6Ins1jrfZPKUZqLr7mIrMX17Ohsp5bstfmhK3M0+ao2eQF45ENWBVXBJr9joHCjJ36ly/Tba0eq+vOUrhpV0+CRaFlp4vczs6tQ9fRPOYqWXIfcJBuGiYViXVaZ8GeFUp/okXm8/rdFz5EK6pbsmPyS4Tm+uj7iQRQZu/i8e0IZqtnS6/y+QXePi2THuyJjHmdtnx1vvWuiumjvRFKamm2W3GVmMN2vtyNjHdMuSzUNxrrJT+Hv7JYVxluQ9ov+tmpIDarjHAtfUVMHH+pcmKqiL2Y0ce/XDasi3nUa9Nhkxgiws3F9sgHagsd5b3PWTJ5521kslJp88is94GQxm/zY75ZovpZ+qaQcVX3OHW9h4ZPsLy2l3yLJChpz79JH08JeL9QoUbPX9q8s+c8fcbFk8vRX6LK2pmQSrTTjOWndIPPNWoUrDd35RrRIKcZ6TzOK6rjQMmupdfzrWTXozeGEoXjr8fusfhENzrTdTF7PrrvfReqm5sDkP9Gr68VDp8Uv6XHIb0vIPVvNMGt9fNCbaZ3LUP03fBO9EB5ns7kDGXzKCmVH7uZ/c8H5OBnoLKdvId3iIu5MnvkKnXhoakJaLvPX1UUtyS6Fh7L6YupLfXJ/6X4ta1PWpO9nFrSmN3oVhvLqky4wKxj8zEc0L0aN3CPFPgf/bHCYvNTXA04AARAAARAAAdUkkO2phMUq+N1d1aFt67bt2rUnoU2rZr2m7nxKa4bHjf+6NB159IvowTXhx7Ut2poTDz7zFdtiO93r2ZmFXTWbt+w4WH/rgx8i7U8xX9qzVfc1b6WbocmlWgo1eV7A4809Ordr05YPSqs52dD4Pq2a3g829W05Yt870aBFsvvD3UMbj9l+P+vlafoh8M2lZV01m7XsoD1p3a3vIoVN/bBJu3GbJZbSPQCz2P6CpMS7l6zvycfbX9o4pm1zLYZQu7at27QdbGRF5rWSHa9uHqA56dBzUc9JMV3UvXXPde+jxCuS5P/p3MgO7Vq1btOzr9EzD+Exv+czhnVoZ/RUkXPyMU5Hl+q2aSGoWZvWrbr12fOV6F2c6/EVI1rM2m3FbAvHhPCbc3p0Gbqdv7e9MCT6vD3Zv0XLVlodtUfse+MjVD+vRzq9tTruf5/35mTL5CNe7+zQqFlbugFJ0GqqMe7AU08ypZz+eVctjVaLX4rW2GR4PzLU1hq+21L8M19p/h8uLNDt3bJ5M83xG29+EYxOpUbZHdDtM2LBRVepBmOkhMKSyfPCPp6dNLhzq9YMg7ZtWnXoNfGIPRnLCPtsPK3H4JWXv8YLl5bHOZlMqt9t1oEv2QYoEjzvbhtLrvNW3Qfpn3gbKlhpn+5sPKd5/dHXpf8yPQcm7328b/OmrZmrtH271i3aDVp55jt9/3E91KN1w74XsgYVw74azhnQcskZ12ixrd2ina9sn9u5ebPmzUat3GfhLxzC8rq7tF4H7e2flWN1fUrQ4/1z2zVtya9k+3YtNOobvCHdLyPS4uBUjeEGN7P6Yqrt9mENms1/lm35WEqI3fUp/Xq0ad2sfft1j53DBW0e/Hn15F6tV5sEsrS6BCYv5VWO6CAAAiAAAiCgqgS4MnkV4qFYk1chUDIUlQ2TlyFbrk5heU6eq2Kyli5bJs9ageSeEFsmL/eC55IhByavRFXkak5eiar4r6LA5FWkoVBMEAABEAABEMgrAZi8Yr9Cl9f2U/LzYfJK3kD/Lh5MHiYvImBvb68qnRkmL95vVaXVUE4QAAEQAAEQAAFpCcDkYfLS9hkp4sPkpYClfFFh8jB5mLzyXZe5lAhz8irXZCgwCIAACIAACMhGACYPk5et50h0FkxeIkzKGgkmD5OHySvr1fnXcsHkVa7JUGAQAAEQAAEQkI0ATB4mL1vPkegsmLxEmJQ1EkweJg+TV9arEyavci2DAoMACIAACIAAywRg8rxfv36JUzA1Nf2d8b59+/DmoQxdTxKT79evnwwpK+QUaXe809XVVUg52cr02LFj2W4QFCVK+fjx4wXhipDQ5KdMmcIWc/mkU6ZMGVHVxowZ88dM7ezsxKv//ft3+ZQt77kkJyeLl/z69ev/SLNbt6wPpjZu3DjvuSs8BczJK7wJUAAQAAEQAAEQkA8BmDwvPj4eJs9Rb5PE5AcOHMhR7qwnu3jx4lz1VU1NTRRn8uTJrJdBngkaGxsXcJMvUoR8DF0Qpk6dKg5f/JD4Fxbl2UAy51W+fNaXzSU0eTc3N5mzk/+Jspl8s2bN5F9U1nPcv39/rrcp1jNFgiAAAiAAAiAAAvInkONBHX+lJJmTByYZCPzte/IyJKUkp/zxchU3eSUpJ4vFEFU5x5w8i1kobVL/MHmlLbMkBZPQ5CVJSjnjSD4nr5zlz2Op5P9UgRxBAARAAARAAATkQyCPDwn58HSYPEeNCpPnCKw8k4XJiwiIz8nLswlYzwsmzzpSpUpQPk8SyAUEQAAEQAAEQED+BJTqkUMpCgOT56gZYPIcgZVnsjB5mLw8+xsreWFOXv4PFsgRBEAABEAABEBADgRYeVLKV4ncv3//d+5GRkb5qpKKqIyenp4IrPhruoooCzt5/vH6ZCdpZU1FVOUc7+Iqa3nZLNfYsWPFW5zNpBWa1t82qrC2tlZouVjL/NKlS//4p7RVq1as5aSUCcnhMQJZgAAIgAAIgAAIKIQAtWvXroMIQgLbt2/38vL6vSVsbW137twpISfy7a4VK1aIP9T9999/5EcJT8+X0Xbv3v3s2TMRWLKVGvkcgOrW9MCBA3v37v3jFUsamliu6lbtbyUnVSZXh6jK3759+8cVcfLkyaFDhxYuXJh/FTRv3vzMmTMqzYR0YHNzc/EWP3TokJwbmnxKYOnSpaIbS4sWLcgu5YcPH84L2D179jx+/PiPPTk0NJSMYOYlcWU4lyBycXH5xz+uN27cINeyMhSVizJs3bpVIQ8WyBQEQAAEQAAEQEAOBLI+KyWHzApOFuTZUdzk3d3dC07dUVMQIASI+RcrVox/FfztTWyAkpaAo6Oj6MZC1gikp6dLmwLigwAIgAAIgAAIgAAI5A8CMHlO2jHHp5jt7e05yQaJgoCyEiBzoUWLFuVr5/Dhw5W1mCpWLisrK5HJjxw5Mjo6WsUqgOKCAAiAAAiAAAiAAAiwRAAmzxLI7MnA5DnBikRVhwBMnou2gslzQRVpggAIgAAIgAAIgIAqEoDJc9JqMHlOsCJR1SEAk+eirWDyXFBFmiAAAiAAAiAAAiCgigRg8py0GkyeE6xIVHUIwOS5aCuYPBdUkSYIgAAIgAAIgAAIqCIBmDwnrQaT5wQrElUdAjB5LtoKJs8FVaQJAiAAAiAAAiAAAqpIACbPSavJ0+RjY2Nv375NPiWFwC6BmzdvctI5Ckai8jT5r1+/3r9/n93Wl39qkvQ3eZo82U4PNxY5d4NHTCgYdwjUEgRAAARAAARAIK8EYPJ5JfjH8+Vp8kRjxL94hz+zSICTzlEwEpWnyZNd3FlsdAUmlWvXkKfJi+elQCYFMOtcuwEigAAIgAAIgAAIgAAhAJPnpBvI0+TFPzFdAJ96Oa0yJ52jYCQqT5OfPHkyp91Abonn2jXkafI5bmJyg4CMcu0GiAACIAACIAACIAACMHmu+gBMPn88jnPVPwpAujB5GS6BXPsFTF4Gqip3Sq7dABFAAARAAARAAARAACbPVR+Ayavc0/MfC8xV/ygA6cLkZbgEcu0XMHkZqKrcKbl2A0QAARAAARAAARAAAZg8V31AgSZvbm5OtqoKRZCSQFxc3KlTp3I89HPVPwpAuooy+aJFixK6Uja+AqLL1t8UaPKWlpa4sXDRUVJSUiZOnCh+5ykAtwdUEQRAAARAAARAgAUCeE+eBYi/J6FAkydZc1KlApAo2TwcJs9WOyvK5IsUKcJWFbhOR4b+pkCTd3Jy4hpIgU1/1qxZMPkC2/qoOAiAAAiAAAjITAAmLzO6f52oQJO3trbmpEoFINFr167B5NlqZ5h8riRl6G8KNHl7e/tca4QIshHQ19eHycuGDmeBAAiAAAiAQEEmAJPnpPVh8pxg5ThRGcyK4xKpcPIw+VwbT4b+BpPPlaoqRoDJq2KrocwgAAIgAAIgoHACMHlOmgAmzwlWjhOVwaw4LpEKJw+Tz7XxZOhvMPlcqapiBJi8KrYaygwCIAACIAACCicAk+ekCWDynGDlOFEZzIrjEqlw8jD5XBtPhv4Gk8+VqipGgMmrYquhzCAAAiAAAiCgcAIweU6aACbPCVaOE5XBrDgukQonD5PPtfFk6G8w+VypqmIEmLwqthrKDAIgAAIgAAIKJwCT56QJYPKcYOU4URnMiuMSqXDyMPlcG0+G/gaTz5WqKkaAyatiq6HMIAACIAACIKBwAjB5TpoAJs8JVo4TlcGsOC6RCicPk8+18WTobzD5XKmqYgSYvCq2GsoMAiAAAiAAAgonAJPnpAlg8pxg5ThRGcyK4xKpcPL5zOR/2Z7VrdBYb4NlGHttIkN/U2WTzwx+tb9n8RbTDnxJZI+h0qUU/XlhDw1q5IkAaUoGk5eGFuKCAAiAAAiAAAgICMDkOekKSmvyQVfG5vhkeuXB618HpLFDIcHLeEE3sfSrjN972yZEmHaazyX9jhTVdquFd/pf84sxm9aYoipu+tu3q6Nvk8NFWx3xZKfE2VKRwaw4KEU+SVJZTT7D59mW1pTagMVmoo4pCfHQjwd6UcX7LDD7JUlsyeLI0N+U2OSd/ystfmupOGTp40he8pvF7SmqnIFlLEES+HRjQ6rc4M2f/mXy6c57+7WgExp2hj6HDmnud1c1K9N07m33TMnACmMl2J2Z3yzb/a7P/RjpkpA6dtQbvQbFqY67/KQ5EyYvDS3EBQEQAAEQAAEQgMlz2QeU1uR/HBxGnmwLFylarHjxYkWYh9wecx56J7MDI/rnzuktSZKFSPpFSeA/RNeYf9efTj/d/8YibTWq795Xfhl/zS/uxYJOFNVol9NfYsQ+IoMBNXqd9WGnxNlSkcGsOChFPklSWU0+xfX68rpU6cHLzaVy8nCrI/2p0gMWm2NO/i8d9L0uc7UXKU4uffLfejprzKN4KR/X9i9B1V/1Lo6cFWSxRZOqNGzb53+ZvMf9fq2rMik1XPOJPovHS3Y8N78GVV//pENu9ym7BfSJqwIFRYx6t31qbeH9qAh9uxv2RDg8wNVlFvd+cuNSVNc9zC1P0gCTl5QU4oEACIAACIAACIgRwJw8J91BaU1evLZWu3XKUzXGbjQPFYp1ZkKYq9OPn67uPuEJwt9SIzxc3SJTeJmxPo5OPtHC2fuUGD9vj58/nX+4BsUmC6fKYlz3TGlC1Rl/SejZoS9200/SxUde8qbjZKYkxEQl0BPyaZE/HR2cg4SP9BlJIX7uP/3CU2nhT4iIiBPmnpEUGez90+mnb0hciiCXpIiI6MSsybnMpChvT3emJMFM0nQgp/l6BkQkpKfGh7q7Oju5BCdIMJ0Hk2fxYlBWk091u/lfA6rc0BUWjMmn/HJxdo3J4GXGBbo4Obt7hcTRfVAUEsN9yQXhHRLlb3VEmyojbvLMIWdXN5+wBMFFkRoT4ub80yOM36szY/zdnF2D4v++/kSG/qbEc/If9ciVXn53ToNNT4yMjOMz+N3kkyL9nX/+dHH1Co0X3lh8Hmk3r99Eb/b0KhTV7Xg000ZOFxfUphrNPOOYImyY5OggAv+ni5t3YIzgzMyUaJ/Hs8tSVOnFb0ICfAJIK8R93DWxMqWx7OofJsjT4sL8PFx/Oju7BoSJbnaZqTEBP5y9A2P5aWbEh7j8cPFnckhPCPdx84pIy0yNCPQkdxT/sCSx8UiSmi+5TflH8kLfTG1ShuoGk2fxXoKkQAAEQAAEQAAE/kwAJs9Jz1B+k/ex2NS8SOHGese+CyapMmMcTXdO0hKsRW0z87SZA3PEaVPVQlS/xefWDyaHKm39Rn6KdXt3btnAEoKotYYvPPiRv2aVb/LVhx2xzZq5/LaVpFmi30k3Hi/i3jSy1Lbdzs/RvNDLdcnpTY4GMeclOd8aVqtEqeEHPXip1ivo1fWH6bGAjGCHOwu712fyqTV07/Mw+on6eQfyN62LofR56eEOz47N7yVcP1t/+tbLNkyhQ9/t61Klfs+pqxePacQcrT9z7+vI3JpaBrPKLcmCe1xFTP7LYtI7Rm28uGFEZaajNJ515J2PQMWDLE7N7VqS/rVY96kGI5pQlQcv4c/Jx/14cHxGB8Gak5ZTdz62CSe/Rr7d3Zr81nabCzHX1E+zydRys802CX/tAzL0N2U3+bLbXLJVN9V6A726fsMX+tIVmXwSHSfe1fTs/O5l+Bevpt7WOx+Ya9rn8SDNEtT8i+73Z1NUzZWfSdyMH9lMPsnj8fEF2tUFV33VkYa3PtCT8L4mbUoJ7wT0LeJKLC/Nijb5BguMf2Zvg9SAbw/Wj25dnB+9YpvJ6+/6M9P9MT+N+1JUA+1L3swJoXemkeNdz3qRPwebb9QgYwv/bTLoWIk+q1LbGWds+SMLCQFvNo1pzdwPqw+dMrFjRYrquQ9z8gX33oeagwAIgAAIgIC8CMDkOSGt7CYf9sZAsyRVZ8w5R6FnpNguaVacqt5v+cYNa/9bOKZN3QqNJ15yJbNO7vvb0S5dXHPANAODdU/8yVurp2eSh+BKXUZMmWtgMGtMG7JqtY4us2o19g8mn/hqOVlu33rxW3L46aIBxal+h62JU8de700epHuc8SWnpTpdWdqQajLnjAP5y5dNZHW9hjFR/MygS3PJG7M1+09bvEJ/QO0Bm9/Rs6jvtCmqTJ9btJZH2Owc07ho0Vp9dKbNW2AwcyT9SqzWvBfk2T/K1niMOvlbudbauvPmTemnUYiiOjN5/SvIYFac9J58kaiKmLzDxtrlaZtrN2rm/FljupNOU3vsHmta5RPeTq1JjtQbNdNgjv7YHs2Il9cYttQ8gnRMh6NtqaKVe0zZuGHdf0umdaxZpd7Ag070XH6s5VpiguXG3rS3Pzq8JNVo9SsS/a9Bhv6mzCY/gb5NDNlofPnC2VPHz97/6EJPqNvvGkDWye90oOevhSZvRQQ444dxL7VSFTvqrlm7dvWKWT3qVazS1ciexPJ7Qpv8lEsZPK8NpDW6niHbGXhcXsjMyTuREZIUx1O9yOhKzZ4zFy6YO3NCH42yVKHOG+/78pJczm6Z3oJc6EXa6i1ctO4ISSzp064pNamy3SZuOHbuvPHpY0cufiU3h/TgN6u1KlBFNLQnzlqwcNa4TrXIUGPnk/T7PPEeJmMoqv34W3wPj3iyUI1SG2JCT+mHv9vXjlSwSI2Ow6fMmTmmfQVyV5v+ir59xj1ZRgYrizbrP2HOnCkjerQkR6heB2Dy+eI2hkqAAAiAAAiAgFITgMlz0jzKbfIpZovIQ2nNqScdRDvdpX40rE4egltO3nvy+OH92xcObUYVajXvGpmM8j7QpgZF9TnhIogbaXd+ZLlijcYccxYsdXUg21hR1HgL8oyc8CeTf72SHG698E2WyVvRRh5/bzL5vdsxDzLddX5uJ0pd96JjPPndZqPQ5Hkhd1Z1Uytavf+iM6+sv36wcouiF+m+ZUz+NlkE8MtyT88SpVrPFK2dtZlBHvFLzXufyYu3OzusRok6Y/Z9Z0YqXPb3JNNlqz+JFuf+udFlMCtOek++SFRlTL4mmUwd+pBZyhH+dkdnqrT2wqdkhj317Wai+CX1b/Nbw9dsc1eqrPbiZyTil43aJaliTXTXnjh25MCudaNalqeajjB2YmZ1Q17M71KFathSq3yZ1jMfRf2zKWXob0ps8p8mic2Ik8tN7+A3UvvvfzB5G/Kmi/2u0ZWoog1HLz985MihfZv12lWi6vU95JTJCzKjTX7SaTJUl/RqWUWq+nLLQM/by+oQkz/rTEZRPq0k94c6Bg8Fuxx4P1qvRZXtOf82s1e8xxYyX152L30foUP0h1369DBkVlhOooWar65GVln8Z8Es3efx3Ex6kPtGwwPkVpEkMHl+ajlMfncrMiI57Qrz5lD0bd0G5K54mV4M8HVFNaqExgKzYOacADMd9RJUt70w+X/2fRwEARAAARAAARBggQBMngWIvyehzCbvZzKPLP+spnOOXjMqDKEP5pcXLpcXPvdqTDN2pU1ei7yxukS4l3xmgOXOHlSxQSss6PXEdEh7OpY8Pve6QdbGJrr9vrrecQdZDl+izzGy6jbajD8nb8Uso002I3vXlelyzDGQLBCo3ljnhDM9E5rBN/mzzKN0asj3mztm9WxUr0bFep0WGdvTusWfk79N/uh1a7kWVV5vzyfhg3vKOXJqqbGmMbzEr6cHVa0+YPWTMOb1+OAL5KSa66yzvQL9e6vJYFac9J58kajKmHz1wlTRTXwvDP18eAAx+SXPoshSedMlZL199X30OhESou1PD6Z3vHuRwEuymKhFXsfOFupqH/3GX94SemkkcTx6enrQuVwWgcjQ35TY5D/Sc/IlRm6/duemyeULV5/aeNCX65/m5G3JzLrlvG78fe2yQpUuO7+m8YL5Jn/qFz1sF3Kwb8XyPQ49u7K6AaUx8yxZJB//YDiZQu9mItyuMNb5mk7FMu30z3nSF7f9GjL6UtqQ/84OY/JTalDle00zOn/jxrUr541vOdGrjC5PJWMBehfJ+z788HUB/WbFWnLLSXE3GU1RbXSu8jf6iDFfUko0J/92Vwuq/MBN1syATaz5ZLLWvt9VYu+Zb2eS22l7Q3v+ZgDJ1jOalsWOd0K2+C8IgAAIgAAIgACHBGDynMBVXpP3NulCJqBqGLzOvn18rMV/xcjS0cFHXEIDvT09PT3cf7r7htCK7LafNnkDGyGn8G/nR1WkqvY3suFvLJ32agZ5PbXksi/kz/H8He/GXRQOEkR8OE4veS82+Iw7ORxuKm7yvKRz/YpTJTvNXTKtaeGGesftmEfk9Kw5+eRQ2wf3neh3akPMV/crRjVY+oSstP0wUDQn/2pvr1KF1Mcec+XvZpdkSg5R9bb8IAtevxCTr9pnxYNgZiVB4Ln+MHlOOvrfE1Ulky9MWxzdzz4d6seYPDMhvKFCYTJCdZD/0vz3M7PqUxUGL30ex0t7s7hrMap0n90vQwN9mWvFzd03KIZZ8BH/YXvzouW7LF9KPhFRvPmSt/xr5C8hn5k8veNd2W3ZX0lP//anOXlymX9cN7AcpdZty2NfPx8vPkPvgGhyIfsyq+snnQplht3CLDc0K15pyOzxWkWbzjpN5uR5n/7rTLIZeYKs5aGD84XZtajKQzc+ZwYWv60qR7hvEg4yEpOn35M3oCfzs0Kg6Rry2kTbGTcFwv/5MNmZgxpoQmIk+z6YUpqqpb3bkY6eaW88qShVaqgJPb8eTpt82QHrPzADNtFmk8gGHIzJ82yXkpHM2mMvMpmkfzXuXI2iuuM9+X/1fBwDARAAARAAARBghQBMnhWMORORp8k7OTmJz2xZW1v/vUrpXzZ1pyMXrlC7vnrdOrVrV6tUpuf8S05E2b//Rx5AKbWGmk0aa2g0qldbY9Tca8x78vu0yIxVlsnzEj3O6ZNdrKiSlWrUqVu3dgU6vZH0hnZkDstll34r8tfy1WrVJaFOVWYLqir6l9wY1w59srB/1pw8eW/2Gv/DVZRai/HGDvwpTTGTT3LZO6YGVaxyA40GNeiEOu2lBw9oky/Nf08+1n7vcE1yoHSVmnRJyEM8VWnaZXoUIcLm1KAqVXovvy8weWPG5K0wJ89Jb/9jovI0+SlTpogugSJFivyzkqmu11eoU2WHCPaud9hI3iopvEZo8gf7UaW0l1jQ29olfZhH78pIVa1dt1YlNSb9aiOY9+R534/SmzCUqM5cKw3V6zQfOuPUD3ogynl3z6pU2VnveTzPA+T98KJdjaz/vnU9L3+Z/Ptx9KW4/ms2+unfdpJLr4HoPfkm9Ffo6PfkeT+MWxGoRSo3bkzfb9TravbXPfCdMPR9rN2kODVRYPK89KBzM+oz8LXmnHSgL2DPiz3ov5aqXa9unVpVyLBksboTL3+LYrL9aUh/KqNoxZrqnSaYJfBSPu2YUJGqN/uYnXDZDh0pI8x6bTf6ZlG+Rp169WpVor9O13z1J1r/M6Ltt2nTE/SVa9aoWoG/SKno8Ot8k9/ZnCrTf53A5E0n0iZ/hV5dn2D+H70LZ7FK1WtWryhY2NT7IL9HSRjwFToJQSEaCIAACIAACICAOAGYPCf9IYfJBwYKv3DMQW6hoaEijSF/+KfJ8+y30g+d2YJa7x0fmeXuMa4Pd43MOlRv9IWfxOR/bKb3/Zr0Tuwrbhmx3ua7xzE7OFNUhSG7H5JZcCbEux+ZSs/Bi0KvlcdMHaKElQ68PaUteWV++xvR956fTWL2rlbvdfCHwLJT3y0mr92XP+RNP1eHfjwzUJNMjFKFmusceO7FSJEFve9Uywtkdp6EtAiXB1sGk9UEdKg67uoHwdupIe/2k6X7LWdd82dmSn0OtyHSsPAts2f234MMZsVBe+aTJMVNXldXl9NazZs3T9TlcjP5dI9HK4mhd5zxgJmStV1Cn2nAX0QS8MqwNfm4wrQH/FeeeeFv1tBjVuSF6G0PLK7pt2+ipXubfyjW/dUhXeH26WSNS8c9LryMb7uHkvUiY88xE7pJryfTVqe15RP/uw5/CDL0N/HV9Xp6epxS9fPzE7+W7e2Fb9j8OVf7WXTsRZ+zHU21Wkcu+TLrbOnL2/fBcvJeT9eVb/heHe/17sTU+qIsyjbe9IVc4aFPR5IbzuB9AcJvx0d/p1fUUIVarn0ieFsh1vX5jpEV+CeW1Tn4yVvwwjtJM5F50Z2E+is/kmFB20Pj1KgSY3fkbIPkiC8nJ3fib3VfqsfcS8zOHfwQ7XB9FD08SDUfttf2w4l6ZD+90/T8f4jFOjLU2XbhS2ZHhYg7g8kLFq1PeTP3pDSfG/O70OfU1t754uXF7iWpFhvcJfjspShTmDynPRmJgwAIgAAIgEB+JQCT56Rlc5i8+AMx13/+t8lzUtv8kqgMZpVfqs5+PcRNnus+L55+bibPfk1lTlGG/iZu8vKkSvLKzeRlxoATeTB5dAIQAAEQAAEQAAEZCMDkZYCW+ykw+dwZKV8MGcxK+SqhLCWCyefaEjL0N5h8rlRVMQJMXhVbDWUGARAAARAAAYUTgMlz0gQweU6wcpyoDGbFcYlUOHmYfK6NJ0N/g8nnSlUVI8DkVbHVUGYQAAEQAAEQUDgBmDwnTQCT5wQrx4nKYFYcl0iFk4fJ59p4MvQ3mHyuVFUxAkxeFVsNZQYBEAABEAABhROAyXPSBDlM3sDAgIjNNg7C9u3bFy5cKP7GLN6Tl7lFZTArmfPK9yeKm3yTJk327dvHQfenkyQpa2lpiS6BgvOevKam5rp164yMjLgAS5pv/vz50ux4l+97NIcVhMlzCBdJgwAIgAAIgED+JQCT56Rtc5i8uzv9OXWOgre3N0yeFbYweVYw8hMRN/mxY8eymPLvSc2YMaMAmryOjk5GBvm6BFfB1dUVJs8V3OzpwuTlwxm5gAAIgAAIgEA+IwCT56RB5fk9eUdHR5g8K60Ik2cF4+8mP3z4cBZT/j2pyZMnF0CTHzlyZHR01gfYWCcsz5sY64VXrQRh8qrVXigtCIAACIAACCgJAZg8Jw0hz4dgmDxbTQiTZ4skSUd8Th4m/0ewMvQ38ffkYfIsdlfFJgWTVyx/5A4CIAACIAACKkoAJs9Jw8HkOcHKcaIymBXHJVLh5GHyuTaeDP0NJp8rVVWMAJNXxVZDmUEABEAABEBA4QRg8pw0AUyeE6wcJyqDWXFcIhVOHiafa+PJ0N9g8rlSVcUIMHlVbDWUGQRAAARAAAQUTgAmz0kT5G+TT42LCPTy9CJb7dHBy9PdJzyZE4xyTlQGs5JzCVUoO6U1+fTk6GAvD2Hv9fZ09w6JT1cIWBn6W/42+dS48ADxG4uHT0S+uLHk2rtg8rkiQgQQAAEQAAEQAIHfCcDkOekV+drk46z2T64uvskeRelaJHLCUb6JymBW8i2gKuWmrCaf5n5/TZPsvbfNcReFkJWhv9na2orKnu/ek4/9sEuvavammfQ8SSFNI+dMYfJyBo7sQAAEQAAEQCB/EIDJc9KO+drkYz7smlaLKtyg07BJ+vrTp03WHTv/imsaJxzlm6gMZiXfAqpSbspq8qluN1YTk6/WfICe/ozp06bojZ194MMvhZCVob85OztXrlyZb7v5zuSj3hhOqkkVadhlxGTmxqI3fqGJW364seTau2DyuSJCBBAAARAAARAAAczJy6kP5G+T/7h7cmWq8cobodlppod9Mz994tqXQH/bS4d2Xn0fkcnj+Zj9t+6aZ1y01e2z+y+89Gcm2JLDnB/u3bVl88at286/94wUfhE75pvJyYNm3+LDnW6tX7XvvQLkSgazklN/UsFslNfkb/7XgKqiZ+SYA2qiz4dze05Y+oW4PDi796yZVwKPF/Jm7Spj16RUZ9Nz2w8/cItjzkiLdH52ZY/R1k3r1hx68TNKsDA/wc3sytGbrwJC3cz3btn6SKJJfhn6G/nGe82aNfOryb810qtENV1zLyJb06TF2JleO3XLKsjX/sKB49c++pGjHvf3bjzlHJv44+bRI5csPPgT90lhTg9279y8eeM2owsfvYQ3lmiXy8cuPXUMjnB4sm7V4Q9hyngtweSVsVVQJhAAARAAARBQegKYk+ekifK7yU+rTU+djZw6a/bM6RPGGTyKYgz9x/kF9alCDbu0q0VUo8EiK/J8bTmHogp3GtCjCv3LtKfB6XFfrs4fqVVUuIa2eucxa267MzLvc3ZAs2IVG/fr1pA+OP0VJw3zz0RlMCv5F1JVclRik1+jSVHVWwycNGv2LP2JOnNM3BkbD3+9vTmZq+/cuTHpfhVHXfVK59ltoqgi7QZrNyC/FO1t7M7jJTobr5/Uooyw+1ZoOWbmZU+6+/56NLdfhWLVO3VtWpIc7HKKjGLlGmToby4uLjVq1Mi/Jj+5FlW0UbdR0+gbi57eYrNoWtD9T83pQBVT79K2Lql4o2VP0njpT3VJG7Tq31ed/NJ4uEkIjxf5+cKc4S2LCFumRhed9Xc96SbwuterUa3KzTt3q1+YHJz5JiXXdpF/BJi8/JkjRxAAARAAARDIBwRg8pw0Yn43+Rn1s73OusSbppjien0VWbdcUnOs0cUHT+284slvb5aSiIWqDN9++7nVd+/EcIddOs2o4lrzj9998/7j8ytr25SkSrVf/Jye3Q+4otOlBEXVHrH5roX5y59RnDQMTF5eWJXY5Ne1zNZ7dV8w26pFfjrQjvTVWn1WnrhrbusSRvzcbicTsfu6m88/WTuFZyS7XFzcnCrZRGfrvWevP1mZbepFFrrXHncnkMeLsVg5igxXVem16PwDU7NvQZJghslnpxT11mgareZZYZUvfV8Jury8ExlSaT5y7eVHlnZexO7Tn+vXJrGqD998+9kne3KviHfYNqoxVbz1wlP3377/YHFplVZJqkynFa/IXSTw6ciOlSiq5ijDiy+ev3WJlmSMRZLWYzMOTJ5NmkgLBEAABEAABAoMAZg8J02d301+SjWqxvjNDxx8fL08XH968BeypriaLFenaukdsMnacPrVYvLA3cuYMX0Sw+HCgPqlKkw+Eyh4+zXuzqJmVLmWGz6R6fugK2PaUNTQ8z/pEQCFBBnMSiHlVIlMldjkVzWiSvWedcHG28+b9F73X/zuGvlxbyuqZPelz+h5YH6w3UF6b92dPwR/Tfc+NaMDVWLgERvB8u90m+1kfrzx9BfpvITny4eUprpsfR4geevI0N/y+5z8hCpUrQmGjx296RuLi2cUfWNJDrq4qC1Vp9+RL/zXG0hINZ9ajdxXLgjuK7ykb2d71SlVcdqFUMG7OlHX52tSldpu+5LGC7EY3rIUNXSPYAm+5M0jx5gweTnCRlYgAAIgAAIgkH8IwOQ5acv8bvLkPXn1eaccha+48xkSk19Wj6qvf9IhVQSVMXntu+H8H2JtT/SqXar+snvkHWR+eGfUiSrVYOkbYu9BV0a3Jrvg3+W/TK+IIINZKaKYqpGnEps8eU++/IjVr2Ozg4z8uKclVabvmg+izsk3+UZnyZQ7E5Lc9k/SIq/YX/MQfqkh4DxZkN9gzJMkXuKL5YPUqL4HPubYPOJfjSVDf8vvJk/ek2+w4JxztnlzYvIL2lAaQ4x/iO4MxOTJJvdDHghfqI+xOtK1eqkG/z0RLp3PtNzSniqnuZoMEYZaDGtekpp4MkQZl9ULugdMXjVuaiglCIAACIAACCgZAZg8Jw2S702+CqU++7hd9k/P8U1effoJ+xxz8gNuC7ev8382pkM5quygU18jae4+N4dVpko3mWdBHw9gTH7cbd8sk+Kkbf6eqAxmJecSqlB2ymzyDanyw/57LhheEjLlm3yf1e+y1oQwJt/wNL3FGhPCn68YUY4q3XvTU2ayOOn+VA2KKjX6NllLH2NBm3yffe+DJW8jGfpbvjf5ylSD+We+ZxvMSwmmTb7R4DOOojsD3+QH3RNti+lnNrxNaarckHMOMYR/hofJkEpUueaLLKPo1fW0yesdD1LiT9PD5CW/ahATBEAABEAABEBARAAmz0lnyN8m/2HXVPotVbHQ9RrRooyflxeSVfcTj3wVPTNnvphPYvW8Tnak4odkpzNL2tPb3wlDVc0ZV5yZuX3fC0ObUtSo694weU76pJwTVVqTd725mux4Jx4qbbEhcCLe7WhMFe22/LVoDTfPehuJVvs4/bI2P6R7P5kxiNmRURCKNxl84gfdfcNMF/UtRHXd9VaiN+T5qcHks/fJqLeGk+jNMsVCr1tkyC/03JxmZHX9ye+iO0OK6YRyFNX3dtYCiKTvJxe0EXyejzm/evPZ15gvCPg81m5EUWMPByhsrU/uVx5MPndGiAECIAACIAACIPAbAZg8J50iX5t8srvpIf1ubTt1686Erh20+qx/T/Qnw/fZEZ1W47ffcxOtY834cqhRi3bLLMU/K5Ua8u3WzMH9O3du173nVjNX0aEQ83X6XbtssgxW2BO3DGbFSe/JF4kqq8lnhtheXdS9dUdh7+2o1UP/tgdBHvP92rRmAxef/JY1kuR8uYuWpu4D0TgUI/PRP+8snzCgW8d2rfuvuWMn/NZZ1OejKwd0WHzdPlzyHdVk6G/5ek4+2fXh/ulZN5YuHdoO2PyJtEak2YEZWnorH3lmra7/bDRCq/PKN8zKHmFICbG7MV27T+fOHXr1MTR3FR4L/rhqav8uW+4KtkNQyosLJq+UzYJCgQAIgAAIgICyE4DJc9JC+drkOSGmDInKYFbKUGzlLIOymrwS0ZKhv+Vrk1eippFzUWDycgaO7EAABEAABEAgfxCAyXPSjjB5TrBynKgMZsVxiVQ4eZh8ro0nQ3+DyedKVRUjwORVsdVQZhAAARAAARBQOAGYPCdNAJPnBCvHicpgVhyXSIWTh8nn2ngy9DeYfK5UVTECTF4VWw1lBgEQAAEQAAGFE4DJc9IEMHlOsHKcqAxmxXGJVDh5mHyujSdDf4PJ50pVFSPA5FWx1VBmEAABEAABEFA4AZg8J00Ak+cEK8eJymBWHJdIhZOHyefaeDL0N5h8rlRVMQJMXhVbDWUGARAAARAAAYUTgMlz0gQKNHlbW1tOqlQAEr1x40b2b2Dh6pC91WHyubKTob+Jm7yOjk5MDP35dI5CjpuYg4MDRxkh2RkzZojfeQAEBEAABEAABEAABCQhAFeRhJLUcRRo8iRrqYuLExgCt27dgsmz1RcUZfLFihVjqwpcpyNDfxM3+WrVqvn6Zn3rnvXS5riJOTk5sZ4FEuQTmD17NkwenQEEQAAEQAAEQEBaAjB5aYlJFF+BJp/DRfHXvBCQqLER6U8EFGXyeWluhZ+ba1cSN/latWr5+fnleorMEXLcxBQOp+AUQOYmw4kgAAIgAAIgAAIFigBMnpPmhsnnj8duTjpHwUgUJi/DJZBr14DJy0BV5U7JtRsgAgiAAAiAAAiAAAgQAjB5TroBTF7lnp7/WGBOOkfBSBQmL8MlkGvXgMnLQFXlTsm1GyACCIAACIAACIAACMDkueoD8jT5b9++qdyjqqoUmKv+UQDSlafJjx49WlV61L/LmWu/kKfJW1lZ5Q+qKleLXLsBIoAACIAACIAACIAATJ6rPiBPk4+IiNi/f/9JBLYJ7Nmzh6v+UQDSlafJv3z58siRI2y3v7zTk6S/ydPkw8LCcGORcyc4wYQCcHtAFUEABEAABEAABFgggNX1LED8PQl5mjwnFUCiIJA3AvI0+byVVJXOlqfJqxIXlBUEQAAEQAAEQAAECh4BmDwnbQ6T5wQrElUdAjB5LtoKJs8FVaQJAiAAAiAAAiAAAqpIACbPSavB5DnBikRVhwBMnou2gslzQRVpggAIgAAIgAAIgIAqEoDJc9JqMHlOsCJR1SEAk+eirWDyXFBFmiAAAiAAAiAAAiCgigRg8py0GkyeE6xIVHUIwOS5aCuYPBdUkSYIgAAIgAAIgAAIqCIBmDwnrQaT5wQrElUdAjB5LtoKJs8FVaQJAiAAAiAAAiAAAqpIACbPSavB5DnBikRVhwBMnou2gslzQRVpggAIgAAIgAAIgIAqEoDJc9JqMHlOsCJR1SEAk+eirWDyXFBFmiAAAiAAAiAAAiCgigRg8py0mjxNPjAwcOrUqQsR5EhgwYIF8+bN46Tr5JdE5Wnyly5dmj17thzbn5OsJk2alGvjy9Pk/fz8pk2bxklVkehfCBgYGJB7S67dABFAAARAAARAAARAgBCAyXPSDeRp8vb29hSCIghw0nXyS6LyNHkdHR1FtD/7eeba+PI0eRsbG/ZriBQlIJBrN0AEEAABEAABEAABEIDJc9UH5Gnyjo6OEjwcIgr7BLjqPfkiXXma/OTJk9lvXUWkmGvLy9Pkc9zEFMGjgOaZazdABBAAARAAARAAARCAyXPVB2DyBeEZnKveky/ShcnLcAnk2vIweRmoqtwpuXYDRAABEAABEAABEAABmDxXfQAmr3JPzzIUmKveky/Shclz0aNg8jJQVblT8sUNAJUAARAAARAAARDgnADek+cEsQJN3tvbm5MqIVEeb+XKleJWACT/IKAoky9evLiqtIuFhUUOycy15Ao0+aCgoFyLhwiyEVi8eDFuLLKhw1kgAAIgAAIgUJAJwOQ5aX0Fmry1tTUnVUKiPB7Zrx4P3BJ2BEWZfJEiRSQsocKjXbt2TYVMnuysqXBi+bUA+vr6uLHk18ZFvUAABEAABECAOwIweU7YwuQ5waroRGHykrcATD5XVjD5XBEVkAgw+QLS0KgmCIAACIAACLBLACbPLk9BajB5TrAqOlGYvOQtAJPPlRVMPldEBSQCTL6ANDSqCQIgAAIgAALsEoDJs8sTJs8JTyVJFCYveUPA5HNlBZPPFVEBiQCTLyANjWqCAAiAAAiAALsEYPLs8oTJc8JTSRKFyUveEDD5XFnB5HNFVEAiwOQLSEOjmiAAAiAAAiDALgGYPLs8YfKc8FSSRGHykjcETD5XVjD5XBEVkAgw+QLS0KgmCIAACIAACLBLACbPLk+YPCc8lSRRmLzkDQGTz5UVTD5XRAUkAky+gDQ0qgkCIAACIAAC7BKAybPLEybPCU8lSRQmL3lDwORzZQWTzxVRAYkAky8gDY1qggAIgAAIgAC7BGDy7PJUWZPPSI6KCItMyuAER35JFCYveUvC5HNlBZPPFZFSRUhPjguPjElMy2S9VDB51pEiQRAAARAAARAoCARg8py0shJ/hS4lxOnrl2/2TPj21c7JKzCG1nfbnRQJKz6whCMzPsj9m42DX2y6bAnG+v+wtWNK+e2rvatXaFxa7ulkxvy0tvnuGp6ae1QZY8DkJQentCafGhfi+uW7R4Cwa6ZF/LD7bOUSIf9BrPxl8ilB323s7IOSJO8iqhUzM/bl1r4UVW/mfW/WCw6TZx0pEgQBEAABEACBgkAAJs9JKyuxyX+dRyt7Vmg32cSPMHA8Wp6i1Lbayooj3vXtE1NLxwiBccc9m61J8hh5O0imBDNvjCgsVsaKXSYYPvoWlItrRV6pQM6pvt3l31mmRDl9trj73jEiWeq5NZi85K2prCaf5n5veW2K6jL7UTBdmVSXU+NIr6lo8CZF8rqxFDN/mfyXqfQVu8QqFzip4S42pnfeuoQmskRR6mQyUsIdLE2ff3SPkW6YMf79/rGUWtvl5gFSZ5nbCTD53AjhOAiAAAiAAAiAwB8IwOQ56RZKbPKfmQfudhOWrli2ZMG8ORvO3HOIJQwc8mjy/jtaUZT6EluBHaf5PLuwafnOB24JMvFNuaRdgqKq9Zy0eNXKxTNHdC5DUcWHHHBiVg/8NaQ4H128zPCkVdS/s4xzWNq3HNVpsRVdbekCTF5yXspq8qluN1bWp8oNXfE8hseLfL23RzGqeKPVjpJXjL2Y+cvkP4wn95XSG77mwifp0+YRFNVq84sw9kBKmVLC54X1qCo997hJd17ap0M6MHnpmCE2CIAACIAACIAAlwRg8pzQVWKTt5pGHriLb8n5FPs9u8mnhljdOrN10cKFCzedeWgdKlywHu38dPtcgyUrVqxYunjBjnPPPfjWHHJn+bgO1YoWr9RWZ86m03e/RBNHsrlpuO7Y20Ay7ZXh/uL8xj1PfMN8n57dvWTu+lP3v4SLFstnRDo+vbpjwaKlJM0VyxbPX3XsjT+Pl35ZuzhVqtcZXyb5sNczu1SkCk+858sfF0j0eH9vj8GChYvX7Dtr5hIhWk3vf33Fql1XnMnfE33en95jbG4f4G17a9OaxXP/u/o9is4yPdbbdP/sFrXVqNrtxk+fu+6+vVRL8WHykl8tymvyN/9rQJUbsf5tVOSHhR1rFKqtd+lHXFa94r2enN27YoGBwZ6r7wTdO/aD8bpFW898DOEPJKUHvDi7avbm+y6yjVJlZZW/TP6jXpbJJ7qZnt91+r7LL79PZ4xWLpi7/rZtHD3Gl/Dz+bFxbdSLUTW6jpo6d92dn3H8afE4B1PjVQYGCzcfMPnonSwglO58deOS/fZRcd/O79hx6olHcpzzqZ3HH3wN+GV7y2Dujjfh5C7z5fySlYev2pMbDgnxTndXL1pz/iv9t7RYt7uHDlx87h8bant8z7p5c/be/UpOIEX4cWH+sBYVi5er133CnK2Xn/1kCsbjRTlcXT1vweLVRntNXSLF1mfEuz3ettRg2arTL789361DlW6POXnJbwKICQIgAAIgAAIgwCkBmDwneJXd5EsYeueot5jJZ0Q6nVs6oGoh4fL2ktWazrrKXyXvdXOe+Kr3cg1m3nYmD97Wo8SWwjccdcyLx3Pa3Y9Mqq96T2wnw9KoN0WVb91Wk8yz06FE02nX+JOgCZ9O6tcqnW21f7d9ZIV/5hVi8qX7nAukI2U4mYzULEyVmHzfnzxhp73do9uwUhHhOWrqo7Y984xnUrPsSX7tcDWSPOF/Otq/ZtlKDVo2rsqPWKhZj/3ORMJ8zfSbimU37qxUE/MwecmvFmU2+YZUxaEGJ44vGlikXI/1pp6iSsV7v9qp07q4sINUqD/m3A/SvVOer9aiqDpTrvMvGu8T/WtR1JAbdG/MU8i/Jh/5fPWIKlTpJm01K/JhllYnS2p4vHCTRe3ELr/ht4OIyf/f3n1ARXH1cRgeu7HGXpOoUaOJxkSNsffYYtfYe4waxV5i773E3o1iR0XF3sGKFUWwYEEUFEFRsCttvzu7gEDyyQI7y87OOycnR2Dmzr3Pf3bO/KbtM3ubWvnSRv46S8Xh6y/qP88fdrcQ9+IU+blsTvG3Ys22+XrvrVkkT+ZCJb+XfyH1dA7T3Vv9iyR913ST/HyQTvdkR1fx+1rr5J/ePz7aq3hqKVuJ0sWzGZpOl7fhQrdgXcAmsTOKmsrZ2PuLfYrrqjoVCkT+MlXRtsN3euqf9395dkDTn8VjR/rl8xfJnU7KUXEQd9cnaqtnYQQQQAABBBAwmQBJ3mSU0Ruy5CTfRT4szVn8p3I/lS5ZvGy7qfZ35OtiEUneRfzz9uZeqaRU33SadfCi+41z2/+q+6Uk5elzWL6iFfLyscfVG57evk+fe5+c2/5zKXe79fLVfZ/zm3uWSJfx63Yrjrrf8w4Uv3Gf86skFRp9Vj4gPj2rtljll1UHbXZ2cV43okw6Sfpl0RPZy3NGhc8zFh136umrgEvr65XMk7HehAu+4uJ56Lp64tA+Tf7vypYv9+M3eT+TpFRlBuzwE0s8tM0l2io/wP6s+/VLRxf3q5lWylR76hF9ID9ZRxxvV7UTd00HXVjZVPT683KDVx10dz08vYl4MrrwZDdx9S340dkNrSvklMq0W77n1NWHgfF6Vp4kb/ynxYKT/LBvpFRffVMmr4ho5ca4f3xF25vTC1qnSfdNrzXnfIOCnl21bZhSkjo5iCEHnp/+rXgipe1m+dF6r83V8qZL38UusVfkdTrrTfJBThPa5pakHFX7b3ByuXpsXk1x5i3b5Jvig+3vsrRb9QxSyR7zdp5285ETu8dckfZLDN7j8zIw4K7j+JpFk/80+OhjsRMIO9hRnDGR8v8269D5a3d93uoe7G1UVsz7ZZu5Oy9dcH30Qdycs7axlPynttsMT64H7P4ztfRZo83yTx/8TwwqlULKXLrnLPtzbme3j24in4LsflA0e+vQot8KZcxX3maDo/t9P/G4/tOtdbNLUoMt94OCnvpc2j6qTIbCLcc7i1M4Pmu7iH1Vtvozznpcc9696PdKX0pZfibJG78TYE4EEEAAAQQQUFSAJK8Ir8Un+aiLUtmaT78gX1vUJ/l0E8RTrm83/1FAylFr3pWIu1zfOI7JJC6qRbwML9zr4IKOFQpmz50nVxZxiT1NzfmX9IL3Z1bI8HmJoRciFgpzm/0xyZ+cVl1K/83QY3LC170+3b5IOqn8TP3Bd8DG34tLUtpcX3zxRS5xzJzs51EH9De7hqyvL9J75JStfP+Vp/z01+n8Vou0nr7jXn1T4qjcY2uDosmllnPvyXnsVLQkv6x+zmwV+2711Sf1RytrSVLu4Wf1t9IHXR3WML9UY8i5Z/EuPUneeDILTvJDCklZm/SaPbJFiWRSllYbIt+Q+Pbe4o5fiW0uQ7bc+fLnz58nm3ydONUo+b6Qd57zWxWSinbc/vit94Y/ckuF/9z28Uq+8Sax5rTmJD+uRWap7Mjdhsdj/GaKq+gph8unCXWvnSe3yixVmHxE/8JBne7OQvkaeapMOfN9kT9/3lyZxdkTqcnKy+IDHn6gvVis1kb9jTnydH93/W/TSs3m+UQ+EvPilq1I8uXabjfMErAnepI/3vfbTAV+me5mOFPzxKGCuMCfaYJ8AvGl86DvPi9Ub46H4db+5/trZU0lupBd7kG+3NnFPULpK3Vb56t7e7ijeG1nqVlXDc8CvTs1q5mUrjR31yd4g2dBBBBAAAEEEDCtAEnetJ4RrVlykpefk08z+nqscX9M8q/Xdcor5W+46lbkHBeniwthyUaJl1KHn5xaN9qtqfIReI15htfd355SLl3mEkPORVyp/FeSz1R8xGn9hfMXJ9uJJF9hlv7g++3xyfUiG8xdd5j+9nl5CraV766vsvhO7Oo8WCLuoM/a+1TksfyDvc1KJpeazLwrvwk7epJfWjdHjhqDHfz0B+u+q8RNAXlGnNcv9fTioPr5pOqDnPV3BcRrIskbz2XJSb6glLnRyFOBD3Y2+EJsfQ3sxA3WYnpzZ35b+SJwjKnQ9ED9Bun+T/d0Ut4uE9dOa1FKytpl7+PIp7mNF/nXnNac5Mc2zyRVmHDQR38m7fFsEclTj9C/DC/o+LgWmaTyEw9FBPQbs8vHNs/cau1Nsa8I299ePBvTYKf+8XZ58tpdr1gaqf2yJ1Gv7fCwFW/P+6HVWsMJg5cH+6b5eE3eqW/xzIUbzL1leLnBmyPVxfnI5KPkE4hPj/crnrlQ3dnXDXubJ7vKfx7x3E9kT9JW674tQPd2f6vC4jWek65GvB/h4sLW0mck+URs8SyKAAIIIIAAAiYVIMmblDOysVhJ/vr12MHZhGu9detW9EPh8+fPf7Jx/bvrUw6P/YrpiCQvXzY7PVuk67Tlh27xFF+5HXhlXhvxZPkXf8lPvAetESH/yzYO+uTjY9f/Cyl95b8v6FcnknzqFAU7bfV4FRYijt7Do99dL1+Tz1hs+Clx27toIyLJyw/eP90mTgyUnOj2rw5/sK2dSkpbcd61f938fm60fP6g/swrz0PDX9/fM6V5FunzxjNO6C/YR7+7Xk7y1QftlO/SFdfkV4lr8h+T/ECR5L/rvM3N901I/L5EnCRv/HYbPck3adLE+AUTMGenTvLpKcOUIkWKT7YQfNtuiP7d9UfEa+58N/wpv0ih3Dz5BFTw47V9SkgZyk46bniBWozpvc8Rm7K5MmTOnyZF5q8H2H18ZWMCuhu5SCKTfL58+fz85CdOFJrc3d2j71hcXV0/uaIzrcTcEe+uD3KSk3z58Qe8I5K8UI5I8oFO8uX6oja2F5+8kT+cT7e2FctV/Vvceh9rCtYn+frbo864GZJ8uyV+kS8oeOu9//d8ydOV7e1w68V7nwsrBlQW36TZxE4+R/DB//iA79OnL9Ry/sEbQWHPT4ytK977kWbYCbnOT070K542a4XB4v0a8uc/+PyfucQfO/7rGzjfnxtbT9wi8GWHjc90YQFu9t3LZZGylB/Mc/IKbXA0iwACCCCAAALxFCDJxxPMuNljJXl7e/vbt29fU2ASMX7nzp3xSfLn9N9CN9CQvz9Ol+fIL/oaJZ8FCH7kNKpynmhtJi/Yc60+Mbw7Oa9p1IvwpFTiKDdZxVmGL5B+utVGfA2dPH3zm/zK+eszxbuo8vx1WkSkcKeJ5aWUBQYbAlKgU4svkkmlp4o31Ot0d+dWEve8Rk356460f/BSHPyH2oroLf040zXqHfdRPQ1c26SwfAdu5JS70fBD9wx3AjiK+3ST/bwhUKzk7MLqGTKUt9kmP3QvTjosFYf4WYY46xPAm7ur+tcRd9PKU3vbaG8tj7u0JPm4jSLniJ7kq1ev/vDhQwU2f7lJHx+fhg0bxifJD8wvpaxps09/PsrXtmkBsWyVSfKpraBL67rmj3qZor7JvkcjBhT2ZOe4X/Wveyw9xv52/L6J/P+oJTLJ58yZ88iRIx4eHkrAiv3V1q1b45PkneUkn2yoPg8HHh3xayrph5F77utPlT2allH8bYj+T++ubx5RJeISeAv9OcF7U4um+7hXETNWHnreX+wEQna3FDuHmlsMd0zIM+6sIWrVYoFv1P0Qb7xsB1SK6mSWbGL+ZPU3yrsW+Tn50mKXljptVNMpmqz1lK/mh728uahDEcNSlQbuEg/ZPN/dr0CuqBcdil9nazbjorwSH4ffSkXtCdNmyZhSylq6zx7D+/VMOfF98qbUpC0EEEAAAQQ0I0CSV6TUsZJ89ANipf8d1zX5h+vaVqnVcHXs+9bv7WpVv2rzjZG31D9zXzdtQMNaNWtW7zl744VoT5Q/PbH4r1+rVv2139SDpw5O6tx9xPaIi2mhT1yW/NWqYq2u0+zcxK3uD3aMb1j193U3xfFwuPvW4RV/62V7TX/h/LX7zD9alBtsL7f53Hl043I5itVs06F9+w6t6n4v3jKdp7f9ffGXC/M71GgyaKfXfyWmUL/jGyY1qVGjdq12gyfvvvMq6rq6+5ifKrb4S74+/+rWvjHt2g1f6fxM38DTg6PKV+5o6xFxV26438VFg7vUqthy7M6b8booT5I3/tMSPckrvc1Hbz+ua/LhT65s7l+95dgV8nclytPDvV3qVqzSfK282YlzSE9clo7t/WvtOvUb1PulaqP+u70ihxx2z2G8SI2pG0288Cxe70n8v2aJTPLmVBXriuuavM/qlpXrNFur37G8vrphym81Bm+8+ET/+Xq2vV3l2k1sI/Y54U+dV43qULtivZF299/pJUN9D68Z36RG7XoN6tep2aDr3P2P5FNzoRdmtatad+zpwEhAv3NjezWtN3Pf82hfHRn25MrSUV0qVe40ccXZ188vDm7UfuJx+SL+B3+nvt9m/bbBzCNO24Z2bVj515EbL0U8mS/++uae0/T+zSv+0nvJYU/DaYHX907OaFq1Vr0GDerWrtF60PLTjyJq/PjYhHq/1GrQbcHJ2z7ueyZ077P4wlPjPwVGzkmSNxKK2RBAAAEEEEAgugBJXpHtwYKTvCLjTVijbw/+KRLCFx1nbtu9c+eudZNbi+/6+n7ssag3XCWsVQWXIskbj2upSd74EcSaM+SW/cjvpJy/jj8U9eB2gtsyLGhdST6RGCZeXE7yxTOJh+Fvmuasi4m7F6s5kryyvrSOAAIIIICAlQqQ5BUpLEneGNawh4ds6pSJ+MZ38RRr7jJNxtvfFg/nW+pEkje+MlaW5MOeuUytL+4ZKSPe4mY8wqfnJMmbSvLf7bx/fLhbXilrhQmX9XcCWfhEkrfwAtE9BBBAAAEELFOAJK9IXUjyRrK+f3r37IFtGzdt2rhhzykXrxf/fi7eyIbMMhtJ3nhmK0vyoa8fXzyw0fag833TnWkiyRu/OcV3zrD3T1z22+85fjPIck8MfhwTST6+9WV+BBBAAAEEEBACJHlFNgOSvCKsSd0oSd74ClhZkjd+4MbPSZI33sq65yTJW3d9GR0CCCCAAAIKCZDkFYGNleSPHj36/Plz8ZVRJp9Es05OTtHffRXXG+8UGa9GGiXJG1/o6Em+Tp06Hz58MPnGb2jw/fv3LVu2NPrd9caPQPE5E5nk8+TJc+nSpYCAACVgxY7l0KFD8Xl3veJcVrwCkrwVF5ehIYAAAgggoJwASV4R21hJXnxNlCKr0TcqvoaKJK8cb/SWSfLGO0dP8o0bNzZ+wQTMGZ/vk09A80otksgkL75P/vHjj+9jN3kvr169SpI3uep/NkiSN48za0EAAQQQQMDKBEjyihQ0VpKP6wucEtUHd3d3knyiBI1emCRvNJUuepIX3/du/IIJmLN9+/YavCafN29eb2/Tf7d5lL85d2IJKLo1LUKSt6ZqMhYEEEAAAQTMJkCSV4TanAfBJHlFSvhfjZLkjacmycdplchr8iT5OIXVMgNJXi2Vop8IIIAAAghYlABJXpFykOQVYU3qRknyxleAJB+nFUk+TiKNzECS10ihGSYCCCCAAAKmFSDJm9YzojWrTvKhzzxOb1u6YPHSZfppycJ5q089DlPE0cIaJckbXxCLTfKvHl7ZtXT+oo9b78r9t18aPy4TzkmSj4kZ+vTGqa3Rdyzzbc/4aWLHQpI34ceKphBAAAEEENCOAElekVpbdZJ/6TyzQ+7oj+ZLUquDbxVxtLBGSfLGF8RSk3zI7W3Disbcen9Y5GH8uEw4J0k+JuaLk1Pa5IpZmnaH35kQ3GKbIslbbGnoGAIIIIAAApYsQJJXpDpWneRfnJ7WIZeUqWrnyavttmzetMF29daLTzRx6Ywkb/ynxVKTfPDtzUMLSylLNvhrmd1Wu00b1q62c/J6bfy4TDgnST4mZuCJiW1zSp9X7zZ1jdixbFy/do39pafhJgS32KZI8hZbGjqGAAIIIICAJQuQ5BWpjnUn+TPT22eTigze7B/TLthr799d2g7a7u66rXezmgPWPgjV6VxmffPD4LN+DzeN6Nqw11I3/V3ML+4dnVS/9s8/la5QqYftOe/giFb89g7s0HTmLv97h4f/UKzh2nuKFCZxjZLkjfez3CRvN6SglL31JPdYYwm6vP6Puu2WXPFwmtC1XrfZF57rdLf/KVX89+PPXx+d3r1ai0lnnuqXeOfjOK9vnaoVypYq0XSho0/ENePAM7P6t/prmdvtk3/Xq1Bx6kljoEjysZP8pNZZpWJ/bX8W4/cf/B1mDu44fPM1lz09G7cZtOGqThd+bkL9Mh2PPg44POy332zmnX0hLxD+wvPwhDo1y/1UplKVnuvO+0TsWB6f6Num9+wDN7z2Ty9VvMV6S9yv6EjyxnxemAcBBBBAAAEEYgmQ5BXZJKw9yXf5UpJSZs6RJ1/ePDkzpCn6t/5brd/fXDvga3FzbJpk8h2y+f88Le64P95H/DNdhhTybwp22Ov73nfPhPJfpf54C236AvVmnNcfcz9Y/euPaSTps5T6P7Y+pEhhEtcoSd54PwtO8sO/FRtY+my58+XLmytT6oKjLui3v2cnZ5QSv0+r3/4yNVp9N0R3ZaL452eZxFYpSakrL7ml0wWcHNa4pH77NkzJC5Qcff69WPrpXpv62cSHIpX+1z8uDDFCiiT/ryTf4QtJSmXYseTIkL7EQj95v/JoVZ+fovYrX/V1CNaFHeqQXcyYQb8jKVJ3ndj/PNgxqmx+w75DP2Us3HD2RXEuUXd/V50SuaTkKfX7IKn9EUt8Dogkb8THhVkQQAABBBBAILYASV6RbcLak3zXAh8PmcW/Bt6XFT/c2jSkiCTlqj7yqPeHCFan/uLP6YsNddRfNdM9d+5TKaeUse5S1yD5R+9tjXOIMNRyk6f44eG6Fj+LHFR66L6kef+YERsCSd4IpIhZJk+enCxZROZt0KCB8QsmYM74fJ988G27ESVibL1tj8pRXGybc0qLbbXk75uvR95sf3GKPGO6zrvE9Xl5enNuRqu8UrqqYw7oN9/g3V3EE/epyy64qdO9PDS4SVZJKtZltafRT3aT5GPWOvDEpE5fxSjN8AfyfsV37QCR5D+vPXTHIzmaiynkUOd8YsYSQw9G7CuenezxczYpU/1V1/S/uLe5YXYpZeG223x0Ot/9jctmkaRSww/LjVnmRJK3zLrQKwQQQAABBCxcgCSvSIGsPcmLu+u/HrBeHCZHnz7c2jDgS6lwj9W3P/7Wsa844G6wP+I62MsLiyrn/eyrAdvfRM5xclI5KX2hASdEdvJd11RcE+24L8Byn4wlyRv/aZk6dWqaNPqr2ZLUuHFj4xdMwJzxTPLi7vpsLcdfjrWi52dmlJAy1xl76eMrH/RJ/puNgRFzvrs1q21JKVvrjXcjr+s+/Edc3v+6xd53urdHBtb9TKq7+LI+4xs3keRjOokkL+6uLzpki/4Wn6jpve+a3j9IxRuvuxe1Zwg+0DGHJDWNeh3ei3Pzfs75WcEheyLPIIYfG1dGylzsr7PvdP4Hf/02rdR1teFcomVOJHnLrAu9QgABBBBAwMIFSPKKFEgDSf6rnsvcY77mzpDkv+q82FV/jVM/6ZN87a1PDD+9vbKq+lfpMrdf/jDi5uOXW/sUlzKVGivfoGxI8i23PoiK+YqUJjGNkuSN1wsMDLyrn27fvu3r62v8ggmYM/5JPnOjYU6vYq5Jn+QzVB928uPr7/RJvtAy74gZgz2XdCojpaoz/0LEg9wh5yeJL3Eo/rtjmO7NYTnJV591KmYK/eRgSPIxeQxJvlCff27GOJlnSPJf11vuHrVnMCT5utsj9iu6Ny7LKuX77PNOqyO/tC5wY69vpKxlJ18O0fnpk3zrRb4f90oJ2MSUXYQkr6wvrSOAAAIIIGClAiR5RQpr3UlevLs+p5S1bp/Fexydjh05fHDfEVf5FdPBcSZ53bNz/ep8IaUq+efCbU4nTh9cO7RUWilX1XHn5VtiH5LkFdkWNdBo/JK8/O761GVbTtvmeNzxqNh6D5/1lsN73Ele9+rCzK55pTRFfptgf+DYaefdIytnlZIV6esYqNMFHSTJJ3ZLE++ub5NDyt6g/9KIHcv+Y27inEmoX5xJXhdw5s9aeaVUpfou2X78xKn9qwd9n1bKW3PyZfGkw8N9JPnEVoblEUAAAQQQQMAiBUjyipTFqpP8S+cZHfLEeJxVqrAxQBxx31jdM4uU9be/L0U9KRx2qLuYsfyGqAuVoQ8PLOxaPeop++RFareb7fRIX4P7K38R78trsOFe0nwlmDHbAdfkjVEy/zzxSfIht7fG/j75rOMuiD4HHJ8otsuf+h77+JqGs2PE1ptjvlfUiMKfnp85uFH+qI3/i5/ajdin33yf7O5VRSw92emR8Q+HcE0+5qYSdHJyG3GPQ/Sp6hbxigK/5V0LS7mqLHSN2jN82N0irSRV2Sy/EM8whXrvnde5atRT9im+qdPh7xP63c69ndXF+zkbzfGxxFfdRfSea/Lm32mwRgQQQAABBKxAgCSvSBGtOsmH+LseXDFh9LiJhmnCmBFTtt4St66GB7gdmj98wa6Lfh9f3O11cNBfo9dHvUJMxg576X1+5axp48ePnjhp51W/qDtmX1zdsnz8OPvrQZFfS6dIZRLVKEk+UXyKLRyfJB/+4t6ZtRNHjp0QsfWOHTlp+Xn5+xTfeZ9ZNmz6uqMPIp+11ukenRo3YsjCSzGesA5/9/jixsXTJ4wdM3LalosPIuPhm7uHNk4bs87ZO9Y9+58aM0k+pk7IY5f9yyd+3LGMHTXN/o6oxhvX/StGLNrk8iRqzxB612HOiHEbb8Z4ECfs5YNzy2dMHT9+7OQpDu7+kZUJur156dRx2y+8NObrBBTbRD/dMEk+ieBZLQIIIIAAAuoWIMkrUj+rTvKKiKmiUZK8ZZYpPknegkZAkregYiRpV0jyScrPyhFAAAEEEFCrAElekcqR5BVhTepGSfJJXYH/Xj9JXom6mHMnpkT/VdQmSV5FxaKrCCCAAAIIWI4ASV6RWpjzINjd3T36k6Xnz59XZEg0qtOR5C1zK9BOkr9582bOnDkNn/e8efN6e0e+V1+BwphzJ6ZA99XUJEleTdWirwgggAACCFiMAElekVKY8yCYJK9ICf+rUZK82ajjtSLtJHkvL6/vv/+eJB+vzcPyZybJW36N6CECCCCAAAIWKECSV6QoJHlFWJO6UZJ8Ulfgv9evnST/5MmTX3/9lSRvmdthgntFkk8wHQsigAACCCCgZQGSvCLVT8Ik7+rqqsiQaFSn69OnT/QHGSCxEIHoST5lypQW0qs4u7Ft27aY37kW997Y39+/Xr16SZLkxY39cY6IGRIm0L27/G2dUVPCGmEpBBBAAAEEENCaQNzHjloTMcl4kzDJL1my5PTp045Mpha4ePFio0aNOOA2yQfEtI3Euibv5uZm6uKbvr2zZ8+OGjVKRUl+xYoV7FhMvx04OoodS9TZGcP2YNpPB60hgAACCCCAgLUKcNCgSGWTMMnHygb8qJyAIpsOjcZfIHqSV67cZmg5zqEn4TV5MwyfVZDk4/wIMAMCCCCAAAIIRAmQ5BXZGEjyWjgoV2TTodH4C5Dk428W9xKxdmJa+ERbyBjjrg1zIIAAAggggAACOh1JXpGtgCRvIcfEinZDkU2HRuMvQJKPv1ncS5DkFd17fKLxuGvDHAgggAACCCCAAEleoW2AJJ9UB8HmXK9CGw/NxleAJB9fMWPmJ8mbc2fCCziM2SaZBwEEEEAAAQSiC3BNXpHtwZxJngNuDrgV2YjV02iDBg2Sahsw7XrjJDfnc/LOzs6mHR2tGSkQ52bADAgggAACCCCAgBAgySuyGZgzyYsBhISEhDGZVyA4OFiRTYdG4y8gKh8aGmre+pt+bcZsUeZM8uxYTF9jI1oUO/P4fwJYAgEEEEAAAQS0KECSV6TqZk7yioyBRhFAwMIEzJzkLWz0dAcBBBBAAAEEEEDgowBJXpGtgSSvCCuNIqBtAZK8tuvP6BFAAAEEEEAAAZK8wtsASV5hYJpHQIsCJHktVp0xI4AAAggggAAC/yXANXlFtguSvCKsNIqAtgVI8tquP6NHAAEEEEAAAQS4Jq/wNkCSVxiY5hHQokD0JJ8/f34fHx8tKjBmBBBAAAEEEEAAAd5dr9A2QJJXCJZmEdCyQPQknyJFirt372pZg7EjgAACCCCAAAJaFuDuekWqb+YkL775+aeffqrFZIRAhQoVVq9erUjVaRQBhQWiJ3nx5eTXr19XboW3b98uU6aMER8pZjFKoGzZsleuXFGuXrSMAAIIIIAAAloTIMkrUnEzJ3kHBwdxWM9kpMCwYcMUqTqNIqCwQKwkf+3aNeVWePHiRSM/UMxmpMCRI0eUqxctI4AAAggggIDWBEjyilTczEl+z549Rh5KMpsQGDVqlCJVp1EEFBYw5zX5WDsxdh2JF3B0dFR4A6F5BBBAAAEEENCQAElekWKT5BN/1KtcCyR5RTZ6GlVegCSv3G7BDC2T5JX/iLAGBBBAAAEENCRAklek2Emb5PPkyZMvX768TJECBQoUiH6YTpJXZKOnUeUFkjbJi88TOxbjd6vCKnfu3NH3PCR55T8irAEBBBBAAAENCZDkFSl20ib58PBwRUal5kZJ8mquHn2PEEjaJE8Z4ivw8uVLknx80ZgfAQQQQAABBIwUIMkbCRW/2ZI2yYvD/fh1VwNzk+Q1UGTrH2LSJvnAwEDrJzbpCD09PUnyJhWlMQQQQAABBBD4KECSV2RrIMkrwpqIRknyicBjUUsRIMlbSiWM6wdJ3jgn5kIAAQQQQACBhAiQ5BOiFucyJPk4icw8A0nezOCsTgkBkrwSqsq1SZJXzpaWEUAAAQQQQIAkr8g2QJJXhDURjZLkE4HHopYiQJK3lEoY1w+SvHFOzIUAAggggAACCREgySdELc5lSPJxEpl5BpK8mcFZnRICJHklVJVrkySvnC0tI4AAAggggABJXpFtgCSvCGsiGiXJJwKPRS1FgCRvKZUwrh8keeOcmAsBBBBAAAEEEiJAkk+IWpzLkOTjJDLzDCR5M4OzOiUESPJKqCrXJkleOVtaRgABBBBAAAGSvCLbAEleEdZENEqSTwQei1qKAEneUiphXD9I8sY5MRcCCCCAAAIIJESAJJ8QtTiXIcnLRK98XZxPO5/1DAoNC3zgdtLlut+bsDjpFJqBJK8QLM2aU4Akb07txK+LJJ94Q1pAAAEEEEAAgf8nQJJXZNtQQ5J/dd/t7N4NGzdv3rh+35mb3s9CTCvx6uryvjX1+bnUPLdHW3sXljKWnnHxpWlXYnxrJHnjrZjTYgUsOsk/c7OzXW8nT5s3btl/5urDN+GKQb6/v2/V2h3HPN/EYw3B3k72thuP3H0Vj2USOStJPpGALI4AAggggAACnxAgySuyeVh6kn95bcPg38oXyhSZbzN8V6VR//UX35kO46lDnxSSlK5SuzFj5x29+3jH0LLSVzUXusbnwNt0nREtkeRNykljSSNgyUn+/YE/on/KMhas0m3hvvsKpXmfJenEygrNuhOPOjxd8Z1YJv+0a/FYJpGzkuQTCcjiCCCAAAIIIECSN/c2YNlJ/sXOPmWTS1KWqp3Gzlq0fMWS2X+1KS4OcZOVGnXmuamkHq5pm0bK0/u8ob2AjQNLk+RNZUs7mhWw5CT/alc3sRfJ3Xj4sjWrFs8YVL9AakmqNNvpkSLF+nB/z0rbHUfvvo1H6yEPHLet2XD4zut4LJPIWUnyiQRkcQQQQAABBBAgyZt7G7DoJO+5LJ8kpSr6x7YHHyJd3lxZ0Ekcd0vNd4in23ePaVmn64RDPqH6v4bcWj+8Xrk+272C5Z/CfQ8uGt6oWrUanYYtOXoncvl3B0b91mq0s8+DvX916fv3zrMnV49uXERc8E9XpGL1Zs3WeYW+3DaoTPQkHx7ksXti52o1a9dv3mb0bvcX8uPz71yXD21evtfmq4H69b44MrNTnY5j9t3XrzfoypTujaqN3R2U0EpyTT6hcixnQQKWnORf7+oqPmUl5njovV4fHVY3k5Sl8z9XDY/tvHCzH9ukavVarfuNtr/xXP+hFtON1ZUqDz0fGHRkzoCWvZfeeBl0Ye7QbtO3eD6+trVvi1o1qvdY5yJyd6DL5lEd61VqN8z24qOIG/ZDrk6q2eCP6Rf0N/mEvvR0mtK3Y63KbSdvuhi5iwhy27Gof/3K9XpP2OH2RL+yMLdlveo3n3ruhWHdYQFuDkN6tf2ldo1qTSfvdTXMo9O9ub9x2uhhC4488DgxvnurmpU7zNp9M8FPHpHkLejDQ1cQQAABBBCwOgHurlekpJac5IO2txMH3F91OxDjctaTHWUzStJnf93X6U6N/Vn8veN6w42rHtNKZ5ZSdTstDmaD3WbVLRAtEhezWe+qPyR/s6JaMkn6PEdm8cdUtXsv+7tVyWiz/XE25N32wYYkL68z7PaWlj9+IRaInAo2+XOLr07nZdstm5Tsx5ln9Ou9PEz0J3XRDvY+4ocXJyYXTp7mh/HHDWcXEjCR5BOAxiKWJmD5Sb7UIvkDqwu7Mb1ZMUnK9YftDfGT386+6VN9/Ahmazn66CP9acDTf4nfZsuXXf7b579u8Xy47/dqGaUUWbOljZg7Q66CXxfMLp9l1E/lhhzw1of3d3srSlKGGlsDdboPt3bZ1MsfOUf27vvlTH7LfmDuqBX+PPiA93txUvJAO7GHqrbZX/z99ZV1w6pl+9ilZOmK9T8mGhMnDa9NbFNCktJmyxC5i0pWcODp+Fz7j7bRkOQt7RNEfxBAAAEEELAmAZK8ItW05CR/Z644Bpa+nugSY+TP91fJIn7dxlkc5F6aU1aSyrTdKN8X67GyZJY02QcdkA9xD9iIrN9slZd+wVszq34plRvtIr/D7v2aX8RxeoqKI3Y/fPUhOFhcNnt1bkq95FKhYUd9deIUQGjAJsPd9VfF4fuzHa3FIX7OluvdxLmBwAdOQ8p/LmWpNOJkoM7f4ZcvU0jFJ9wVTd5bWUo+zM5WZ9DxEN37YwMrp5Qqz3N5luBqkeQTTMeCliNg0Ul+T3f5U5YybfoM6dOllP+ZrNLIM34C7/5EsW8pOPGW3tFn9/Bvk/3Qe7m7fBLw7Fh9hu+0+d6LkA/iNJ2/Q69fxBm8op1W3HwZ+vbSjC/lc4OFuiy9/Cro8qym34rXZ47Zc1++LP/hQA1Jyl5vp7hi77GmV1EpbYMpZ8Se5vG2ga3/EWcjA1d3yCl9XmexW4gu9OqM0csdPcRzQ2GHu4h0X2e7+KefU7/Kn0sFWq464/02LPTZ2Wny3uazse6i5VceM7qI5+mzNxjj4P3hrY/9QPn8pM2phG0DJPmEubEUAggggAACCBgjQJI3Rine81hykn+6sbk4NC08xTXGqB6s/yGDfMQqX0F74Tq+RmapZJfdT157zG2RQSo53ilA/NppWKHoeVj/77b23uKA/P2qmmmkbF2dor3P7vrcRsmkr8eeF5fCRGB/YnhOftG1MN2bky0KfyYVmegVufpb6//MIn3Rfq4I9oFbGopD95ZHdLo786pKUtUGdUrnqjjS1f/eknqFU9aYcC0RD7iS5OO9EbOA5QmoIMkbPmlpijSedsjfcAvNozVZY+84MjYcfzBQ/OncGPGXMnZRr+fw29m9SnKp4Zqbho+6S2dJylRknqf87zDXOa3ySt8Od/CKluR3yPfS+xzrX01/Tb5Mp6X79fOKkwcHxpSWf5WlQodFl54bHgMK0Sf5ujtf6IJOTa8s7h4asD9yxR/2NBSBvYaduJz/1mNa28JSud/3Gx7wD7SX93q9TiRsWyDJJ8yNpRBAAAEEEEDAGAGSvDFK8Z7HkpO8zm2quG00e5m/Dc+zGiavdb0+EwestdbKF8rCXx6d9qt44rX/so2jahWSCg1yfikfPJ8YXlTMkjZzznz58+XLmy9fzsxpq4w9/Uw84/5uVc3UUpYOBz5eMg9zmy1aKDTaWX9EHj3Jv3fuUDSDlHfIlYg1h1xe0imdVKDzYjexjgCH3umkrB0PXd30S7qc/Y/f3j+sYI6y/efPqFs891d9Nj+Neq4/3gXh3fXxJ2MJyxOw6CSvf07+h8UPY7M9XpdHvkCfwbDjyJsvZ5YMFQetcJHP+52Vk/wPtuLZGsP0WJ/k6y1zNexKbg9OJqUrNPO6/O93F6c3zyV9O2JX9CS/PdCw3LsX/hfXtimdV7SW/c/D8m9Cw8PeeTrM6Vlevjug4lQnsYrwI5FJ/oXznOpSykq97B9HrPfZumpi/9dgp2hOJPk2haXSnRzu6c9C+m8uIBr4kyRveR8GeoQAAggggIDmBUjyimwCsZK8h0f01Gz6NR4+fDj6RS9xuP/JddwdJx/xZqkzaPGhM1euXnXev3JYZfmZ0NJzrxveRBX++PicWlLKfF+VyJg2x4+j9r6S30in81gtLuYnrznhsE/gUz9f30c+Dx690h/s6t6ulJN8+ziT/MKrov3HGxt9L26orT3dwePG1bNH/unwbQbpm6bL3fRfNf98fz1xI27lqjVS5ep3MVT3YGfHSkUKVfwxe8byw7bcSvB7p0TDXJM3/WZHi2YXiJXkxSVf5bpw48aNWJfSAwNF0v2/0ysHOckXn3I59hwhzu3Fwzd5eu/zDgjwe+z76KH3o+dvDZfrneUkX2rN/0vyHgPFazM/keTri7vrwy9vmT/cZs7hK16Bt7Y0TSNJWaf5697sHPTboDVOdx/fPjK7Yx4pZ7ulV8TajnaVr8nL6d/3UN8yGaWctSdsPHb5mvvZDX0LSlL6yrbyowAvb8pJ/sdODp4keeU2LlpGAAEEEEAAARMIkORNgPjvJmIl+dmzZ+/atctemWnPnj3Dhw+PT5LXBZ5b8Mu3BaK+TV5cL8tZuFqfFRcj3yitC3t6fvyvhjdGlZ6w70HE+6Lfu82v/U2WaG+ukhrPeSC/CurN4vLicdYWu59GSYRenlpTPAw/5KQ+n3/ws/2zmJS9/Bz5RdTibfibW9f7Pn1kj1N//cuAhWciL+cH7mwmPxsrSY3lA+5XVyc103fjmx4Onom4t54kr8hmTqPmFoiV5OfOnavQjkU0O3PmzHgl+bd7uoj5vxh74d8oD3f2+/bLaPsbqcSwnfpzECeHiUUKr9C/JE+eHm3tUEY8VrPgkmFXcv1P8eeck67K/357dkL9DNJXA+099d90sVu8ljNttS3iPfS+h+eKi/WG6bNchRquE8/jfzg6tXZk51PkKjfE4brYEYXuby2eIKq8Sc7rr13Wj6+TL/K9elKK/CXarvfQR/ega+Ob5JG++W3bnXfyj77rcoiGuh5LWKW5uz5hbiyFAAIIIIAAAsYIkOSNUYr3PLGSfKwDYqV/jOuavDycEP9r+9bN6mPTf2A/m6GLNjvfjvX9bq9uHrAd27PHH1O2uAZEu6k9+PEJ+6VD+/QdOGhgv96Dpjm4vpavrQWfWzpswKiNNz8+Jx/m67RqUK8p+730y4a+cnH4u+ekJacML6wWaw/w2DNpYO++A4aOnLPrql/UGQTxp8Dzawf06zlgkngDnlgwyGX30n7d+07efNpff1yd4Ilr8gmmY0HLEYiV5JXek8Qryeu89vbr0W/a0ahYHoMt4JrjymHiEz9oUH+bXhNWn7j/Sv6z14FePbrPvhDxvXDigrjblkVDbFY4PzSctvPfNeiP4VMc9ffAB3sfsx3XY+Y+92fyicWQm0u69By74qp8IjH89d1TdtNH9e/Vc86OM/cidiZB9/atndGr18AJi7dd8jXsmEI9No/r0Xe5q37N8vlF1z1/Txrez6Z3rznbXR9H7l/e+R9bP7X3nE3uAfp7gF5envxn9wH2Cbz3gSRvOZ8deoIAAggggID1CZDkFamp5Sd5RYZtwY2S5C24OHTNWAGLTvLGDkJD85HkNVRshooAAggggIDZBUjyipCT5BVhTUSjJPlE4LGopQiQ5C2lEsb1gyRvnBNzIYAAAggggEBCBEjyCVGLcxmSfJxEZp6BJG9mcFanhABJXglV5dokyStnS8sIIIAAAgggQJJXZBuIleRPnjz57t27IGWmDx8+2NnZxeuNd4qM2bIbJclbdn3onVECsZL82bNn3759q8R+Reyvjh8/Hr/n5I0agbZmIslrq96MFgEEEEAAAfMKkOQV8Y6V5N3d3RVZTWSj+/fvJ8l/Wpgkr+gWSOPmEYiV5BX9esurV6+S5BNZVpJ8IgFZHAEEEEAAAQQ+IUCSV2TziJXkXV1dFVlNZKPii+hI8iR5RbcxGrcEgVhJ/vr168r16t+PCH36++SV64l6WybJq7d29BwBBBBAAAHLFyDJK1IjkrwirIlolGvyicBjUUsRIMlbSiWM6wdJ3jgn5kIAAQQQQACBhAiQ5BOiFucy58+fjx4dL126FOciiZmBa/Jx6pHk4yRiBssXIMlbfo2i95Akr6560VsEEEAAAQTUJUCSV6Re3t7eXbt27aefxD8ePnyoyGoiGyXJx8lLko+TiBksX4Akb/k1Ismrq0b0FgEEEEAAAfUKkOTVW7uPPTd7kn9397DtpP69+/YfIKb+/fv2Hzj9gHeoJVOS5C25OvTNSAErT/JvfQ6sntmvt41+vzKgX7/eg4fu9TGSxiJn45q8RZaFTiGAAAIIIGAlAiR5ayik2ZP8kz196mSK8WLrDH1OvrNkSpK8JVeHvhkpYOVJ3u9kj5r5Y74wv8cpI2kscjaSvEWWhU4hgAACCCBgJQIkeWsopNmTvP/uPnXTSwW6zN51wdX1sot4D8A137cWLUmSt+jy0DnjBKw8yT8WST6v9EWzefvOXL16xeXSBZfLjyx7vxJH2Ujyxm3XzIUAAggggAACCREgySdEzdKWSYIkb/NLWqnMrLOx7qh/cXZm9woN+++9fGRy2S9ydlsvLtM/WN/l80J9jntcHNWocrnOS268Fnhh/pfXt8uSOXX6TPm+brnszIMQA+hdu4pFG0xxvOOxqrOUsvqqu6ZkJsmbUpO2kkjA6pN8zxq5pFLDXGLxBl2b0rlF02F2lw/O/yFP6e5293S6V7bNCxdtvfeG25IG31XpvuDiG7FI+DOXtX0zZsyQIWPWorXnOPsa7hIKu72uZ6HvRp7yc1vSqmDa7+aJhc02keTNRs2KEEAAAQQQ0KAASd4aip4USb5hzujh+MslvjLkizPTOn+8O/aHKeKXD22bRs34ea3RLkGvrvzdMlWMO2hz/jLN+YNY+s7G0gXSR/4l24BT701YG5K8CTFpKqkErD/J1/s6+kf162XeMnXQtQntvo36femZIum/WVUrReRvMtTtd/RF6I1Z1WLsk6S8v8w++0IsfWtVty9SRy3d+4wZi0eSNyM2q0IAAQQQQEBzAiR5ayh5kiT5HJKULG26DBnSp00lZSq31l+f5J1ndM4jJS/bZ2tApOv9NXKSL9F+0xPDb3y2ycfbxfpfMfzov6fVl8lSl+i0U7zY6r5duYKppeTN7J6avigkedOb0qLZBaw/ydctJD6qadOnz5A+nTjfV3G9/gxh0PXJ7YtJ0nf9t3hGkr9YWTulJOXtvDnijXjeG3pklVJ+a3PIMMOjHb3zSdIPjTaI5e/Z9vgymZSiybKXZq8XSd7s5KwQAQQQQAABDQmQ5K2h2EmR5MXd9T9MOS7fKx9teuE8rV1Wqdy4/R+/dc/rn8aSlKX7iYjHXZ85ji2cLnWxqZEXxsKfbepbXPqiyly3UJ331jK5JWngHiVKQpJXQpU2zSxg/Ule3F1fYpBzrNtxgq5PbPm1VLnXkcfhkeBBy2ukTZarx6mI/cqLw73KppZKzrzwyjBDaMCxP/OnLVhn+g1xhnBt1+zS14MP6U82mnciyZvXm7UhgAACCCCgLQGSvDXUO4mSfMlxB2MdHBuS/I/Dd3hGPUCvT/KZOh94ZoB+c3Zm0UwpMnTdEHHE/fbG1EZ5pcJNbMVT8Q+2yEm+5xYlvs6OJG8NG7rmx6CJJF/c5ljE3iIqtuuT/E/d9njJT+HoJ5Hk00jZOx96bvjx7emRNdNJ+btvjLho//raqvqp0hRvusxLp/OyFUn+yz93PjD/5kOSN785a0QAAQQQQEA7AiR5a6i1+ZP8rt71MknZa/0xbv6SxYsWzJu/0NbpYZh4DVWcSV73/FSPijmk5MW6TJi3cuniqQMb5k6ZunTX1ffE0p6bSfLWsDkyBsUErD7J96iVX8pavufEOUuWLFowf+6iJY7y7T0v40zyumcnppdLK6X4uvmkxUuXLprdr36RFFLRHsuuiYv4d9Z0IckrtknSMAIIIIAAAggkmQBJPsnoTbhisyf5p3v71s4Q83ufm+0KEkn+xNhGyaSv+22+HfE6enEYvbiGmLG5Q8Rj8uJV0n5HVvZr8l3k0rlq957kcFP/BOvNNYXTSFL7dcEmpIlsimvyCqDSpLkFrDzJ+5/qVT1PzP1K073i/vmXV4fXyyZ908r+btRt98/nlZGklC32fHynht/hOcMaFYt8DV6OajbTt9/S3/lzfUnLFFKmTnZRz9ibr2pckzefNWtCAAEEEEBAewIkeWuoudmTfMjTG2f3bdlkt1U/bbHbsnXvJX9xU3xowM1zOzccdnv4Oup51jf3Tq/ZvOP846jbYgV4+Bv/m3u3bNlst2XnLpdHryNT/yvvI7vs7C75RC1rwtqQ5E2ISVNJJWDlST448NqZQx/3K1s2b7O/9ETsDkJfXHfet+HIBd834tYdwxTs6WS/xeG8X4zTfu/8b5ywE9PWbXsueb+OfErnpdcFh017XB7KX1Rn5okkb2ZwVocAAggggICmBEjy1lBusyd59aGR5NVXM3r8LwErT/JWV3GSvNWVlAEhgAACCCBgQQIkeQsqRoK7QpKPk44kHycRM1i+AEne8msUvYckeXXVi94igAACCCCgLgGSvLrq9d+9JcnHWUWSfJxEzGD5AiR5y68RSV5dNaK3CCCAAAIIqFeAJK/e2n3sOUk+ziqS5OMkYgbLFyDJW36NSPLqqhG9RQABBBBAQL0CJHn11o4kH4/akeTjgcWslipAkrfUyvx3v7i7Xl31orcIIIAAAgioS4Akr656/XdvY12Tf/36tTWMyqRjIMmblJPGkkYgaZN8cLASXxCZNJLmWaufn1/0PY+jo6N51staEEAAAQQQQEALAiR5a6hyrCQ/Y8aM5cuXL2GKFBDfS0WSt4YNXfNjSNokP2fOHHYsxu9WV6xYMXHiRJK85j+1ACCAAAIIIKCUAEleKVlzthsryUc/duTf/xYYNWqUOavDuhAwlUDSJnl2JokU4Jq8qT4ItIMAAggggAACQoAkbw2bAUk+XkfYJHlr2Og1OQaSfLw+6ZY2M0lek59aBo0AAggggIBSAiR5pWTN2S5JPl6H7CR5c26crMuEAiT5eH3SLW1mkrwJPws0hQACCCCAAAIkeWvYBrZs2WJpx6yW3B8bGxtrqDpj0J6AOZO8s7OzJX+K1di3ffv2aW+bZcQIIIAAAgggoJQASV4pWdpFAAEETCtgziRv2p7TGgIIIIAAAggggIBpBUjypvWkNQQQQEApAZK8UrK0iwACCCCAAAIIqE2AJK+2itFfBBDQqgBJXquVZ9wIIIAAAggggEBsAZI82wQCCCCgDgGSvDrqRC8RQAABBBBAAAHlBUjyyhuzBgQQQMAUAn5+fnXr1o162dv169dN0SptIIAAAggggAACCKhPgCSvvprRYwQQ0KaAuCbfsGFDkrw2q8+oEUAAAQQQQACB6AIkebYHBBBAQB0Cb9686dOnj3mS/L1798RZg3ZMJhJo1KgR91Co42NGLxFAAAEEEFCJAEleJYWimwggoHmBkJCQESNGmCfJX7hwQY3f2W7JfT58+LDmN2EAEEAAAQQQQMBkAiR5k1HSEAIIIKCoQHBw8PDhw82T5F1cXCw5Fauxb46OjopuHjSOAAIIIIAAApoSIMlrqtwMFgEEVCxAkldjgI/qM0lexZ89uo4AAggggIDlCZDkLa8m9AgBBBD4L4EkTPIpU6ZMkSJFcibjBIRVqlSpYp13IMnzsUYAAQQQQAABEwqQ5E2ISVMIIICAggJJmOQfPXqk4MCstGmSvJUWlmEhgAACCCBgEQIkeYsoA51AAAEE4hRIwiTv6uoaZ/eYIbpAeHg4SZ5NAgEEEEAAAQSUEyDJK2dLywgggIApBUjyptRUuC2SvMLANI8AAggggIDWBUjyWt8CGD8CCKhFgCSvlkqJfpLkVVQsuooAAggggIAaBUjyaqwafUYAAS0KkORVVHWSvIqKRVcRQAABBBBQowBJXo1Vo88IIKBFAZK8iqpOkldRsegqAggggAACahQgyauxavQZAQS0KECSV1HVSfIqKhZdRQABBBBAQI0CJHk1Vo0+I4CAFgVI8iqqOkleRcWiqwgggAACCKhRgCSvxqrRZwQQ0KJArCR/48YN5RRcXFyif4ka30IXX2qSfHzFmB8BBBBAAAEE4iVAko8XFzMjgAACSSYQK8lfuXJFua6Q5BNpS5JPJCCLI4AAAggggMCnBUjybCEIIICAOgRiJXlbW1vl+h2fJP/q7skTxxydjn+cnI4dOenqFagLe3Hz5LFDx+++MWVHP7x4dP3wkWNOjk6nzrvdf/Y2zJSNm6wtkrzJKGkIAQQQQAABBP5LgCTPdoEAAgioQyBWkl+6dKly/Y5PknfuHP1G/Mh/F+u9403Aobryj51dTNXRV3fsZg1rWyFL5ErS/dB44JKdLs/jTvNhj07bLV11+P47U3UljnZI8maCZjUIIIAAAghoVYAkr9XKM24EEFCbQKwkv2zZMuVGEJ8k73twysSRY8aPHtqulCSlz1fl9+Hjxvw1xfbY3dBg34OLZk2ef+KZaTr6aPeg+skkKWupxgPHTpgwbvTgbvXzpZKkjA3mHXoQGtcqjnfIIEnVHN7GNZ+J/k6SNxEkzSCAAAIIIIDAfwuQ5NkyEEAAAXUIWGqSj9QLPdlDkvJWnnztI6fv7mE2v4889kr8JjjAce3csQuPeD+4unL8wPa/9V+096b4dYDz5tEt2/YcNu/IrRfRyhB4duO4Vm069Og7aevlRx/0f3h5fm75TGIFnffceRk5p9+eGW1zSslL/rnBO1jMcW5w6xbdNtzS/zX08blNo9sMXn3UR6cLPD69T62CqSUpT9Xfeo6YvO2O8nmeJK+ODxW9RAABBBBAQLUCJHnVlo6OI4CAxgQsPMmHPj8gbrPP9fPoc3JwN0yXbMR98KnGPxT/fPtgaY+ykvR54a+yGe6NT52jaIWaPxdKb/gpWYl208746++Sf3dlRv1yWaPu2M9dY+hS93Cd7tqijjlF+4MPRS/7u2ubWhaVpBojzj3X6Z6sk2+7/8NJP0PwjbW9CkpZ281x1ek8J+aI9gBA7m5HAhTfdEjyihOzAgQQQAABBLQtQJLXdv0ZPQIIqEdAhUn+yuB0IrxP9RXI7x+uHvCTJH1WrsuC015eFxZ3TiOH64J/7nR74LZvYLUsUvZq45z8xYx+O3t9JmVubCtfWn/7+PyYekWzVR1z+cPrs4OriUvylRdciV6x97d3dCiTQvrmj12PdLpnm/OJJm1OGZL8rU39v5Pyd51/WTwaH/zCY3VzkearLDjr4+f77J04MaDwRJJXGJjmEUAAAQQQ0LoASV7rWwDjRwABtQioPcn/07uUVPjXVTfEffA6ndeab8Uj70226fHfOE5tJKUv99cRkeRf725eNKUI5CnTfJY2TZo04jl4SSrReLVXwLVZLbJIqX5ZHu3mfTG3+8aWxSTpp36OT8Sd+vok3/+Mvs2QyCTv8lr/s2O3PJJUb2egmapNkjcTNKtBAAEEEEBAqwIkea1WnnEjgIDaBFSf5P/8Xiry6z839K+PD9hdPrkkNd+hL0LQ0Skiyf88/KhI8q8cmhTWx/ePU/YqfXb7hgcdGF5APOre3Pb9x8KF3Nw6QrxmL1f7RbfFo+9PNuYVCzXbrT9VoPO0G1BCviZvSPLBhzrnEkl+h7gJ3ywTSd4szKwEAQQQQAAB7QqQ5LVbe0aOAALqEoiV5FevXq1c/69duxY9S7u6iqfN45j+6zn5GHfX/yOSvLgmf13/urmnDuVEkm9mHzPJ++l0YZfGi6+uy9h8033D+kQkjljxM8d2pcTj8zmbjdl24+kTP+97F7ZOqii/x67a9P3e8kwfjjUWnc7ec9f9J97XDs/uWDajVPCPBYYkH3K4i0jyJSc5eQcFBL3n7vq4qsnfEUAAAQQQQMDCBUjyFl4guocAAghECMRK8kOGDDlz5szp06dPmXo6f/78qlWr4pvkQwL2tBER/PthZz6+hF7/xrvUE+Q33r3zXtatiJSv1lK3N/J4/O1Lij/Vt9OH9cCD436Rkn0/6KA8oy7QqXPVkpmjrT5XxYmX9XH88e5xVX74Mm20P6XPWemPmUf9I76D7tkem0qRf0yfN794/13RzrPOG17Ad3dFa/mmfUlKUcDmRJDiGxXX5BUnZgUIIIAAAghoW4Akr+36M3oEEFCPQKwkH/MOdGV/Muqa/CvXZW2b9h4X/TvevDZ2a92wxy75lvbgZ05rRjQZPMvJR/+lci8uje3YvOHc8/ok/8bdYU6L38fZuUfe+/7e9/TaEU1btG7fvs1vLXpMWHTS8FZ7Mb33u7VvZp9mv7Vu07qjzbAlTp6BkX/R/znEc/3Izk3a/zFqy5XH3ucXj5m6bO9d/d38Ynq+f4FNo+Zd/lpwQn6xnsITSV5hYJpHAAEEEEBA6wIkea1vAYwfAQTUImDhSV4tjObpJ0nePM6sBQEEEEAAAc0KkOQ1W3oGjgACKhMgyauoYCR5FRWLriKAAAIIIKBGAZK8GqtGnxFAQIsCJHkVVZ0kr6Ji0VUEEEAAAQTUKECSV2PV6DMCCGhRIFaSnzBhwp07d24pMHl5ee3YsSO+b7zTYkn+/5hJ8mwPCCCAAAIIIKCoAEleUV4aRwABBEwmECvJi9fLm6zpfzXk5uZGkk8ML0k+MXosiwACCCCAAAJxCpDk4yRiBgQQQMAiBGIl+WXLlinXLRcXF5J8YnhJ8onRY1kEEEAAAQQQiFOAJB8nETMggAACFiFAkreIMhjXCZK8cU7MhQACCCCAAAIJFCDJJxCOxVkiZX8AABgASURBVBBAAAEzC5DkzQyemNWR5BOjx7IIIIAAAgggEKcAST5OImZAAAEELEKAJG8RZTCuEyR545yYCwEEEEAAAQQSKECSTyAciyGAAAJmFrCSJP/mwf71S6dOmjJNnqZOmTxt4fJzAWamVH51JHnljVkDAggggAACmhYgyWu6/AweAQRUJPDhwwcbG5uoF9HNnTtXuc4r+Ma7B7vqF88U/XV60mcjLis3kiRqmSSfRPCsFgEEEEAAAa0IkOS1UmnGiQACahcQ4dDDw2PXrl379+93cHDw9vZWbkQKJnkvh3olMkqF2izese/Qwf179+47dvzeK+VGkkQtk+STCJ7VIoAAAgggoBUBkrxWKs04EUAAAeMFFEzy93fV/zatVGXe81i9eXLur3ZdBv9zyuPAnFIFa093CdZ5b+1QotLYs7fOTO5UufGQvZ5v5SVCn5z+xyZP/q8KFyvbsNeG64HB+mZCb6zoUrjikgfhN2c0L1Ou7VZf44eqzJwkeWVcaRUBBBBAAAEEIgRI8mwKCCCAAAKxBZRN8j/mFHfXp0mbNk2qlCnTZ2nm4C+v3vd41xpfRd11X33zM92Df8pF/Zy66rTzQTrdtak/Z41+Z37Wqn12eH4QS1+eWjdF1B9SDXdJ6pKS5JO6AqwfAQQQQAABKxcgyVt5gRkeAgggkAABZZN86VzR03jNLY/lHj4+2bNOfkkqNWz/Q0OHQ2+tKC9J6Yp12+YVMQLPlb+JBUsNOaP/Ofj09EbppEwNBh55qdO5z2qcVpKStVgXnoDRKrAISV4BVJpEAAEEEEAAgY8CJHm2BgQQQACB2ALKJnlxd32l2X6x1vn4ZPcq2aWmU2+9jvhDiMeyslKysn1OG26g1+me2f+aR5IqbngS8fOrGxtbZMlQuuuaRzrd9Tn1JKnYnJuWUkqSvKVUgn4ggAACCCBgpQIkeSstLMNCAAEEEiGgeJIvN/H2fyb5emNdn4UZ/qJP8lKpPw6LS+766eW+9kUkqfikC+8MP/udmF0lRaaKvbeIaH9ttkjyhSZcfJ+IQZtyUZK8KTVpCwEEEEAAAQT+JUCSZ6NAAAEEEIgtoGCSF++uL5lJKtB81vot2+23bbHbumufm/z2O/9T8jX5TyV53UN7m9ySlLHSoI37dm/ftHRgncIppLJ/2d0RS7vNqkuSZztGAAEEEEAAAe0IkOS1U2tGigACCBgroGCSf7C7frGMMb5PPuUfx8UN9H6O7X5MJVUeevFJqKGXwdfmfSPSebt94k13EVPYvbU2bUrniFw6R6Ve03fcke/GD7s0sZIkZR9+Vv9+ewuYuCZvAUWgCwgggAACCFizAEnemqvL2BBAAIGECSiY5N8+PLZt7fy58xfK04L58xauWuvsJ95T99b32PaVf+869/RdxEvrwp67b5m6YPMxb/nd9B/DfNDtU3az5sydt2Tl5jP3XkfciR/+1GXX/Blrz/tHnAVI2KhNuBRJ3oSYNIUAAggggAAC/xYgybNVIIAAAgjEFlAwyWsDmySvjTozSgQQQAABBJJMgCSfZPSsGAEEELBYAZJ8IktDkk8kIIsjgAACCCCAwKcFSPJsIQgggAACXJM38TZAkjcxKM0hgAACCCCAQEwBkjxbBAIIIIAASd7E2wBJ3sSgNIcAAggggAACJHm2AQQQQACBTwtwd30itxCSfCIBWRwBBBBAAAEEPi3ANXm2EAQQQACBOK7Je3h4YBRfgRjftCdJjo6O8W2B+RFAAAEEEEAAgf8nQJJn20AAAQQQiCPJz5kzZ8+ePduZjBNwcHCwt7cnyfO5QgABBBBAAAHlBEjyytnSMgIIIKBWgVh318cKpfyYAAGuyav1w0C/EUAAAQQQsEgBkrxFloVOIYAAAkkqQJJPQFb/9CIk+STdolk5AggggAAC1iZAkre2ijIeBBBAIPECJHmSfOK3IlpAAAEEEEAAAeUESPLK2dIyAgggoFYBZ2dnk0dZjTe4f/9+tW4N9BsBBBBAAAEELE+AJG95NaFHCCCAQFILhIWFPX369DmTiQQEZkhISFJXlfUjgAACCCCAgPUIkOStp5aMBAEEEEAAAQQQQAABBBBAQAsCJHktVJkxIoAAAggggAACCCCAAAIIWI+AdMfzPv/9fwGv256R/931un333q074j9PD8N/tyP/k3+8p//PUz9DxH9ifnkReSnxe8PMd8V/N2/J/4/5n2EG/S9v3blp+M9D/Hfb8G/Dn27d1revb/Zf/8ndi+qhvMbI1cVel74zkV36d0/u6keh/y9iLREtRzYeMZyoRqL9w9A3MX8EWiI2La87nsb8Z9h6o8/579/EbudjTaOKq85/RA5cLR/hqEKYs8NipXFvErE2tsRvIf+19Zpz1KwrlkC0PXniPuzG7ZeM2Xf9v3nMUTvrOYRhJAgggAACCGhYgGvyGi4+Q0cAAQQQQAABBBBAAAEEEFChAElehUWjywgggAACCCCAAAIIIIAAAhoWIMlruPgMHQEEEEAAAQQQQAABBBBAQIUCJHkVFo0uI4AAAggggAACCCCAAAIIaFiAJK/h4jN0BBBAAAEEEEAAAQQQQAABFQqQ5FVYNLqMAAIIIIAAAggggAACCCCgYQGSvIaLz9ARQAABBBBAAAEEEEAAAQRUKECSV2HR6DICCCCAAAIIIIAAAggggICGBUjyGi4+Q0cAAQQQQAABBBBAAAEEEFChAElehUWjywgggAACCCCAAAIIIIAAAhoWIMlruPgMHQEEEEAAAQQQQAABBBBAQIUCJHkVFo0uI4AAAggggAACCCCAAAIIaFiAJK/h4jN0BBBAAAEEEEAAAQQQQAABFQqQ5FVYNLqMAAIIIIAAAggggAACCCCgYQGSvIaLz9ARQAABBBBAAAEEEEAAAQRUKECSV2HR6DICCCCAAAIIIIAAAggggICGBUjyGi4+Q0cAAQQQQAABBBBAAAEEEFChAElehUWjywgggAACCCCAAAIIIIAAAhoWIMlruPgMHQEEEEAAAQQQQAABBBBAQIUCJHkVFo0uI4AAAggggAACCCCAAAIIaFiAJK/h4jN0BBBAAAEEEEAAAQQQQAABFQqQ5FVYNLqMAAIIIIAAAggggAACCCCgYQGSvIaLz9ARQAABBBBAAAEEEEAAAQRUKECSV2HR6DICCCCAAAIIIIAAAggggICGBUjyGi4+Q0cAAQQQQAABBBBAAAEEEFChAElehUWjywgggAACCCCAAAIIIIAAAhoWIMlruPgMHQEEEEAAAQQQQAABBBBAQIUCJHkVFo0uI4AAAggggAACCCCAAAIIaFiAJK/h4jN0BBBAAAEEEEAAAQQQQAABFQqQ5FVYNLqMAAIIIIAAAggggAACCCCgYQGSvIaLz9ARQAABBBBAAAEEEEAAAQRUKECSV2HR6DICCCCAAAIIIIAAAggggICGBUjyGi4+Q0cAAQQQQAABBBBAAAEEEFChAElehUWjywgggAACCCCAAAIIIIAAAhoWIMlruPgMHQEEEEAAAQQQQAABBBBAQIUCJHkVFo0uI4AAAggggAACCCCAAAIIaFiAJK/h4jN0BBBAAAEEEEAAAQQQQAABFQqQ5FVYNLqMAAIIIIAAAggggAACCCCgYQGSvIaLz9ARQAABBBBAAAEEEEAAAQRUKECSV2HR6DICCCCAAAIIIIAAAggggICGBUjyGi4+Q0cAAQQQQAABBBBAAAEEEFChAElehUWjywgggAACCCCAAAIIIIAAAhoWIMlruPgMHQEEEEAAAQQQQAABBBBAQIUCJHkVFo0uI4AAAggggAACCCCAAAIIaFiAJK/h4jN0BBBAAAEEEEAAAQQQQAABFQqQ5FVYNLqMAAIIIIAAAggggAACCCCgYQGSvIaLz9ARQAABBBBAAAEEEEAAAQRUKECSV2HR6DICCCCAAAIIIIAAAggggICGBUjyGi4+Q0cAAQQQQAABBBBAAAEEEFChAElehUWjywgggAACCCCAAAIIIIAAAhoWIMlruPgMHQEEEEAAAQQQQAABBBBAQIUCJHkVFo0uI4AAAggggAACCCCAAAIIaFiAJK/h4jN0BBBAAAEEEEAAAQQQQAABFQqQ5FVYNLqMAAIIIIAAAggggAACCCCgYQGSvIaLz9ARQAABBBBAAAEEEEAAAQRUKECSV2HR6DICCCCAAAIIIIAAAggggICGBUjyGi4+Q0cAAQQQQAABBBBAAAEEEFChAElehUWjywgggAACCCCAAAIIIIAAAhoWIMlruPgMHQEEEEAAAQQQQAABBBBAQIUCJHkVFo0uI4AAAggggAACCCCAAAIIaFiAJK/h4jN0BBBAAAEEEEAAAQQQQAABFQqQ5FVYNLqMAAIIIIAAAggggAACCCCgYQGSvIaLz9ARQAABBBBAAAEEEEAAAQRUKECSV2HR6DICCCCAAAIIIIAAAggggICGBUjyGi4+Q0cAAQQQQAABBBBAAAEEEFChAElehUWjywgggAACCCCAAAIIIIAAAhoWIMlruPgMHQEEEEAAAQQQQAABBBBAQIUCJHkVFo0uI4AAAggggAACCCCAAAIIaFiAJK/h4jN0BBBAAAEEEEAAAQQQQAABFQqQ5FVYNLqMAAIIIIAAAggggAACCCCgYQGSvIaLz9ARQAABBBBAAAEEEEAAAQRUKECSV2HR6DICCCCAAAIIIIAAAggggICGBUjyGi4+Q0cAAQQQQAABBBBAAAEEEFChAElehUWjywgggAACCCCAAAIIIIAAAhoWIMlruPgMHQEEEEAAAQQQQAABBBBAQIUCJHkVFo0uI4AAAggggAACCCCAAAIIaFiAJK/h4jN0BBBAAAEEEEAAAQQQQAABFQqQ5FVYNLqMAAIIIIAAAggggAACCCCgYQGSvIaLz9ARQAABBBBAAAEEEEAAAQRUKECSV2HR6DICCCCAAAIIIIAAAggggICGBUjyGi4+Q0cAAQQQQAABBBBAAAEEEFChAElehUWjywgggAACCCCAAAIIIIAAAhoWIMlruPgMHQEEEEAAAQQQQAABBBBAQIUCJHkVFo0uI4AAAggggAACCCCAAAIIaFiAJK/h4jN0BBBAAAEEEEAAAQQQQAABFQqQ5FVYNLqMAAIIIIAAAggggAACCCCgYQGSvIaLz9ARQAABBBBAAAEEEEAAAQRUKECSV2HR6DICCCCAAAIIIIAAAggggICGBUjyGi4+Q0cAAQQQQAABBBBAAAEEEFChAElehUWjywgggAACCCCAAAIIIIAAAhoWIMlruPgMHQEEEEAAAQQQQAABBBBAQIUCJHkVFo0uI4AAAggggAACCCCAAAIIaFiAJK/h4jN0BBBAAAEEEEAAAQQQQAABFQqQ5FVYNLqMAAIIIIAAAggggAACCCCgYQGSvIaLz9ARQAABBBBAAAEEEEAAAQRUKECSV2HR6DICCCCAAAIIIIAAAggggICGBUjyGi4+Q0cAAQQQQAABBBBAAAEEEFChAElehUWjywgggAACCCCAAAIIIIAAAhoWIMlruPgMHQEEEEAAAQQQQAABBBBAQIUCJHkVFo0uI4AAAggggAACCCCAAAIIaFiAJK/h4jN0BBBAAAEEEEAAAQQQQAABFQqQ5FVYNLqMAAIIIIAAAggggAACCCCgYQGSvIaLz9ARQAABBBBAAAEEEEAAAQRUKECSV2HR6DICCCCAAAIIIIAAAggggICGBUjyGi4+Q0cAAQQQQAABBBBAAAEEEFChAElehUWjywgggAACCCCAAAIIIIAAAhoWIMlruPgMHQEEEEAAAQQQQAABBBBAQIUCJHkVFo0uI4AAAggggAACCCCAAAIIaFiAJK/h4jN0BBBAAAEEEEAAAQQQQAABFQqQ5FVYNLqMAAIIIIAAAggggAACCCCgYQGSvIaLz9ARQAABBBBAAAEEEEAAAQRUKECSV2HR6DICCCCAAAIIIIAAAggggICGBUjyGi4+Q0cAAQQQQAABBBBAAAEEEFChAElehUWjywgggAACCCCAAAIIIIAAAhoWIMlruPgMHQEEEEAAAQQQQAABBBBAQIUCJHkVFo0uI4AAAggggAACCCCAAAIIaFiAJK/h4jN0BBBAAAEEEEAAAQQQQAABFQqQ5FVYNLqMAAIIIIAAAggggAACCCCgYQGSvIaLz9ARQAABBBBAAAEEEEAAAQRUKECSV2HR6DICCCCAAAIIIIAAAggggICGBUjyGi4+Q0cAAQQQQAABBBBAAAEEEFChAElehUWjywgggAACCCCAAAIIIIAAAhoWIMlruPgMHQEEEEAAAQQQQAABBBBAQIUCJHkVFo0uI4AAAggggAACCCCAAAIIaFiAJK/h4jN0BBBAAAEEEEAAAQQQQAABFQqQ5FVYNLqMAAIIIIAAAggggAACCCCgYQGSvIaLz9ARQAABBBBAAAEEEEAAAQRUKECSV2HR6DICCCCAAAIIIIAAAggggICGBUjyGi4+Q0cAAQQQQAABBBBAAAEEEFChAElehUWjywgggAACCCCAAAIIIIAAAhoWIMlruPgMHQEEEEAAAQQQQAABBBBAQIUCJHkVFo0uI4AAAggggAACCCCAAAIIaFiAJK/h4jN0BBBAAAEEEEAAAQQQQAABFQqQ5FVYNLqMAAIIIIAAAggggAACCCCgYQGSvIaLz9ARQAABBBBAAAEEEEAAAQRUKECSV2HR6DICCCCAAAIIIIAAAggggICGBUjyGi4+Q0cAAQQQQAABBBBAAAEEEFChAElehUWjywgggAACCCCAAAIIIIAAAhoWIMlruPgMHQEEEEAAAQQQQAABBBBAQIUCJHkVFo0uI4AAAggggAACCCCAAAIIaFiAJK/h4jN0BBBAAAEEEEAAAQQQQAABFQqQ5FVYNLqMAAIIIIAAAggggAACCCCgYQGSvIaLz9ARQAABBBBAAAEEEEAAAQRUKECSV2HR6DICCCCAAAIIIIAAAggggICGBUjyGi4+Q0cAAQQQQAABBBBAAAEEEFChAElehUWjywgggAACCCCAAAIIIIAAAhoWIMlruPgMHQEEEEAAAQQQQAABBBBAQIUCJHkVFo0uI4AAAggggAACCCCAAAIIaFiAJK/h4jN0BBBAAAEEEEAAAQQQQAABFQqQ5FVYNLqMAAIIIIAAAggggAACCCCgYQGSvIaLz9ARQAABBBBAAAEEEEAAAQRUKECSV2HR6DICCCCAAAIIIIAAAggggICGBUjyGi4+Q0cAAQQQQAABBBBAAAEEEFChAElehUWjywgggAACCCCAAAIIIIAAAhoWIMlruPgMHQEEEEAAAQQQQAABBBBAQIUCJHkVFo0uI4AAAggggAACCCCAAAIIaFiAJK/h4jN0BBBAAAEEEEAAAQQQQAABFQqQ5FVYNLqMAAIIIIAAAggggAACCCCgYQGSvIaLz9ARQAABBBBAAAEEEEAAAQRUKECSV2HR6DICCCCAAAIIIIAAAggggICGBUjyGi4+Q0cAAQQQQAABBBBAAAEEEFChAElehUWjywgggAACCCCAAAIIIIAAAhoWIMlruPgMHQEEEEAAAQQQQAABBBBAQIUCJHkVFo0uI4AAAggggAACCCCAAAIIaFiAJK/h4jN0BBBAAAEEEEAAAQQQQAABFQqQ5FVYNLqMAAIIIIAAAggggAACCCCgYQGSvIaLz9ARQAABBBBAAAEEEEAAAQRUKECSV2HR6DICCCCAAAIIIIAAAggggICGBUjyGi4+Q0cAAQQQQAABBBBAAAEEEFChAElehUWjywgggAACCCCAAAIIIIAAAhoWIMlruPgMHQEEEEAAAQQQQAABBBBAQIUCJHkVFo0uI4AAAggggAACCCCAAAIIaFiAJK/h4jN0BBBAAAEEEEAAAQQQQAABFQqQ5FVYNLqMAAIIIIAAAggggAACCCCgYQGSvIaLz9ARQAABBBBAAAEEEEAAAQRUKECSV2HR6DICCCCAAAIIIIAAAggggICGBUjyGi4+Q0cAAQQQQAABBBBAAAEEEFChAElehUWjywgggAACCCCAAAIIIIAAAhoWIMlruPgMHQEEEEAAAQQQQAABBBBAQIUCJHkVFo0uI4AAAggggAACCCCAAAIIaFiAJK/h4jN0BBBAAAEEEEAAAQQQQAABFQqQ5FVYNLqMAAIIIIAAAggggAACCCCgYQGSvIaLz9ARQAABBBBAAAEEEEAAAQRUKPA/bvGJ7HlPMFsAAAAASUVORK5CYII=)"
      ]
    },
    {
      "cell_type": "code",
      "metadata": {
        "id": "PcWCwezzdbIt"
      },
      "source": [
        "try:\n",
        "  x=int(input(\"enter first number\"))\n",
        "  y=int(input(\"enter second number\"))\n",
        "  print(x/y)\n",
        "except ArithmeticError:\n",
        "  print(\"Arithmetic\")\n",
        "except ZeroDivisionError:\n",
        "  print(\"Zerdivision\")\n",
        "\n",
        "  "
      ],
      "execution_count": null,
      "outputs": []
    },
    {
      "cell_type": "code",
      "metadata": {
        "id": "pGXRuig_WJwF"
      },
      "source": [
        "try:\n",
        "  x=int(input(\"enter first number\"))\n",
        "  y=int(input(\"enter second number\"))\n",
        "  print(x/y)\n",
        "\n",
        "except ZeroDivisionError:\n",
        "  print(\"Zerdivision\")\n",
        "except ArithmeticError:\n",
        "  print(\"Arithmetic\")"
      ],
      "execution_count": null,
      "outputs": []
    },
    {
      "cell_type": "code",
      "metadata": {
        "id": "uGTF6xRRWJj1"
      },
      "source": [
        "try:\n",
        "  x=int(input(\"enter first number\"))\n",
        "  y=int(input(\"enter second number\"))\n",
        "  print(x/y)\n",
        "\n",
        "except ZeroDivisionError:\n",
        "  print(\"Can't Divide with Zero\")\n",
        "except ValueError:\n",
        "  print(\"please provide int value only\")\n"
      ],
      "execution_count": null,
      "outputs": []
    },
    {
      "cell_type": "code",
      "metadata": {
        "id": "9JlOWBtwWJTn"
      },
      "source": [
        "try:\n",
        "  x=int(input(\"enter first number\"))\n",
        "  y=int(input(\"enter second number\"))\n",
        "  print(x/y)\n",
        "\n",
        "except (ZeroDivisionError,ValueError):\n",
        "  print(\"Plz provide valid number\")\n",
        "\n"
      ],
      "execution_count": null,
      "outputs": []
    },
    {
      "cell_type": "markdown",
      "metadata": {
        "id": "X-RwfdCs-MM4"
      },
      "source": [
        "###Default except block:\n",
        "\n",
        "1.We can use default except block to handle any type of exceptions.\n",
        "2.In default except block generally we can print normal error messages.\n",
        "3.If try with multiple except blocks available then default except block should be\n",
        "last,otherwise we will get SyntaxError."
      ]
    },
    {
      "cell_type": "code",
      "metadata": {
        "id": "p8C0EjnrWDt5"
      },
      "source": [
        "try:\n",
        "  x=int(input(\"enter first number\"))\n",
        "  y=int(input(\"enter second number\"))\n",
        "  print(x/y)\n",
        "\n",
        "except ZeroDivisionError:\n",
        "  print(\"Can't Divide with Zero\")\n",
        "except:\n",
        "  print(\"i am default except block\")"
      ],
      "execution_count": null,
      "outputs": []
    },
    {
      "cell_type": "code",
      "metadata": {
        "id": "dwOsHqK0-37e"
      },
      "source": [
        "try:\n",
        "  x=int(input(\"enter first number\"))\n",
        "  y=int(input(\"enter second number\"))\n",
        "  print(x/y)\n",
        "except:\n",
        "  print(\"i am deafualt except block\")\n",
        "\n",
        "except ZeroDivisionError:\n",
        "  print(\"Can't Divide with Zero\")\n"
      ],
      "execution_count": null,
      "outputs": []
    },
    {
      "cell_type": "markdown",
      "metadata": {
        "id": "ep1v0e4c-6XX"
      },
      "source": [
        "The following are various possible combinations of except blocks\n",
        "1. except ZeroDivisionError:\n",
        "1. except ZeroDivisionError as msg:\n",
        "3. except (ZeroDivisionError,ValueError) :\n",
        "4. except (ZeroDivisionError,ValueError) as msg:\n",
        "5. except :"
      ]
    },
    {
      "cell_type": "code",
      "metadata": {
        "id": "vntIlv7V-78W"
      },
      "source": [
        "try:\n",
        "  print(\"try\")\n",
        "except:\n",
        "  print(\"except\")\n",
        "finally:\n",
        "  print(\"finally\")"
      ],
      "execution_count": null,
      "outputs": []
    },
    {
      "cell_type": "code",
      "metadata": {
        "id": "93jT6zV1OqfB"
      },
      "source": [
        "try:\n",
        "  print(\"try\")\n",
        "  print(10/0)\n",
        "except ZeroDivisionError:\n",
        "  print(\"except\")\n",
        "finally:\n",
        "  print(\"finally\")"
      ],
      "execution_count": null,
      "outputs": []
    },
    {
      "cell_type": "code",
      "metadata": {
        "id": "H5WEYVLjO1jx"
      },
      "source": [
        "try:\n",
        "  print(\"try\")\n",
        "  print(10/0)\n",
        "except ValueError:\n",
        "  print(\"except\")\n",
        "finally:\n",
        "  print(\"finally\")"
      ],
      "execution_count": null,
      "outputs": []
    },
    {
      "cell_type": "code",
      "metadata": {
        "id": "aMTWa7qEPIZV"
      },
      "source": [
        "# if there is no exception\n",
        "try:\n",
        "  print(\"1\")\n",
        "  print(\"2\")\n",
        "  print(\"3\")\n",
        "except ZeroDivisionError:\n",
        "  print(\"4\")\n",
        "finally:\n",
        "  print(\"5\")\n",
        "print(\"6\")"
      ],
      "execution_count": null,
      "outputs": []
    },
    {
      "cell_type": "code",
      "metadata": {
        "id": "iqKC_so9P2-E"
      },
      "source": [
        "# exception occure at statement no 2 and corrosponding except block is matched\n",
        "try:\n",
        "  print(\"1\")\n",
        "  print(10/0)\n",
        "  print(\"3\")\n",
        "except ZeroDivisionError:\n",
        "  print(\"4\")\n",
        "finally:\n",
        "  print(\"5\")\n",
        "print(\"6\")"
      ],
      "execution_count": null,
      "outputs": []
    },
    {
      "cell_type": "code",
      "metadata": {
        "id": "T35Y-JK_QSEP"
      },
      "source": [
        "# exception occure at statement no 2 and corrosponding except block is not matched\n",
        "try:\n",
        "  print(\"1\")\n",
        "  print(10/0)\n",
        "  print(\"3\")\n",
        "except ValueError:\n",
        "  print(\"4\")\n",
        "finally:\n",
        "  print(\"5\")\n",
        "print(\"6\")"
      ],
      "execution_count": null,
      "outputs": []
    },
    {
      "cell_type": "code",
      "metadata": {
        "id": "dawiNS7bQld-"
      },
      "source": [
        "# exception occure at statement no 4 \n",
        "try:\n",
        "  print(\"1\")\n",
        "  print(10/0)\n",
        "  print(\"3\")\n",
        "except ZeroDivisionError:\n",
        "  print(10/ten)\n",
        "finally:\n",
        "  print(\"5\")\n",
        "print(\"6\")  "
      ],
      "execution_count": null,
      "outputs": []
    },
    {
      "cell_type": "code",
      "metadata": {
        "id": "MMdACA3JRb0z"
      },
      "source": [
        "# exception occure at statement no 5 \n",
        "try:\n",
        "  print(\"1\")\n",
        "  print(10/0)\n",
        "  print(\"3\")\n",
        "except ZeroDivisionError:\n",
        "  print(\"4\")\n",
        "finally:\n",
        "  print(10/0)\n",
        "print(\"6\")  "
      ],
      "execution_count": null,
      "outputs": []
    },
    {
      "cell_type": "code",
      "metadata": {
        "id": "UaN5zCmlR6Xm"
      },
      "source": [
        "try : \n",
        "  print(\"outer try block\")\n",
        "  \n",
        "  try:\n",
        "    print(\"inner block\")\n",
        "    print(10/0)\n",
        "  except ZeroDivisionError:\n",
        "    print(\"inner except block\")\n",
        "\n",
        "  finally:\n",
        "    print(\"inner finally\")\n",
        "\n",
        "except:\n",
        "  print(\"outer except block\")\n",
        "\n",
        "finally:  \n",
        "   print(\"outer finally\")"
      ],
      "execution_count": null,
      "outputs": []
    },
    {
      "cell_type": "markdown",
      "metadata": {
        "id": "y_HxsLqrP78x"
      },
      "source": [
        "### A Case with Try-Except-Finally"
      ]
    },
    {
      "cell_type": "code",
      "metadata": {
        "id": "IneJ9oJ2QI6l"
      },
      "source": [
        "try:\n",
        "\tprint(\"1\")\n",
        "\tprint(\"2\")\n",
        "\tprint(\"3\")\n",
        "\ttry:\n",
        "\t\tprint(\"4\")\n",
        "\t\tprint(\"5\")\n",
        "\t\tprint(\"6\")\n",
        "\texcept X:\n",
        "\t\tprint(\"7\")\n",
        "\tfinally:\n",
        "\t\tprint(\"8\")\n",
        "\tprint(\"9\")\n",
        "except Y:\n",
        "\tprint(\"10\")\n",
        "finally:\n",
        "\tprint(\"11\")\n",
        "print(\"12\")"
      ],
      "execution_count": null,
      "outputs": []
    },
    {
      "cell_type": "markdown",
      "metadata": {
        "id": "56srH7SIRCfD"
      },
      "source": [
        "1. if there is no exception"
      ]
    },
    {
      "cell_type": "code",
      "metadata": {
        "id": "PSWjJCmxRFdi"
      },
      "source": [
        "try:\n",
        "\tprint(\"1\")\n",
        "\tprint(\"2\")\n",
        "\tprint(\"3\")\n",
        "\ttry:\n",
        "\t\tprint(\"4\")\n",
        "\t\tprint(\"5\")\n",
        "\t\tprint(\"6\")\n",
        "\texcept X:\n",
        "\t\tprint(\"7\")\n",
        "\tfinally:\n",
        "\t\tprint(\"8\")\n",
        "\tprint(\"9\")\n",
        "except Y:\n",
        "\tprint(\"10\")\n",
        "finally:\n",
        "\tprint(\"11\")\n",
        "print(\"12\")"
      ],
      "execution_count": null,
      "outputs": []
    },
    {
      "cell_type": "markdown",
      "metadata": {
        "id": "7C0huHhMRK-m"
      },
      "source": [
        "2. If an exception raised at stmt-2 and the corresponding except block matched"
      ]
    },
    {
      "cell_type": "code",
      "metadata": {
        "id": "iowvvTEcROgw"
      },
      "source": [
        "try:\n",
        "\tprint(\"1\")\n",
        "\tprint(10/0)\n",
        "\tprint(\"3\")\n",
        "\ttry:\n",
        "\t\tprint(\"4\")\n",
        "\t\tprint(\"5\")\n",
        "\t\tprint(\"6\")\n",
        "\texcept X:\n",
        "\t\tprint(\"7\")\n",
        "\tfinally:\n",
        "\t\tprint(\"8\")\n",
        "\tprint(\"9\")\n",
        "except ZeroDivisionError:\n",
        "\tprint(\"10\")\n",
        "finally:\n",
        "\tprint(\"11\")\n",
        "print(\"12\")"
      ],
      "execution_count": null,
      "outputs": []
    },
    {
      "cell_type": "markdown",
      "metadata": {
        "id": "rLwK-8BbRgWm"
      },
      "source": [
        "3. If an exceptiion raised at stmt-2 and the corresponding except block not matched"
      ]
    },
    {
      "cell_type": "code",
      "metadata": {
        "id": "EvSFD6HnRg-b"
      },
      "source": [
        "try:\n",
        "\tprint(\"1\")\n",
        "\tprint(10/0)\n",
        "\tprint(\"3\")\n",
        "\ttry:\n",
        "\t\tprint(\"4\")\n",
        "\t\tprint(\"5\")\n",
        "\t\tprint(\"6\")\n",
        "\texcept X:\n",
        "\t\tprint(\"7\")\n",
        "\tfinally:\n",
        "\t\tprint(\"8\")\n",
        "\tprint(\"9\")\n",
        "except ValueError:\n",
        "\tprint(\"10\")\n",
        "finally:\n",
        "\tprint(\"11\")\n",
        "print(\"12\")"
      ],
      "execution_count": null,
      "outputs": []
    },
    {
      "cell_type": "markdown",
      "metadata": {
        "id": "MhGhzi4xRu3q"
      },
      "source": [
        "4. If an exception raised at stmt-5 and inner except block matched"
      ]
    },
    {
      "cell_type": "code",
      "metadata": {
        "id": "CDfNhwVvRvkJ"
      },
      "source": [
        "try:\n",
        "\tprint(\"1\")\n",
        "\tprint(\"2\")\n",
        "\tprint(\"3\")\n",
        "\ttry:\n",
        "\t\tprint(\"4\")\n",
        "\t\tprint(10/0)\n",
        "\t\tprint(\"6\")\n",
        "\texcept ZeroDivisionError:\n",
        "\t\tprint(\"7\")\n",
        "\tfinally:\n",
        "\t\tprint(\"8\")\n",
        "\tprint(\"9\")\n",
        "except ValueError:\n",
        "\tprint(\"10\")\n",
        "finally:\n",
        "\tprint(\"11\")\n",
        "print(\"12\")"
      ],
      "execution_count": null,
      "outputs": []
    },
    {
      "cell_type": "markdown",
      "metadata": {
        "id": "CESFg45dSH5W"
      },
      "source": [
        "5. If an exception raised at stmt-5 and inner except block not matched but outer except block matched"
      ]
    },
    {
      "cell_type": "code",
      "metadata": {
        "id": "DO0bzaE5SEEX"
      },
      "source": [
        "try:\n",
        "\tprint(\"1\")\n",
        "\tprint(\"2\")\n",
        "\tprint(\"3\")\n",
        "\ttry:\n",
        "\t\tprint(\"4\")\n",
        "\t\tprint(10/0)\n",
        "\t\tprint(\"6\")\n",
        "\texcept ValueError:\n",
        "\t\tprint(\"7\")\n",
        "\tfinally:\n",
        "\t\tprint(\"8\")\n",
        "\tprint(\"9\")\n",
        "except ZeroDivisionError:\n",
        "\tprint(\"10\")\n",
        "finally:\n",
        "\tprint(\"11\")\n",
        "print(\"12\")"
      ],
      "execution_count": null,
      "outputs": []
    },
    {
      "cell_type": "markdown",
      "metadata": {
        "id": "WkNYiyxYSWam"
      },
      "source": [
        "6. If an exception raised at stmt-5 and both inner and outer except blocks are not matched"
      ]
    },
    {
      "cell_type": "code",
      "metadata": {
        "id": "5Fo8AIzrSXKZ"
      },
      "source": [
        "try:\n",
        "\tprint(\"1\")\n",
        "\tprint(\"2\")\n",
        "\tprint(\"3\")\n",
        "\ttry:\n",
        "\t\tprint(\"4\")\n",
        "\t\tprint(10/0)\n",
        "\t\tprint(\"6\")\n",
        "\texcept ValueError:\n",
        "\t\tprint(\"7\")\n",
        "\tfinally:\n",
        "\t\tprint(\"8\")\n",
        "\tprint(\"9\")\n",
        "except ValueError:\n",
        "\tprint(\"10\")\n",
        "finally:\n",
        "\tprint(\"11\")\n",
        "print(\"12\")"
      ],
      "execution_count": null,
      "outputs": []
    },
    {
      "cell_type": "markdown",
      "metadata": {
        "id": "v2jnaYb5SjIr"
      },
      "source": [
        "7. If an exception raised at stmt-7 and corresponding except block matched"
      ]
    },
    {
      "cell_type": "code",
      "metadata": {
        "id": "TfiD4DbVSjxn"
      },
      "source": [
        "try:\n",
        "\tprint(\"1\")\n",
        "\tprint(\"2\")\n",
        "\tprint(\"3\")\n",
        "\ttry:\n",
        "\t\tprint(\"4\")\n",
        "\t\tprint(10/0)\n",
        "\t\tprint(\"6\")\n",
        "\texcept ZeroDivisionError:\n",
        "\t\tprint(10/ten)\n",
        "\tfinally:\n",
        "\t\tprint(\"8\")\n",
        "\tprint(\"9\")\n",
        "except NameError:\n",
        "\tprint(\"10\")\n",
        "finally:\n",
        "\tprint(\"11\")\n",
        "print(\"12\")"
      ],
      "execution_count": null,
      "outputs": []
    },
    {
      "cell_type": "markdown",
      "metadata": {
        "id": "RlMkmYibTErr"
      },
      "source": [
        "8. If an exception raised at stmt-7 and corresponding except block not matched"
      ]
    },
    {
      "cell_type": "code",
      "metadata": {
        "id": "nKwIfeExTFPF"
      },
      "source": [
        "try:\n",
        "\tprint(\"1\")\n",
        "\tprint(\"2\")\n",
        "\tprint(\"3\")\n",
        "\ttry:\n",
        "\t\tprint(\"4\")\n",
        "\t\tprint(10/0)\n",
        "\t\tprint(\"6\")\n",
        "\texcept ValueError:\n",
        "\t\tprint(10/0)\n",
        "\tfinally:\n",
        "\t\tprint(\"8\")\n",
        "\tprint(\"9\")\n",
        "except ValueError:\n",
        "\tprint(\"10\")\n",
        "finally:\n",
        "\tprint(\"11\")\n",
        "print(\"12\")"
      ],
      "execution_count": null,
      "outputs": []
    },
    {
      "cell_type": "markdown",
      "metadata": {
        "id": "4ww61qAITRYk"
      },
      "source": [
        "9. If an exception raised at stmt-8 and corresponding except block matched"
      ]
    },
    {
      "cell_type": "code",
      "metadata": {
        "id": "fv_kaBWCTWmT"
      },
      "source": [
        "try:\n",
        "\tprint(\"1\")\n",
        "\tprint(\"2\")\n",
        "\tprint(\"3\")\n",
        "\ttry:\n",
        "\t\tprint(\"4\")\n",
        "\t\tprint(\"5\")\n",
        "\t\tprint(\"6\")\n",
        "\texcept ValueError:\n",
        "\t\tprint(\"7\")\n",
        "\tfinally:\n",
        "\t\tprint(10/0)\n",
        "\tprint(\"9\")\n",
        "except ZeroDivisionError:\n",
        "\tprint(\"10\")\n",
        "finally:\n",
        "\tprint(\"11\")\n",
        "print(\"12\")"
      ],
      "execution_count": null,
      "outputs": []
    },
    {
      "cell_type": "markdown",
      "metadata": {
        "id": "i-AhcIpoTmmc"
      },
      "source": [
        "10. If an exception raised at stmt-8 and corresponding except block not matched"
      ]
    },
    {
      "cell_type": "code",
      "metadata": {
        "id": "vCxRln7hTni4"
      },
      "source": [
        "try:\n",
        "\tprint(\"1\")\n",
        "\tprint(\"2\")\n",
        "\tprint(\"3\")\n",
        "\ttry:\n",
        "\t\tprint(\"4\")\n",
        "\t\tprint(\"5\")\n",
        "\t\tprint(\"6\")\n",
        "\texcept ValueError:\n",
        "\t\tprint(\"7\")\n",
        "\tfinally:\n",
        "\t\tprint(10/0)\n",
        "\tprint(\"9\")\n",
        "except ValueError:\n",
        "\tprint(\"10\")\n",
        "finally:\n",
        "\tprint(\"11\")\n",
        "print(\"12\")"
      ],
      "execution_count": null,
      "outputs": []
    },
    {
      "cell_type": "markdown",
      "metadata": {
        "id": "Ow8nVUpFTyy3"
      },
      "source": [
        "11. If an exception raised at stmt-9 and corresponding except block matched"
      ]
    },
    {
      "cell_type": "code",
      "metadata": {
        "id": "B7HYA3ZsTznN"
      },
      "source": [
        "try:\n",
        "\tprint(\"1\")\n",
        "\tprint(\"2\")\n",
        "\tprint(\"3\")\n",
        "\ttry:\n",
        "\t\tprint(\"4\")\n",
        "\t\tprint(\"5\")\n",
        "\t\tprint(\"6\")\n",
        "\texcept ValueError:\n",
        "\t\tprint(\"7\")\n",
        "\tfinally:\n",
        "\t\tprint(\"8\")\n",
        "\tprint(10/0)\n",
        "except ZeroDivisionError:\n",
        "\tprint(\"10\")\n",
        "finally:\n",
        "\tprint(\"11\")\n",
        "print(\"12\")"
      ],
      "execution_count": null,
      "outputs": []
    },
    {
      "cell_type": "markdown",
      "metadata": {
        "id": "bdew8Y8sUJP1"
      },
      "source": [
        "12. If an exception raised at stmt-9 and corresponding except block not matched"
      ]
    },
    {
      "cell_type": "code",
      "metadata": {
        "id": "gNdOBWO0UKm7"
      },
      "source": [
        "try:\n",
        "\tprint(\"1\")\n",
        "\tprint(\"2\")\n",
        "\tprint(\"3\")\n",
        "\ttry:\n",
        "\t\tprint(\"4\")\n",
        "\t\tprint(10/0)\n",
        "\t\tprint(\"6\")\n",
        "\texcept ZeroDivisionError:\n",
        "\t\tprint(\"7\")\n",
        "\tfinally:\n",
        "\t\tprint(\"8\")\n",
        "\tprint(10/0)\n",
        "except ValueError:\n",
        "\tprint(\"10\")\n",
        "finally:\n",
        "\tprint(\"11\")\n",
        "print(\"12\")"
      ],
      "execution_count": null,
      "outputs": []
    },
    {
      "cell_type": "markdown",
      "metadata": {
        "id": "ibXbEQbgUWV3"
      },
      "source": [
        "13. If an exception raised at stmt-10"
      ]
    },
    {
      "cell_type": "code",
      "metadata": {
        "id": "eTNLN4fQUYiR"
      },
      "source": [
        "try:\n",
        "\tprint(\"1\")\n",
        "\tprint(\"2\")\n",
        "\tprint(\"3\")\n",
        "\ttry:\n",
        "\t\tprint(\"4\")\n",
        "\t\tprint(10/0)\n",
        "\t\tprint(\"6\")\n",
        "\texcept TypeError:\n",
        "\t\tprint(10/0)\n",
        "\tfinally:\n",
        "\t\tprint(\"8\")\n",
        "\tprint(\"9\")\n",
        "except ZeroDivisionError:\n",
        "\tprint(10/ten)\n",
        "finally:\n",
        "\tprint(\"11\")\n",
        "print(\"12\")"
      ],
      "execution_count": null,
      "outputs": []
    },
    {
      "cell_type": "markdown",
      "metadata": {
        "id": "dw4Jvm3HVO20"
      },
      "source": [
        "14.If an exception raised at stmt-11"
      ]
    },
    {
      "cell_type": "code",
      "metadata": {
        "id": "m1lYS_V_UpRd"
      },
      "source": [
        "try:\n",
        "\tprint(\"1\")\n",
        "\tprint(\"2\")\n",
        "\tprint(\"3\")\n",
        "\ttry:\n",
        "\t\tprint(\"4\")\n",
        "\t\tprint(\"5\")\n",
        "\t\tprint(\"6\")\n",
        "\texcept ValueError:\n",
        "\t\tprint(\"7\")\n",
        "\tfinally:\n",
        "\t\tprint(\"8\")\n",
        "\tprint(\"9\")\n",
        "except ZeroDivisionError:\n",
        "\tprint(\"10\")\n",
        "finally:\n",
        "\tprint(10/0)\n",
        "print(\"12\")"
      ],
      "execution_count": null,
      "outputs": []
    },
    {
      "cell_type": "markdown",
      "metadata": {
        "id": "lZmAlptzVnFT"
      },
      "source": [
        "15.14.If an exception raised at stmt-12"
      ]
    },
    {
      "cell_type": "code",
      "metadata": {
        "id": "Vdsod5OoVd92"
      },
      "source": [
        "try:\n",
        "\tprint(\"1\")\n",
        "\tprint(\"2\")\n",
        "\tprint(\"3\")\n",
        "\ttry:\n",
        "\t\tprint(\"4\")\n",
        "\t\tprint(\"5\")\n",
        "\t\tprint(\"6\")\n",
        "\texcept ValueError:\n",
        "\t\tprint(\"7\")\n",
        "\tfinally:\n",
        "\t\tprint(\"8\")\n",
        "\tprint(\"9\")\n",
        "except ZeroDivisionError:\n",
        "\tprint(\"10\")\n",
        "finally:\n",
        "\tprint(\"11\")\n",
        "print(10/0)"
      ],
      "execution_count": null,
      "outputs": []
    },
    {
      "cell_type": "markdown",
      "metadata": {
        "id": "_GuMfGmHVyJx"
      },
      "source": [
        "Note: If the control entered into try block then compulsary finally block will be executed.\n",
        "If the control not entered into try block then finally block won't be executed."
      ]
    },
    {
      "cell_type": "markdown",
      "metadata": {
        "id": "G2L9sGA5WK2D"
      },
      "source": [
        "### else block ---> try-except-else-finally:\n",
        "1. We can use else block with try-except-finally blocks.\n",
        "2. else block will be executed if and only if there are no exceptions inside try block."
      ]
    },
    {
      "cell_type": "code",
      "metadata": {
        "id": "YlsiRXNUVsy9"
      },
      "source": [
        "'''try:\n",
        "      Risky Code\n",
        "  except:\n",
        "      will be executed if exception inside try\n",
        "  else:\n",
        "      will be executed if there is no exception inside try\n",
        "  finally:\n",
        "      will be executed whether exception raised or not raised and handled or not handled\n",
        "      '''"
      ],
      "execution_count": null,
      "outputs": []
    },
    {
      "cell_type": "code",
      "metadata": {
        "id": "q2MaP8FmXDdx"
      },
      "source": [
        "try:\n",
        "  print(\"try\")\n",
        "except:\n",
        "  print(\"except\")\n",
        "else:\n",
        "  print(\"else\")\n",
        "finally:\n",
        "  print(\"finally\")"
      ],
      "execution_count": null,
      "outputs": []
    },
    {
      "cell_type": "code",
      "metadata": {
        "id": "rZ3hdKWsXiwg"
      },
      "source": [
        "try:\n",
        "  print(\"try\")\n",
        "  print(10/0)\n",
        "except:\n",
        "  print(\"except\")\n",
        "else:\n",
        "  print(\"else\")\n",
        "finally:\n",
        "  print(\"finally\")"
      ],
      "execution_count": null,
      "outputs": []
    },
    {
      "cell_type": "markdown",
      "metadata": {
        "id": "bpT2JWRcvy-Z"
      },
      "source": [
        "### Problems"
      ]
    },
    {
      "cell_type": "code",
      "metadata": {
        "id": "_hKQZCzyuy1D"
      },
      "source": [
        "try:\n",
        "  print(\"vivek\")"
      ],
      "execution_count": null,
      "outputs": []
    },
    {
      "cell_type": "code",
      "metadata": {
        "id": "9UFOCgSpuywb"
      },
      "source": [
        "except:\n",
        "  print(\"except\")"
      ],
      "execution_count": null,
      "outputs": []
    },
    {
      "cell_type": "code",
      "metadata": {
        "id": "9icpE20iuysU"
      },
      "source": [
        "else:\n",
        "  print(\"else\")"
      ],
      "execution_count": null,
      "outputs": []
    },
    {
      "cell_type": "code",
      "metadata": {
        "id": "wzEf3mc2uynZ"
      },
      "source": [
        "finally:\n",
        "  print(\"finally\")"
      ],
      "execution_count": null,
      "outputs": []
    },
    {
      "cell_type": "code",
      "metadata": {
        "id": "GU4GuUUpuyhc"
      },
      "source": [
        "try:\n",
        "  print(\"try\")\n",
        "except:\n",
        "  print(\"except\")"
      ],
      "execution_count": null,
      "outputs": []
    },
    {
      "cell_type": "code",
      "metadata": {
        "id": "aWplR7cZuyc5"
      },
      "source": [
        "try:\n",
        "  print(\"try\")\n",
        "finally:\n",
        "  print(\"finnaly\")"
      ],
      "execution_count": null,
      "outputs": []
    },
    {
      "cell_type": "code",
      "metadata": {
        "id": "ldykEWwWuyZl"
      },
      "source": [
        "try:\n",
        "  print(\"try\")\n",
        "except:\n",
        "  print(\"except\")\n",
        "else:\n",
        "  print(\"else\")"
      ],
      "execution_count": null,
      "outputs": []
    },
    {
      "cell_type": "code",
      "metadata": {
        "id": "bWyBZ3eHuyWO"
      },
      "source": [
        "try:\n",
        "  print(\"try\")\n",
        "else:\n",
        "  print(\"else\")"
      ],
      "execution_count": null,
      "outputs": []
    },
    {
      "cell_type": "code",
      "metadata": {
        "id": "pR0thNpkuyFp"
      },
      "source": [
        "try:\n",
        "  print(\"try\")\n",
        "else:\n",
        "  print(\"else\")\n",
        "finally:\n",
        "  print(\"vbvbdjvd\")"
      ],
      "execution_count": null,
      "outputs": []
    },
    {
      "cell_type": "code",
      "metadata": {
        "id": "qm7bEQ6IuyBv"
      },
      "source": [
        "try:\n",
        "  print(\"try\")\n",
        "except XXX:\n",
        "  print(\"XXX\")\n",
        "except YYY:\n",
        "  print(\"YYY\")"
      ],
      "execution_count": null,
      "outputs": []
    },
    {
      "cell_type": "code",
      "metadata": {
        "id": "64oqVztzyZo0"
      },
      "source": [
        "try:\n",
        "  print(\"try\")\n",
        "except:\n",
        "  print(\"except\")\n",
        "else:\n",
        "  print(\"else1\")\n",
        "else:\n",
        "  print(\"else2\")"
      ],
      "execution_count": null,
      "outputs": []
    },
    {
      "cell_type": "code",
      "metadata": {
        "id": "nlazgltPyZkx"
      },
      "source": [
        "try:\n",
        "  print(\"try\")\n",
        "except:\n",
        "  print(\"except\")\n",
        "finally:\n",
        "  print(\"fin1\")\n",
        "finally:\n",
        "  print(\"fin2\")"
      ],
      "execution_count": null,
      "outputs": []
    },
    {
      "cell_type": "code",
      "metadata": {
        "id": "jh8h0OjTyZgC"
      },
      "source": [
        "try:\n",
        "  print(\"try\")\n",
        "print(\"hello\")\n",
        "except:\n",
        "  print(\"except\")\n"
      ],
      "execution_count": null,
      "outputs": []
    },
    {
      "cell_type": "code",
      "metadata": {
        "id": "Prfb9dreyZcC"
      },
      "source": [
        "try:\n",
        "  print(\"try\")\n",
        "except:\n",
        "  print(\"except\")\n",
        "print(\"hello\")"
      ],
      "execution_count": null,
      "outputs": []
    },
    {
      "cell_type": "code",
      "metadata": {
        "id": "s0T1IcMRyZKo"
      },
      "source": [
        "try:\n",
        "  print(\"try\")\n",
        "except:\n",
        "  print(\"except\")\n",
        "print(\"hello\")\n",
        "except:\n",
        "  print(\"excpet2\")\n",
        "  "
      ],
      "execution_count": null,
      "outputs": []
    },
    {
      "cell_type": "code",
      "metadata": {
        "id": "g2oLwl5syZEX"
      },
      "source": [
        "try:\n",
        "  print(\"try\")\n",
        "except:\n",
        "  print(\"exc\")\n",
        "print(\"hello\")\n",
        "finally:\n",
        "  print(\"fin\")"
      ],
      "execution_count": null,
      "outputs": []
    },
    {
      "cell_type": "code",
      "metadata": {
        "id": "4egjK7dNyZBh"
      },
      "source": [
        "try:\n",
        "  print(\"try\")\n",
        "except:\n",
        "  print(\"exc\")\n",
        "print(\"hello\")\n",
        "else:\n",
        "  print(\"fin\")"
      ],
      "execution_count": null,
      "outputs": []
    },
    {
      "cell_type": "code",
      "metadata": {
        "id": "VYbeIPlZyY-k"
      },
      "source": [
        "try:\n",
        "  print(\"try\")\n",
        "except:\n",
        "  print(\"expp\")\n",
        "try:\n",
        "  print(\"tryy\")\n",
        "except:\n",
        "  print(\"ebe\")"
      ],
      "execution_count": null,
      "outputs": []
    },
    {
      "cell_type": "code",
      "metadata": {
        "id": "xA99NYGRyY7i"
      },
      "source": [
        "try:\n",
        "  print(\"try\")\n",
        "except:\n",
        "  print(\"expp\")\n",
        "try:\n",
        "  print(\"tryy\")\n",
        "finally:\n",
        "  print(\"ebe\")"
      ],
      "execution_count": null,
      "outputs": []
    },
    {
      "cell_type": "code",
      "metadata": {
        "id": "WBLNmo2xyY43"
      },
      "source": [
        "try:\n",
        "  print(\"try\")\n",
        "except:\n",
        "  print(\"except\")\n",
        "if 10>20:\n",
        "  print(\"greter\")\n",
        "else:\n",
        "  print(\"less\")"
      ],
      "execution_count": null,
      "outputs": []
    },
    {
      "cell_type": "code",
      "metadata": {
        "id": "J4OdwSwwyY2R"
      },
      "source": [
        "try:\n",
        "  print(\"1\")\n",
        "  try:\n",
        "    print(\"2\")\n",
        "  except:\n",
        "    print(\"3\")\n",
        "  finally:\n",
        "    print(\"4\")\n",
        "except:\n",
        "  print(\"5\")\n"
      ],
      "execution_count": null,
      "outputs": []
    },
    {
      "cell_type": "code",
      "metadata": {
        "id": "4NhEyezFyYxU"
      },
      "source": [
        "try:\n",
        "  print(\"1\")\n",
        "except:\n",
        "  print(\"2\")\n",
        "  try:\n",
        "    print(\"inner\")\n",
        "  except:\n",
        "    print(\"inner exce\")\n",
        "  finally:\n",
        "    print(\"finnnnn\")\n"
      ],
      "execution_count": null,
      "outputs": []
    },
    {
      "cell_type": "code",
      "metadata": {
        "id": "WSn11XYkyYsj"
      },
      "source": [
        "try:\n",
        "  print(\"1\")\n",
        "except:\n",
        "  print(\"2\")\n",
        "finally:\n",
        "  print(\"3\")\n",
        "  try:\n",
        "    print(\"4\")\n",
        "  except:\n",
        "    print(\"5\")\n",
        "  finally:\n",
        "    print(\"6\")"
      ],
      "execution_count": null,
      "outputs": []
    },
    {
      "cell_type": "code",
      "metadata": {
        "id": "-uFn7SmsyYpq"
      },
      "source": [
        "try:\n",
        "  print(\"1\")\n",
        "except:\n",
        "  print(\"2\")\n",
        "try:\n",
        "  print(\"3\")\n",
        "else:\n",
        "  print(\"4\")"
      ],
      "execution_count": null,
      "outputs": []
    },
    {
      "cell_type": "code",
      "metadata": {
        "id": "HcocRbzeyYm2"
      },
      "source": [
        "try:\n",
        "  print(\"1\")\n",
        "  try:\n",
        "    print(\"2\")\n",
        "except:\n",
        "  print(\"3\")"
      ],
      "execution_count": null,
      "outputs": []
    },
    {
      "cell_type": "code",
      "metadata": {
        "id": "kQbfIr0DyYh8"
      },
      "source": [
        "try:\n",
        "  print(\"1\")\n",
        "else:\n",
        "  print(\"2\")\n",
        "except:\n",
        "  print(\"3\")\n",
        "finally:\n",
        "  print(\"4\")"
      ],
      "execution_count": null,
      "outputs": []
    },
    {
      "cell_type": "code",
      "metadata": {
        "id": "tydozPiTyYaL"
      },
      "source": [
        "class classname(predeifne exception class name):\n",
        "  def __init__(self,arg):\n",
        "    self.msg=arg"
      ],
      "execution_count": null,
      "outputs": []
    },
    {
      "cell_type": "code",
      "metadata": {
        "id": "hncPwfxPyYVR"
      },
      "source": [
        ""
      ],
      "execution_count": null,
      "outputs": []
    },
    {
      "cell_type": "code",
      "metadata": {
        "id": "EFgCWi2qbF6a"
      },
      "source": [
        "class TooYoungException(Exception):\n",
        "  def __init__(self,age):\n",
        "    self.age=age\n",
        "class TooOldException(Exception):\n",
        "  def __init__(self,age):\n",
        "    self.age=age\n",
        "age=int(input(\"enter your age\"))\n",
        "if age>40:\n",
        "  raise TooYoungException(\"plz dont try\")\n",
        "elif age<18:\n",
        "  raise TooOldException(\"you are not eligible for this test\")\n",
        "else:\n",
        "  print(\"de do exam\")"
      ],
      "execution_count": null,
      "outputs": []
    },
    {
      "cell_type": "code",
      "metadata": {
        "id": "15YSM1PJcAaX"
      },
      "source": [
        "x = -1\n",
        "\n",
        "if x < 0:\n",
        "  raise Exception(\"Sorry, no numbers below zero\")"
      ],
      "execution_count": null,
      "outputs": []
    },
    {
      "cell_type": "code",
      "metadata": {
        "id": "WKajDjOWd_Re"
      },
      "source": [
        ""
      ],
      "execution_count": null,
      "outputs": []
    }
  ]
}